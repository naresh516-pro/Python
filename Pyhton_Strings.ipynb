{
 "cells": [
  {
   "cell_type": "code",
   "execution_count": 1,
   "id": "d7e21d5a",
   "metadata": {},
   "outputs": [],
   "source": [
    "import turtle\n",
    "\n",
    "t=turtle.Turtle()\n",
    "\n",
    "t.color(\"red\")\n",
    "t.begin_fill()\n",
    "t.fillcolor(\"red\")\n",
    "t.left(140)\n",
    "t.forward(1840)\n",
    "t.circle(-90,200)\n",
    "#left(120)\n",
    "\n",
    "t.setheading(60)\n",
    "t.circle(-90,200)\n",
    "t.forward(1800)\n",
    "\n",
    "t.end_fill()"
   ]
  },
  {
   "cell_type": "markdown",
   "id": "1c64a213",
   "metadata": {},
   "source": [
    "### strings:\n",
    "it is collection of characters\n",
    "it is a array\n",
    "index position start from 0 to size-1\n",
    "string is immutable 9 canot change0\n",
    "by using single QUOTES or diuble quotes we can write the string\n"
   ]
  },
  {
   "cell_type": "code",
   "execution_count": 1,
   "id": "eab62ede",
   "metadata": {},
   "outputs": [
    {
     "name": "stdout",
     "output_type": "stream",
     "text": [
      "phython workshop\n",
      "<class 'str'>\n"
     ]
    }
   ],
   "source": [
    "#sring intiliasaton\n",
    "s1='phython workshop'\n",
    "print(s1)\n",
    "print(type(s1))"
   ]
  },
  {
   "cell_type": "raw",
   "id": "df173a0f",
   "metadata": {},
   "source": [
    "#sring concatenation\n",
    "s1=\"hello\"\n",
    "s2=\"world\"\n",
    "print(s1+s2)"
   ]
  },
  {
   "cell_type": "code",
   "execution_count": 3,
   "id": "13ca68a4",
   "metadata": {},
   "outputs": [
    {
     "name": "stdout",
     "output_type": "stream",
     "text": [
      "enter stringphython\n",
      "phythonphythonphython\n"
     ]
    }
   ],
   "source": [
    "#string repeatation\n",
    "s=input('enter string')\n",
    "print(s*3)"
   ]
  },
  {
   "cell_type": "code",
   "execution_count": 11,
   "id": "63c22530",
   "metadata": {},
   "outputs": [
    {
     "name": "stdout",
     "output_type": "stream",
     "text": [
      "enter string naresh\n",
      "n\n",
      "/na\n",
      "/nr\n",
      "/ne\n",
      "/ns\n",
      "/nh\n",
      "/n"
     ]
    }
   ],
   "source": [
    "#usig for loop to get the character from the string \n",
    "s3=input('enter string ')\n",
    "for i in s3:\n",
    "    print(i)\n",
    "    print(end=\"/n\")"
   ]
  },
  {
   "cell_type": "code",
   "execution_count": 15,
   "id": "629d526e",
   "metadata": {},
   "outputs": [
    {
     "name": "stdout",
     "output_type": "stream",
     "text": [
      "enter stringnaresgjhkhfdse4yj\n",
      "17\n"
     ]
    }
   ],
   "source": [
    "#to find the lenth of string \n",
    "s=input('enter string')\n",
    "print(len(s))"
   ]
  },
  {
   "cell_type": "code",
   "execution_count": 17,
   "id": "8eb85e3f",
   "metadata": {},
   "outputs": [
    {
     "name": "stdout",
     "output_type": "stream",
     "text": [
      "enter stringhjkhbbh\n",
      "maximum character  k\n"
     ]
    }
   ],
   "source": [
    "#to print maximum character in string \n",
    "s1=input('enter string')\n",
    "print('maximum character ',max(s1))"
   ]
  },
  {
   "cell_type": "code",
   "execution_count": 1,
   "id": "dc9590ff",
   "metadata": {},
   "outputs": [
    {
     "name": "stdout",
     "output_type": "stream",
     "text": [
      "enter stringhi\n",
      "minimum character is: h\n"
     ]
    }
   ],
   "source": [
    "#minumum\n",
    "s1=input('enter string')\n",
    "print('minimum character is:',min(s1))"
   ]
  },
  {
   "cell_type": "code",
   "execution_count": 20,
   "id": "72f4d3f2",
   "metadata": {},
   "outputs": [
    {
     "name": "stdout",
     "output_type": "stream",
     "text": [
      "110\n"
     ]
    }
   ],
   "source": [
    "#to print the ascii value of givem character\n",
    "print(ord('n'))"
   ]
  },
  {
   "cell_type": "code",
   "execution_count": 22,
   "id": "d5de065e",
   "metadata": {},
   "outputs": [
    {
     "name": "stdout",
     "output_type": "stream",
     "text": [
      "100\n"
     ]
    }
   ],
   "source": [
    "print(ord('d'))"
   ]
  },
  {
   "cell_type": "code",
   "execution_count": 4,
   "id": "6edf05a8",
   "metadata": {},
   "outputs": [
    {
     "name": "stdout",
     "output_type": "stream",
     "text": [
      "37\n"
     ]
    }
   ],
   "source": [
    "print(ord('%'))"
   ]
  },
  {
   "cell_type": "code",
   "execution_count": 21,
   "id": "ff4faaee",
   "metadata": {},
   "outputs": [
    {
     "name": "stdout",
     "output_type": "stream",
     "text": [
      "n\n"
     ]
    }
   ],
   "source": [
    "# To get the character from the ascii code...\n",
    "print(chr(110))"
   ]
  },
  {
   "cell_type": "code",
   "execution_count": 7,
   "id": "95493df5",
   "metadata": {},
   "outputs": [
    {
     "name": "stdout",
     "output_type": "stream",
     "text": [
      "ú\n"
     ]
    }
   ],
   "source": [
    "print(chr(250))"
   ]
  },
  {
   "cell_type": "markdown",
   "id": "5bb9ae4f",
   "metadata": {},
   "source": [
    "### string methods:\n"
   ]
  },
  {
   "cell_type": "code",
   "execution_count": 23,
   "id": "3637f05d",
   "metadata": {},
   "outputs": [
    {
     "name": "stdout",
     "output_type": "stream",
     "text": [
      "Apsdc Programming  Workshop\n",
      "apsdc programming  workshop\n",
      "APDSC\n",
      "apdsc\n"
     ]
    }
   ],
   "source": [
    "s1=\"apsdc programming  workshop\"\n",
    "#to convert the first charcter into uppercase.\n",
    "#uppercase into lower case\n",
    "print(s1.title())\n",
    "print(s1)\n",
    "s1='apdsc'\n",
    "print(s1.upper())\n",
    "print(s1.lower())"
   ]
  },
  {
   "cell_type": "code",
   "execution_count": 17,
   "id": "e0a2a2b1",
   "metadata": {},
   "outputs": [
    {
     "name": "stdout",
     "output_type": "stream",
     "text": [
      "aApSDSC wOrKSHOP\n"
     ]
    }
   ],
   "source": [
    "#swapecase()\n",
    "s1=\"AaPsdsc WoRkshop\"\n",
    "print(s1.swapcase())"
   ]
  },
  {
   "cell_type": "code",
   "execution_count": 24,
   "id": "438bb3f9",
   "metadata": {},
   "outputs": [
    {
     "name": "stdout",
     "output_type": "stream",
     "text": [
      "Welcome To Anantha Clg\n"
     ]
    }
   ],
   "source": [
    "#Title():\n",
    "s2=\"welcome to anantha clg\"\n",
    "print(s2.title())"
   ]
  },
  {
   "cell_type": "code",
   "execution_count": 20,
   "id": "f8cc1fc5",
   "metadata": {},
   "outputs": [
    {
     "name": "stdout",
     "output_type": "stream",
     "text": [
      "True\n"
     ]
    }
   ],
   "source": [
    "#isupper(); It returns the boolean value..\n",
    "s1=\"APSDSC PHYTON\"\n",
    "print(s1.isupper())"
   ]
  },
  {
   "cell_type": "code",
   "execution_count": 21,
   "id": "efd7a8b7",
   "metadata": {},
   "outputs": [
    {
     "name": "stdout",
     "output_type": "stream",
     "text": [
      "True\n"
     ]
    }
   ],
   "source": [
    "#islower():\n",
    "s1=\"apsdsc phtyon\"\n",
    "print(s1.islower())"
   ]
  },
  {
   "cell_type": "code",
   "execution_count": 22,
   "id": "25761738",
   "metadata": {},
   "outputs": [
    {
     "name": "stdout",
     "output_type": "stream",
     "text": [
      "True\n"
     ]
    }
   ],
   "source": [
    "#isdidit():\n",
    "s1=\"143\"\n",
    "print(s1.isdigit())"
   ]
  },
  {
   "cell_type": "code",
   "execution_count": 25,
   "id": "dae24124",
   "metadata": {},
   "outputs": [
    {
     "name": "stdout",
     "output_type": "stream",
     "text": [
      "True\n"
     ]
    }
   ],
   "source": [
    "#isspace()\":\n",
    "s1=\" \"\n",
    "print(s1.isspace())"
   ]
  },
  {
   "cell_type": "code",
   "execution_count": 28,
   "id": "ebcc87e5",
   "metadata": {},
   "outputs": [
    {
     "name": "stdout",
     "output_type": "stream",
     "text": [
      "True\n"
     ]
    }
   ],
   "source": [
    "#isalnum():\n",
    "s1=\"anantha143\"\n",
    "print(s1.isalnum())"
   ]
  },
  {
   "cell_type": "code",
   "execution_count": 31,
   "id": "372ce8e9",
   "metadata": {},
   "outputs": [
    {
     "name": "stdout",
     "output_type": "stream",
     "text": [
      "2\n"
     ]
    }
   ],
   "source": [
    "# count():\n",
    "s1='phtyon programming'\n",
    "print(s1.count('p'))"
   ]
  },
  {
   "cell_type": "code",
   "execution_count": 35,
   "id": "e0cbb941",
   "metadata": {},
   "outputs": [
    {
     "name": "stdout",
     "output_type": "stream",
     "text": [
      "p#h#y#t#o#n# #p#r#o#g#r#a#m#m#i#n#g\n"
     ]
    }
   ],
   "source": [
    "# join():\n",
    "s1='phyton programming'\n",
    "print('#'.join(s1))"
   ]
  },
  {
   "cell_type": "code",
   "execution_count": 38,
   "id": "1b425138",
   "metadata": {},
   "outputs": [
    {
     "ename": "IndentationError",
     "evalue": "unexpected indent (665365505.py, line 3)",
     "output_type": "error",
     "traceback": [
      "\u001b[1;36m  Input \u001b[1;32mIn [38]\u001b[1;36m\u001b[0m\n\u001b[1;33m    print(s1.repalce('p','s'))\u001b[0m\n\u001b[1;37m    ^\u001b[0m\n\u001b[1;31mIndentationError\u001b[0m\u001b[1;31m:\u001b[0m unexpected indent\n"
     ]
    }
   ],
   "source": [
    "# replace()\n",
    "s1='phyton programming'\n",
    "  print(s1.repalce('p','s'))"
   ]
  },
  {
   "cell_type": "code",
   "execution_count": 39,
   "id": "caf640ce",
   "metadata": {},
   "outputs": [
    {
     "name": "stdout",
     "output_type": "stream",
     "text": [
      "16\n"
     ]
    }
   ],
   "source": [
    "s1='phyton proghramming'\n",
    "print(s1.index('i'))"
   ]
  },
  {
   "cell_type": "code",
   "execution_count": 40,
   "id": "b06fa31d",
   "metadata": {},
   "outputs": [
    {
     "name": "stdout",
     "output_type": "stream",
     "text": [
      "phtyon programming\n",
      "phtyon programming\n",
      "phtyon programming\n"
     ]
    }
   ],
   "source": [
    "# strip()\n",
    "s1='phtyon programming'\n",
    "print(s1.strip())\n",
    "print(s1.lstrip())\n",
    "print(s1.rstrip())"
   ]
  },
  {
   "cell_type": "code",
   "execution_count": 41,
   "id": "565f73f0",
   "metadata": {},
   "outputs": [
    {
     "name": "stdout",
     "output_type": "stream",
     "text": [
      "['phyton', 'programming', 'the', 'apsdc', 'workshop']\n"
     ]
    }
   ],
   "source": [
    "# split()\n",
    "s1 = \"phyton programming the apsdc workshop\"\n",
    "print(s1.split())"
   ]
  },
  {
   "cell_type": "code",
   "execution_count": 50,
   "id": "51ace1fe",
   "metadata": {},
   "outputs": [
    {
     "name": "stdout",
     "output_type": "stream",
     "text": [
      "True\n"
     ]
    }
   ],
   "source": [
    "#startswith():\n",
    "s1=\"phyton\"\n",
    "print(s1.startswith('p'))"
   ]
  },
  {
   "cell_type": "code",
   "execution_count": 44,
   "id": "2341ef80",
   "metadata": {},
   "outputs": [
    {
     "name": "stdout",
     "output_type": "stream",
     "text": [
      "True\n"
     ]
    }
   ],
   "source": [
    "#endswith()\n",
    "s1='college'\n",
    "print(s1.endswith('e'))"
   ]
  },
  {
   "cell_type": "code",
   "execution_count": 1,
   "id": "8b3fb808",
   "metadata": {},
   "outputs": [
    {
     "ename": "SyntaxError",
     "evalue": "unmatched ')' (2496994734.py, line 1)",
     "output_type": "error",
     "traceback": [
      "\u001b[1;36m  Input \u001b[1;32mIn [1]\u001b[1;36m\u001b[0m\n\u001b[1;33m    s1='phython programming python java clagueage java')\u001b[0m\n\u001b[1;37m                                                       ^\u001b[0m\n\u001b[1;31mSyntaxError\u001b[0m\u001b[1;31m:\u001b[0m unmatched ')'\n"
     ]
    }
   ],
   "source": [
    "s1='phython programming python java clagueage java')\n",
    "s1=s1.spilt()\n",
    "print(s1)\n",
    "print(s1)\n",
    "for i in start:\n",
    "    print(i)"
   ]
  },
  {
   "cell_type": "markdown",
   "id": "6c560594",
   "metadata": {},
   "source": [
    "### indexing nad slicing:\n",
    "1. indexing:\n",
    "                -> To get the characters...\n",
    "2. slicing\n",
    "                -> To get thesequence of characters .\n",
    "  two types of indexing:\n",
    "  1. forward indexing stats from 0 to size -1\n",
    "  2. backward indexing\n",
    "       0  1 2 3 4 5 ->forward indexing \n",
    "   ex: p y t h o n\n",
    "      -6 -5 -4 -3 -2 -1 \n",
    "  -slicing: [start:stop:step]\n",
    "  -start value -> 0\n",
    "  -stop value   ->"
   ]
  },
  {
   "cell_type": "code",
   "execution_count": 10,
   "id": "ee723e6e",
   "metadata": {},
   "outputs": [
    {
     "name": "stdout",
     "output_type": "stream",
     "text": [
      "y\n",
      "n\n",
      "yto\n",
      "hyton\n",
      "pyo\n",
      "notyhp\n",
      "phyton\n"
     ]
    }
   ],
   "source": [
    "#indexing and slicing.....\n",
    "s1 = \"phyton\"\n",
    "print(s1[2])\n",
    "print(s1[-1])\n",
    "print(s1[2:5])\n",
    "print(s1[1:])\n",
    "print(s1[::2])\n",
    "print(s1[::-1])\n",
    "print(s1[::])"
   ]
  },
  {
   "cell_type": "markdown",
   "id": "a0605f6a",
   "metadata": {},
   "source": [
    "#To count the number alphabets and digits of a given string\n",
    "s1 = input(\"enter string\")\n",
    "a1=d=0\n",
    "for i n s1:\n",
    "        if i.isalpha():\n",
    "                a1 = a1+1\n",
    "        elifi.isdigit():\n",
    "                d = d+1\n",
    "print(\"alphabets count is:\",a1)\n",
    "print('digit count is:',d)\n",
    " \n"
   ]
  },
  {
   "cell_type": "markdown",
   "id": "e086772b",
   "metadata": {},
   "source": [
    "### string task:\n",
    "1. To read a string to print ascii value of a character ?\n",
    "input: s = \"apsdsc\"\n",
    "output:a->97....\n",
    "2. To print the caharcter frequency of  a given a string?\n",
    "input: s = \"phtyon\"\n",
    "output: p->1,y->1...\n",
    "3. To print the number\n",
    "upper case,lower case, digits, spaces,specail characters of given string?\n",
    "input: s = \"APpython@123\"\n",
    "output: uppercaseletters is = 2\n",
    "4. To print the word frequency of given string?\n",
    "input:s=\"python progrsmming java clanguage program python\"\n",
    "output:python:2,programming:1\n",
    "-5:"
   ]
  },
  {
   "cell_type": "code",
   "execution_count": 21,
   "id": "c6818fe7",
   "metadata": {},
   "outputs": [
    {
     "name": "stdout",
     "output_type": "stream",
     "text": [
      "enter the stringapsdsc\n",
      "97\n"
     ]
    }
   ],
   "source": [
    "#ascii valyes in character\n",
    "s1=input('enter the string')\n",
    "print(ord('a'))"
   ]
  },
  {
   "cell_type": "code",
   "execution_count": 25,
   "id": "3c62640e",
   "metadata": {},
   "outputs": [
    {
     "name": "stdout",
     "output_type": "stream",
     "text": [
      "APPYTHON123\n",
      "appython123\n",
      "['APpython123']\n",
      "True\n"
     ]
    }
   ],
   "source": [
    "s1='APpython123'\n",
    "print(s1.upper())\n",
    "print(s1.lower())\n",
    "print(s1.split())\n",
    "print(s1.isalnum())\n"
   ]
  },
  {
   "cell_type": "code",
   "execution_count": 5,
   "id": "6a30d9a8",
   "metadata": {},
   "outputs": [
    {
     "name": "stdout",
     "output_type": "stream",
     "text": [
      "enter the sringanantha lakshmi\n",
      "anantha lakshmi\n",
      "['a', 'n', 'a', 'n', 't', 'h', 'a', ' ', 'l', 'a', 'k', 's', 'h', 'm', 'i']\n"
     ]
    }
   ],
   "source": [
    "s1=input(\"enter the sring\")\n",
    "print(s1)\n",
    "l=list(s1)\n",
    "print(l)"
   ]
  },
  {
   "cell_type": "code",
   "execution_count": 15,
   "id": "f2ebf4b6",
   "metadata": {},
   "outputs": [
    {
     "name": "stdout",
     "output_type": "stream",
     "text": [
      "the original string is:something special\n"
     ]
    },
    {
     "ename": "ValueError",
     "evalue": "dictionary update sequence element #0 has length 1; 2 is required",
     "output_type": "error",
     "traceback": [
      "\u001b[1;31m---------------------------------------------------------------------------\u001b[0m",
      "\u001b[1;31mValueError\u001b[0m                                Traceback (most recent call last)",
      "Input \u001b[1;32mIn [15]\u001b[0m, in \u001b[0;36m<cell line: 4>\u001b[1;34m()\u001b[0m\n\u001b[0;32m      2\u001b[0m s1\u001b[38;5;241m=\u001b[39m\u001b[38;5;124m'\u001b[39m\u001b[38;5;124msomething special\u001b[39m\u001b[38;5;124m'\u001b[39m\n\u001b[0;32m      3\u001b[0m \u001b[38;5;28mprint\u001b[39m(\u001b[38;5;124m\"\u001b[39m\u001b[38;5;124mthe original string is:\u001b[39m\u001b[38;5;124m\"\u001b[39m\u001b[38;5;241m+\u001b[39m\u001b[38;5;28mstr\u001b[39m(s1))\n\u001b[1;32m----> 4\u001b[0m \u001b[38;5;28mprint\u001b[39m(\u001b[38;5;124m\"\u001b[39m\u001b[38;5;124mthe word frequency:\u001b[39m\u001b[38;5;124m\"\u001b[39m \u001b[38;5;241m+\u001b[39m \u001b[38;5;28mstr\u001b[39m(\u001b[38;5;28;43mdict\u001b[39;49m\u001b[43m(\u001b[49m\u001b[43ms1\u001b[49m\u001b[43m)\u001b[49m))\n",
      "\u001b[1;31mValueError\u001b[0m: dictionary update sequence element #0 has length 1; 2 is required"
     ]
    }
   ],
   "source": [
    "#To print the word frequency of given string?\n",
    "s1='something .special'\n",
    "print(\"the original string is:\"+str(s1))\n",
    "print(\"the word frequency:\" + str(dict(s1)))"
   ]
  },
  {
   "cell_type": "markdown",
   "id": "3695fb69",
   "metadata": {},
   "source": [
    "### function:\n",
    "      gropup of statements is called function\n",
    "      code reusability\n",
    "      easy dedugging\n",
    "   -syntax:\n",
    "   def function _name (arguments list)\n",
    "       statements\n",
    "       return output_value\n",
    " four types of user define functions\n",
    "     - with arguments and retun values\n",
    "      -without arguments and with retun values      \n",
    "      with arguments and with out retun values      \n",
    "      with out arguments and with out retun values  \n",
    "      "
   ]
  },
  {
   "cell_type": "markdown",
   "id": "35441bfc",
   "metadata": {},
   "source": [
    "#### with arguments and retun values\n",
    " read inputs\n",
    " function definition\n",
    " function calling\n",
    " \n",
    " -syntax:\n",
    "       def function_name(arg1,arg2...):\n",
    "       statements\n",
    "       return values\n",
    "       "
   ]
  },
  {
   "cell_type": "code",
   "execution_count": 24,
   "id": "77049610",
   "metadata": {},
   "outputs": [
    {
     "name": "stdout",
     "output_type": "stream",
     "text": [
      "enter n1 value23\n",
      "enter n2 value45\n"
     ]
    },
    {
     "data": {
      "text/plain": [
       "68"
      ]
     },
     "execution_count": 24,
     "metadata": {},
     "output_type": "execute_result"
    }
   ],
   "source": [
    "#to print the addition two numbers\n",
    "n1=int(input('enter n1 value'))\n",
    "n2=int(input('enter n2 value'))\n",
    "def addition(n1,n2):\n",
    "    return n1+n2\n",
    "addition(n1,n2)"
   ]
  },
  {
   "cell_type": "markdown",
   "id": "8170b610",
   "metadata": {},
   "source": [
    "### without arguments and with retun values \n",
    "def function _name()\n",
    "      statements\n",
    "      return values\n",
    "      "
   ]
  },
  {
   "cell_type": "code",
   "execution_count": 25,
   "id": "83abedf3",
   "metadata": {},
   "outputs": [
    {
     "name": "stdout",
     "output_type": "stream",
     "text": [
      "enter n value5\n"
     ]
    },
    {
     "data": {
      "text/plain": [
       "1"
      ]
     },
     "execution_count": 25,
     "metadata": {},
     "output_type": "execute_result"
    }
   ],
   "source": [
    "#factorial of agiven number..\n",
    "def factorial():\n",
    "    n=int(input('enter n value'))\n",
    "    f=1\n",
    "    for i in range(1,n+1):\n",
    "        f=f*1\n",
    "    return f\n",
    "factorial()"
   ]
  },
  {
   "cell_type": "markdown",
   "id": "b7a20dfd",
   "metadata": {},
   "source": [
    "#### with arguments and with out retun values  :\n",
    "     syntax:\n",
    "           def function_name(arguments_list):\n",
    "           statements\n",
    "           print values"
   ]
  },
  {
   "cell_type": "code",
   "execution_count": 28,
   "id": "502e0118",
   "metadata": {},
   "outputs": [
    {
     "name": "stdout",
     "output_type": "stream",
     "text": [
      "enter n value:3\n",
      "enter m value:5\n",
      "15\n"
     ]
    }
   ],
   "source": [
    "#to print multiplication of two inputs\n",
    "n=int(input('enter n value:'))\n",
    "m=int(input('enter m value:'))\n",
    "def multiplication(n,m):\n",
    "    print(n*m)\n",
    "multiplication(n,m)"
   ]
  },
  {
   "cell_type": "markdown",
   "id": "023570fd",
   "metadata": {},
   "source": [
    "#### with out arguments and with out retun values  :\n",
    "  syntax:\n",
    "       def function_name():\n",
    "       statements\n",
    "       print values\n",
    "      "
   ]
  },
  {
   "cell_type": "code",
   "execution_count": 29,
   "id": "834f03b4",
   "metadata": {},
   "outputs": [
    {
     "name": "stdout",
     "output_type": "stream",
     "text": [
      "enter n value123\n",
      "6\n"
     ]
    }
   ],
   "source": [
    "#to print sum of digits in number...\n",
    "def sumofdigits():\n",
    "    n=int(input('enter n value'))\n",
    "    s1=0\n",
    "    while(n!=0):\n",
    "        r=n%10\n",
    "        s1=s1+r\n",
    "        n=n//10\n",
    "    print(s1)\n",
    "sumofdigits()"
   ]
  },
  {
   "cell_type": "markdown",
   "id": "e2272d40",
   "metadata": {},
   "source": [
    "#### files:\n",
    "      to store data..\n",
    "      \n",
    "-step:\n",
    "   1.open a file using open() function.\n",
    "   syntax:\n",
    "         variable_name = open('filename','mode')\n",
    "   2.three basic modes\n",
    "   *read mode->'r'\n",
    "   *write mode->'w'\n",
    "   *append mode->'a'\n",
    "  3. close the file using function\n",
    "    syntax:\n",
    "         file_variable_name.close\n",
    "         "
   ]
  },
  {
   "cell_type": "code",
   "execution_count": 1,
   "id": "8e8eb67e",
   "metadata": {},
   "outputs": [
    {
     "name": "stdout",
     "output_type": "stream",
     "text": [
      "text file is created....\n"
     ]
    }
   ],
   "source": [
    "#to creat a emty text file using program...\n",
    "f1=open('siva.txt','w')\n",
    "print('text file is created....')\n",
    "f1.close()"
   ]
  },
  {
   "cell_type": "code",
   "execution_count": 2,
   "id": "75bf9938",
   "metadata": {},
   "outputs": [
    {
     "name": "stdout",
     "output_type": "stream",
     "text": [
      "data stored successfully...\n"
     ]
    }
   ],
   "source": [
    "#to write data into emty txt file..\n",
    "f2=open('siva.txt','w')\n",
    "f2.write('hello programming')\n",
    "f2.close()\n",
    "print('data stored successfully...')\n"
   ]
  },
  {
   "cell_type": "code",
   "execution_count": 5,
   "id": "270de8c8",
   "metadata": {},
   "outputs": [
    {
     "name": "stdout",
     "output_type": "stream",
     "text": [
      "success\n"
     ]
    }
   ],
   "source": [
    "# To write the number of lines to text file...\n",
    "f2 = open('siva.txt','w')\n",
    "L1=('phyton programming','java programming','c programming')\n",
    "f2.writelines(L1)\n",
    "f2.close()\n",
    "print('success')"
   ]
  },
  {
   "cell_type": "code",
   "execution_count": 6,
   "id": "312ffcdd",
   "metadata": {},
   "outputs": [
    {
     "name": "stdout",
     "output_type": "stream",
     "text": [
      "phyton programmingjava programmingc programming\n"
     ]
    }
   ],
   "source": [
    "# to read the data from the text files..\n",
    "f1=open('siva.txt','r')\n",
    "d1=f1.read()\n",
    "print(d1)\n",
    "f1.close()"
   ]
  },
  {
   "cell_type": "code",
   "execution_count": 34,
   "id": "3e9e2111",
   "metadata": {},
   "outputs": [
    {
     "name": "stdout",
     "output_type": "stream",
     "text": [
      "number of character: 47\n",
      "<class 'str'>\n"
     ]
    },
    {
     "data": {
      "text/plain": [
       "<function TextIOWrapper.close()>"
      ]
     },
     "execution_count": 34,
     "metadata": {},
     "output_type": "execute_result"
    }
   ],
   "source": [
    "#to create the number of character from the file...\n",
    "f1=open('data.txt','r')\n",
    "d2=f1.read()\n",
    "print('number of character:',len(d2))\n",
    "print(type(d2))\n",
    "f1.close"
   ]
  },
  {
   "cell_type": "code",
   "execution_count": 35,
   "id": "d983fb21",
   "metadata": {},
   "outputs": [
    {
     "name": "stdout",
     "output_type": "stream",
     "text": [
      "sucess\n"
     ]
    }
   ],
   "source": [
    "#to opend the new to text file..\n",
    "f1=open('data.txt','a')\n",
    "f1.write('hello world\\n')\n",
    "f1.close()\n",
    "print('sucess')"
   ]
  },
  {
   "cell_type": "code",
   "execution_count": 39,
   "id": "8eab4618",
   "metadata": {},
   "outputs": [
    {
     "name": "stdout",
     "output_type": "stream",
     "text": [
      "enter filename:music\n",
      "yes\n"
     ]
    }
   ],
   "source": [
    "#to check the txt file is exist or not\n",
    "fname=input(\"enter filename:\")\n",
    "import os\n",
    "if os.path.exists(fname):\n",
    "    print('yes')\n",
    "else:\n",
    "    print('no')"
   ]
  },
  {
   "cell_type": "code",
   "execution_count": 42,
   "id": "5a982d71",
   "metadata": {},
   "outputs": [
    {
     "name": "stdout",
     "output_type": "stream",
     "text": [
      "enter filename:student.txt\n",
      "new file is created\n"
     ]
    }
   ],
   "source": [
    "#to delete the text file:\n",
    "filename=input('enter filename:')\n",
    "if os.path.exists(filename):\n",
    "    print(\"txt file deleted successfully..\")\n",
    "else:\n",
    "    f1=open(filename,'w')\n",
    "    print('new file is created')\n",
    "    f1.close()"
   ]
  },
  {
   "cell_type": "code",
   "execution_count": 2,
   "id": "e7afd8fd",
   "metadata": {},
   "outputs": [
    {
     "name": "stdout",
     "output_type": "stream",
     "text": [
      "enter studentname:jay\n",
      "enter studentrollno:420\n",
      "enter branch:ECE\n",
      "enter studentname:sai\n",
      "enter studentrollno:143\n",
      "enter branch:ece\n",
      "stored successfully..\n"
     ]
    }
   ],
   "source": [
    "f=open('studentdata.txt','a')\n",
    "for i in range(1,3):\n",
    "    f.write('n/')\n",
    "    name=input(\"enter studentname:\")\n",
    "    f.write(name)\n",
    "    rollno=input(\"enter studentrollno:\")\n",
    "    f.write(rollno)\n",
    "    branch=input(\"enter branch:\")\n",
    "    f.write(branch)\n",
    "print(\"stored successfully..\")\n",
    "f.close()"
   ]
  },
  {
   "cell_type": "code",
   "execution_count": 11,
   "id": "18e30628",
   "metadata": {},
   "outputs": [
    {
     "ename": "SyntaxError",
     "evalue": "invalid syntax (70524809.py, line 3)",
     "output_type": "error",
     "traceback": [
      "\u001b[1;36m  File \u001b[1;32m\"C:\\Users\\Naresh\\AppData\\Local\\Temp\\ipykernel_13100\\70524809.py\"\u001b[1;36m, line \u001b[1;32m3\u001b[0m\n\u001b[1;33m    print(type(employee data))\u001b[0m\n\u001b[1;37m                        ^\u001b[0m\n\u001b[1;31mSyntaxError\u001b[0m\u001b[1;31m:\u001b[0m invalid syntax\n"
     ]
    }
   ],
   "source": [
    "#dictionary \n",
    "employee={\"name\":\"siva\",\"age\":29,\"salary\":400000,\"company\":\"google\"}\n",
    "print(type(employee data))\n",
    "print(\"printing employee data\")\n",
    "print(employee)\n"
   ]
  },
  {
   "cell_type": "code",
   "execution_count": 1,
   "id": "8ba61505",
   "metadata": {},
   "outputs": [
    {
     "ename": "SyntaxError",
     "evalue": "EOL while scanning string literal (3696833526.py, line 4)",
     "output_type": "error",
     "traceback": [
      "\u001b[1;36m  File \u001b[1;32m\"C:\\Users\\Naresh\\AppData\\Local\\Temp\\ipykernel_16240\\3696833526.py\"\u001b[1;36m, line \u001b[1;32m4\u001b[0m\n\u001b[1;33m    print(\"enter\",i,\"student\u001b[0m\n\u001b[1;37m                            ^\u001b[0m\n\u001b[1;31mSyntaxError\u001b[0m\u001b[1;31m:\u001b[0m EOL while scanning string literal\n"
     ]
    }
   ],
   "source": [
    "# to store the 3.student record name,rollnumber,branch\n",
    "f2 = open('student,txt','a')\n",
    "for i in range(1,2):\n",
    "    print(\"enter\",i,\"student"
   ]
  },
  {
   "cell_type": "code",
   "execution_count": null,
   "id": "8346523a",
   "metadata": {},
   "outputs": [],
   "source": [
    "# to find the length of words of words of a given file?\n",
    "f1=open('student .txt '),"
   ]
  }
 ],
 "metadata": {
  "kernelspec": {
   "display_name": "Python 3 (ipykernel)",
   "language": "python",
   "name": "python3"
  },
  "language_info": {
   "codemirror_mode": {
    "name": "ipython",
    "version": 3
   },
   "file_extension": ".py",
   "mimetype": "text/x-python",
   "name": "python",
   "nbconvert_exporter": "python",
   "pygments_lexer": "ipython3",
   "version": "3.9.13"
  }
 },
 "nbformat": 4,
 "nbformat_minor": 5
}
