{
  "nbformat": 4,
  "nbformat_minor": 0,
  "metadata": {
    "colab": {
      "provenance": []
    },
    "kernelspec": {
      "name": "python3",
      "display_name": "Python 3"
    },
    "language_info": {
      "name": "python"
    }
  },
  "cells": [
    {
      "cell_type": "markdown",
      "source": [
        "# Python Programming Language\n",
        "\n",
        "Python was founded by Guido van Rossum on February 20th, 1991\n",
        "\n",
        "# Usages of Python\n",
        "- Web development\n",
        "- Software development\n",
        "- Mathematics & Data Science/Analytics\n",
        "- System Scripting\n",
        "\n",
        "# What can Python do?\n",
        "- Python can be used on a server to create web applications.\n",
        "- Python can be used alongside software to create workflows.\n",
        "- Python can connect to database systems. It can also read and modify files.\n",
        "- Python can be used to handle big data and perform complex mathematics.\n",
        "- Python can be used for rapid prototyping, or for production-ready software development.\n",
        "\n",
        "# Why Python?\n",
        "- Python works on different platforms (Windows, Mac, Linux, Raspberry Pi, etc).\n",
        "- Python has a simple syntax similar to the English language.\n",
        "- Python has syntax that allows developers to write programs with fewer lines than some other programming languages.\n",
        "- Python runs on an interpreter system, meaning that code can be executed as soon as it is written. This means that prototyping can be very quick.\n",
        "- Python can be treated in a procedural way, an object-oriented way or a functional way.\n",
        "\n",
        "# Python Syntax compared to other programming languages\n",
        "- Python was designed for readability, and has some similarities to the English language with influence from mathematics.\n",
        "- Python uses new lines to complete a command, as opposed to other programming languages which often use semicolons or parentheses.\n",
        "- Python relies on indentation, using whitespace, to define scope; such as the scope of loops, functions and classes. Other programming languages often use curly-brackets for this purpose.\n",
        "\n",
        "Python file extension:\n",
        "Python Basics Data Analytics.ipynb\n",
        "\n",
        "|Data Types:| Description|\n",
        "|-----------|------------|\n",
        "| Numerical:|Integer, Float, Complex, Binary|\n",
        "| Character:|String/Object|\n",
        "| Boollean: |True/False, 1/0|\n",
        "| Date:     |Numerical/Character|\n",
        "\n",
        "\n",
        "Data Structures:\n",
        "- List\n",
        "- Tuple\n",
        "- Dictionary\n",
        "- Set\n",
        "- Array (NumPy)\n",
        "- Series (Pandas)\n",
        "- DataFrame (Pandas)\n",
        "\n",
        "Libraries:\n",
        "- NumPy (Numerical Calculations)\n",
        "- Pandas (For data arranged in table)\n",
        "- Matplotlib (Visualization)\n",
        "- Seaborn (Visualization)\n",
        "- Scipy Stats (For statistics)\n",
        "- Scikit Learn (Machine Learning)\n",
        "- NLTK & Spacy(Natural Language Processing)\n",
        "- Tensorflow/Keras (Deep Learning)\n",
        "\n",
        "\n",
        "\n",
        "| Item         | Price | # In stock |\n",
        "|--------------|:-----:|-----------:|\n",
        "| Apples       |  1.99 |        739 |\n",
        "| Bananas      |  1.89 |          6 |\n",
        "\n",
        "\n",
        "## Usage of brackets\n",
        "\n",
        "- Box Bracket [] : To create a list, or to access any value from a list, tuple, dataframe, array, series or a key from a dictionary, after loc & iloc function in a dataframe.\n",
        "\n",
        "- Curve Bracket () : To create a tuple, and for all the functions & methods, except loc & iloc are followed by curve bracket.\n",
        "\n",
        "- Flower bracket {} : To create a dictionary or a set data structure.\n",
        "\n",
        "\n",
        "# Object\n",
        "Object is like an empty container, which can save any value or function. We can say that an object is a variable."
      ],
      "metadata": {
        "id": "6HbGS8rNlueT"
      }
    },
    {
      "cell_type": "code",
      "source": [
        "data1 = 25\n",
        "print = 13"
      ],
      "metadata": {
        "id": "WfcisICgl1S2"
      },
      "execution_count": null,
      "outputs": []
    },
    {
      "cell_type": "code",
      "source": [
        "print(data1)"
      ],
      "metadata": {
        "colab": {
          "base_uri": "https://localhost:8080/",
          "height": 144
        },
        "id": "wVFqHaZTVgrg",
        "outputId": "8d76d7ef-c48e-465f-d948-65e0a1b84f77"
      },
      "execution_count": null,
      "outputs": [
        {
          "output_type": "error",
          "ename": "TypeError",
          "evalue": "'int' object is not callable",
          "traceback": [
            "\u001b[0;31m---------------------------------------------------------------------------\u001b[0m",
            "\u001b[0;31mTypeError\u001b[0m                                 Traceback (most recent call last)",
            "\u001b[0;32m<ipython-input-4-1334cb786088>\u001b[0m in \u001b[0;36m<cell line: 1>\u001b[0;34m()\u001b[0m\n\u001b[0;32m----> 1\u001b[0;31m \u001b[0mprint\u001b[0m\u001b[0;34m(\u001b[0m\u001b[0mdata1\u001b[0m\u001b[0;34m)\u001b[0m\u001b[0;34m\u001b[0m\u001b[0;34m\u001b[0m\u001b[0m\n\u001b[0m",
            "\u001b[0;31mTypeError\u001b[0m: 'int' object is not callable"
          ]
        }
      ]
    },
    {
      "cell_type": "code",
      "source": [
        "# Python is case sensitive, hence lower case object 'a' & upper case object 'A' are 2 different objects\n",
        "a = 5\n",
        "A = 9"
      ],
      "metadata": {
        "id": "JRJbEfqGfzNP"
      },
      "execution_count": null,
      "outputs": []
    },
    {
      "cell_type": "code",
      "source": [
        "a"
      ],
      "metadata": {
        "colab": {
          "base_uri": "https://localhost:8080/"
        },
        "id": "O3i4o7n4SCOS",
        "outputId": "ff6fa4e2-9c54-4ab9-e31f-bcc6b73b4e44"
      },
      "execution_count": null,
      "outputs": [
        {
          "output_type": "execute_result",
          "data": {
            "text/plain": [
              "5"
            ]
          },
          "metadata": {},
          "execution_count": 2
        }
      ]
    },
    {
      "cell_type": "code",
      "source": [
        "A"
      ],
      "metadata": {
        "colab": {
          "base_uri": "https://localhost:8080/"
        },
        "id": "zetNLAKcSC2x",
        "outputId": "18afde11-a3e5-4f50-f9b5-d707d780567b"
      },
      "execution_count": null,
      "outputs": [
        {
          "output_type": "execute_result",
          "data": {
            "text/plain": [
              "9"
            ]
          },
          "metadata": {},
          "execution_count": 3
        }
      ]
    },
    {
      "cell_type": "markdown",
      "source": [
        "If we want to call any object/function on any line other than the last line of the cell, we must apply the 'print' function."
      ],
      "metadata": {
        "id": "RxTU_xdnU6_H"
      }
    },
    {
      "cell_type": "code",
      "source": [
        "A = 7\n",
        "B = 9\n",
        "C = 8\n",
        "A\n",
        "B\n",
        "C"
      ],
      "metadata": {
        "colab": {
          "base_uri": "https://localhost:8080/"
        },
        "id": "EM3bIxSRSFY0",
        "outputId": "bb95e71d-ba07-4edb-b05d-36a5d0727487"
      },
      "execution_count": null,
      "outputs": [
        {
          "output_type": "execute_result",
          "data": {
            "text/plain": [
              "8"
            ]
          },
          "metadata": {},
          "execution_count": 8
        }
      ]
    },
    {
      "cell_type": "code",
      "source": [
        "A = 7\n",
        "B = 9\n",
        "C = 8\n",
        "print(A)\n",
        "print(B)\n",
        "print(C)"
      ],
      "metadata": {
        "colab": {
          "base_uri": "https://localhost:8080/"
        },
        "id": "7HGRSpNUSvDS",
        "outputId": "836a41a0-f4df-4d7f-98c1-66ff8f7ce394"
      },
      "execution_count": null,
      "outputs": [
        {
          "output_type": "stream",
          "name": "stdout",
          "text": [
            "7\n",
            "9\n",
            "8\n"
          ]
        }
      ]
    },
    {
      "cell_type": "code",
      "source": [
        "x = 'Data Science'\n",
        "print(x)\n",
        "type(x)"
      ],
      "metadata": {
        "colab": {
          "base_uri": "https://localhost:8080/"
        },
        "id": "EzYmhe9xTDPU",
        "outputId": "e5ca017b-20d5-4611-d60a-92ea12dcd9dd"
      },
      "execution_count": null,
      "outputs": [
        {
          "output_type": "stream",
          "name": "stdout",
          "text": [
            "Data Science\n"
          ]
        },
        {
          "output_type": "execute_result",
          "data": {
            "text/plain": [
              "str"
            ]
          },
          "metadata": {},
          "execution_count": 9
        }
      ]
    },
    {
      "cell_type": "code",
      "source": [
        "print('The value of x is:', x, 'and x is a character variable')"
      ],
      "metadata": {
        "colab": {
          "base_uri": "https://localhost:8080/"
        },
        "id": "69XuOaUXWtUi",
        "outputId": "bc565f5b-1357-49d1-8e87-ef99fa9c6708"
      },
      "execution_count": null,
      "outputs": [
        {
          "output_type": "stream",
          "name": "stdout",
          "text": [
            "The value of x is: Data Science and x is a character variable\n"
          ]
        }
      ]
    },
    {
      "cell_type": "code",
      "source": [
        "y = 12\n",
        "print(y)\n",
        "type(y)"
      ],
      "metadata": {
        "colab": {
          "base_uri": "https://localhost:8080/"
        },
        "id": "6GvsNoHTWuCQ",
        "outputId": "d210c78b-8ed9-43ab-b97d-f34a025be6b1"
      },
      "execution_count": null,
      "outputs": [
        {
          "output_type": "stream",
          "name": "stdout",
          "text": [
            "12\n"
          ]
        },
        {
          "output_type": "execute_result",
          "data": {
            "text/plain": [
              "int"
            ]
          },
          "metadata": {},
          "execution_count": 12
        }
      ]
    },
    {
      "cell_type": "code",
      "source": [
        "z = 12.6\n",
        "print(z)\n",
        "type(z)"
      ],
      "metadata": {
        "colab": {
          "base_uri": "https://localhost:8080/"
        },
        "id": "UbGxNAS4YHjp",
        "outputId": "a4f0c5b0-2745-4b8a-f75b-aa8811bff08d"
      },
      "execution_count": null,
      "outputs": [
        {
          "output_type": "stream",
          "name": "stdout",
          "text": [
            "12.6\n"
          ]
        },
        {
          "output_type": "execute_result",
          "data": {
            "text/plain": [
              "float"
            ]
          },
          "metadata": {},
          "execution_count": 13
        }
      ]
    },
    {
      "cell_type": "code",
      "source": [
        "m = True\n",
        "print(m)\n",
        "type(m)"
      ],
      "metadata": {
        "colab": {
          "base_uri": "https://localhost:8080/"
        },
        "id": "lCzvMyFiWuOG",
        "outputId": "8e4d3e86-d8b7-4226-dadc-1abf75aa72d5"
      },
      "execution_count": null,
      "outputs": [
        {
          "output_type": "stream",
          "name": "stdout",
          "text": [
            "True\n"
          ]
        },
        {
          "output_type": "execute_result",
          "data": {
            "text/plain": [
              "bool"
            ]
          },
          "metadata": {},
          "execution_count": 14
        }
      ]
    },
    {
      "cell_type": "code",
      "source": [
        "n = False\n",
        "print(n)\n",
        "type(n)"
      ],
      "metadata": {
        "colab": {
          "base_uri": "https://localhost:8080/"
        },
        "id": "5Y-qifCCYyei",
        "outputId": "51e1c738-9057-4c58-e412-46c1457a42fc"
      },
      "execution_count": null,
      "outputs": [
        {
          "output_type": "stream",
          "name": "stdout",
          "text": [
            "False\n"
          ]
        },
        {
          "output_type": "execute_result",
          "data": {
            "text/plain": [
              "bool"
            ]
          },
          "metadata": {},
          "execution_count": 15
        }
      ]
    },
    {
      "cell_type": "code",
      "source": [
        "d = 5+3j\n",
        "print(d)\n",
        "type(d)"
      ],
      "metadata": {
        "colab": {
          "base_uri": "https://localhost:8080/"
        },
        "id": "qmH21WvsYyoh",
        "outputId": "158b1b64-32f1-4f75-a052-c4758ed048a3"
      },
      "execution_count": null,
      "outputs": [
        {
          "output_type": "stream",
          "name": "stdout",
          "text": [
            "(5+3j)\n"
          ]
        },
        {
          "output_type": "execute_result",
          "data": {
            "text/plain": [
              "complex"
            ]
          },
          "metadata": {},
          "execution_count": 17
        }
      ]
    },
    {
      "cell_type": "code",
      "source": [
        "today = '6th June 2024'\n",
        "type(today)"
      ],
      "metadata": {
        "colab": {
          "base_uri": "https://localhost:8080/"
        },
        "id": "DutlrJkEZc52",
        "outputId": "bd664c71-3abb-4063-860c-c866c3cce788"
      },
      "execution_count": null,
      "outputs": [
        {
          "output_type": "execute_result",
          "data": {
            "text/plain": [
              "str"
            ]
          },
          "metadata": {},
          "execution_count": 18
        }
      ]
    },
    {
      "cell_type": "code",
      "source": [
        "today = '06/06/2024'\n",
        "type(today)"
      ],
      "metadata": {
        "colab": {
          "base_uri": "https://localhost:8080/"
        },
        "id": "9wNavq3XYy5w",
        "outputId": "efe95abf-efc8-44e0-ce93-d5afcfd6e569"
      },
      "execution_count": null,
      "outputs": [
        {
          "output_type": "execute_result",
          "data": {
            "text/plain": [
              "str"
            ]
          },
          "metadata": {},
          "execution_count": 22
        }
      ]
    },
    {
      "cell_type": "code",
      "source": [
        "today = 06/06/2024\n",
        "type(today)"
      ],
      "metadata": {
        "colab": {
          "base_uri": "https://localhost:8080/",
          "height": 109
        },
        "id": "uMtKwLulbDsE",
        "outputId": "5b8df458-7ffe-4bdb-c970-f7c555077f1d"
      },
      "execution_count": null,
      "outputs": [
        {
          "output_type": "error",
          "ename": "SyntaxError",
          "evalue": "leading zeros in decimal integer literals are not permitted; use an 0o prefix for octal integers (<ipython-input-24-e65e03bd3bb1>, line 1)",
          "traceback": [
            "\u001b[0;36m  File \u001b[0;32m\"<ipython-input-24-e65e03bd3bb1>\"\u001b[0;36m, line \u001b[0;32m1\u001b[0m\n\u001b[0;31m    today = 06/06/2024\u001b[0m\n\u001b[0m            ^\u001b[0m\n\u001b[0;31mSyntaxError\u001b[0m\u001b[0;31m:\u001b[0m leading zeros in decimal integer literals are not permitted; use an 0o prefix for octal integers\n"
          ]
        }
      ]
    },
    {
      "cell_type": "markdown",
      "source": [
        "# Operators in Python\n",
        "- Addition +\n",
        "Used to add the values\n",
        "- Subtraction -\n",
        "Used to subtract the value from another\n",
        "- Multiplication *\n",
        "Used to multiply a value with another\n",
        "- Division /\n",
        "Used to divide a value by another\n",
        "- Floor Division //\n",
        "Will provide the whole number part of the quotient after dividing\n",
        "- Power **\n",
        "Will raise a number to another number\n",
        "- Mod % Will provide the remainder after dividing a number with another\n",
        "\n",
        "# Relational Operators\n",
        "- Greater than or equal to >=\n",
        "- Lesser than or equal to <=\n",
        "- Lesser than <\n",
        "- Greater than >\n",
        "- Equal to ==\n",
        "- Not equal to !=\n",
        "- in\n",
        "- not in"
      ],
      "metadata": {
        "id": "M09MQGERcANL"
      }
    },
    {
      "cell_type": "code",
      "source": [
        "9/4"
      ],
      "metadata": {
        "colab": {
          "base_uri": "https://localhost:8080/"
        },
        "id": "YLKy-qZqbQMM",
        "outputId": "e25f1b95-30ec-44ef-ebb6-30ce276b1d27"
      },
      "execution_count": null,
      "outputs": [
        {
          "output_type": "execute_result",
          "data": {
            "text/plain": [
              "2.25"
            ]
          },
          "metadata": {},
          "execution_count": 27
        }
      ]
    },
    {
      "cell_type": "code",
      "source": [
        "9//4"
      ],
      "metadata": {
        "colab": {
          "base_uri": "https://localhost:8080/"
        },
        "id": "y6fYB9oMcyru",
        "outputId": "1b19b04c-6ac6-4648-b547-08e32c965732"
      },
      "execution_count": null,
      "outputs": [
        {
          "output_type": "execute_result",
          "data": {
            "text/plain": [
              "2"
            ]
          },
          "metadata": {},
          "execution_count": 28
        }
      ]
    },
    {
      "cell_type": "code",
      "source": [
        "2**4   #2*2*2*2"
      ],
      "metadata": {
        "colab": {
          "base_uri": "https://localhost:8080/"
        },
        "id": "-0q6z-zFc1lp",
        "outputId": "8e04d344-6b8b-4451-d57b-ebe5c6205c13"
      },
      "execution_count": null,
      "outputs": [
        {
          "output_type": "execute_result",
          "data": {
            "text/plain": [
              "16"
            ]
          },
          "metadata": {},
          "execution_count": 29
        }
      ]
    },
    {
      "cell_type": "code",
      "source": [
        "9%5"
      ],
      "metadata": {
        "colab": {
          "base_uri": "https://localhost:8080/"
        },
        "id": "w4IvBIvWdw1X",
        "outputId": "9bf50f24-cce9-4d22-c51a-dbbd640418a4"
      },
      "execution_count": null,
      "outputs": [
        {
          "output_type": "execute_result",
          "data": {
            "text/plain": [
              "4"
            ]
          },
          "metadata": {},
          "execution_count": 30
        }
      ]
    },
    {
      "cell_type": "code",
      "source": [
        "21%6"
      ],
      "metadata": {
        "colab": {
          "base_uri": "https://localhost:8080/"
        },
        "id": "oVUY8vRWd1aR",
        "outputId": "fed6b73e-56f3-41fb-f7c7-75fe48e1460f"
      },
      "execution_count": null,
      "outputs": [
        {
          "output_type": "execute_result",
          "data": {
            "text/plain": [
              "3"
            ]
          },
          "metadata": {},
          "execution_count": 32
        }
      ]
    },
    {
      "cell_type": "code",
      "source": [
        "a = 5\n",
        "b = 8\n",
        "a>=b"
      ],
      "metadata": {
        "colab": {
          "base_uri": "https://localhost:8080/"
        },
        "id": "uMIMbpZrd60H",
        "outputId": "8e0f230a-1ee0-4086-8762-7e0d318774b6"
      },
      "execution_count": null,
      "outputs": [
        {
          "output_type": "execute_result",
          "data": {
            "text/plain": [
              "False"
            ]
          },
          "metadata": {},
          "execution_count": 33
        }
      ]
    },
    {
      "cell_type": "code",
      "source": [
        "a<=b"
      ],
      "metadata": {
        "colab": {
          "base_uri": "https://localhost:8080/"
        },
        "id": "2CveWlYuc9nq",
        "outputId": "0dedbb4e-c48e-44fb-e6b9-0f27512f9bb7"
      },
      "execution_count": null,
      "outputs": [
        {
          "output_type": "execute_result",
          "data": {
            "text/plain": [
              "True"
            ]
          },
          "metadata": {},
          "execution_count": 34
        }
      ]
    },
    {
      "cell_type": "code",
      "source": [
        "a<b"
      ],
      "metadata": {
        "colab": {
          "base_uri": "https://localhost:8080/"
        },
        "id": "hN5oBmjgisUY",
        "outputId": "62e23c15-cee3-4b43-8e7c-bb141867b06b"
      },
      "execution_count": null,
      "outputs": [
        {
          "output_type": "execute_result",
          "data": {
            "text/plain": [
              "True"
            ]
          },
          "metadata": {},
          "execution_count": 35
        }
      ]
    },
    {
      "cell_type": "code",
      "source": [
        "a>b"
      ],
      "metadata": {
        "colab": {
          "base_uri": "https://localhost:8080/"
        },
        "id": "UhJ7VZkmc9u7",
        "outputId": "2fa7a979-3e27-4871-81eb-ae6536750b56"
      },
      "execution_count": null,
      "outputs": [
        {
          "output_type": "execute_result",
          "data": {
            "text/plain": [
              "False"
            ]
          },
          "metadata": {},
          "execution_count": 36
        }
      ]
    },
    {
      "cell_type": "code",
      "source": [
        "a==b"
      ],
      "metadata": {
        "colab": {
          "base_uri": "https://localhost:8080/"
        },
        "id": "mE3Wd2-Ic9yZ",
        "outputId": "d7b9c973-68f6-4352-f5f5-1b78d0036846"
      },
      "execution_count": null,
      "outputs": [
        {
          "output_type": "execute_result",
          "data": {
            "text/plain": [
              "False"
            ]
          },
          "metadata": {},
          "execution_count": 37
        }
      ]
    },
    {
      "cell_type": "code",
      "source": [
        "a!=b"
      ],
      "metadata": {
        "colab": {
          "base_uri": "https://localhost:8080/"
        },
        "id": "jPC2TQrYjQnj",
        "outputId": "81ad5d44-7ccb-477e-a500-5ed12a6962bf"
      },
      "execution_count": null,
      "outputs": [
        {
          "output_type": "execute_result",
          "data": {
            "text/plain": [
              "True"
            ]
          },
          "metadata": {},
          "execution_count": 38
        }
      ]
    },
    {
      "cell_type": "markdown",
      "source": [
        "# Difference Between Data Type & Data Structure\n",
        "- Data type can be different for each single value, whether stored in an object or not. Every single value has its data type.\n",
        "- Data Structure is an arrangement of multiple data values of different data types in a single object.\n",
        "\n",
        "# Rules for the object name\n",
        "- Never start an object name with a numeric value\n",
        "- Never keep any space in object name\n",
        "- Except underscore _, no other special character should be used in object name\n",
        "\n",
        "# Python is Highly Case & Character Sensitive\n",
        "# Python Follows Zero Indexation\n",
        "\n",
        "# Difference between 'Function' & 'Method'?\n",
        "\n",
        "\n",
        "# List Data Structure\n",
        "Most dynamic data structure and accepts all types of data, which is mutable in all possible ways.\n",
        "\n",
        "|Method|Description|\n",
        "|------|-----------|\n",
        "|append()|Adds an element at the end of the list|\n",
        "|clear()|Removes all the elements from the list|\n",
        "|copy()|Returns a copy of the list|\n",
        "|count()|Returns the number of elements with the |specified value|\n",
        "|extend()|Add the elements of a list (or any iterable), to the end of the current list\n",
        "|index()|Returns the index of the first element with the specified value|\n",
        "|insert()|Adds an element at the specified position|\n",
        "|pop()|Removes the element at the specified position|\n",
        "|remove()|Removes the item with the specified value|\n",
        "|reverse()|Reverses the order of the list|\n",
        "|sort()|Sorts the list|"
      ],
      "metadata": {
        "id": "PIwocGQNjlXa"
      }
    },
    {
      "cell_type": "code",
      "source": [
        "list1 = [1,2,3,5.6,1.4,5j,3+6j,True, False, 'Data', 'Analytics']\n",
        "list1"
      ],
      "metadata": {
        "colab": {
          "base_uri": "https://localhost:8080/"
        },
        "id": "EqIO-P8WjSiG",
        "outputId": "80c932fa-0779-46de-a8dc-49732aae8b9c"
      },
      "execution_count": null,
      "outputs": [
        {
          "output_type": "execute_result",
          "data": {
            "text/plain": [
              "[1, 2, 3, 5.6, 1.4, 5j, (3+6j), True, False, 'Data', 'Analytics']"
            ]
          },
          "metadata": {},
          "execution_count": 39
        }
      ]
    },
    {
      "cell_type": "code",
      "source": [
        "id(list1)"
      ],
      "metadata": {
        "colab": {
          "base_uri": "https://localhost:8080/"
        },
        "id": "7MvkuCw2bzn5",
        "outputId": "6281a421-d5c4-4b19-c32b-ed6fdc17b279"
      },
      "execution_count": null,
      "outputs": [
        {
          "output_type": "execute_result",
          "data": {
            "text/plain": [
              "139102802252480"
            ]
          },
          "metadata": {},
          "execution_count": 40
        }
      ]
    },
    {
      "cell_type": "code",
      "source": [
        "list2"
      ],
      "metadata": {
        "colab": {
          "base_uri": "https://localhost:8080/",
          "height": 144
        },
        "id": "u_X8JdAanKCx",
        "outputId": "5a697283-3a51-4c66-daba-2a62ecb4a9a4"
      },
      "execution_count": null,
      "outputs": [
        {
          "output_type": "error",
          "ename": "NameError",
          "evalue": "name 'list2' is not defined",
          "traceback": [
            "\u001b[0;31m---------------------------------------------------------------------------\u001b[0m",
            "\u001b[0;31mNameError\u001b[0m                                 Traceback (most recent call last)",
            "\u001b[0;32m<ipython-input-41-017990ea2ce6>\u001b[0m in \u001b[0;36m<cell line: 1>\u001b[0;34m()\u001b[0m\n\u001b[0;32m----> 1\u001b[0;31m \u001b[0mlist2\u001b[0m\u001b[0;34m\u001b[0m\u001b[0;34m\u001b[0m\u001b[0m\n\u001b[0m",
            "\u001b[0;31mNameError\u001b[0m: name 'list2' is not defined"
          ]
        }
      ]
    },
    {
      "cell_type": "code",
      "source": [
        "list1 = [5,8,6,5.6,1.4,5j,3+6j,True, False, 'Data', 'Analytics']\n",
        "print(list1)"
      ],
      "metadata": {
        "colab": {
          "base_uri": "https://localhost:8080/"
        },
        "id": "RBr3lzgtnWU_",
        "outputId": "a0d35fbf-250a-4b5b-dfc0-37497ed133d8"
      },
      "execution_count": null,
      "outputs": [
        {
          "output_type": "stream",
          "name": "stdout",
          "text": [
            "[5, 8, 6, 5.6, 1.4, 5j, (3+6j), True, False, 'Data', 'Analytics']\n"
          ]
        }
      ]
    },
    {
      "cell_type": "code",
      "source": [
        "#What is the value at index 6 of list1?\n",
        "list1[6]"
      ],
      "metadata": {
        "colab": {
          "base_uri": "https://localhost:8080/"
        },
        "id": "ncuFi6jTbz0V",
        "outputId": "fe1e8508-af8d-431c-c96a-d79f9abe420a"
      },
      "execution_count": null,
      "outputs": [
        {
          "output_type": "execute_result",
          "data": {
            "text/plain": [
              "(3+6j)"
            ]
          },
          "metadata": {},
          "execution_count": 44
        }
      ]
    },
    {
      "cell_type": "code",
      "source": [
        "list1 = [5,8,6,5.6,1.4,[7,3,1,25.1,True,'Neha'],5j,3+6j,True, False, 'Data', 'Analytics']\n",
        "print(list1)"
      ],
      "metadata": {
        "colab": {
          "base_uri": "https://localhost:8080/"
        },
        "id": "YkP201x3pHpS",
        "outputId": "0b4792c6-1ffa-4fa8-f7b9-97e20974fbee"
      },
      "execution_count": null,
      "outputs": [
        {
          "output_type": "stream",
          "name": "stdout",
          "text": [
            "[5, 8, 6, 5.6, 1.4, [7, 3, 1, 25.1, True, 'Neha'], 5j, (3+6j), True, False, 'Data', 'Analytics']\n"
          ]
        }
      ]
    },
    {
      "cell_type": "code",
      "source": [
        "list1[5][3]"
      ],
      "metadata": {
        "colab": {
          "base_uri": "https://localhost:8080/"
        },
        "id": "LJJk2jUwp7i7",
        "outputId": "6d1d37ab-1959-4af9-89c3-3787aac0f2bc"
      },
      "execution_count": null,
      "outputs": [
        {
          "output_type": "execute_result",
          "data": {
            "text/plain": [
              "25.1"
            ]
          },
          "metadata": {},
          "execution_count": 47
        }
      ]
    },
    {
      "cell_type": "code",
      "source": [
        "list1[-2]"
      ],
      "metadata": {
        "colab": {
          "base_uri": "https://localhost:8080/",
          "height": 36
        },
        "id": "E4wyHr3LqH8z",
        "outputId": "08bc26cb-e0bd-4f9d-c79a-c5695f2445f8"
      },
      "execution_count": null,
      "outputs": [
        {
          "output_type": "execute_result",
          "data": {
            "text/plain": [
              "'Data'"
            ],
            "application/vnd.google.colaboratory.intrinsic+json": {
              "type": "string"
            }
          },
          "metadata": {},
          "execution_count": 48
        }
      ]
    },
    {
      "cell_type": "code",
      "source": [
        "list1[10]"
      ],
      "metadata": {
        "colab": {
          "base_uri": "https://localhost:8080/",
          "height": 36
        },
        "id": "zqn7qUCQq8-9",
        "outputId": "e67f35db-5953-40c4-ff02-cbd2da74cf3b"
      },
      "execution_count": null,
      "outputs": [
        {
          "output_type": "execute_result",
          "data": {
            "text/plain": [
              "'Data'"
            ],
            "application/vnd.google.colaboratory.intrinsic+json": {
              "type": "string"
            }
          },
          "metadata": {},
          "execution_count": 49
        }
      ]
    },
    {
      "cell_type": "code",
      "source": [
        "list1[-2] == list1[10]"
      ],
      "metadata": {
        "colab": {
          "base_uri": "https://localhost:8080/"
        },
        "id": "wD6cya4ErEaz",
        "outputId": "e55ba86c-d231-461c-a0e0-5c78d958197d"
      },
      "execution_count": null,
      "outputs": [
        {
          "output_type": "execute_result",
          "data": {
            "text/plain": [
              "True"
            ]
          },
          "metadata": {},
          "execution_count": 50
        }
      ]
    },
    {
      "cell_type": "code",
      "source": [
        "list1 = [1,2,3,4,5,6,7,8,9,9,8,7,6,5,4,3,2,1]\n",
        "#To call elements from 3rd index to the end of list\n",
        "list1[3:]"
      ],
      "metadata": {
        "colab": {
          "base_uri": "https://localhost:8080/"
        },
        "id": "5mdPryChr16C",
        "outputId": "52ebd178-185e-4cb3-8fc2-bbc5b85d280e"
      },
      "execution_count": null,
      "outputs": [
        {
          "output_type": "execute_result",
          "data": {
            "text/plain": [
              "[4, 5, 6, 7, 8, 9, 9, 8, 7, 6, 5, 4, 3, 2, 1]"
            ]
          },
          "metadata": {},
          "execution_count": 52
        }
      ]
    },
    {
      "cell_type": "code",
      "source": [
        "#To call elements from 0th index to the 8th index\n",
        "list1[:9]"
      ],
      "metadata": {
        "colab": {
          "base_uri": "https://localhost:8080/"
        },
        "id": "Irdo1waPsQp8",
        "outputId": "27251d3e-aee7-4934-b673-0b9813a7ff72"
      },
      "execution_count": null,
      "outputs": [
        {
          "output_type": "execute_result",
          "data": {
            "text/plain": [
              "[1, 2, 3, 4, 5, 6, 7, 8, 9]"
            ]
          },
          "metadata": {},
          "execution_count": 53
        }
      ]
    },
    {
      "cell_type": "code",
      "source": [
        "#To call elements from 3rd index to the 10th (11-1) index\n",
        "list1[3:11]"
      ],
      "metadata": {
        "colab": {
          "base_uri": "https://localhost:8080/"
        },
        "id": "eNRuGLrKa47I",
        "outputId": "fa3a5c7f-d380-4672-e56a-fa4cd2f2a942"
      },
      "execution_count": null,
      "outputs": [
        {
          "output_type": "execute_result",
          "data": {
            "text/plain": [
              "[4, 5, 6, 7, 8, 9, 9, 8]"
            ]
          },
          "metadata": {},
          "execution_count": 54
        }
      ]
    },
    {
      "cell_type": "code",
      "source": [
        "print(list1)\n",
        "print(list1[1:13])\n",
        "list1[1:13:2]"
      ],
      "metadata": {
        "colab": {
          "base_uri": "https://localhost:8080/"
        },
        "id": "K5eEi-APs-lO",
        "outputId": "d6bda8f9-0936-4494-b9c5-1b31b72f7e2c"
      },
      "execution_count": null,
      "outputs": [
        {
          "output_type": "stream",
          "name": "stdout",
          "text": [
            "[1, 2, 3, 4, 5, 6, 7, 8, 9, 9, 8, 7, 6, 5, 4, 3, 2, 1]\n",
            "[2, 3, 4, 5, 6, 7, 8, 9, 9, 8, 7, 6]\n"
          ]
        },
        {
          "output_type": "execute_result",
          "data": {
            "text/plain": [
              "[2, 4, 6, 8, 9, 7]"
            ]
          },
          "metadata": {},
          "execution_count": 57
        }
      ]
    },
    {
      "cell_type": "code",
      "source": [
        "len(list1)"
      ],
      "metadata": {
        "colab": {
          "base_uri": "https://localhost:8080/"
        },
        "id": "OleigB9ztv1G",
        "outputId": "f22dec92-d28b-4d46-8018-53ce6538efa6"
      },
      "execution_count": null,
      "outputs": [
        {
          "output_type": "execute_result",
          "data": {
            "text/plain": [
              "18"
            ]
          },
          "metadata": {},
          "execution_count": 58
        }
      ]
    },
    {
      "cell_type": "code",
      "source": [
        "list1 = [1,2,3,4,5,6,7,8,9,9,8,7,6,5,4,3,2,1]\n",
        "list1[-1:-9:-2]"
      ],
      "metadata": {
        "id": "DOmqIHCUthqi",
        "colab": {
          "base_uri": "https://localhost:8080/"
        },
        "outputId": "71583e3f-4f40-4c3e-b83a-e2b4f842de0b"
      },
      "execution_count": null,
      "outputs": [
        {
          "output_type": "execute_result",
          "data": {
            "text/plain": [
              "[1, 3, 5, 7]"
            ]
          },
          "metadata": {},
          "execution_count": 2
        }
      ]
    },
    {
      "cell_type": "code",
      "source": [
        "list1[-1:-9:-1]"
      ],
      "metadata": {
        "id": "Nc7fxJy3tfbh",
        "colab": {
          "base_uri": "https://localhost:8080/"
        },
        "outputId": "b8d9e65e-4a32-4d33-a04a-6456625cd5e6"
      },
      "execution_count": null,
      "outputs": [
        {
          "output_type": "execute_result",
          "data": {
            "text/plain": [
              "[1, 2, 3, 4, 5, 6, 7, 8]"
            ]
          },
          "metadata": {},
          "execution_count": 3
        }
      ]
    },
    {
      "cell_type": "code",
      "source": [
        "list1[-1:-9]"
      ],
      "metadata": {
        "id": "C8HtogBaWpBz",
        "colab": {
          "base_uri": "https://localhost:8080/"
        },
        "outputId": "fcfe517d-3488-4682-a3dd-4cec2d95e45c"
      },
      "execution_count": null,
      "outputs": [
        {
          "output_type": "execute_result",
          "data": {
            "text/plain": [
              "[]"
            ]
          },
          "metadata": {},
          "execution_count": 4
        }
      ]
    },
    {
      "cell_type": "code",
      "source": [
        "list1 = [1,2,3,4,5,6,6,5,4,3,7,8,9,9,8,7,6,5,4,3,6,5,4,3,2,1]\n",
        "print(list1)\n",
        "list1.append(10)\n",
        "print(list1)\n",
        "list1.append('Data')\n",
        "print(list1)"
      ],
      "metadata": {
        "colab": {
          "base_uri": "https://localhost:8080/"
        },
        "id": "6Mqw3Deacig2",
        "outputId": "9bba4b28-c84a-40e4-da26-016421fe5040"
      },
      "execution_count": null,
      "outputs": [
        {
          "output_type": "stream",
          "name": "stdout",
          "text": [
            "[1, 2, 3, 4, 5, 6, 6, 5, 4, 3, 7, 8, 9, 9, 8, 7, 6, 5, 4, 3, 6, 5, 4, 3, 2, 1]\n",
            "[1, 2, 3, 4, 5, 6, 6, 5, 4, 3, 7, 8, 9, 9, 8, 7, 6, 5, 4, 3, 6, 5, 4, 3, 2, 1, 10]\n",
            "[1, 2, 3, 4, 5, 6, 6, 5, 4, 3, 7, 8, 9, 9, 8, 7, 6, 5, 4, 3, 6, 5, 4, 3, 2, 1, 10, 'Data']\n"
          ]
        }
      ]
    },
    {
      "cell_type": "code",
      "source": [
        "list1 = [1,2,3,4,5,6,6,5,4,3,7,8,9,9,8,7,6,5,4,3,6,5,4,3,2,1]\n",
        "print(list1)\n",
        "list1.remove(5)\n",
        "print(list1)"
      ],
      "metadata": {
        "colab": {
          "base_uri": "https://localhost:8080/"
        },
        "id": "dyB8ppxbdkO1",
        "outputId": "eae0ede1-d6ba-4a03-8cc4-16bfa05638ba"
      },
      "execution_count": null,
      "outputs": [
        {
          "output_type": "stream",
          "name": "stdout",
          "text": [
            "[1, 2, 3, 4, 5, 6, 6, 5, 4, 3, 7, 8, 9, 9, 8, 7, 6, 5, 4, 3, 6, 5, 4, 3, 2, 1]\n",
            "[1, 2, 3, 4, 6, 6, 5, 4, 3, 7, 8, 9, 9, 8, 7, 6, 5, 4, 3, 6, 5, 4, 3, 2, 1]\n"
          ]
        }
      ]
    },
    {
      "cell_type": "code",
      "source": [
        "list1 = [31,2,'Data',23,4,'Data',5,36,6,'Data',5,47,3,6,'Data']\n",
        "print(list1)\n",
        "print('The element at the 5th index is: ',list1[5])\n",
        "list1.remove(list1[5])\n",
        "print(list1)\n",
        "#Please notice, it has removed the first occurrence of 'Data', which was at the 2nd index, and not the one at 5th index"
      ],
      "metadata": {
        "colab": {
          "base_uri": "https://localhost:8080/"
        },
        "id": "DnqyIN7qe4gg",
        "outputId": "027ab496-d723-4f6a-e732-d7497f1a7c90"
      },
      "execution_count": null,
      "outputs": [
        {
          "output_type": "stream",
          "name": "stdout",
          "text": [
            "[31, 2, 'Data', 23, 4, 'Data', 5, 36, 6, 'Data', 5, 47, 3, 6, 'Data']\n",
            "The element at the 5th index is:  Data\n",
            "[31, 2, 23, 4, 'Data', 5, 36, 6, 'Data', 5, 47, 3, 6, 'Data']\n"
          ]
        }
      ]
    },
    {
      "cell_type": "code",
      "source": [
        "list1 = [1,5,8,6,'Bangalore', 560068, 'Goa', 403603]\n",
        "print(list1)\n",
        "list1.insert(3, 'Karnataka')\n",
        "print(list1)\n",
        "list1.insert(5, [5,4,8,9,6])\n",
        "print(list1)\n",
        "print(list1[5])\n",
        "list1[5].insert(4, 10)\n",
        "print(list1)"
      ],
      "metadata": {
        "colab": {
          "base_uri": "https://localhost:8080/"
        },
        "id": "qiI5FEX_h1j0",
        "outputId": "97fde48c-1fd2-4ca7-dd5b-07da23c5427d"
      },
      "execution_count": null,
      "outputs": [
        {
          "output_type": "stream",
          "name": "stdout",
          "text": [
            "[1, 5, 8, 6, 'Bangalore', 560068, 'Goa', 403603]\n",
            "[1, 5, 8, 'Karnataka', 6, 'Bangalore', 560068, 'Goa', 403603]\n",
            "[1, 5, 8, 'Karnataka', 6, [5, 4, 8, 9, 6], 'Bangalore', 560068, 'Goa', 403603]\n",
            "[5, 4, 8, 9, 6]\n",
            "[1, 5, 8, 'Karnataka', 6, [5, 4, 8, 9, 10, 6], 'Bangalore', 560068, 'Goa', 403603]\n"
          ]
        }
      ]
    },
    {
      "cell_type": "code",
      "source": [
        "list1 = [1,5,8,6,'Bangalore', 560068, 'Goa', 403603]\n",
        "print(list1)\n",
        "list1.pop()\n",
        "print(list1)\n",
        "list1.pop(3)\n",
        "print(list1)"
      ],
      "metadata": {
        "colab": {
          "base_uri": "https://localhost:8080/"
        },
        "id": "uP9a6mxjiY_k",
        "outputId": "ed7b4021-9473-46a0-cd70-0ebacac0b41f"
      },
      "execution_count": null,
      "outputs": [
        {
          "output_type": "stream",
          "name": "stdout",
          "text": [
            "[1, 5, 8, 6, 'Bangalore', 560068, 'Goa', 403603]\n",
            "[1, 5, 8, 6, 'Bangalore', 560068, 'Goa']\n",
            "[1, 5, 8, 'Bangalore', 560068, 'Goa']\n"
          ]
        }
      ]
    },
    {
      "cell_type": "code",
      "source": [
        "list1 = [1,5,8,6,'Bangalore', 560068, 'Goa', 403603]\n",
        "print(list1)\n",
        "list1.reverse()\n",
        "print(list1)"
      ],
      "metadata": {
        "colab": {
          "base_uri": "https://localhost:8080/"
        },
        "id": "bDXfrBFbizsU",
        "outputId": "a726e246-ee0c-4fcd-b38b-7a5784cbb70e"
      },
      "execution_count": null,
      "outputs": [
        {
          "output_type": "stream",
          "name": "stdout",
          "text": [
            "[1, 5, 8, 6, 'Bangalore', 560068, 'Goa', 403603]\n",
            "[403603, 'Goa', 560068, 'Bangalore', 6, 8, 5, 1]\n"
          ]
        }
      ]
    },
    {
      "cell_type": "markdown",
      "source": [
        "list1 = [1,5,8,6,'Bangalore', 560068, 'Goa', 403603]\n",
        "\n",
        "Reverse the elements only between 'Bangalore' to 'Goa'\n",
        "\n",
        "Desired output:\n",
        "list1 = [1,5,8,6,'Goa',560068,'Bangalore',403603]\n"
      ],
      "metadata": {
        "id": "cz8355qOlV1l"
      }
    },
    {
      "cell_type": "code",
      "source": [
        "list1 = [1,5,8,6,'Bangalore', 560068, 'Goa', 403603]\n",
        "print(list1)\n",
        "list2 = list1[4:7]\n",
        "list2.reverse()\n",
        "list1[4:7] = list2\n",
        "print(list1)"
      ],
      "metadata": {
        "colab": {
          "base_uri": "https://localhost:8080/"
        },
        "id": "5dpiZ7V6KGZx",
        "outputId": "812bc727-f77b-4c68-f7b0-9f87cee8eb32"
      },
      "execution_count": null,
      "outputs": [
        {
          "output_type": "stream",
          "name": "stdout",
          "text": [
            "[1, 5, 8, 6, 'Bangalore', 560068, 'Goa', 403603]\n",
            "[1, 5, 8, 6, 'Goa', 560068, 'Bangalore', 403603]\n"
          ]
        }
      ]
    },
    {
      "cell_type": "code",
      "source": [
        "list1 = [1,5,8,6,'Bangalore', 560068, 'Goa', 403603]\n",
        "print(list1)\n",
        "print(list1[4:7][::-1])\n",
        "list1[4:7]= list1[4:7][::-1]\n",
        "print(list1)"
      ],
      "metadata": {
        "colab": {
          "base_uri": "https://localhost:8080/"
        },
        "id": "GOgsLwtlKjnJ",
        "outputId": "93e67d06-8f5c-437e-cfa9-71b4e76dbbef"
      },
      "execution_count": null,
      "outputs": [
        {
          "output_type": "stream",
          "name": "stdout",
          "text": [
            "[1, 5, 8, 6, 'Bangalore', 560068, 'Goa', 403603]\n",
            "['Goa', 560068, 'Bangalore']\n"
          ]
        }
      ]
    },
    {
      "cell_type": "code",
      "source": [
        "list1=[2,'ExcelR',1,4,5,3,'Science',6,9,8,7,'Data']\n",
        "print(list1)\n",
        "list1.sort()"
      ],
      "metadata": {
        "colab": {
          "base_uri": "https://localhost:8080/",
          "height": 198
        },
        "id": "5lzdcj-rlD8J",
        "outputId": "14d4fd5d-5396-4160-bc8d-e735e0edacf8"
      },
      "execution_count": null,
      "outputs": [
        {
          "output_type": "stream",
          "name": "stdout",
          "text": [
            "[2, 'ExcelR', 1, 4, 5, 3, 'Science', 6, 9, 8, 7, 'Data']\n"
          ]
        },
        {
          "output_type": "error",
          "ename": "TypeError",
          "evalue": "'<' not supported between instances of 'str' and 'int'",
          "traceback": [
            "\u001b[0;31m---------------------------------------------------------------------------\u001b[0m",
            "\u001b[0;31mTypeError\u001b[0m                                 Traceback (most recent call last)",
            "\u001b[0;32m<ipython-input-22-632d98574f6b>\u001b[0m in \u001b[0;36m<cell line: 3>\u001b[0;34m()\u001b[0m\n\u001b[1;32m      1\u001b[0m \u001b[0mlist1\u001b[0m\u001b[0;34m=\u001b[0m\u001b[0;34m[\u001b[0m\u001b[0;36m2\u001b[0m\u001b[0;34m,\u001b[0m\u001b[0;34m'ExcelR'\u001b[0m\u001b[0;34m,\u001b[0m\u001b[0;36m1\u001b[0m\u001b[0;34m,\u001b[0m\u001b[0;36m4\u001b[0m\u001b[0;34m,\u001b[0m\u001b[0;36m5\u001b[0m\u001b[0;34m,\u001b[0m\u001b[0;36m3\u001b[0m\u001b[0;34m,\u001b[0m\u001b[0;34m'Science'\u001b[0m\u001b[0;34m,\u001b[0m\u001b[0;36m6\u001b[0m\u001b[0;34m,\u001b[0m\u001b[0;36m9\u001b[0m\u001b[0;34m,\u001b[0m\u001b[0;36m8\u001b[0m\u001b[0;34m,\u001b[0m\u001b[0;36m7\u001b[0m\u001b[0;34m,\u001b[0m\u001b[0;34m'Data'\u001b[0m\u001b[0;34m]\u001b[0m\u001b[0;34m\u001b[0m\u001b[0;34m\u001b[0m\u001b[0m\n\u001b[1;32m      2\u001b[0m \u001b[0mprint\u001b[0m\u001b[0;34m(\u001b[0m\u001b[0mlist1\u001b[0m\u001b[0;34m)\u001b[0m\u001b[0;34m\u001b[0m\u001b[0;34m\u001b[0m\u001b[0m\n\u001b[0;32m----> 3\u001b[0;31m \u001b[0mlist1\u001b[0m\u001b[0;34m.\u001b[0m\u001b[0msort\u001b[0m\u001b[0;34m(\u001b[0m\u001b[0;34m)\u001b[0m\u001b[0;34m\u001b[0m\u001b[0;34m\u001b[0m\u001b[0m\n\u001b[0m",
            "\u001b[0;31mTypeError\u001b[0m: '<' not supported between instances of 'str' and 'int'"
          ]
        }
      ]
    },
    {
      "cell_type": "code",
      "source": [
        "list1=[2,1,4,5,3,6,9,8,7]\n",
        "print(list1)\n",
        "list1.sort()\n",
        "print(list1)"
      ],
      "metadata": {
        "colab": {
          "base_uri": "https://localhost:8080/"
        },
        "id": "R8dteqnrmJBH",
        "outputId": "9f0f8e90-e970-46de-a38d-267c4cda1df4"
      },
      "execution_count": null,
      "outputs": [
        {
          "output_type": "stream",
          "name": "stdout",
          "text": [
            "[2, 1, 4, 5, 3, 6, 9, 8, 7]\n",
            "[1, 2, 3, 4, 5, 6, 7, 8, 9]\n"
          ]
        }
      ]
    },
    {
      "cell_type": "code",
      "source": [
        "list1=[2,1,4,5,3,6,9,8,7]\n",
        "print(list1)\n",
        "list1.sort(reverse=True)\n",
        "print(list1)"
      ],
      "metadata": {
        "colab": {
          "base_uri": "https://localhost:8080/"
        },
        "id": "Lzt2cQlmmnFw",
        "outputId": "04ec2b0c-d266-4f48-81ff-2f38f90ac54d"
      },
      "execution_count": null,
      "outputs": [
        {
          "output_type": "stream",
          "name": "stdout",
          "text": [
            "[2, 1, 4, 5, 3, 6, 9, 8, 7]\n",
            "[9, 8, 7, 6, 5, 4, 3, 2, 1]\n"
          ]
        }
      ]
    },
    {
      "cell_type": "code",
      "source": [
        "list1 = ['Rahul', 'Harsh', 'Abhishek', 'Bhavna', 'Rishi', 'Anchal', 'Saurabh', 'Nikhil']\n",
        "print(list1)\n",
        "list1.sort()\n",
        "print(list1)\n",
        "list1.sort(reverse=True)\n",
        "print(list1)"
      ],
      "metadata": {
        "colab": {
          "base_uri": "https://localhost:8080/"
        },
        "id": "QL1E8eELmjuc",
        "outputId": "fea1055d-3436-443c-bcdb-efd7dfbc3506"
      },
      "execution_count": null,
      "outputs": [
        {
          "output_type": "stream",
          "name": "stdout",
          "text": [
            "['Rahul', 'Harsh', 'Abhishek', 'Bhavna', 'Rishi', 'Anchal', 'Saurabh', 'Nikhil']\n",
            "['Abhishek', 'Anchal', 'Bhavna', 'Harsh', 'Nikhil', 'Rahul', 'Rishi', 'Saurabh']\n",
            "['Saurabh', 'Rishi', 'Rahul', 'Nikhil', 'Harsh', 'Bhavna', 'Anchal', 'Abhishek']\n"
          ]
        }
      ]
    },
    {
      "cell_type": "code",
      "source": [
        "list1 = ['Rahul', 'Harsh', 'abhishek', 'Bhavna', 'rishi', 'Anchal', 'Saurabh', 'nikhil']\n",
        "print(list1)\n",
        "list1.sort()\n",
        "print(list1)\n",
        "list1.sort(reverse=True)\n",
        "print(list1)"
      ],
      "metadata": {
        "colab": {
          "base_uri": "https://localhost:8080/"
        },
        "id": "JM0YWTRon5gt",
        "outputId": "d797c484-d39c-42f6-ca6a-7486d86354cf"
      },
      "execution_count": null,
      "outputs": [
        {
          "output_type": "stream",
          "name": "stdout",
          "text": [
            "['Rahul', 'Harsh', 'abhishek', 'Bhavna', 'rishi', 'Anchal', 'Saurabh', 'nikhil']\n",
            "['Anchal', 'Bhavna', 'Harsh', 'Rahul', 'Saurabh', 'abhishek', 'nikhil', 'rishi']\n",
            "['rishi', 'nikhil', 'abhishek', 'Saurabh', 'Rahul', 'Harsh', 'Bhavna', 'Anchal']\n"
          ]
        }
      ]
    },
    {
      "cell_type": "code",
      "source": [
        "list1=[2,'ExcelR',1,4,5,3,'Science',6,9,8,7,'Data']\n",
        "list2=[7,2,'Bangalore', 'Goa', 'Mysore',12.3,7.6]\n",
        "print(list1)\n",
        "print(list2)\n",
        "list1.extend(list2)\n",
        "print('------------After Extending---------------')\n",
        "print(list1)\n",
        "print(list2)"
      ],
      "metadata": {
        "colab": {
          "base_uri": "https://localhost:8080/"
        },
        "id": "MaXP3CRXojQ9",
        "outputId": "e2b3efc6-bbcb-4654-d603-907be5561add"
      },
      "execution_count": null,
      "outputs": [
        {
          "output_type": "stream",
          "name": "stdout",
          "text": [
            "[2, 'ExcelR', 1, 4, 5, 3, 'Science', 6, 9, 8, 7, 'Data']\n",
            "[7, 2, 'Bangalore', 'Goa', 'Mysore', 12.3, 7.6]\n",
            "------------After Extending---------------\n",
            "[2, 'ExcelR', 1, 4, 5, 3, 'Science', 6, 9, 8, 7, 'Data', 7, 2, 'Bangalore', 'Goa', 'Mysore', 12.3, 7.6]\n",
            "[7, 2, 'Bangalore', 'Goa', 'Mysore', 12.3, 7.6]\n"
          ]
        }
      ]
    },
    {
      "cell_type": "code",
      "source": [
        "list1=[2,'ExcelR',1,4,5,3,'Science',6,9,8,7,'Data']\n",
        "list2=[7,2,'Bangalore', 'Goa', 'Mysore',12.3,7.6]\n",
        "print(list1)\n",
        "print(list2)\n",
        "list2.extend(list1)\n",
        "print('------------After Extending---------------')\n",
        "print(list1)\n",
        "print(list2)"
      ],
      "metadata": {
        "colab": {
          "base_uri": "https://localhost:8080/"
        },
        "id": "VQXrxSSxtROK",
        "outputId": "a0316ad5-53dd-40b3-85e8-58c90db21912"
      },
      "execution_count": null,
      "outputs": [
        {
          "output_type": "stream",
          "name": "stdout",
          "text": [
            "[2, 'ExcelR', 1, 4, 5, 3, 'Science', 6, 9, 8, 7, 'Data']\n",
            "[7, 2, 'Bangalore', 'Goa', 'Mysore', 12.3, 7.6]\n",
            "------------After Extending---------------\n",
            "[2, 'ExcelR', 1, 4, 5, 3, 'Science', 6, 9, 8, 7, 'Data']\n",
            "[7, 2, 'Bangalore', 'Goa', 'Mysore', 12.3, 7.6, 2, 'ExcelR', 1, 4, 5, 3, 'Science', 6, 9, 8, 7, 'Data']\n"
          ]
        }
      ]
    },
    {
      "cell_type": "code",
      "source": [
        "list1= [5,2,1,4,5]\n",
        "print(list1)\n",
        "list1.extend([6,4,1,2])\n",
        "print(list1)\n",
        "list1.append([6,4,1,2])\n",
        "print(list1)"
      ],
      "metadata": {
        "colab": {
          "base_uri": "https://localhost:8080/"
        },
        "id": "hrAHHSZltkDo",
        "outputId": "e7b5ba85-d3b1-4438-9fe4-f50c47c8ad91"
      },
      "execution_count": null,
      "outputs": [
        {
          "output_type": "stream",
          "name": "stdout",
          "text": [
            "[5, 2, 1, 4, 5]\n",
            "[5, 2, 1, 4, 5, 6, 4, 1, 2]\n",
            "[5, 2, 1, 4, 5, 6, 4, 1, 2, [6, 4, 1, 2]]\n"
          ]
        }
      ]
    },
    {
      "cell_type": "code",
      "source": [
        "[4,9,6,3,2,5] + [7,4,1,5,8,9]"
      ],
      "metadata": {
        "colab": {
          "base_uri": "https://localhost:8080/"
        },
        "id": "00qepnSfuFfm",
        "outputId": "e29f377a-1b74-494c-f52f-594be26c6406"
      },
      "execution_count": null,
      "outputs": [
        {
          "output_type": "execute_result",
          "data": {
            "text/plain": [
              "[4, 9, 6, 3, 2, 5, 7, 4, 1, 5, 8, 9]"
            ]
          },
          "metadata": {},
          "execution_count": 32
        }
      ]
    },
    {
      "cell_type": "code",
      "source": [
        "#To get the frequency of an element in a list\n",
        "list1=[2,'ExcelR',1,4,5,'Science',4, 9, 'Science',6, 3, 2, 5, 7, 9,3,'Science',6,9,8,7,'Data']\n",
        "list1.count('Science')"
      ],
      "metadata": {
        "colab": {
          "base_uri": "https://localhost:8080/"
        },
        "id": "Ui-KBB0GubfS",
        "outputId": "4c9d38c8-ac1b-4fec-f74e-b6e2ab3a0e72"
      },
      "execution_count": null,
      "outputs": [
        {
          "output_type": "execute_result",
          "data": {
            "text/plain": [
              "3"
            ]
          },
          "metadata": {},
          "execution_count": 33
        }
      ]
    },
    {
      "cell_type": "code",
      "source": [
        "list1.count(4)"
      ],
      "metadata": {
        "colab": {
          "base_uri": "https://localhost:8080/"
        },
        "id": "B3CiydHxt3gv",
        "outputId": "36748704-f60c-481d-828b-ceadc7fd222c"
      },
      "execution_count": null,
      "outputs": [
        {
          "output_type": "execute_result",
          "data": {
            "text/plain": [
              "2"
            ]
          },
          "metadata": {},
          "execution_count": 34
        }
      ]
    },
    {
      "cell_type": "code",
      "source": [
        "#To get the total number of elements in the list\n",
        "len(list1)"
      ],
      "metadata": {
        "colab": {
          "base_uri": "https://localhost:8080/"
        },
        "id": "3rFsdz0Nwv3-",
        "outputId": "9ac2f1b2-984f-4a97-d99e-36b944833866"
      },
      "execution_count": null,
      "outputs": [
        {
          "output_type": "execute_result",
          "data": {
            "text/plain": [
              "22"
            ]
          },
          "metadata": {},
          "execution_count": 35
        }
      ]
    },
    {
      "cell_type": "code",
      "source": [
        "list1=[2,'ExcelR',1,4,5,'Science',4, 9, 'Science',6, 3, 2, 5, 7]\n",
        "list1.index('Science')"
      ],
      "metadata": {
        "colab": {
          "base_uri": "https://localhost:8080/"
        },
        "id": "rFpQVw5Wx7Xi",
        "outputId": "e691d5d9-387f-44ee-e541-b419e26e80bf"
      },
      "execution_count": null,
      "outputs": [
        {
          "output_type": "execute_result",
          "data": {
            "text/plain": [
              "5"
            ]
          },
          "metadata": {},
          "execution_count": 36
        }
      ]
    },
    {
      "cell_type": "code",
      "source": [
        "# What is the index of the element 'Science' in the index range of 7 to 11\n",
        "list1=[2,'ExcelR',1,4,5,'Science',4, 9, 'Science',6, 3, 2, 5, 7]\n",
        "print(list1[7:12])\n",
        "list1.index('Science', 7, 12)"
      ],
      "metadata": {
        "colab": {
          "base_uri": "https://localhost:8080/"
        },
        "id": "038_8OjGw71G",
        "outputId": "9363227f-33f8-47ea-b41a-13dfe28f8540"
      },
      "execution_count": null,
      "outputs": [
        {
          "output_type": "stream",
          "name": "stdout",
          "text": [
            "[9, 'Science', 6, 3, 2]\n"
          ]
        },
        {
          "output_type": "execute_result",
          "data": {
            "text/plain": [
              "8"
            ]
          },
          "metadata": {},
          "execution_count": 38
        }
      ]
    },
    {
      "cell_type": "code",
      "source": [
        "list1.index('Data', 7, 12)"
      ],
      "metadata": {
        "colab": {
          "base_uri": "https://localhost:8080/",
          "height": 144
        },
        "id": "Rli9hVxDmJOz",
        "outputId": "d40e67ac-7724-40a7-949b-9fa5ea2d570a"
      },
      "execution_count": null,
      "outputs": [
        {
          "output_type": "error",
          "ename": "ValueError",
          "evalue": "'Data' is not in list",
          "traceback": [
            "\u001b[0;31m---------------------------------------------------------------------------\u001b[0m",
            "\u001b[0;31mValueError\u001b[0m                                Traceback (most recent call last)",
            "\u001b[0;32m<ipython-input-39-e79985b9bea3>\u001b[0m in \u001b[0;36m<cell line: 1>\u001b[0;34m()\u001b[0m\n\u001b[0;32m----> 1\u001b[0;31m \u001b[0mlist1\u001b[0m\u001b[0;34m.\u001b[0m\u001b[0mindex\u001b[0m\u001b[0;34m(\u001b[0m\u001b[0;34m'Data'\u001b[0m\u001b[0;34m,\u001b[0m \u001b[0;36m7\u001b[0m\u001b[0;34m,\u001b[0m \u001b[0;36m12\u001b[0m\u001b[0;34m)\u001b[0m\u001b[0;34m\u001b[0m\u001b[0;34m\u001b[0m\u001b[0m\n\u001b[0m",
            "\u001b[0;31mValueError\u001b[0m: 'Data' is not in list"
          ]
        }
      ]
    },
    {
      "cell_type": "code",
      "source": [
        "list1=[2,'ExcelR',1,4,5,'Science',4, 9, 'Science',6, 3, 2, 5, 7]\n",
        "print(list1)\n",
        "list1.clear()\n",
        "print(list1)"
      ],
      "metadata": {
        "colab": {
          "base_uri": "https://localhost:8080/"
        },
        "id": "tbMeauTi0GDC",
        "outputId": "b4c14e45-96d6-47f2-c472-cf6782b5b16c"
      },
      "execution_count": null,
      "outputs": [
        {
          "output_type": "stream",
          "name": "stdout",
          "text": [
            "[2, 'ExcelR', 1, 4, 5, 'Science', 4, 9, 'Science', 6, 3, 2, 5, 7]\n",
            "[]\n"
          ]
        }
      ]
    },
    {
      "cell_type": "code",
      "source": [
        "list1=[2,'ExcelR',1,4,5,'Science',4, 9, 'Science',6, 3, 2, 5, 7]\n",
        "print('list1 is', list1)\n",
        "print(id(list1))\n",
        "list2 = list1.copy()\n",
        "print('list2 is',list2)\n",
        "print(id(list2))"
      ],
      "metadata": {
        "colab": {
          "base_uri": "https://localhost:8080/"
        },
        "id": "0PtMUA1B0Uz4",
        "outputId": "9da96fcf-c343-4578-b553-cdd40eb7a441"
      },
      "execution_count": null,
      "outputs": [
        {
          "output_type": "stream",
          "name": "stdout",
          "text": [
            "list1 is [2, 'ExcelR', 1, 4, 5, 'Science', 4, 9, 'Science', 6, 3, 2, 5, 7]\n",
            "139569711034432\n",
            "list2 is [2, 'ExcelR', 1, 4, 5, 'Science', 4, 9, 'Science', 6, 3, 2, 5, 7]\n",
            "139569711036736\n"
          ]
        }
      ]
    },
    {
      "cell_type": "code",
      "source": [
        "print(list1)\n",
        "print(list2)\n",
        "list1.insert(3, 'Bangalore')\n",
        "print(list1)\n",
        "print(list2)"
      ],
      "metadata": {
        "colab": {
          "base_uri": "https://localhost:8080/"
        },
        "id": "uolOjrbr1lck",
        "outputId": "a97c84a5-2272-4545-d054-f1e0c4ea22e1"
      },
      "execution_count": null,
      "outputs": [
        {
          "output_type": "stream",
          "name": "stdout",
          "text": [
            "[2, 'ExcelR', 1, 4, 5, 'Science', 4, 9, 'Science', 6, 3, 2, 5, 7]\n",
            "[2, 'ExcelR', 1, 4, 5, 'Science', 4, 9, 'Science', 6, 3, 2, 5, 7]\n",
            "[2, 'ExcelR', 1, 'Bangalore', 4, 5, 'Science', 4, 9, 'Science', 6, 3, 2, 5, 7]\n",
            "[2, 'ExcelR', 1, 4, 5, 'Science', 4, 9, 'Science', 6, 3, 2, 5, 7]\n"
          ]
        }
      ]
    },
    {
      "cell_type": "code",
      "source": [
        "list1=[2,'ExcelR',1,4,5,'Science',4, 9, 'Science',6, 3, 2, 5, 7]\n",
        "list3 = list1\n",
        "print('list3 is', list3)\n",
        "print(list1)\n",
        "print(list3)\n",
        "print(id(list1))\n",
        "print(id(list3))\n",
        "list1.insert(3, 'Bangalore')\n",
        "print(list1)\n",
        "print(list3)"
      ],
      "metadata": {
        "colab": {
          "base_uri": "https://localhost:8080/"
        },
        "id": "5SoB3bAD012j",
        "outputId": "73ad67c2-9ca5-4592-a4d0-8a157fce0b29"
      },
      "execution_count": null,
      "outputs": [
        {
          "output_type": "stream",
          "name": "stdout",
          "text": [
            "list3 is [2, 'ExcelR', 1, 4, 5, 'Science', 4, 9, 'Science', 6, 3, 2, 5, 7]\n",
            "[2, 'ExcelR', 1, 4, 5, 'Science', 4, 9, 'Science', 6, 3, 2, 5, 7]\n",
            "[2, 'ExcelR', 1, 4, 5, 'Science', 4, 9, 'Science', 6, 3, 2, 5, 7]\n",
            "139569711033024\n",
            "139569711033024\n",
            "[2, 'ExcelR', 1, 'Bangalore', 4, 5, 'Science', 4, 9, 'Science', 6, 3, 2, 5, 7]\n",
            "[2, 'ExcelR', 1, 'Bangalore', 4, 5, 'Science', 4, 9, 'Science', 6, 3, 2, 5, 7]\n"
          ]
        }
      ]
    },
    {
      "cell_type": "code",
      "source": [
        "list1 = [2,5,8,9,6,3,4]\n",
        "5 in list1"
      ],
      "metadata": {
        "id": "pAffHoeX2caz",
        "colab": {
          "base_uri": "https://localhost:8080/"
        },
        "outputId": "d81d1eff-6e10-4915-d320-22242cf8518e"
      },
      "execution_count": null,
      "outputs": [
        {
          "output_type": "execute_result",
          "data": {
            "text/plain": [
              "True"
            ]
          },
          "metadata": {},
          "execution_count": 1
        }
      ]
    },
    {
      "cell_type": "code",
      "source": [
        "11 in list1"
      ],
      "metadata": {
        "id": "rygNAgOx1iWW",
        "colab": {
          "base_uri": "https://localhost:8080/"
        },
        "outputId": "bfc5bb74-ada9-48f6-cb50-a1df16123926"
      },
      "execution_count": null,
      "outputs": [
        {
          "output_type": "execute_result",
          "data": {
            "text/plain": [
              "False"
            ]
          },
          "metadata": {},
          "execution_count": 2
        }
      ]
    },
    {
      "cell_type": "code",
      "source": [
        "8 not in list1"
      ],
      "metadata": {
        "id": "EOsejCIa1bIg",
        "colab": {
          "base_uri": "https://localhost:8080/"
        },
        "outputId": "a3bdc01b-6904-48c0-880c-14b3f326b019"
      },
      "execution_count": null,
      "outputs": [
        {
          "output_type": "execute_result",
          "data": {
            "text/plain": [
              "False"
            ]
          },
          "metadata": {},
          "execution_count": 3
        }
      ]
    },
    {
      "cell_type": "code",
      "source": [
        "12 not in list1"
      ],
      "metadata": {
        "id": "ZpMqF3mf0PWU",
        "colab": {
          "base_uri": "https://localhost:8080/"
        },
        "outputId": "932e8e0a-70db-4d6d-af67-06af2e10f581"
      },
      "execution_count": null,
      "outputs": [
        {
          "output_type": "execute_result",
          "data": {
            "text/plain": [
              "True"
            ]
          },
          "metadata": {},
          "execution_count": 4
        }
      ]
    },
    {
      "cell_type": "markdown",
      "source": [
        "# Tuple\n",
        "\n",
        "Tuple is an immutable data structure. So once a tuple is created, we cannot make any modifications to it, like adding elements, deleting elements or even replacing elements."
      ],
      "metadata": {
        "id": "KXQNAEW76kZS"
      }
    },
    {
      "cell_type": "code",
      "source": [
        "tup1 = (4,8,9,12.4,78.5, True, False, 5+6j, 8j, 'Data', 'Bangalore')\n",
        "tup1"
      ],
      "metadata": {
        "id": "r4oSS-V0zsbc",
        "colab": {
          "base_uri": "https://localhost:8080/"
        },
        "outputId": "1c8e4a60-7794-44f2-d3f2-d9a4f14bf1a6"
      },
      "execution_count": null,
      "outputs": [
        {
          "output_type": "execute_result",
          "data": {
            "text/plain": [
              "(4, 8, 9, 12.4, 78.5, True, False, (5+6j), 8j, 'Data', 'Bangalore')"
            ]
          },
          "metadata": {},
          "execution_count": 5
        }
      ]
    },
    {
      "cell_type": "code",
      "source": [
        "tup1[3]"
      ],
      "metadata": {
        "colab": {
          "base_uri": "https://localhost:8080/"
        },
        "id": "KO83wtzi7f4C",
        "outputId": "7996d430-e1d3-4d2a-c56f-3f6e050b6658"
      },
      "execution_count": null,
      "outputs": [
        {
          "output_type": "execute_result",
          "data": {
            "text/plain": [
              "12.4"
            ]
          },
          "metadata": {},
          "execution_count": 8
        }
      ]
    },
    {
      "cell_type": "code",
      "source": [
        "tup1[3]= 'Modified Value'"
      ],
      "metadata": {
        "id": "P081C1j2mJea",
        "colab": {
          "base_uri": "https://localhost:8080/",
          "height": 144
        },
        "outputId": "bc6d8d93-abc0-4e3c-8764-cc5005b2f1a7"
      },
      "execution_count": null,
      "outputs": [
        {
          "output_type": "error",
          "ename": "TypeError",
          "evalue": "'tuple' object does not support item assignment",
          "traceback": [
            "\u001b[0;31m---------------------------------------------------------------------------\u001b[0m",
            "\u001b[0;31mTypeError\u001b[0m                                 Traceback (most recent call last)",
            "\u001b[0;32m<ipython-input-9-bfa7f2b62d22>\u001b[0m in \u001b[0;36m<cell line: 1>\u001b[0;34m()\u001b[0m\n\u001b[0;32m----> 1\u001b[0;31m \u001b[0mtup1\u001b[0m\u001b[0;34m[\u001b[0m\u001b[0;36m3\u001b[0m\u001b[0;34m]\u001b[0m\u001b[0;34m=\u001b[0m \u001b[0;34m'Modified Value'\u001b[0m\u001b[0;34m\u001b[0m\u001b[0;34m\u001b[0m\u001b[0m\n\u001b[0m",
            "\u001b[0;31mTypeError\u001b[0m: 'tuple' object does not support item assignment"
          ]
        }
      ]
    },
    {
      "cell_type": "code",
      "source": [
        "tup1= (5,2,3,4,8,9,6,3,5,7,4,1,2)\n",
        "#To find the frequency of the value 3 in the tuple\n",
        "tup1.count(3)"
      ],
      "metadata": {
        "colab": {
          "base_uri": "https://localhost:8080/"
        },
        "id": "4jSoVWV67UYD",
        "outputId": "de4f05a2-63c7-4ef5-f766-1dcf6b8d2642"
      },
      "execution_count": null,
      "outputs": [
        {
          "output_type": "execute_result",
          "data": {
            "text/plain": [
              "2"
            ]
          },
          "metadata": {},
          "execution_count": 10
        }
      ]
    },
    {
      "cell_type": "code",
      "source": [
        "#To find the frequency of the value 2 in the tuple\n",
        "tup1.count(2)"
      ],
      "metadata": {
        "id": "vJZv-xzBiZM-",
        "colab": {
          "base_uri": "https://localhost:8080/"
        },
        "outputId": "fc159e6c-fd20-4c17-ceee-0e8e16598775"
      },
      "execution_count": null,
      "outputs": [
        {
          "output_type": "execute_result",
          "data": {
            "text/plain": [
              "2"
            ]
          },
          "metadata": {},
          "execution_count": 11
        }
      ]
    },
    {
      "cell_type": "code",
      "source": [
        "#To find the index of the value 9 in the tuple\n",
        "tup1.index(9)"
      ],
      "metadata": {
        "id": "htn4NqgbgBif",
        "colab": {
          "base_uri": "https://localhost:8080/"
        },
        "outputId": "2f128994-9d4b-48d6-a65d-c47e3aa62292"
      },
      "execution_count": null,
      "outputs": [
        {
          "output_type": "execute_result",
          "data": {
            "text/plain": [
              "5"
            ]
          },
          "metadata": {},
          "execution_count": 13
        }
      ]
    },
    {
      "cell_type": "code",
      "source": [
        "print(tup1)\n",
        "tup1[2:9]"
      ],
      "metadata": {
        "colab": {
          "base_uri": "https://localhost:8080/"
        },
        "id": "cJk-8ems8iQs",
        "outputId": "7594479d-870d-4f55-b169-5970abbf52dc"
      },
      "execution_count": null,
      "outputs": [
        {
          "output_type": "stream",
          "name": "stdout",
          "text": [
            "(5, 2, 3, 4, 8, 9, 6, 3, 5, 7, 4, 1, 2)\n"
          ]
        },
        {
          "output_type": "execute_result",
          "data": {
            "text/plain": [
              "(3, 4, 8, 9, 6, 3, 5)"
            ]
          },
          "metadata": {},
          "execution_count": 17
        }
      ]
    },
    {
      "cell_type": "code",
      "source": [
        "tup1[2:9:2]"
      ],
      "metadata": {
        "colab": {
          "base_uri": "https://localhost:8080/"
        },
        "id": "I-mlorY59Viz",
        "outputId": "0d8e50bf-ae66-4c87-efa1-e9910aa52169"
      },
      "execution_count": null,
      "outputs": [
        {
          "output_type": "execute_result",
          "data": {
            "text/plain": [
              "(3, 8, 6, 5)"
            ]
          },
          "metadata": {},
          "execution_count": 18
        }
      ]
    },
    {
      "cell_type": "code",
      "source": [
        "tup1 = (6)\n",
        "print(tup1)\n",
        "type(tup1)"
      ],
      "metadata": {
        "colab": {
          "base_uri": "https://localhost:8080/"
        },
        "id": "TgBQba7d97ij",
        "outputId": "46c9ece2-8cf7-4598-94e5-8f76dc0b6b3a"
      },
      "execution_count": null,
      "outputs": [
        {
          "output_type": "stream",
          "name": "stdout",
          "text": [
            "6\n"
          ]
        },
        {
          "output_type": "execute_result",
          "data": {
            "text/plain": [
              "int"
            ]
          },
          "metadata": {},
          "execution_count": 19
        }
      ]
    },
    {
      "cell_type": "code",
      "source": [
        "tup1 = (6,)\n",
        "print(tup1)\n",
        "type(tup1)"
      ],
      "metadata": {
        "colab": {
          "base_uri": "https://localhost:8080/"
        },
        "id": "g5CqHncP-EKC",
        "outputId": "83657674-b2c0-4157-d28f-094574dd02bd"
      },
      "execution_count": null,
      "outputs": [
        {
          "output_type": "stream",
          "name": "stdout",
          "text": [
            "(6,)\n"
          ]
        },
        {
          "output_type": "execute_result",
          "data": {
            "text/plain": [
              "tuple"
            ]
          },
          "metadata": {},
          "execution_count": 20
        }
      ]
    },
    {
      "cell_type": "code",
      "source": [
        "tup1 = (5,7,8,9,6,3)\n",
        "tup2 = (4,1,2,5,6)\n",
        "tup3 = tup1 + tup2\n",
        "print(tup1)\n",
        "print(tup2)\n",
        "print(tup3)"
      ],
      "metadata": {
        "colab": {
          "base_uri": "https://localhost:8080/"
        },
        "id": "NQU4XQpW-Hp8",
        "outputId": "c11bb66f-e022-43e4-d547-5f8ebedad2e1"
      },
      "execution_count": null,
      "outputs": [
        {
          "output_type": "stream",
          "name": "stdout",
          "text": [
            "(5, 7, 8, 9, 6, 3)\n",
            "(4, 1, 2, 5, 6)\n",
            "(5, 7, 8, 9, 6, 3, 4, 1, 2, 5, 6)\n"
          ]
        }
      ]
    },
    {
      "cell_type": "code",
      "source": [
        "min(tup3)"
      ],
      "metadata": {
        "colab": {
          "base_uri": "https://localhost:8080/"
        },
        "id": "HmWqKx7M-6RJ",
        "outputId": "3a60eab4-92ca-4d8b-ac5c-433897c7b3ef"
      },
      "execution_count": null,
      "outputs": [
        {
          "output_type": "execute_result",
          "data": {
            "text/plain": [
              "1"
            ]
          },
          "metadata": {},
          "execution_count": 22
        }
      ]
    },
    {
      "cell_type": "code",
      "source": [
        "max(tup3)"
      ],
      "metadata": {
        "id": "5Ja_rhbve4vO",
        "colab": {
          "base_uri": "https://localhost:8080/"
        },
        "outputId": "084f8b99-5c36-47bf-d1c9-bf36ac790c10"
      },
      "execution_count": null,
      "outputs": [
        {
          "output_type": "execute_result",
          "data": {
            "text/plain": [
              "9"
            ]
          },
          "metadata": {},
          "execution_count": 23
        }
      ]
    },
    {
      "cell_type": "code",
      "source": [
        "print(tup1)\n",
        "tup1 * 3"
      ],
      "metadata": {
        "colab": {
          "base_uri": "https://localhost:8080/"
        },
        "id": "JmpZJhi5_s4e",
        "outputId": "f01fdfd2-acf5-4822-b425-163222a25ea1"
      },
      "execution_count": null,
      "outputs": [
        {
          "output_type": "stream",
          "name": "stdout",
          "text": [
            "(5, 7, 8, 9, 6, 3)\n"
          ]
        },
        {
          "output_type": "execute_result",
          "data": {
            "text/plain": [
              "(5, 7, 8, 9, 6, 3, 5, 7, 8, 9, 6, 3, 5, 7, 8, 9, 6, 3)"
            ]
          },
          "metadata": {},
          "execution_count": 25
        }
      ]
    },
    {
      "cell_type": "markdown",
      "source": [
        "# Dictionary\n",
        "\n",
        "Dictionary will always accept elements as a key & value pair, where the key & value are displayed with a colon between them:\n",
        "\n",
        "key:value\n",
        "\n",
        "We cannot have duplicated key, but values can be duplicated.\n",
        "\n",
        "|Method|Description|\n",
        "|------|-----------|\n",
        "|clear()|Removes all the elements from the dictionary|\n",
        "|copy()|Returns a copy of the dictionary|\n",
        "|fromkeys()|Returns a dictionary with the specified keys and value|\n",
        "|get()|Returns the value of the specified key|\n",
        "|items()|Returns a list containing a tuple for each key value pair|\n",
        "|keys()|Returns a list containing the dictionary's keys|\n",
        "|pop()|Removes the element with the specified key|\n",
        "|popitem()|Removes the last inserted key-value pair|\n",
        "|setdefault()|Returns the value of the specified key. If the key does not exist: insert the key, with the specified value|\n",
        "|update()|Updates the dictionary with the specified key-value pairs|\n",
        "|values()|Returns a list of all the values in the dictionary|"
      ],
      "metadata": {
        "id": "uCiYGUnrA7jg"
      }
    },
    {
      "cell_type": "code",
      "source": [
        "dict1 = {'Name' : 'ExcelR', 'Building' : 'Safeway Plaza', 'Floor': 3,\n",
        "         'Area' : 'BTM Layout', 'Name': 'ExcelR Edtech', 'No. of Buildings' : 3}\n",
        "dict1"
      ],
      "metadata": {
        "id": "nqlLgYh5VpSR",
        "colab": {
          "base_uri": "https://localhost:8080/"
        },
        "outputId": "81f61d8d-5d73-448b-852d-50d9cdb3b9be"
      },
      "execution_count": null,
      "outputs": [
        {
          "output_type": "execute_result",
          "data": {
            "text/plain": [
              "{'Name': 'ExcelR Edtech',\n",
              " 'Building': 'Safeway Plaza',\n",
              " 'Floor': 3,\n",
              " 'Area': 'BTM Layout',\n",
              " 'No. of Classrooms': 3}"
            ]
          },
          "metadata": {},
          "execution_count": 27
        }
      ]
    },
    {
      "cell_type": "code",
      "source": [
        "type(dict1)"
      ],
      "metadata": {
        "colab": {
          "base_uri": "https://localhost:8080/"
        },
        "id": "nlZIOHDxC3E-",
        "outputId": "ecb32ca6-fc81-4608-bda3-6f997204f14b"
      },
      "execution_count": null,
      "outputs": [
        {
          "output_type": "execute_result",
          "data": {
            "text/plain": [
              "dict"
            ]
          },
          "metadata": {},
          "execution_count": 29
        }
      ]
    },
    {
      "cell_type": "code",
      "source": [
        "dict2= {}\n",
        "type(dict2)"
      ],
      "metadata": {
        "colab": {
          "base_uri": "https://localhost:8080/"
        },
        "id": "geP-Na5_CH5t",
        "outputId": "7278b370-0e07-43fe-d470-2122edf07463"
      },
      "execution_count": null,
      "outputs": [
        {
          "output_type": "execute_result",
          "data": {
            "text/plain": [
              "dict"
            ]
          },
          "metadata": {},
          "execution_count": 30
        }
      ]
    },
    {
      "cell_type": "code",
      "source": [
        "a = {4,5,6,3,2,1}\n",
        "type(a)"
      ],
      "metadata": {
        "colab": {
          "base_uri": "https://localhost:8080/"
        },
        "id": "1JsZjG6hDagC",
        "outputId": "6fdf23fc-437d-4727-e9af-3f3b9b6bef3a"
      },
      "execution_count": null,
      "outputs": [
        {
          "output_type": "execute_result",
          "data": {
            "text/plain": [
              "set"
            ]
          },
          "metadata": {},
          "execution_count": 31
        }
      ]
    },
    {
      "cell_type": "code",
      "source": [
        "dict1 = {'Name' : 'ExcelR', 'Building' : 'Safeway Plaza', 'Floor': 3, 'Area' : 'BTM Layout'}\n",
        "print(dict1)\n",
        "dict1['City'] = 'Bangalore'\n",
        "print(dict1)\n",
        "dict1['State'] = 'Karnataka'\n",
        "print(dict1)"
      ],
      "metadata": {
        "colab": {
          "base_uri": "https://localhost:8080/"
        },
        "id": "MOZ3Bd2ODgtk",
        "outputId": "fef21704-de70-432b-9a90-8312591a385b"
      },
      "execution_count": null,
      "outputs": [
        {
          "output_type": "stream",
          "name": "stdout",
          "text": [
            "{'Name': 'ExcelR', 'Building': 'Safeway Plaza', 'Floor': 3, 'Area': 'BTM Layout'}\n",
            "{'Name': 'ExcelR', 'Building': 'Safeway Plaza', 'Floor': 3, 'Area': 'BTM Layout', 'City': 'Bangalore'}\n",
            "{'Name': 'ExcelR', 'Building': 'Safeway Plaza', 'Floor': 3, 'Area': 'BTM Layout', 'City': 'Bangalore', 'State': 'Karnataka'}\n"
          ]
        }
      ]
    },
    {
      "cell_type": "code",
      "source": [
        "dict1['Building']"
      ],
      "metadata": {
        "colab": {
          "base_uri": "https://localhost:8080/",
          "height": 36
        },
        "id": "T2gtENIbEbRD",
        "outputId": "c5cab68e-1b8d-4773-fd41-570b5e77d60f"
      },
      "execution_count": null,
      "outputs": [
        {
          "output_type": "execute_result",
          "data": {
            "text/plain": [
              "'Safeway Plaza'"
            ],
            "application/vnd.google.colaboratory.intrinsic+json": {
              "type": "string"
            }
          },
          "metadata": {},
          "execution_count": 34
        }
      ]
    },
    {
      "cell_type": "code",
      "source": [
        "dict1.keys()"
      ],
      "metadata": {
        "colab": {
          "base_uri": "https://localhost:8080/"
        },
        "id": "7oF0H7a1C9Zc",
        "outputId": "8d9bbf1f-0d8b-4021-905d-256e2db74839"
      },
      "execution_count": null,
      "outputs": [
        {
          "output_type": "execute_result",
          "data": {
            "text/plain": [
              "dict_keys(['Name', 'Building', 'Floor', 'Area', 'City', 'State'])"
            ]
          },
          "metadata": {},
          "execution_count": 47
        }
      ]
    },
    {
      "cell_type": "code",
      "source": [
        "dict1.values()"
      ],
      "metadata": {
        "colab": {
          "base_uri": "https://localhost:8080/"
        },
        "id": "k1-B4FeHPYOO",
        "outputId": "8be02a40-cec6-461b-9086-6ca360baa6f9"
      },
      "execution_count": null,
      "outputs": [
        {
          "output_type": "execute_result",
          "data": {
            "text/plain": [
              "dict_values(['ExcelR', 'Safeway Plaza', 3, 'BTM Layout', 'Bangalore', 'Karnataka'])"
            ]
          },
          "metadata": {},
          "execution_count": 49
        }
      ]
    },
    {
      "cell_type": "code",
      "source": [
        "dict1['ExcelR']"
      ],
      "metadata": {
        "colab": {
          "base_uri": "https://localhost:8080/",
          "height": 144
        },
        "id": "JQKphjjUPgjo",
        "outputId": "4630a62e-9673-4c57-ab51-f66fba867ca0"
      },
      "execution_count": null,
      "outputs": [
        {
          "output_type": "error",
          "ename": "KeyError",
          "evalue": "'ExcelR'",
          "traceback": [
            "\u001b[0;31m---------------------------------------------------------------------------\u001b[0m",
            "\u001b[0;31mKeyError\u001b[0m                                  Traceback (most recent call last)",
            "\u001b[0;32m<ipython-input-50-16577dac45c2>\u001b[0m in \u001b[0;36m<cell line: 1>\u001b[0;34m()\u001b[0m\n\u001b[0;32m----> 1\u001b[0;31m \u001b[0mdict1\u001b[0m\u001b[0;34m[\u001b[0m\u001b[0;34m'ExcelR'\u001b[0m\u001b[0;34m]\u001b[0m\u001b[0;34m\u001b[0m\u001b[0;34m\u001b[0m\u001b[0m\n\u001b[0m",
            "\u001b[0;31mKeyError\u001b[0m: 'ExcelR'"
          ]
        }
      ]
    },
    {
      "cell_type": "code",
      "source": [
        "dict2 = {1 : [1,2,3], 2 : (4,5,6), 3 : {'Name': 'Neha', 'City': 'Banglore'}}\n",
        "dict2"
      ],
      "metadata": {
        "colab": {
          "base_uri": "https://localhost:8080/"
        },
        "id": "PPEnNrwOP3v8",
        "outputId": "a2420c9b-b10e-41bb-9bd6-9bce20d33af7"
      },
      "execution_count": null,
      "outputs": [
        {
          "output_type": "execute_result",
          "data": {
            "text/plain": [
              "{1: [1, 2, 3], 2: (4, 5, 6), 3: {'Name': 'Neha', 'City': 'Banglore'}}"
            ]
          },
          "metadata": {},
          "execution_count": 53
        }
      ]
    },
    {
      "cell_type": "code",
      "source": [
        "dict2[3]['Name']"
      ],
      "metadata": {
        "colab": {
          "base_uri": "https://localhost:8080/",
          "height": 36
        },
        "id": "SvRJ_m88QoZ5",
        "outputId": "e56a4050-6960-4d5e-c82e-3625048da3ee"
      },
      "execution_count": null,
      "outputs": [
        {
          "output_type": "execute_result",
          "data": {
            "text/plain": [
              "'Neha'"
            ],
            "application/vnd.google.colaboratory.intrinsic+json": {
              "type": "string"
            }
          },
          "metadata": {},
          "execution_count": 55
        }
      ]
    },
    {
      "cell_type": "code",
      "source": [
        "dict1={'Name': 'ExcelR', 'Building': 'Safeway Plaza', 'Floor': 3, 'Area': 'BTM Layout'}\n",
        "dict2={'Floor': 2 ,'City': 'Bangalore', 'State': 'Karnataka', 'Pincode': 560068}\n",
        "print(dict1)\n",
        "print(dict2)\n",
        "dict1.update(dict2)\n",
        "print(dict1)\n",
        "print(dict2)"
      ],
      "metadata": {
        "colab": {
          "base_uri": "https://localhost:8080/"
        },
        "id": "_fH6ez96RMJl",
        "outputId": "140781c2-0efc-43ec-b995-4f918d7f5137"
      },
      "execution_count": null,
      "outputs": [
        {
          "output_type": "stream",
          "name": "stdout",
          "text": [
            "{'Name': 'ExcelR', 'Building': 'Safeway Plaza', 'Floor': 3, 'Area': 'BTM Layout'}\n",
            "{'Floor': 2, 'City': 'Bangalore', 'State': 'Karnataka', 'Pincode': 560068}\n",
            "{'Name': 'ExcelR', 'Building': 'Safeway Plaza', 'Floor': 2, 'Area': 'BTM Layout', 'City': 'Bangalore', 'State': 'Karnataka', 'Pincode': 560068}\n",
            "{'Floor': 2, 'City': 'Bangalore', 'State': 'Karnataka', 'Pincode': 560068}\n"
          ]
        }
      ]
    },
    {
      "cell_type": "code",
      "source": [
        "dict1 = {'Name': 'ExcelR', 'Building': 'Safeway Plaza', 'Floor': 2, 'Area': 'BTM Layout', 'City': 'Bangalore',\n",
        "         'State': 'Karnataka', 'Pincode': 560068}\n",
        "print(dict1)\n",
        "dict1.pop('Floor')\n",
        "print(dict1)\n",
        "dict1.pop('State')\n",
        "print(dict1)"
      ],
      "metadata": {
        "colab": {
          "base_uri": "https://localhost:8080/"
        },
        "id": "2lknmri-SOnu",
        "outputId": "237c20ae-5d7e-4235-bf75-16c0a53dc325"
      },
      "execution_count": null,
      "outputs": [
        {
          "output_type": "stream",
          "name": "stdout",
          "text": [
            "{'Name': 'ExcelR', 'Building': 'Safeway Plaza', 'Floor': 2, 'Area': 'BTM Layout', 'City': 'Bangalore', 'State': 'Karnataka', 'Pincode': 560068}\n",
            "{'Name': 'ExcelR', 'Building': 'Safeway Plaza', 'Area': 'BTM Layout', 'City': 'Bangalore', 'State': 'Karnataka', 'Pincode': 560068}\n",
            "{'Name': 'ExcelR', 'Building': 'Safeway Plaza', 'Area': 'BTM Layout', 'City': 'Bangalore', 'Pincode': 560068}\n"
          ]
        }
      ]
    },
    {
      "cell_type": "code",
      "source": [
        "print(dict1)\n",
        "dict1.popitem()\n",
        "print(dict1)"
      ],
      "metadata": {
        "colab": {
          "base_uri": "https://localhost:8080/"
        },
        "id": "N6xjdpMUCxdC",
        "outputId": "ce7e7eac-0fde-45b4-cccf-8c49dc37cb6d"
      },
      "execution_count": null,
      "outputs": [
        {
          "output_type": "stream",
          "name": "stdout",
          "text": [
            "{'Name': 'ExcelR', 'Building': 'Safeway Plaza', 'Area': 'BTM Layout', 'City': 'Bangalore', 'Pincode': 560068}\n",
            "{'Name': 'ExcelR', 'Building': 'Safeway Plaza', 'Area': 'BTM Layout', 'City': 'Bangalore'}\n"
          ]
        }
      ]
    },
    {
      "cell_type": "code",
      "source": [
        "dict1 = {'Name': 'ExcelR', 'Building': 'Safeway Plaza', 'Floor': 2, 'Area': 'BTM Layout', 'City': 'Bangalore',\n",
        "         'State': 'Karnataka', 'Pincode': 560068}\n",
        "print(dict1)\n",
        "dict1.items()"
      ],
      "metadata": {
        "id": "TRIVqXHVTn7x",
        "colab": {
          "base_uri": "https://localhost:8080/"
        },
        "outputId": "08ba7cad-13e2-4b67-d88b-78605a80366e"
      },
      "execution_count": null,
      "outputs": [
        {
          "output_type": "stream",
          "name": "stdout",
          "text": [
            "{'Name': 'ExcelR', 'Building': 'Safeway Plaza', 'Floor': 2, 'Area': 'BTM Layout', 'City': 'Bangalore', 'State': 'Karnataka', 'Pincode': 560068}\n"
          ]
        },
        {
          "output_type": "execute_result",
          "data": {
            "text/plain": [
              "dict_items([('Name', 'ExcelR'), ('Building', 'Safeway Plaza'), ('Floor', 2), ('Area', 'BTM Layout'), ('City', 'Bangalore'), ('State', 'Karnataka'), ('Pincode', 560068)])"
            ]
          },
          "metadata": {},
          "execution_count": 2
        }
      ]
    },
    {
      "cell_type": "code",
      "source": [
        "list(dict1.items())"
      ],
      "metadata": {
        "colab": {
          "base_uri": "https://localhost:8080/"
        },
        "id": "347tHqbrEk5a",
        "outputId": "2d7e9a1b-947b-4638-c352-a27e87eb49cc"
      },
      "execution_count": null,
      "outputs": [
        {
          "output_type": "execute_result",
          "data": {
            "text/plain": [
              "[('Name', 'ExcelR'),\n",
              " ('Building', 'Safeway Plaza'),\n",
              " ('Floor', 2),\n",
              " ('Area', 'BTM Layout'),\n",
              " ('City', 'Bangalore'),\n",
              " ('State', 'Karnataka'),\n",
              " ('Pincode', 560068)]"
            ]
          },
          "metadata": {},
          "execution_count": 3
        }
      ]
    },
    {
      "cell_type": "markdown",
      "source": [
        "Add a new key:value pair, after 'Floor' key and before 'Area' as shown -> 'Class': 'Darwin'"
      ],
      "metadata": {
        "id": "Rt_YMcg2Fc-O"
      }
    },
    {
      "cell_type": "code",
      "source": [
        "dict1 = {'Name': 'ExcelR', 'Building': 'Safeway Plaza', 'Floor': 2, 'Area': 'BTM Layout', 'City': 'Bangalore',\n",
        "         'State': 'Karnataka', 'Pincode': 560068}\n",
        "print(dict1)\n",
        "list1 = list(dict1.items())\n",
        "print(list1)\n",
        "list1.insert(3, ('Class', 'Darwin'))\n",
        "print(list1)\n",
        "dict1 = dict(list1)\n",
        "print(dict1)"
      ],
      "metadata": {
        "id": "1r9d2BFHSV1h",
        "colab": {
          "base_uri": "https://localhost:8080/"
        },
        "outputId": "588453fe-8ba9-493c-ee6c-d55dd86ec3c5"
      },
      "execution_count": null,
      "outputs": [
        {
          "output_type": "stream",
          "name": "stdout",
          "text": [
            "{'Name': 'ExcelR', 'Building': 'Safeway Plaza', 'Floor': 2, 'Area': 'BTM Layout', 'City': 'Bangalore', 'State': 'Karnataka', 'Pincode': 560068}\n",
            "[('Name', 'ExcelR'), ('Building', 'Safeway Plaza'), ('Floor', 2), ('Area', 'BTM Layout'), ('City', 'Bangalore'), ('State', 'Karnataka'), ('Pincode', 560068)]\n",
            "[('Name', 'ExcelR'), ('Building', 'Safeway Plaza'), ('Floor', 2), ('Class', 'Darwin'), ('Area', 'BTM Layout'), ('City', 'Bangalore'), ('State', 'Karnataka'), ('Pincode', 560068)]\n",
            "{'Name': 'ExcelR', 'Building': 'Safeway Plaza', 'Floor': 2, 'Class': 'Darwin', 'Area': 'BTM Layout', 'City': 'Bangalore', 'State': 'Karnataka', 'Pincode': 560068}\n"
          ]
        }
      ]
    },
    {
      "cell_type": "code",
      "source": [
        "dict1={'Name': 'ExcelR', 'Building': 'Safeway Plaza', 'Floor': 2, 'Class': 'Darwin', 'Area': 'BTM Layout',\n",
        "       'City': 'Bangalore', 'State': 'Karnataka', 'Pincode': 560068}\n",
        "print(dict1)\n",
        "dict1.clear()\n",
        "print(dict1)"
      ],
      "metadata": {
        "id": "6Zqv9GYGSWCP",
        "colab": {
          "base_uri": "https://localhost:8080/"
        },
        "outputId": "3779d9a2-150d-450e-d285-d9264c4dfd6f"
      },
      "execution_count": null,
      "outputs": [
        {
          "output_type": "stream",
          "name": "stdout",
          "text": [
            "{'Name': 'ExcelR', 'Building': 'Safeway Plaza', 'Floor': 2, 'Class': 'Darwin', 'Area': 'BTM Layout', 'City': 'Bangalore', 'State': 'Karnataka', 'Pincode': 560068}\n",
            "{}\n"
          ]
        }
      ]
    },
    {
      "cell_type": "code",
      "source": [
        "alphabets = ['a','e','i','o','u']\n",
        "value = 'Vowel'\n",
        "vowels = dict.fromkeys(alphabets,value)\n",
        "vowels"
      ],
      "metadata": {
        "colab": {
          "base_uri": "https://localhost:8080/"
        },
        "id": "7g3ODjIkJ5J8",
        "outputId": "f7b57874-9f1c-4922-f1a0-4c10e8be56cd"
      },
      "execution_count": null,
      "outputs": [
        {
          "output_type": "execute_result",
          "data": {
            "text/plain": [
              "{'a': 'Vowel', 'e': 'Vowel', 'i': 'Vowel', 'o': 'Vowel', 'u': 'Vowel'}"
            ]
          },
          "metadata": {},
          "execution_count": 9
        }
      ]
    },
    {
      "cell_type": "code",
      "source": [
        "dict1={'Name': 'ExcelR', 'Building': 'Safeway Plaza', 'Floor': 2, 'Class': 'Darwin', 'Area': 'BTM Layout',\n",
        "       'City': 'Bangalore', 'State': 'Karnataka', 'Pincode': 560068}\n",
        "print(dict1)\n",
        "dict1.setdefault('Trainer', 'Neha')\n",
        "print(dict1)\n",
        "dict1.setdefault('Class', 'Aryabhatta')\n",
        "print(dict1)"
      ],
      "metadata": {
        "colab": {
          "base_uri": "https://localhost:8080/"
        },
        "id": "-vaogydiK8sW",
        "outputId": "ab043000-c600-4bf8-dac7-8eb25705d388"
      },
      "execution_count": null,
      "outputs": [
        {
          "output_type": "stream",
          "name": "stdout",
          "text": [
            "{'Name': 'ExcelR', 'Building': 'Safeway Plaza', 'Floor': 2, 'Class': 'Darwin', 'Area': 'BTM Layout', 'City': 'Bangalore', 'State': 'Karnataka', 'Pincode': 560068}\n",
            "{'Name': 'ExcelR', 'Building': 'Safeway Plaza', 'Floor': 2, 'Class': 'Darwin', 'Area': 'BTM Layout', 'City': 'Bangalore', 'State': 'Karnataka', 'Pincode': 560068, 'Trainer': 'Neha'}\n",
            "{'Name': 'ExcelR', 'Building': 'Safeway Plaza', 'Floor': 2, 'Class': 'Darwin', 'Area': 'BTM Layout', 'City': 'Bangalore', 'State': 'Karnataka', 'Pincode': 560068, 'Trainer': 'Neha'}\n"
          ]
        }
      ]
    },
    {
      "cell_type": "code",
      "source": [
        "dict1.get('Building')"
      ],
      "metadata": {
        "colab": {
          "base_uri": "https://localhost:8080/",
          "height": 36
        },
        "id": "fP0XYGj8NFxR",
        "outputId": "e12b5e18-09ac-4f8f-e648-8d037ed35f86"
      },
      "execution_count": null,
      "outputs": [
        {
          "output_type": "execute_result",
          "data": {
            "text/plain": [
              "'Safeway Plaza'"
            ],
            "application/vnd.google.colaboratory.intrinsic+json": {
              "type": "string"
            }
          },
          "metadata": {},
          "execution_count": 11
        }
      ]
    },
    {
      "cell_type": "code",
      "source": [
        "dict1['Building']"
      ],
      "metadata": {
        "colab": {
          "base_uri": "https://localhost:8080/",
          "height": 36
        },
        "id": "WnX7IGtRNN-L",
        "outputId": "f12ed419-2570-4dad-b935-abba6f35829d"
      },
      "execution_count": null,
      "outputs": [
        {
          "output_type": "execute_result",
          "data": {
            "text/plain": [
              "'Safeway Plaza'"
            ],
            "application/vnd.google.colaboratory.intrinsic+json": {
              "type": "string"
            }
          },
          "metadata": {},
          "execution_count": 12
        }
      ]
    },
    {
      "cell_type": "code",
      "source": [
        "dict1={'Name': 'ExcelR', 'Building': 'Safeway Plaza', 'Floor': 2, 'Class': 'Darwin', 'Area': 'BTM Layout',\n",
        "       'City': 'Bangalore', 'State': 'Karnataka', 'Pincode': 560068}\n",
        "print(dict1)\n",
        "dict1['Class'] = 'Aryabhatta'\n",
        "print(dict1)"
      ],
      "metadata": {
        "colab": {
          "base_uri": "https://localhost:8080/"
        },
        "id": "_4iqqAznRNn2",
        "outputId": "05d548d4-ba06-44fa-8157-ff2df651212d"
      },
      "execution_count": null,
      "outputs": [
        {
          "output_type": "stream",
          "name": "stdout",
          "text": [
            "{'Name': 'ExcelR', 'Building': 'Safeway Plaza', 'Floor': 2, 'Class': 'Darwin', 'Area': 'BTM Layout', 'City': 'Bangalore', 'State': 'Karnataka', 'Pincode': 560068}\n",
            "{'Name': 'ExcelR', 'Building': 'Safeway Plaza', 'Floor': 2, 'Class': 'Aryabhatta', 'Area': 'BTM Layout', 'City': 'Bangalore', 'State': 'Karnataka', 'Pincode': 560068}\n"
          ]
        }
      ]
    },
    {
      "cell_type": "code",
      "source": [
        "list1 = [5,2,1,4,8,9,6,5]\n",
        "print(list1)\n",
        "list1[3] = 10\n",
        "print(list1)"
      ],
      "metadata": {
        "colab": {
          "base_uri": "https://localhost:8080/"
        },
        "id": "vr7J_qW_RkYV",
        "outputId": "3c8021ff-925d-44bb-d321-b7ab0e3edecc"
      },
      "execution_count": null,
      "outputs": [
        {
          "output_type": "stream",
          "name": "stdout",
          "text": [
            "[5, 2, 1, 4, 8, 9, 6, 5]\n",
            "[5, 2, 1, 10, 8, 9, 6, 5]\n"
          ]
        }
      ]
    },
    {
      "cell_type": "markdown",
      "source": [
        "# Set\n",
        "\n",
        "|Method|Description|\n",
        "|------|-----------|\n",
        "|add()|Adds an element to the set|\n",
        "|clear()|Removes all the elements from the set|\n",
        "|copy()|Returns a copy of the set|\n",
        "|difference()|Returns a set containing the difference between two or more sets|\n",
        "|difference_update()|Removes the items in this set that are also included in another, specified set|\n",
        "|discard()|Remove the specified item|\n",
        "|intersection()|Returns a set, that is the intersection of two or more sets|\n",
        "|intersection_update()|Removes the items in this set that are not present in other, specified set(s)|\n",
        "|isdisjoint()|Returns whether two sets have a intersection or not|\n",
        "|issubset()|Returns whether another set contains this set or not|\n",
        "|issuperset()|Returns whether this set contains another set or not|\n",
        "|pop()|Removes an element from the set|\n",
        "|remove()|Removes the specified element|\n",
        "|symmetric_difference()|Returns a set with the symmetric differences of two sets|\n",
        "|symmetric_difference_update()|inserts the symmetric differences from this set and another|\n",
        "|union()|Return a set containing the union of sets|\n",
        "|update()|Update the set with another set, or any other iterable|"
      ],
      "metadata": {
        "id": "XeCFqVy4HTer"
      }
    },
    {
      "cell_type": "code",
      "source": [
        "set1 = {'Apple', 'Mango', 'Chickoo', 'Watermelon', 'Plum', 'Mango'}\n",
        "print(set1)\n",
        "set1"
      ],
      "metadata": {
        "colab": {
          "base_uri": "https://localhost:8080/"
        },
        "id": "7Vvg70isOCQv",
        "outputId": "4378389e-55d1-4c3f-9323-2ca9a2f6f802"
      },
      "execution_count": null,
      "outputs": [
        {
          "output_type": "stream",
          "name": "stdout",
          "text": [
            "{'Plum', 'Mango', 'Apple', 'Chickoo', 'Watermelon'}\n"
          ]
        },
        {
          "output_type": "execute_result",
          "data": {
            "text/plain": [
              "{'Apple', 'Chickoo', 'Mango', 'Plum', 'Watermelon'}"
            ]
          },
          "metadata": {},
          "execution_count": 15
        }
      ]
    },
    {
      "cell_type": "code",
      "source": [
        "set1 = {'Apple', 20,'Mango', 15, 'Chickoo', 'Watermelon', 12.3, 'Plum', 'Mango'}\n",
        "print(set1)\n",
        "set1"
      ],
      "metadata": {
        "colab": {
          "base_uri": "https://localhost:8080/"
        },
        "id": "b4jfP2HiOCdY",
        "outputId": "85f3c83d-6c51-407b-8779-7b7f6b4e3b59"
      },
      "execution_count": null,
      "outputs": [
        {
          "output_type": "stream",
          "name": "stdout",
          "text": [
            "{'Apple', 12.3, 'Watermelon', 15, 'Plum', 20, 'Chickoo', 'Mango'}\n"
          ]
        },
        {
          "output_type": "execute_result",
          "data": {
            "text/plain": [
              "{12.3, 15, 20, 'Apple', 'Chickoo', 'Mango', 'Plum', 'Watermelon'}"
            ]
          },
          "metadata": {},
          "execution_count": 16
        }
      ]
    },
    {
      "cell_type": "code",
      "source": [
        "set1 = {'Apple', 20,'Mango', 15, 'Chickoo', 'Watermelon', 12.3, 'Plum', 'Mango'}\n",
        "print(set1)\n",
        "set1.add('Papaya')\n",
        "print(set1)"
      ],
      "metadata": {
        "colab": {
          "base_uri": "https://localhost:8080/"
        },
        "id": "NnsjcqagOCga",
        "outputId": "3f814f73-b365-4f86-c719-7b0602639e6c"
      },
      "execution_count": null,
      "outputs": [
        {
          "output_type": "stream",
          "name": "stdout",
          "text": [
            "{'Apple', 12.3, 'Watermelon', 15, 'Plum', 20, 'Chickoo', 'Mango'}\n",
            "{'Apple', 12.3, 'Watermelon', 15, 'Plum', 20, 'Chickoo', 'Papaya', 'Mango'}\n"
          ]
        }
      ]
    },
    {
      "cell_type": "code",
      "source": [
        "#Set structure does not have any indexation, so it is not possible to call any element with its index.\n",
        "set1[5]"
      ],
      "metadata": {
        "colab": {
          "base_uri": "https://localhost:8080/",
          "height": 144
        },
        "id": "j3egoe3tXbSO",
        "outputId": "5f096471-4fee-4a20-c317-537a05770f54"
      },
      "execution_count": null,
      "outputs": [
        {
          "output_type": "error",
          "ename": "TypeError",
          "evalue": "'set' object is not subscriptable",
          "traceback": [
            "\u001b[0;31m---------------------------------------------------------------------------\u001b[0m",
            "\u001b[0;31mTypeError\u001b[0m                                 Traceback (most recent call last)",
            "\u001b[0;32m<ipython-input-21-b6f859854cdd>\u001b[0m in \u001b[0;36m<cell line: 1>\u001b[0;34m()\u001b[0m\n\u001b[0;32m----> 1\u001b[0;31m \u001b[0mset1\u001b[0m\u001b[0;34m[\u001b[0m\u001b[0;36m5\u001b[0m\u001b[0;34m]\u001b[0m\u001b[0;34m\u001b[0m\u001b[0;34m\u001b[0m\u001b[0m\n\u001b[0m",
            "\u001b[0;31mTypeError\u001b[0m: 'set' object is not subscriptable"
          ]
        }
      ]
    },
    {
      "cell_type": "code",
      "source": [
        "set1 = {'Apple', 20,'Mango', 15, 'Chickoo', 'Watermelon', 12.3, 'Plum', 'Mango'}\n",
        "print(set1)\n",
        "set1.discard('Watermelon')\n",
        "print(set1)"
      ],
      "metadata": {
        "colab": {
          "base_uri": "https://localhost:8080/"
        },
        "id": "5msijD0TXbjE",
        "outputId": "7720e983-1ccb-4885-8823-d1e063f1455e"
      },
      "execution_count": null,
      "outputs": [
        {
          "output_type": "stream",
          "name": "stdout",
          "text": [
            "{'Apple', 12.3, 'Watermelon', 15, 'Plum', 20, 'Chickoo', 'Mango'}\n",
            "{'Apple', 12.3, 15, 'Plum', 20, 'Chickoo', 'Mango'}\n"
          ]
        }
      ]
    },
    {
      "cell_type": "code",
      "source": [
        "set1 = {'Apple', 20,'Mango', 15, 'Chickoo', 'Watermelon', 12.3, 'Plum', 'Mango'}\n",
        "print(set1)\n",
        "set1.discard('Grapes')\n",
        "print(set1)"
      ],
      "metadata": {
        "colab": {
          "base_uri": "https://localhost:8080/"
        },
        "id": "D0fB2ylCXYGW",
        "outputId": "b41601d4-94a7-4c98-c6a7-d64cc8fe84b4"
      },
      "execution_count": null,
      "outputs": [
        {
          "output_type": "stream",
          "name": "stdout",
          "text": [
            "{'Apple', 12.3, 'Watermelon', 15, 'Plum', 20, 'Chickoo', 'Mango'}\n",
            "{'Apple', 12.3, 'Watermelon', 15, 'Plum', 20, 'Chickoo', 'Mango'}\n"
          ]
        }
      ]
    },
    {
      "cell_type": "code",
      "source": [
        "set1 = {'Apple', 20,'Mango', 15, 'Chickoo', 'Watermelon', 12.3, 'Plum', 'Mango'}\n",
        "print(set1)\n",
        "set1.remove('Plum')\n",
        "print(set1)"
      ],
      "metadata": {
        "colab": {
          "base_uri": "https://localhost:8080/"
        },
        "id": "wcxs-MKsYvVl",
        "outputId": "f2d6af34-5e51-4fa5-9761-91c2eb7ea105"
      },
      "execution_count": null,
      "outputs": [
        {
          "output_type": "stream",
          "name": "stdout",
          "text": [
            "{'Apple', 12.3, 'Watermelon', 15, 'Plum', 20, 'Chickoo', 'Mango'}\n",
            "{'Apple', 12.3, 'Watermelon', 15, 20, 'Chickoo', 'Mango'}\n"
          ]
        }
      ]
    },
    {
      "cell_type": "code",
      "source": [
        "set1 = {'Apple', 20,'Mango', 15, 'Chickoo', 'Watermelon', 12.3, 'Plum', 'Mango'}\n",
        "print(set1)\n",
        "set1.remove('Papaya')\n",
        "print(set1)"
      ],
      "metadata": {
        "colab": {
          "base_uri": "https://localhost:8080/",
          "height": 216
        },
        "id": "m169eU-mY5jC",
        "outputId": "32d0b40c-6b73-4a09-e08c-05c6cdf74ef0"
      },
      "execution_count": null,
      "outputs": [
        {
          "output_type": "stream",
          "name": "stdout",
          "text": [
            "{'Apple', 12.3, 'Watermelon', 15, 'Plum', 20, 'Chickoo', 'Mango'}\n"
          ]
        },
        {
          "output_type": "error",
          "ename": "KeyError",
          "evalue": "'Papaya'",
          "traceback": [
            "\u001b[0;31m---------------------------------------------------------------------------\u001b[0m",
            "\u001b[0;31mKeyError\u001b[0m                                  Traceback (most recent call last)",
            "\u001b[0;32m<ipython-input-25-b4a80389b764>\u001b[0m in \u001b[0;36m<cell line: 3>\u001b[0;34m()\u001b[0m\n\u001b[1;32m      1\u001b[0m \u001b[0mset1\u001b[0m \u001b[0;34m=\u001b[0m \u001b[0;34m{\u001b[0m\u001b[0;34m'Apple'\u001b[0m\u001b[0;34m,\u001b[0m \u001b[0;36m20\u001b[0m\u001b[0;34m,\u001b[0m\u001b[0;34m'Mango'\u001b[0m\u001b[0;34m,\u001b[0m \u001b[0;36m15\u001b[0m\u001b[0;34m,\u001b[0m \u001b[0;34m'Chickoo'\u001b[0m\u001b[0;34m,\u001b[0m \u001b[0;34m'Watermelon'\u001b[0m\u001b[0;34m,\u001b[0m \u001b[0;36m12.3\u001b[0m\u001b[0;34m,\u001b[0m \u001b[0;34m'Plum'\u001b[0m\u001b[0;34m,\u001b[0m \u001b[0;34m'Mango'\u001b[0m\u001b[0;34m}\u001b[0m\u001b[0;34m\u001b[0m\u001b[0;34m\u001b[0m\u001b[0m\n\u001b[1;32m      2\u001b[0m \u001b[0mprint\u001b[0m\u001b[0;34m(\u001b[0m\u001b[0mset1\u001b[0m\u001b[0;34m)\u001b[0m\u001b[0;34m\u001b[0m\u001b[0;34m\u001b[0m\u001b[0m\n\u001b[0;32m----> 3\u001b[0;31m \u001b[0mset1\u001b[0m\u001b[0;34m.\u001b[0m\u001b[0mremove\u001b[0m\u001b[0;34m(\u001b[0m\u001b[0;34m'Papaya'\u001b[0m\u001b[0;34m)\u001b[0m\u001b[0;34m\u001b[0m\u001b[0;34m\u001b[0m\u001b[0m\n\u001b[0m\u001b[1;32m      4\u001b[0m \u001b[0mprint\u001b[0m\u001b[0;34m(\u001b[0m\u001b[0mset1\u001b[0m\u001b[0;34m)\u001b[0m\u001b[0;34m\u001b[0m\u001b[0;34m\u001b[0m\u001b[0m\n",
            "\u001b[0;31mKeyError\u001b[0m: 'Papaya'"
          ]
        }
      ]
    },
    {
      "cell_type": "code",
      "source": [
        "set1 = {'Apple', 20,'Mango', 15, 'Chickoo', 'Watermelon', 12.3, 'Plum', 'Mango'}\n",
        "print(set1)\n",
        "set1.pop()\n",
        "print(set1)"
      ],
      "metadata": {
        "colab": {
          "base_uri": "https://localhost:8080/"
        },
        "id": "t519FSWIZAUV",
        "outputId": "57953349-4d48-4150-8ef5-8807fc5a3e97"
      },
      "execution_count": null,
      "outputs": [
        {
          "output_type": "stream",
          "name": "stdout",
          "text": [
            "{'Apple', 12.3, 'Watermelon', 15, 'Plum', 20, 'Chickoo', 'Mango'}\n",
            "{12.3, 'Watermelon', 15, 'Plum', 20, 'Chickoo', 'Mango'}\n"
          ]
        }
      ]
    },
    {
      "cell_type": "code",
      "source": [
        "set1 = {'Apple', 20,'Mango', 15, 'Chickoo', 'Watermelon', 12.3, 'Plum', 'Mango'}\n",
        "print(set1)\n",
        "set1.clear()\n",
        "print(set1)"
      ],
      "metadata": {
        "colab": {
          "base_uri": "https://localhost:8080/"
        },
        "id": "hRg7A3flayjw",
        "outputId": "2f3bb2aa-77b1-4bd8-ab24-9a77aa88acb2"
      },
      "execution_count": null,
      "outputs": [
        {
          "output_type": "stream",
          "name": "stdout",
          "text": [
            "{'Apple', 12.3, 'Watermelon', 15, 'Plum', 20, 'Chickoo', 'Mango'}\n",
            "set()\n"
          ]
        }
      ]
    },
    {
      "cell_type": "code",
      "source": [
        "set1 = {'Apple', 20,'Mango', 15, 'Chickoo', 'Watermelon', 12.3, 'Plum', 'Mango'}\n",
        "print(set1)\n",
        "print(id(set1))\n",
        "set2 = set1.copy()\n",
        "print(set2)\n",
        "print(id(set2))"
      ],
      "metadata": {
        "colab": {
          "base_uri": "https://localhost:8080/"
        },
        "id": "-tO798LCbSvq",
        "outputId": "760306dc-7f9f-416e-cac8-a04eeb241c14"
      },
      "execution_count": null,
      "outputs": [
        {
          "output_type": "stream",
          "name": "stdout",
          "text": [
            "{'Apple', 12.3, 'Watermelon', 15, 'Plum', 20, 'Chickoo', 'Mango'}\n",
            "133825720861408\n",
            "{'Apple', 12.3, 'Watermelon', 15, 'Plum', 20, 'Chickoo', 'Mango'}\n",
            "133825720863424\n"
          ]
        }
      ]
    },
    {
      "cell_type": "code",
      "source": [
        "list1 = ['Apple', 'Mango', 'Banana', 'papaya', 'Chickoo', 'Muskmelon']\n",
        "list2 = ['Mango', 'Grapes', 'Plum', 'Papaya', 'Apple', 'Watermelon']\n",
        "list1.extend(list2)\n",
        "list1"
      ],
      "metadata": {
        "colab": {
          "base_uri": "https://localhost:8080/"
        },
        "id": "z0JBYw9IeAXj",
        "outputId": "f7abb2bf-ff7a-400e-a8a9-d52df8672bca"
      },
      "execution_count": null,
      "outputs": [
        {
          "output_type": "execute_result",
          "data": {
            "text/plain": [
              "['Apple',\n",
              " 'Mango',\n",
              " 'Banana',\n",
              " 'papaya',\n",
              " 'Chickoo',\n",
              " 'Muskmelon',\n",
              " 'Mango',\n",
              " 'Grapes',\n",
              " 'Plum',\n",
              " 'Papaya',\n",
              " 'Apple',\n",
              " 'Watermelon']"
            ]
          },
          "metadata": {},
          "execution_count": 31
        }
      ]
    },
    {
      "cell_type": "code",
      "source": [
        "set1 = {'Apple', 'Mango', 'Banana', 'papaya', 'Chickoo', 'Muskmelon'}\n",
        "set2 = {'Mango', 'Grapes', 'Plum', 'Papaya', 'Apple', 'Watermelon'}\n",
        "set1.union(set2)"
      ],
      "metadata": {
        "colab": {
          "base_uri": "https://localhost:8080/"
        },
        "id": "043blWcDOCkF",
        "outputId": "9465303a-3c23-4a7d-b587-bfd39859a238"
      },
      "execution_count": null,
      "outputs": [
        {
          "output_type": "execute_result",
          "data": {
            "text/plain": [
              "{'Apple',\n",
              " 'Banana',\n",
              " 'Chickoo',\n",
              " 'Grapes',\n",
              " 'Mango',\n",
              " 'Muskmelon',\n",
              " 'Papaya',\n",
              " 'Plum',\n",
              " 'Watermelon',\n",
              " 'papaya'}"
            ]
          },
          "metadata": {},
          "execution_count": 1
        }
      ]
    },
    {
      "cell_type": "code",
      "source": [
        "set1 | set2"
      ],
      "metadata": {
        "id": "X5AK_shBc5aS",
        "colab": {
          "base_uri": "https://localhost:8080/"
        },
        "outputId": "1063b290-d231-4ee8-c022-3a978256c0c2"
      },
      "execution_count": null,
      "outputs": [
        {
          "output_type": "execute_result",
          "data": {
            "text/plain": [
              "{'Apple',\n",
              " 'Banana',\n",
              " 'Chickoo',\n",
              " 'Grapes',\n",
              " 'Mango',\n",
              " 'Muskmelon',\n",
              " 'Papaya',\n",
              " 'Plum',\n",
              " 'Watermelon',\n",
              " 'papaya'}"
            ]
          },
          "metadata": {},
          "execution_count": 2
        }
      ]
    },
    {
      "cell_type": "code",
      "source": [
        "set1 = {'Apple', 'Mango', 'Banana', 'papaya', 'Chickoo', 'Muskmelon'}\n",
        "set2 = {'Mango', 'Grapes', 'Plum', 'Papaya', 'Apple', 'Watermelon'}\n",
        "set1.intersection(set2)"
      ],
      "metadata": {
        "id": "nW86vT9Kc5nM",
        "colab": {
          "base_uri": "https://localhost:8080/"
        },
        "outputId": "bb4cc91d-2c12-483f-cbeb-563ced473405"
      },
      "execution_count": null,
      "outputs": [
        {
          "output_type": "execute_result",
          "data": {
            "text/plain": [
              "{'Apple', 'Mango'}"
            ]
          },
          "metadata": {},
          "execution_count": 3
        }
      ]
    },
    {
      "cell_type": "code",
      "source": [
        "set1 & set2"
      ],
      "metadata": {
        "colab": {
          "base_uri": "https://localhost:8080/"
        },
        "id": "wdMCWtKYM4Tk",
        "outputId": "dc58dcae-39ec-4737-c320-203404d04884"
      },
      "execution_count": null,
      "outputs": [
        {
          "output_type": "execute_result",
          "data": {
            "text/plain": [
              "{'Apple', 'Mango'}"
            ]
          },
          "metadata": {},
          "execution_count": 4
        }
      ]
    },
    {
      "cell_type": "code",
      "source": [
        "set1 = {'Apple', 'Mango', 'Banana', 'papaya', 'Chickoo', 'Muskmelon'}\n",
        "set2 = {'Mango', 'Grapes', 'Plum', 'Papaya', 'Apple', 'Watermelon'}\n",
        "set1.difference(set2)"
      ],
      "metadata": {
        "colab": {
          "base_uri": "https://localhost:8080/"
        },
        "id": "Svp6N-feM_Mx",
        "outputId": "6b95aea4-b982-4df9-bf9b-2c2136c3a65a"
      },
      "execution_count": null,
      "outputs": [
        {
          "output_type": "execute_result",
          "data": {
            "text/plain": [
              "{'Banana', 'Chickoo', 'Muskmelon', 'papaya'}"
            ]
          },
          "metadata": {},
          "execution_count": 5
        }
      ]
    },
    {
      "cell_type": "code",
      "source": [
        "set1 - set2"
      ],
      "metadata": {
        "colab": {
          "base_uri": "https://localhost:8080/"
        },
        "id": "1p-v2OrDPAMP",
        "outputId": "6223e4c8-9b99-4cc7-84f9-a2fa07ad9db5"
      },
      "execution_count": null,
      "outputs": [
        {
          "output_type": "execute_result",
          "data": {
            "text/plain": [
              "{'Banana', 'Chickoo', 'Muskmelon', 'papaya'}"
            ]
          },
          "metadata": {},
          "execution_count": 7
        }
      ]
    },
    {
      "cell_type": "code",
      "source": [
        "set2.difference(set1)"
      ],
      "metadata": {
        "colab": {
          "base_uri": "https://localhost:8080/"
        },
        "id": "mz_uCDD3N4-4",
        "outputId": "287cc734-525b-4772-99dc-81a6752442c5"
      },
      "execution_count": null,
      "outputs": [
        {
          "output_type": "execute_result",
          "data": {
            "text/plain": [
              "{'Grapes', 'Papaya', 'Plum', 'Watermelon'}"
            ]
          },
          "metadata": {},
          "execution_count": 6
        }
      ]
    },
    {
      "cell_type": "code",
      "source": [
        "set2 - set1"
      ],
      "metadata": {
        "colab": {
          "base_uri": "https://localhost:8080/"
        },
        "id": "WJyfT4spNeFp",
        "outputId": "b223028d-079e-438f-9cbd-3ced7b6f7aaf"
      },
      "execution_count": null,
      "outputs": [
        {
          "output_type": "execute_result",
          "data": {
            "text/plain": [
              "{'Grapes', 'Papaya', 'Plum', 'Watermelon'}"
            ]
          },
          "metadata": {},
          "execution_count": 8
        }
      ]
    },
    {
      "cell_type": "code",
      "source": [
        "set1 = {'Apple', 'Mango', 'Banana', 'Chickoo', 'Muskmelon'}\n",
        "set2 = {'Mango', 'Grapes', 'Plum', 'Apple', 'Watermelon'}\n",
        "set1.symmetric_difference(set2)"
      ],
      "metadata": {
        "colab": {
          "base_uri": "https://localhost:8080/"
        },
        "id": "UNGn6H9ZPHw3",
        "outputId": "a8a7d9ab-71df-4523-d891-2f237395c326"
      },
      "execution_count": null,
      "outputs": [
        {
          "output_type": "execute_result",
          "data": {
            "text/plain": [
              "{'Banana', 'Chickoo', 'Grapes', 'Muskmelon', 'Plum', 'Watermelon'}"
            ]
          },
          "metadata": {},
          "execution_count": 12
        }
      ]
    },
    {
      "cell_type": "code",
      "source": [
        "(set1.union(set2)) - (set1.intersection(set2))"
      ],
      "metadata": {
        "colab": {
          "base_uri": "https://localhost:8080/"
        },
        "id": "vteDMStOQ6TN",
        "outputId": "5fec2e2e-75af-4fbe-a80b-2af43601225d"
      },
      "execution_count": null,
      "outputs": [
        {
          "output_type": "execute_result",
          "data": {
            "text/plain": [
              "{'Banana', 'Chickoo', 'Grapes', 'Muskmelon', 'Plum', 'Watermelon'}"
            ]
          },
          "metadata": {},
          "execution_count": 15
        }
      ]
    },
    {
      "cell_type": "code",
      "source": [
        "print(set1.union(set2))\n",
        "print(set1.intersection(set2))"
      ],
      "metadata": {
        "colab": {
          "base_uri": "https://localhost:8080/"
        },
        "id": "L8SszdEoPen8",
        "outputId": "b6be5f88-b1de-4916-d09a-133bf0198833"
      },
      "execution_count": null,
      "outputs": [
        {
          "output_type": "stream",
          "name": "stdout",
          "text": [
            "{'Watermelon', 'Grapes', 'Plum', 'Mango', 'Muskmelon', 'Apple', 'Chickoo', 'Banana'}\n",
            "{'Apple', 'Mango'}\n"
          ]
        }
      ]
    },
    {
      "cell_type": "code",
      "source": [
        "set1 = {'Apple', 'Mango', 'Banana', 'Chickoo', 'Muskmelon'}\n",
        "set2 = {'Mango', 'Grapes', 'Plum', 'Apple', 'Watermelon'}\n",
        "print('______________________Before Intersection Update______________________')\n",
        "print('Set1', set1)\n",
        "print('Set2', set2)\n",
        "print('__________________________________________________________________')\n",
        "print('                                                                  ')\n",
        "print('Output of Intersection', set1.intersection(set2))\n",
        "set1.intersection_update(set2)\n",
        "print('                                                                  ')\n",
        "print('______________________After Intersection Update______________________')\n",
        "print('Set1', set1)\n",
        "print('Set2', set2)"
      ],
      "metadata": {
        "colab": {
          "base_uri": "https://localhost:8080/"
        },
        "id": "yvnEZG6FQWDl",
        "outputId": "4b062610-6057-4294-e1e1-8a4b894a9707"
      },
      "execution_count": null,
      "outputs": [
        {
          "output_type": "stream",
          "name": "stdout",
          "text": [
            "______________________Before Intersection Update______________________\n",
            "Set1 {'Apple', 'Chickoo', 'Banana', 'Mango', 'Muskmelon'}\n",
            "Set2 {'Watermelon', 'Apple', 'Grapes', 'Plum', 'Mango'}\n",
            "__________________________________________________________________\n",
            "                                                                  \n",
            "Output of Intersection {'Apple', 'Mango'}\n",
            "                                                                  \n",
            "______________________After Intersection Update______________________\n",
            "Set1 {'Apple', 'Mango'}\n",
            "Set2 {'Watermelon', 'Apple', 'Grapes', 'Plum', 'Mango'}\n"
          ]
        }
      ]
    },
    {
      "cell_type": "code",
      "source": [
        "set1 = {'Apple', 'Mango', 'Banana', 'Chickoo', 'Muskmelon'}\n",
        "set2 = {'Mango', 'Grapes', 'Plum', 'Apple', 'Watermelon'}\n",
        "print('______________________Before Intersection Update______________________')\n",
        "print('Set1', set1)\n",
        "print('Set2', set2)\n",
        "print('__________________________________________________________________')\n",
        "print('                                                                  ')\n",
        "print('Output of Intersection', set2.intersection(set1))\n",
        "set2.intersection_update(set1)\n",
        "print('                                                                  ')\n",
        "print('______________________After Intersection Update______________________')\n",
        "print('Set1', set1)\n",
        "print('Set2', set2)"
      ],
      "metadata": {
        "colab": {
          "base_uri": "https://localhost:8080/"
        },
        "id": "XWjQQqtxUHqo",
        "outputId": "efb4626e-0df9-4ce2-da65-a28afcd35bb4"
      },
      "execution_count": null,
      "outputs": [
        {
          "output_type": "stream",
          "name": "stdout",
          "text": [
            "Set1 before intersection update {'Apple', 'Chickoo', 'Banana', 'Mango', 'Muskmelon'}\n",
            "Set2 before intersection update {'Watermelon', 'Apple', 'Grapes', 'Plum', 'Mango'}\n",
            "Output of Intersection {'Apple', 'Mango'}\n",
            "----------------------------------\n",
            "Set1 after intersection update {'Apple', 'Chickoo', 'Banana', 'Mango', 'Muskmelon'}\n",
            "Set2 after intersection update {'Apple', 'Mango'}\n"
          ]
        }
      ]
    },
    {
      "cell_type": "code",
      "source": [
        "set1 = {'Apple', 'Mango', 'Banana', 'Chickoo', 'Muskmelon'}\n",
        "set2 = {'Mango', 'Grapes', 'Plum', 'Apple', 'Watermelon'}\n",
        "print('______________________Before Difference Update______________________')\n",
        "print('Set1', set1)\n",
        "print('Set2', set2)\n",
        "print('__________________________________________________________________')\n",
        "print('                                                                  ')\n",
        "print('Output of Difference', set1.difference(set2))\n",
        "set1.difference_update(set2)\n",
        "print('                                                                  ')\n",
        "print('______________________After Difference Update______________________')\n",
        "print('Set1', set1)\n",
        "print('Set2', set2)"
      ],
      "metadata": {
        "colab": {
          "base_uri": "https://localhost:8080/"
        },
        "id": "4uGmmybgTQF5",
        "outputId": "381abbcf-47f7-49a8-f9c6-1e7442f009cf"
      },
      "execution_count": null,
      "outputs": [
        {
          "output_type": "stream",
          "name": "stdout",
          "text": [
            "______________________Before Difference Update______________________\n",
            "Set1 {'Apple', 'Chickoo', 'Banana', 'Mango', 'Muskmelon'}\n",
            "Set2 {'Watermelon', 'Apple', 'Grapes', 'Plum', 'Mango'}\n",
            "__________________________________________________________________\n",
            "                                                                  \n",
            "Output of Difference {'Watermelon', 'Plum', 'Grapes'}\n",
            "                                                                  \n",
            "______________________After Difference Update______________________\n",
            "Set1 {'Apple', 'Chickoo', 'Banana', 'Mango', 'Muskmelon'}\n",
            "Set2 {'Watermelon', 'Grapes', 'Plum'}\n"
          ]
        }
      ]
    },
    {
      "cell_type": "code",
      "source": [
        "set1 = {'Apple', 'Mango', 'Banana', 'Chickoo', 'Muskmelon'}\n",
        "set2 = {'Mango', 'Grapes', 'Plum', 'Apple', 'Watermelon'}\n",
        "print('______________________Before Difference Update______________________')\n",
        "print('Set1', set1)\n",
        "print('Set2', set2)\n",
        "print('__________________________________________________________________')\n",
        "print('                                                                  ')\n",
        "print('Output of Difference', set2.difference(set1))\n",
        "set2.difference_update(set1)\n",
        "print('                                                                  ')\n",
        "print('______________________After Difference Update______________________')\n",
        "print('Set1', set1)\n",
        "print('Set2', set2)"
      ],
      "metadata": {
        "colab": {
          "base_uri": "https://localhost:8080/"
        },
        "id": "R8avmNwlW0VM",
        "outputId": "1a8e595f-e71b-490d-9472-9c14b9064dc5"
      },
      "execution_count": null,
      "outputs": [
        {
          "output_type": "stream",
          "name": "stdout",
          "text": [
            "______________________Before Difference Update______________________\n",
            "Set1 {'Apple', 'Chickoo', 'Banana', 'Mango', 'Muskmelon'}\n",
            "Set2 {'Watermelon', 'Apple', 'Grapes', 'Plum', 'Mango'}\n",
            "__________________________________________________________________\n",
            "                                                                  \n",
            "Output of Difference {'Watermelon', 'Plum', 'Grapes'}\n",
            "                                                                  \n",
            "______________________After Difference Update______________________\n",
            "Set1 {'Apple', 'Chickoo', 'Banana', 'Mango', 'Muskmelon'}\n",
            "Set2 {'Watermelon', 'Grapes', 'Plum'}\n"
          ]
        }
      ]
    },
    {
      "cell_type": "code",
      "source": [
        "set1 = {'Apple', 'Mango', 'Banana', 'Chickoo', 'Muskmelon'}\n",
        "set2 = {'Mango', 'Grapes', 'Plum', 'Apple', 'Watermelon'}\n",
        "print('______________________Before Symmetric Difference Update______________________')\n",
        "print('Set1', set1)\n",
        "print('Set2', set2)\n",
        "print('__________________________________________________________________')\n",
        "print('                                                                  ')\n",
        "print('Output of Symmetric Difference', set1.symmetric_difference(set2))\n",
        "set1.symmetric_difference_update(set2)\n",
        "print('                                                                  ')\n",
        "print('______________________After Symmetric Difference Update______________________')\n",
        "print('Set1', set1)\n",
        "print('Set2', set2)"
      ],
      "metadata": {
        "colab": {
          "base_uri": "https://localhost:8080/"
        },
        "id": "RVT_Ed-nTQJq",
        "outputId": "9777ee3a-e27f-49f7-a7cf-28bca28b5ab6"
      },
      "execution_count": null,
      "outputs": [
        {
          "output_type": "stream",
          "name": "stdout",
          "text": [
            "______________________Before Symmetric Difference Update______________________\n",
            "Set1 {'Apple', 'Chickoo', 'Banana', 'Mango', 'Muskmelon'}\n",
            "Set2 {'Watermelon', 'Apple', 'Grapes', 'Plum', 'Mango'}\n",
            "__________________________________________________________________\n",
            "                                                                  \n",
            "Output of Symmetric Difference {'Watermelon', 'Chickoo', 'Banana', 'Grapes', 'Plum', 'Muskmelon'}\n",
            "                                                                  \n",
            "______________________After Symmetric Difference Update______________________\n",
            "Set1 {'Watermelon', 'Chickoo', 'Banana', 'Grapes', 'Plum', 'Muskmelon'}\n",
            "Set2 {'Watermelon', 'Apple', 'Grapes', 'Plum', 'Mango'}\n"
          ]
        }
      ]
    },
    {
      "cell_type": "code",
      "source": [
        "set1 = {'Apple', 'Mango', 'Banana', 'Chickoo', 'Muskmelon'}\n",
        "set2 = {'Mango', 'Grapes', 'Plum', 'Apple', 'Watermelon'}\n",
        "print('______________________Before Symmetric Difference Update______________________')\n",
        "print('Set1', set1)\n",
        "print('Set2', set2)\n",
        "print('__________________________________________________________________')\n",
        "print('                                                                  ')\n",
        "print('Output of Symmetric Difference', set2.symmetric_difference(set1))\n",
        "set2.symmetric_difference_update(set1)\n",
        "print('\\n')\n",
        "print('______________________After Symmetric Difference Update______________________')\n",
        "print('Set1', set1)\n",
        "print('Set2', set2)"
      ],
      "metadata": {
        "colab": {
          "base_uri": "https://localhost:8080/"
        },
        "id": "zgRdZnZ5Ynz-",
        "outputId": "d0e62e3e-33ca-468c-ca22-ce729befd8d9"
      },
      "execution_count": null,
      "outputs": [
        {
          "output_type": "stream",
          "name": "stdout",
          "text": [
            "______________________Before Symmetric Difference Update______________________\n",
            "Set1 {'Apple', 'Chickoo', 'Banana', 'Mango', 'Muskmelon'}\n",
            "Set2 {'Watermelon', 'Apple', 'Grapes', 'Plum', 'Mango'}\n",
            "__________________________________________________________________\n",
            "                                                                  \n",
            "Output of Symmetric Difference {'Watermelon', 'Chickoo', 'Banana', 'Grapes', 'Plum', 'Muskmelon'}\n",
            "\n",
            "\n",
            "______________________After Symmetric Difference Update______________________\n",
            "Set1 {'Apple', 'Chickoo', 'Banana', 'Mango', 'Muskmelon'}\n",
            "Set2 {'Watermelon', 'Chickoo', 'Banana', 'Grapes', 'Plum', 'Muskmelon'}\n"
          ]
        }
      ]
    },
    {
      "cell_type": "code",
      "source": [
        "set1 = {'Apple', 'Mango', 'Banana', 'Chickoo', 'Muskmelon'}\n",
        "set2 = {'Mango', 'Grapes', 'Plum', 'Apple', 'Watermelon'}\n",
        "print(set1)\n",
        "set1.symmetric_difference_update(set2)\n",
        "print(set1)"
      ],
      "metadata": {
        "colab": {
          "base_uri": "https://localhost:8080/"
        },
        "id": "Oa3YWGW4ZmcS",
        "outputId": "8eb3fb54-90ce-4b51-9dc8-cec8a1afee34"
      },
      "execution_count": null,
      "outputs": [
        {
          "output_type": "stream",
          "name": "stdout",
          "text": [
            "{'Apple', 'Chickoo', 'Banana', 'Mango', 'Muskmelon'}\n",
            "{'Watermelon', 'Chickoo', 'Banana', 'Grapes', 'Plum', 'Muskmelon'}\n"
          ]
        }
      ]
    },
    {
      "cell_type": "code",
      "source": [
        "set1 = {'Apple', 'Mango', 'Banana', 'Chickoo', 'Muskmelon'}\n",
        "set2 = {'Mango', 'Grapes', 'Plum', 'Apple', 'Watermelon'}\n",
        "print(set2)\n",
        "set2.symmetric_difference_update(set1)\n",
        "print(set2)"
      ],
      "metadata": {
        "colab": {
          "base_uri": "https://localhost:8080/"
        },
        "id": "aTIyKpqcZnT-",
        "outputId": "2a2b75e6-df82-41dc-c104-275d5a3de0f1"
      },
      "execution_count": null,
      "outputs": [
        {
          "output_type": "stream",
          "name": "stdout",
          "text": [
            "{'Watermelon', 'Apple', 'Grapes', 'Plum', 'Mango'}\n",
            "{'Watermelon', 'Chickoo', 'Banana', 'Grapes', 'Plum', 'Muskmelon'}\n"
          ]
        }
      ]
    },
    {
      "cell_type": "code",
      "source": [
        "A = {'Watermelon', 'Chickoo', 'Banana', 'Grapes', 'Plum', 'Muskmelon'}\n",
        "B = {'Chickoo', 'Plum', 'Banana'}\n",
        "C = {'Banana', 'Watermelon', 'Papaya'}"
      ],
      "metadata": {
        "id": "gApmN_33aLnt"
      },
      "execution_count": null,
      "outputs": []
    },
    {
      "cell_type": "code",
      "source": [
        "#Is B a subset of A?\n",
        "B.issubset(A)"
      ],
      "metadata": {
        "colab": {
          "base_uri": "https://localhost:8080/"
        },
        "id": "CGnW9BjxZ0uG",
        "outputId": "95e91a30-e8ec-476b-fce3-2bcce6329b69"
      },
      "execution_count": null,
      "outputs": [
        {
          "output_type": "execute_result",
          "data": {
            "text/plain": [
              "True"
            ]
          },
          "metadata": {},
          "execution_count": 46
        }
      ]
    },
    {
      "cell_type": "code",
      "source": [
        "#Is A a subset of B?\n",
        "A.issubset(B)"
      ],
      "metadata": {
        "colab": {
          "base_uri": "https://localhost:8080/"
        },
        "id": "OR6Q1GhliKXL",
        "outputId": "270616ac-8d44-4c86-f0f6-bf04e10ab95c"
      },
      "execution_count": null,
      "outputs": [
        {
          "output_type": "execute_result",
          "data": {
            "text/plain": [
              "False"
            ]
          },
          "metadata": {},
          "execution_count": 47
        }
      ]
    },
    {
      "cell_type": "code",
      "source": [
        "# Is B a superset of A?\n",
        "B.issuperset(A)"
      ],
      "metadata": {
        "colab": {
          "base_uri": "https://localhost:8080/"
        },
        "id": "VzziGyIKiUbN",
        "outputId": "60204fec-1687-4aee-c106-50402e3631a0"
      },
      "execution_count": null,
      "outputs": [
        {
          "output_type": "execute_result",
          "data": {
            "text/plain": [
              "False"
            ]
          },
          "metadata": {},
          "execution_count": 48
        }
      ]
    },
    {
      "cell_type": "code",
      "source": [
        "# Is A a superset of B?\n",
        "A.issuperset(B)"
      ],
      "metadata": {
        "colab": {
          "base_uri": "https://localhost:8080/"
        },
        "id": "3p7beGA3ZnYD",
        "outputId": "e96c7a7e-ee7a-4545-92a1-91b52689b921"
      },
      "execution_count": null,
      "outputs": [
        {
          "output_type": "execute_result",
          "data": {
            "text/plain": [
              "True"
            ]
          },
          "metadata": {},
          "execution_count": 49
        }
      ]
    },
    {
      "cell_type": "code",
      "source": [
        "A = {'Watermelon', 'Chickoo', 'Banana', 'Grapes', 'Plum', 'Muskmelon'}\n",
        "B = {'Chickoo', 'Plum', 'Banana'}\n",
        "C = {'Banana', 'Watermelon', 'Papaya'}"
      ],
      "metadata": {
        "id": "LcHlCV0KmOGe"
      },
      "execution_count": null,
      "outputs": []
    },
    {
      "cell_type": "code",
      "source": [
        "print('Is B a subset of A?', B.issubset(A))\n",
        "print('Is A a subset of B?', A.issubset(B))\n",
        "print('Is B a superset of A?', B.issuperset(A))\n",
        "print('Is A a superset of B?', A.issuperset(B))"
      ],
      "metadata": {
        "colab": {
          "base_uri": "https://localhost:8080/"
        },
        "id": "p__MpPTqmAHo",
        "outputId": "481aa795-1d07-4c4a-8f19-2bf2bdf78b92"
      },
      "execution_count": null,
      "outputs": [
        {
          "output_type": "stream",
          "name": "stdout",
          "text": [
            "Is B a subset of A? True\n",
            "Is A a subset of B? False\n",
            "Is B a superset of A? False\n",
            "Is A a superset of B? True\n"
          ]
        }
      ]
    },
    {
      "cell_type": "code",
      "source": [
        "print('Is C a subset of A?', C.issubset(A))\n",
        "print('Is A a subset of C?', A.issubset(C))\n",
        "print('Is C a superset of A?', C.issuperset(A))\n",
        "print('Is A a superset of C?', A.issuperset(C))"
      ],
      "metadata": {
        "colab": {
          "base_uri": "https://localhost:8080/"
        },
        "id": "-uGQXgwdZnbi",
        "outputId": "e7606cfb-034f-42ae-cb9f-10ee33ee2c4f"
      },
      "execution_count": null,
      "outputs": [
        {
          "output_type": "stream",
          "name": "stdout",
          "text": [
            "Is C a subset of A? False\n",
            "Is A a subset of C? False\n",
            "Is C a superset of A? False\n",
            "Is A a superset of C? False\n"
          ]
        }
      ]
    },
    {
      "cell_type": "code",
      "source": [
        "# A & B are disjoint only if not even one single element is common between the 2 sets.\n",
        "A = {'Chickoo', 'Plum', 'Banana'}\n",
        "B = {'Watermelon', 'Grapes', 'Papaya'}\n",
        "A.isdisjoint(B)"
      ],
      "metadata": {
        "colab": {
          "base_uri": "https://localhost:8080/"
        },
        "id": "d5BSvKCSZnfC",
        "outputId": "113d5b89-6257-4c9a-a085-24405823b697"
      },
      "execution_count": null,
      "outputs": [
        {
          "output_type": "execute_result",
          "data": {
            "text/plain": [
              "True"
            ]
          },
          "metadata": {},
          "execution_count": 53
        }
      ]
    },
    {
      "cell_type": "code",
      "source": [],
      "metadata": {
        "id": "NptnGUGDZnig"
      },
      "execution_count": null,
      "outputs": []
    },
    {
      "cell_type": "code",
      "source": [],
      "metadata": {
        "id": "XoavVbNTYXKK"
      },
      "execution_count": null,
      "outputs": []
    },
    {
      "cell_type": "code",
      "source": [],
      "metadata": {
        "id": "Bcj9IcWYYXZ_"
      },
      "execution_count": null,
      "outputs": []
    }
  ]
}