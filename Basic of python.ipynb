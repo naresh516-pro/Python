{
 "cells": [
  {
   "cell_type": "markdown",
   "id": "e503b6e4",
   "metadata": {},
   "source": [
    "# Variable creation"
   ]
  },
  {
   "cell_type": "markdown",
   "id": "9384cc4b",
   "metadata": {},
   "source": [
    "## correct way of creating a variable"
   ]
  },
  {
   "cell_type": "markdown",
   "id": "870c97b5",
   "metadata": {},
   "source": [
    "--> start variable name by alphabets only\n",
    "--> use the underscore to separate the words\n",
    "--> use number after the word"
   ]
  },
  {
   "cell_type": "markdown",
   "id": "c61aba17",
   "metadata": {},
   "source": [
    "Example"
   ]
  },
  {
   "cell_type": "code",
   "execution_count": null,
   "id": "e276371c",
   "metadata": {},
   "outputs": [],
   "source": [
    "var = 10\n",
    "var1 = 20\n",
    "var_num = 30"
   ]
  },
  {
   "cell_type": "markdown",
   "id": "b13b60a8",
   "metadata": {},
   "source": [
    "# Incorrect way of creating variable"
   ]
  },
  {
   "cell_type": "code",
   "execution_count": null,
   "id": "0ed633df",
   "metadata": {},
   "outputs": [],
   "source": [
    "--> any special char/ number should not be used 1st.\n",
    "--> no spaces used between the word\n",
    "--> variable name should not be the keywords\n",
    "--> case sensitive [a, A] different."
   ]
  },
  {
   "cell_type": "markdown",
   "id": "f321d094",
   "metadata": {},
   "source": [
    "Example"
   ]
  },
  {
   "cell_type": "code",
   "execution_count": null,
   "id": "7621d7bc",
   "metadata": {},
   "outputs": [],
   "source": [
    "@var = 10, #var = 20\n",
    "var 10 = 10\n",
    "1 var = 10\n",
    "var num = 20\n",
    "class = 30"
   ]
  },
  {
   "cell_type": "code",
   "execution_count": null,
   "id": "46f87e66",
   "metadata": {},
   "outputs": [],
   "source": [
    "import keyword\n",
    "print(keyword.kwlist)"
   ]
  },
  {
   "cell_type": "markdown",
   "id": "3563802d",
   "metadata": {},
   "source": [
    "# Data types"
   ]
  },
  {
   "cell_type": "markdown",
   "id": "36d486ee",
   "metadata": {},
   "source": [
    "integer-->int\n",
    "floating --> float\n",
    "char--> str\n",
    "complex type --> complex\n",
    "boolean --> bool\n",
    "none type --> None\n",
    "object_type --> object"
   ]
  },
  {
   "cell_type": "code",
   "execution_count": null,
   "id": "e6157cc2",
   "metadata": {},
   "outputs": [],
   "source": [
    "dir() # --> list of all created variables "
   ]
  },
  {
   "cell_type": "code",
   "execution_count": null,
   "id": "e2c39b6d",
   "metadata": {},
   "outputs": [],
   "source": [
    "## integer class\n",
    "num = 15\n",
    "print(num)"
   ]
  },
  {
   "cell_type": "code",
   "execution_count": null,
   "id": "d961cf8c",
   "metadata": {},
   "outputs": [],
   "source": [
    "type(num)"
   ]
  },
  {
   "cell_type": "code",
   "execution_count": null,
   "id": "bba9a85b",
   "metadata": {},
   "outputs": [],
   "source": [
    "print(type(num))"
   ]
  },
  {
   "cell_type": "code",
   "execution_count": null,
   "id": "962bd1bd",
   "metadata": {},
   "outputs": [],
   "source": [
    "## floating data type\n",
    "marks = 50.6\n",
    "print(marks)\n",
    "print(type(marks))"
   ]
  },
  {
   "cell_type": "code",
   "execution_count": null,
   "id": "003c1a08",
   "metadata": {},
   "outputs": [],
   "source": [
    "## complex datatype\n",
    "cmpl = 10j + 20\n",
    "print(cmpl)\n",
    "print(type(cmpl))"
   ]
  },
  {
   "cell_type": "code",
   "execution_count": 1,
   "id": "bf60f5e7",
   "metadata": {},
   "outputs": [
    {
     "name": "stdout",
     "output_type": "stream",
     "text": [
      "Excelr\n",
      "<class 'str'>\n"
     ]
    }
   ],
   "source": [
    "## string datatype for single word\n",
    "name = 'Excelr'\n",
    "print(name)\n",
    "print(type(name))"
   ]
  },
  {
   "cell_type": "code",
   "execution_count": 2,
   "id": "6fb89043",
   "metadata": {},
   "outputs": [
    {
     "name": "stdout",
     "output_type": "stream",
     "text": [
      "we are studying's data science\n",
      "<class 'str'>\n"
     ]
    }
   ],
   "source": [
    "## string datatype for statment\n",
    "data_sciece = \"we are studying's data science\"\n",
    "print(data_sciece)\n",
    "print(type(data_sciece))"
   ]
  },
  {
   "cell_type": "code",
   "execution_count": 3,
   "id": "c744756e",
   "metadata": {},
   "outputs": [
    {
     "name": "stdout",
     "output_type": "stream",
     "text": [
      "List\n",
      "                    Tuple\n",
      "                     Set\n",
      "                     Dictionary\n",
      "<class 'str'>\n"
     ]
    }
   ],
   "source": [
    "## string datatype for paragraph\n",
    "Data_structure = '''List\n",
    "                    Tuple\n",
    "                     Set\n",
    "                     Dictionary'''\n",
    "print(Data_structure)\n",
    "print(type(Data_structure))"
   ]
  },
  {
   "cell_type": "code",
   "execution_count": null,
   "id": "f84e874b",
   "metadata": {},
   "outputs": [],
   "source": [
    "# boolean type of data\n",
    "value = False\n",
    "print(value)\n",
    "print(type(value))\n",
    "\n",
    "valueT = True\n",
    "print(valueT)\n",
    "print(type(valueT))"
   ]
  },
  {
   "cell_type": "code",
   "execution_count": null,
   "id": "5697fba3",
   "metadata": {},
   "outputs": [],
   "source": [
    "# none type\n",
    "variable = None\n",
    "print(variable)\n",
    "print(type(variable))"
   ]
  },
  {
   "cell_type": "code",
   "execution_count": null,
   "id": "0821fcd9",
   "metadata": {},
   "outputs": [],
   "source": [
    "# object type of data\n",
    "Object_type = object # [int, float, str, complex]\n",
    "print(Object_type)\n",
    "print(type(Object_type))"
   ]
  },
  {
   "cell_type": "code",
   "execution_count": null,
   "id": "95809b90",
   "metadata": {},
   "outputs": [],
   "source": [
    "import datetime as dt\n",
    "date = dt.datetime(2024,5,30)"
   ]
  },
  {
   "cell_type": "code",
   "execution_count": null,
   "id": "0e8f83c9",
   "metadata": {},
   "outputs": [],
   "source": [
    "print(date)\n",
    "print(type(date))"
   ]
  },
  {
   "cell_type": "code",
   "execution_count": null,
   "id": "172f27f6",
   "metadata": {},
   "outputs": [],
   "source": []
  },
  {
   "cell_type": "markdown",
   "id": "dab1ce67",
   "metadata": {},
   "source": [
    "# string manipulation "
   ]
  },
  {
   "cell_type": "code",
   "execution_count": 7,
   "id": "38d6931c",
   "metadata": {},
   "outputs": [],
   "source": [
    "name = 'excelr'"
   ]
  },
  {
   "cell_type": "code",
   "execution_count": 8,
   "id": "b23a820b",
   "metadata": {},
   "outputs": [
    {
     "data": {
      "text/plain": [
       "('Excelr', 'excelr', 'excelr', 'EXCELR', 'EXCELR')"
      ]
     },
     "execution_count": 8,
     "metadata": {},
     "output_type": "execute_result"
    }
   ],
   "source": [
    "# string manipulation \n",
    "name.capitalize(), name.casefold(),name.lower(), name.upper(), name.swapcase()"
   ]
  },
  {
   "cell_type": "code",
   "execution_count": 10,
   "id": "73c430b5",
   "metadata": {
    "collapsed": true
   },
   "outputs": [
    {
     "data": {
      "text/plain": [
       "(True, True)"
      ]
     },
     "execution_count": 10,
     "metadata": {},
     "output_type": "execute_result"
    }
   ],
   "source": [
    "name.endswith('r'),name.startswith('e')"
   ]
  },
  {
   "cell_type": "code",
   "execution_count": 11,
   "id": "e3ce842b",
   "metadata": {
    "collapsed": true
   },
   "outputs": [
    {
     "data": {
      "text/plain": [
       "'excelr'"
      ]
     },
     "execution_count": 11,
     "metadata": {},
     "output_type": "execute_result"
    }
   ],
   "source": [
    "name"
   ]
  },
  {
   "cell_type": "code",
   "execution_count": 12,
   "id": "611fbe2d",
   "metadata": {},
   "outputs": [
    {
     "data": {
      "text/plain": [
       "(True, True, True, False, False)"
      ]
     },
     "execution_count": 12,
     "metadata": {},
     "output_type": "execute_result"
    }
   ],
   "source": [
    "name.isalnum(),name.isalpha(),name.isascii(),name.isdecimal(),name.isdigit()"
   ]
  },
  {
   "cell_type": "code",
   "execution_count": 13,
   "id": "25631868",
   "metadata": {},
   "outputs": [
    {
     "data": {
      "text/plain": [
       "(True, False, False, False)"
      ]
     },
     "execution_count": 13,
     "metadata": {},
     "output_type": "execute_result"
    }
   ],
   "source": [
    "name.islower(),name.isnumeric(),name.isupper(),name.istitle()"
   ]
  },
  {
   "cell_type": "code",
   "execution_count": 14,
   "id": "6a274cd1",
   "metadata": {},
   "outputs": [
    {
     "data": {
      "text/plain": [
       "'List\\n                    Tuple\\n                     Set\\n                     Dictionary'"
      ]
     },
     "execution_count": 14,
     "metadata": {},
     "output_type": "execute_result"
    }
   ],
   "source": [
    "Data_structure"
   ]
  },
  {
   "cell_type": "code",
   "execution_count": 15,
   "id": "860b446a",
   "metadata": {},
   "outputs": [
    {
     "data": {
      "text/plain": [
       "True"
      ]
     },
     "execution_count": 15,
     "metadata": {},
     "output_type": "execute_result"
    }
   ],
   "source": [
    "Data_structure.istitle()"
   ]
  },
  {
   "cell_type": "code",
   "execution_count": 16,
   "id": "4409f328",
   "metadata": {},
   "outputs": [
    {
     "data": {
      "text/plain": [
       "False"
      ]
     },
     "execution_count": 16,
     "metadata": {},
     "output_type": "execute_result"
    }
   ],
   "source": [
    "data_sciece.istitle()"
   ]
  },
  {
   "cell_type": "code",
   "execution_count": 17,
   "id": "120efd87",
   "metadata": {},
   "outputs": [
    {
     "data": {
      "text/plain": [
       "'excelr'"
      ]
     },
     "execution_count": 17,
     "metadata": {},
     "output_type": "execute_result"
    }
   ],
   "source": [
    "name"
   ]
  },
  {
   "cell_type": "code",
   "execution_count": 24,
   "id": "3382567c",
   "metadata": {},
   "outputs": [
    {
     "data": {
      "text/plain": [
       "('%%%%%excelr%%%%', 'excelr*', ',,,,,,,,,excelr')"
      ]
     },
     "execution_count": 24,
     "metadata": {},
     "output_type": "execute_result"
    }
   ],
   "source": [
    "name.center(15,'%'), name.ljust(7,'*'), name.rjust(15,',')"
   ]
  },
  {
   "cell_type": "code",
   "execution_count": null,
   "id": "6cee54ce",
   "metadata": {},
   "outputs": [],
   "source": [
    "# indexing [0,1,2,3,4,5....]"
   ]
  },
  {
   "cell_type": "code",
   "execution_count": 25,
   "id": "254c9df0",
   "metadata": {},
   "outputs": [
    {
     "data": {
      "text/plain": [
       "'excelr'"
      ]
     },
     "execution_count": 25,
     "metadata": {},
     "output_type": "execute_result"
    }
   ],
   "source": [
    "name"
   ]
  },
  {
   "cell_type": "code",
   "execution_count": 26,
   "id": "d28c9371",
   "metadata": {},
   "outputs": [
    {
     "data": {
      "text/plain": [
       "(2, 0, 0, 3, 3)"
      ]
     },
     "execution_count": 26,
     "metadata": {},
     "output_type": "execute_result"
    }
   ],
   "source": [
    "name.count('e'),name.find('e'),name.index('e'),name.rfind('e'),name.rindex('e')"
   ]
  },
  {
   "cell_type": "code",
   "execution_count": 28,
   "id": "4f5895ff",
   "metadata": {},
   "outputs": [
    {
     "data": {
      "text/plain": [
       "(0, 0)"
      ]
     },
     "execution_count": 28,
     "metadata": {},
     "output_type": "execute_result"
    }
   ],
   "source": [
    "name.find('ex'),name.index('excelr')"
   ]
  },
  {
   "cell_type": "code",
   "execution_count": null,
   "id": "42136f20",
   "metadata": {},
   "outputs": [],
   "source": [
    "# slicing,[start: end: step]"
   ]
  },
  {
   "cell_type": "code",
   "execution_count": 29,
   "id": "b939ba64",
   "metadata": {
    "collapsed": true
   },
   "outputs": [
    {
     "data": {
      "text/plain": [
       "'exce'"
      ]
     },
     "execution_count": 29,
     "metadata": {},
     "output_type": "execute_result"
    }
   ],
   "source": [
    "name[0:4] # starts with o index end with 3rd index"
   ]
  },
  {
   "cell_type": "code",
   "execution_count": 30,
   "id": "c5d8e4c7",
   "metadata": {
    "collapsed": true
   },
   "outputs": [
    {
     "data": {
      "text/plain": [
       "'exce'"
      ]
     },
     "execution_count": 30,
     "metadata": {},
     "output_type": "execute_result"
    }
   ],
   "source": [
    "name[0:4:1]"
   ]
  },
  {
   "cell_type": "code",
   "execution_count": 31,
   "id": "a98a9b75",
   "metadata": {
    "collapsed": true
   },
   "outputs": [
    {
     "data": {
      "text/plain": [
       "'ec'"
      ]
     },
     "execution_count": 31,
     "metadata": {},
     "output_type": "execute_result"
    }
   ],
   "source": [
    "name[0:4:2]"
   ]
  },
  {
   "cell_type": "code",
   "execution_count": 32,
   "id": "4e10ee73",
   "metadata": {
    "collapsed": true
   },
   "outputs": [
    {
     "data": {
      "text/plain": [
       "'xcelr'"
      ]
     },
     "execution_count": 32,
     "metadata": {},
     "output_type": "execute_result"
    }
   ],
   "source": [
    "name[1:]"
   ]
  },
  {
   "cell_type": "code",
   "execution_count": 33,
   "id": "cac7c101",
   "metadata": {
    "collapsed": true
   },
   "outputs": [
    {
     "data": {
      "text/plain": [
       "'excelr'"
      ]
     },
     "execution_count": 33,
     "metadata": {},
     "output_type": "execute_result"
    }
   ],
   "source": [
    "name[0::] # start with 0, and selected all"
   ]
  },
  {
   "cell_type": "code",
   "execution_count": 34,
   "id": "2f16aa06",
   "metadata": {
    "collapsed": true
   },
   "outputs": [
    {
     "data": {
      "text/plain": [
       "('excelr', 'excelr')"
      ]
     },
     "execution_count": 34,
     "metadata": {},
     "output_type": "execute_result"
    }
   ],
   "source": [
    "name[:],name[::] # start with start index and selected all."
   ]
  },
  {
   "cell_type": "code",
   "execution_count": null,
   "id": "e015b681",
   "metadata": {},
   "outputs": [],
   "source": [
    "# negative indexing."
   ]
  },
  {
   "cell_type": "code",
   "execution_count": 35,
   "id": "11591029",
   "metadata": {},
   "outputs": [
    {
     "data": {
      "text/plain": [
       "'excelr'"
      ]
     },
     "execution_count": 35,
     "metadata": {},
     "output_type": "execute_result"
    }
   ],
   "source": [
    "name"
   ]
  },
  {
   "cell_type": "code",
   "execution_count": 37,
   "id": "2367169d",
   "metadata": {},
   "outputs": [
    {
     "data": {
      "text/plain": [
       "'r'"
      ]
     },
     "execution_count": 37,
     "metadata": {},
     "output_type": "execute_result"
    }
   ],
   "source": [
    "name[-1] # selected a last value"
   ]
  },
  {
   "cell_type": "code",
   "execution_count": 38,
   "id": "fabd98ac",
   "metadata": {},
   "outputs": [
    {
     "data": {
      "text/plain": [
       "'rlecxe'"
      ]
     },
     "execution_count": 38,
     "metadata": {},
     "output_type": "execute_result"
    }
   ],
   "source": [
    "name[::-1] # reversing"
   ]
  },
  {
   "cell_type": "code",
   "execution_count": 39,
   "id": "e125871b",
   "metadata": {},
   "outputs": [
    {
     "data": {
      "text/plain": [
       "'ecx'"
      ]
     },
     "execution_count": 39,
     "metadata": {},
     "output_type": "execute_result"
    }
   ],
   "source": [
    "name[3:0:-1]  # choosing a data from left side"
   ]
  },
  {
   "cell_type": "code",
   "execution_count": 40,
   "id": "0b8e3f79",
   "metadata": {},
   "outputs": [
    {
     "data": {
      "text/plain": [
       "''"
      ]
     },
     "execution_count": 40,
     "metadata": {},
     "output_type": "execute_result"
    }
   ],
   "source": [
    "name[0:5:-1] #if index miss matched, it will be empty string."
   ]
  },
  {
   "cell_type": "code",
   "execution_count": null,
   "id": "7c122693",
   "metadata": {},
   "outputs": [],
   "source": [
    "name[-1]"
   ]
  },
  {
   "cell_type": "code",
   "execution_count": 41,
   "id": "cb433f0d",
   "metadata": {},
   "outputs": [
    {
     "data": {
      "text/plain": [
       "'  Excelr   '"
      ]
     },
     "execution_count": 41,
     "metadata": {},
     "output_type": "execute_result"
    }
   ],
   "source": [
    "name = '  Excelr   '\n",
    "name"
   ]
  },
  {
   "cell_type": "code",
   "execution_count": 42,
   "id": "6b313651",
   "metadata": {},
   "outputs": [
    {
     "data": {
      "text/plain": [
       "('Excelr   ', 'Excelr', '  Excelr')"
      ]
     },
     "execution_count": 42,
     "metadata": {},
     "output_type": "execute_result"
    }
   ],
   "source": [
    "# strip: removing the spaces\n",
    "name.lstrip(), name.strip(),name.rstrip()"
   ]
  },
  {
   "cell_type": "code",
   "execution_count": 44,
   "id": "3165c3c6",
   "metadata": {},
   "outputs": [
    {
     "data": {
      "text/plain": [
       "['we', 'are', \"studying's\", 'data', 'science']"
      ]
     },
     "execution_count": 44,
     "metadata": {},
     "output_type": "execute_result"
    }
   ],
   "source": [
    "# split the data for spaces\n",
    "data = \"we are studying's data science\"\n",
    "data.split()"
   ]
  },
  {
   "cell_type": "code",
   "execution_count": 45,
   "id": "7bf0908c",
   "metadata": {
    "collapsed": true
   },
   "outputs": [
    {
     "data": {
      "text/plain": [
       "['we', 'are', \"studying's\", 'data', 'science']"
      ]
     },
     "execution_count": 45,
     "metadata": {},
     "output_type": "execute_result"
    }
   ],
   "source": [
    "# split the data for spaces\n",
    "data = \"we,are,studying's,data,science\"\n",
    "data.split(',')"
   ]
  },
  {
   "cell_type": "code",
   "execution_count": null,
   "id": "41e83838",
   "metadata": {},
   "outputs": [],
   "source": [
    "name.split(),name.splitlines()"
   ]
  },
  {
   "cell_type": "code",
   "execution_count": null,
   "id": "95a2e203",
   "metadata": {},
   "outputs": [],
   "source": [
    "data_sciece.split()"
   ]
  },
  {
   "cell_type": "code",
   "execution_count": 46,
   "id": "4817f58c",
   "metadata": {},
   "outputs": [
    {
     "data": {
      "text/plain": [
       "'List\\n                    Tuple\\n                     Set\\n                     Dictionary'"
      ]
     },
     "execution_count": 46,
     "metadata": {},
     "output_type": "execute_result"
    }
   ],
   "source": [
    "Data_structure"
   ]
  },
  {
   "cell_type": "code",
   "execution_count": 47,
   "id": "a0747bab",
   "metadata": {
    "collapsed": true
   },
   "outputs": [
    {
     "data": {
      "text/plain": [
       "['List',\n",
       " '                    Tuple',\n",
       " '                     Set',\n",
       " '                     Dictionary']"
      ]
     },
     "execution_count": 47,
     "metadata": {},
     "output_type": "execute_result"
    }
   ],
   "source": [
    "Data_structure.splitlines()"
   ]
  },
  {
   "cell_type": "code",
   "execution_count": 48,
   "id": "e002a8e6",
   "metadata": {},
   "outputs": [
    {
     "name": "stdout",
     "output_type": "stream",
     "text": [
      "My age is  26 My weight is  50\n"
     ]
    }
   ],
   "source": [
    "# formating a string\n",
    "age = 26\n",
    "weight = 50\n",
    "print('My age is ',age,'My weight is ',weight)"
   ]
  },
  {
   "cell_type": "code",
   "execution_count": 49,
   "id": "84cfeb67",
   "metadata": {},
   "outputs": [
    {
     "name": "stdout",
     "output_type": "stream",
     "text": [
      "My age is 26, My wieght is 50\n"
     ]
    }
   ],
   "source": [
    "statment = 'My age is {}, My wieght is {}'.format(age,weight)\n",
    "print(statment)"
   ]
  },
  {
   "cell_type": "code",
   "execution_count": 50,
   "id": "39724526",
   "metadata": {},
   "outputs": [
    {
     "name": "stdout",
     "output_type": "stream",
     "text": [
      "My age is 26, My wieght is 50\n"
     ]
    }
   ],
   "source": [
    "statment = f'My age is {age}, My wieght is {weight}'\n",
    "print(statment)"
   ]
  },
  {
   "cell_type": "code",
   "execution_count": null,
   "id": "be2493c4",
   "metadata": {},
   "outputs": [],
   "source": [
    "# input function"
   ]
  },
  {
   "cell_type": "code",
   "execution_count": 51,
   "id": "01c1fa78",
   "metadata": {
    "collapsed": true
   },
   "outputs": [
    {
     "name": "stdout",
     "output_type": "stream",
     "text": [
      "53\n",
      "53\n"
     ]
    }
   ],
   "source": [
    "age = input()\n",
    "print(age)"
   ]
  },
  {
   "cell_type": "code",
   "execution_count": 52,
   "id": "96d9c350",
   "metadata": {
    "collapsed": true
   },
   "outputs": [
    {
     "data": {
      "text/plain": [
       "str"
      ]
     },
     "execution_count": 52,
     "metadata": {},
     "output_type": "execute_result"
    }
   ],
   "source": [
    "type(age)"
   ]
  },
  {
   "cell_type": "code",
   "execution_count": null,
   "id": "e42ecf3c",
   "metadata": {},
   "outputs": [],
   "source": [
    "# type casting # int, float, str, "
   ]
  },
  {
   "cell_type": "code",
   "execution_count": 53,
   "id": "9577541c",
   "metadata": {
    "collapsed": true
   },
   "outputs": [
    {
     "name": "stdout",
     "output_type": "stream",
     "text": [
      "<class 'str'>\n"
     ]
    },
    {
     "data": {
      "text/plain": [
       "int"
      ]
     },
     "execution_count": 53,
     "metadata": {},
     "output_type": "execute_result"
    }
   ],
   "source": [
    "age = '56'\n",
    "print(type(age))\n",
    "age_int = int(age)\n",
    "type(age_int)"
   ]
  },
  {
   "cell_type": "code",
   "execution_count": 54,
   "id": "3886b400",
   "metadata": {
    "collapsed": true
   },
   "outputs": [
    {
     "name": "stdout",
     "output_type": "stream",
     "text": [
      "<class 'str'>\n"
     ]
    },
    {
     "data": {
      "text/plain": [
       "float"
      ]
     },
     "execution_count": 54,
     "metadata": {},
     "output_type": "execute_result"
    }
   ],
   "source": [
    "age = '56.6'\n",
    "print(type(age))\n",
    "age_int = float(age)\n",
    "type(age_int)"
   ]
  },
  {
   "cell_type": "code",
   "execution_count": 55,
   "id": "96f379e5",
   "metadata": {
    "collapsed": true
   },
   "outputs": [
    {
     "name": "stdout",
     "output_type": "stream",
     "text": [
      "<class 'str'>\n"
     ]
    },
    {
     "data": {
      "text/plain": [
       "complex"
      ]
     },
     "execution_count": 55,
     "metadata": {},
     "output_type": "execute_result"
    }
   ],
   "source": [
    "age = '10+5j'\n",
    "print(type(age))\n",
    "age_int = complex(age)\n",
    "type(age_int)"
   ]
  },
  {
   "cell_type": "code",
   "execution_count": 56,
   "id": "b9ec12e5",
   "metadata": {
    "collapsed": true
   },
   "outputs": [
    {
     "name": "stdout",
     "output_type": "stream",
     "text": [
      "<class 'str'>\n",
      "True\n"
     ]
    },
    {
     "data": {
      "text/plain": [
       "bool"
      ]
     },
     "execution_count": 56,
     "metadata": {},
     "output_type": "execute_result"
    }
   ],
   "source": [
    "age = 'True'\n",
    "print(type(age))\n",
    "age_int = bool(age)\n",
    "print(age_int)\n",
    "type(age_int)"
   ]
  },
  {
   "cell_type": "code",
   "execution_count": 59,
   "id": "33b31900",
   "metadata": {},
   "outputs": [],
   "source": [
    "age = 56\n",
    "weight = 80.9\n",
    "bm = 10+9j\n",
    "name = 'data'"
   ]
  },
  {
   "cell_type": "code",
   "execution_count": 60,
   "id": "8f6e566f",
   "metadata": {
    "collapsed": true
   },
   "outputs": [
    {
     "data": {
      "text/plain": [
       "(56.0, (56+0j), '56', True)"
      ]
     },
     "execution_count": 60,
     "metadata": {},
     "output_type": "execute_result"
    }
   ],
   "source": [
    "float(age),complex(age),str(age), bool(age) # possible type conversion for integer"
   ]
  },
  {
   "cell_type": "code",
   "execution_count": 61,
   "id": "f16630ef",
   "metadata": {
    "collapsed": true
   },
   "outputs": [
    {
     "data": {
      "text/plain": [
       "(80, (80.9+0j), '80.9', True)"
      ]
     },
     "execution_count": 61,
     "metadata": {},
     "output_type": "execute_result"
    }
   ],
   "source": [
    "int(weight),complex(weight),str(weight), bool(weight) # possible type conversion for float"
   ]
  },
  {
   "cell_type": "code",
   "execution_count": 64,
   "id": "839d3946",
   "metadata": {
    "collapsed": true
   },
   "outputs": [
    {
     "data": {
      "text/plain": [
       "('(10+9j)', True)"
      ]
     },
     "execution_count": 64,
     "metadata": {},
     "output_type": "execute_result"
    }
   ],
   "source": [
    "str(bm), bool(bm) ## possible type conversion for complex"
   ]
  },
  {
   "cell_type": "code",
   "execution_count": null,
   "id": "54a19e3c",
   "metadata": {},
   "outputs": [],
   "source": [
    "bool(name) ## possible type conversion for string"
   ]
  },
  {
   "cell_type": "code",
   "execution_count": 75,
   "id": "491cda33",
   "metadata": {
    "collapsed": true
   },
   "outputs": [
    {
     "data": {
      "text/plain": [
       "(80.9, (80.9+0j), True)"
      ]
     },
     "execution_count": 75,
     "metadata": {},
     "output_type": "execute_result"
    }
   ],
   "source": [
    "num = '80.9'\n",
    "float(num), complex(num),bool(num)\n",
    "# int(num) # not possible case"
   ]
  },
  {
   "cell_type": "code",
   "execution_count": 70,
   "id": "0fc8b68f",
   "metadata": {
    "collapsed": true
   },
   "outputs": [
    {
     "data": {
      "text/plain": [
       "False"
      ]
     },
     "execution_count": 70,
     "metadata": {},
     "output_type": "execute_result"
    }
   ],
   "source": [
    "d = None\n",
    "bool(d)"
   ]
  },
  {
   "cell_type": "code",
   "execution_count": 71,
   "id": "5281cf24",
   "metadata": {
    "collapsed": true
   },
   "outputs": [
    {
     "data": {
      "text/plain": [
       "False"
      ]
     },
     "execution_count": 71,
     "metadata": {},
     "output_type": "execute_result"
    }
   ],
   "source": [
    "d = 0\n",
    "bool(d)"
   ]
  },
  {
   "cell_type": "code",
   "execution_count": 72,
   "id": "a0bceaa2",
   "metadata": {
    "collapsed": true
   },
   "outputs": [
    {
     "data": {
      "text/plain": [
       "False"
      ]
     },
     "execution_count": 72,
     "metadata": {},
     "output_type": "execute_result"
    }
   ],
   "source": [
    "d = _\n",
    "bool(d)"
   ]
  },
  {
   "cell_type": "code",
   "execution_count": 76,
   "id": "48d401bc",
   "metadata": {
    "collapsed": true
   },
   "outputs": [
    {
     "name": "stdout",
     "output_type": "stream",
     "text": [
      "80\n"
     ]
    }
   ],
   "source": [
    "marks = int(input())"
   ]
  },
  {
   "cell_type": "code",
   "execution_count": 77,
   "id": "4e4cf2d8",
   "metadata": {
    "collapsed": true
   },
   "outputs": [
    {
     "data": {
      "text/plain": [
       "int"
      ]
     },
     "execution_count": 77,
     "metadata": {},
     "output_type": "execute_result"
    }
   ],
   "source": [
    "type(marks)"
   ]
  },
  {
   "cell_type": "code",
   "execution_count": 78,
   "id": "81fe744a",
   "metadata": {
    "collapsed": true
   },
   "outputs": [
    {
     "name": "stdout",
     "output_type": "stream",
     "text": [
      "30.5\n",
      "30.5\n"
     ]
    },
    {
     "data": {
      "text/plain": [
       "float"
      ]
     },
     "execution_count": 78,
     "metadata": {},
     "output_type": "execute_result"
    }
   ],
   "source": [
    "marks = float(input())\n",
    "print(marks)\n",
    "type(marks)"
   ]
  },
  {
   "cell_type": "code",
   "execution_count": null,
   "id": "5912b6c3",
   "metadata": {},
   "outputs": [],
   "source": [
    "2. operators\n",
    "Arthimetic operators:\n",
    "    + add\n",
    "    - sub\n",
    "    * mul\n",
    "    / div\n",
    "    ** power\n",
    "    // floar div\n",
    "    % reminder\n",
    "Logical operators:\n",
    "    and  & \n",
    "    or |\n",
    "    not !\n",
    "Membership operators:\n",
    "    in ,not in\n",
    "    is , is not\n",
    "comparision operators:\n",
    "    equal ==\n",
    "    not equal !=\n",
    "    greater the >, >=\n",
    "    lesser then <,<=\n",
    "increamenting and decreamenting for looping case\n",
    " += increament\n",
    " -= decreament\n",
    " *= multiples\n",
    " /= divesion \n",
    "    "
   ]
  },
  {
   "cell_type": "code",
   "execution_count": 79,
   "id": "be04cba1",
   "metadata": {},
   "outputs": [],
   "source": [
    "a = 10\n",
    "b = 20\n",
    "a, b = 10, 20"
   ]
  },
  {
   "cell_type": "code",
   "execution_count": 80,
   "id": "292d71b0",
   "metadata": {},
   "outputs": [],
   "source": [
    "add = a+b\n",
    "sub = a-b\n",
    "mul = a*b\n",
    "div = a/b\n",
    "power = a **2\n",
    "flr_div = a//b\n",
    "rmdr = a%b"
   ]
  },
  {
   "cell_type": "code",
   "execution_count": 81,
   "id": "a25f2031",
   "metadata": {},
   "outputs": [
    {
     "name": "stdout",
     "output_type": "stream",
     "text": [
      "30 -10 200 0.5 100 0 10\n"
     ]
    }
   ],
   "source": [
    "print(add, sub,mul,div,power,flr_div,rmdr)"
   ]
  },
  {
   "cell_type": "code",
   "execution_count": 83,
   "id": "e8472081",
   "metadata": {
    "collapsed": true
   },
   "outputs": [
    {
     "name": "stdout",
     "output_type": "stream",
     "text": [
      "addition: 30\n",
      "subtraction:-10\n",
      "mulplication:200\n",
      "division:0.5\n",
      "power_a:100\n",
      "floar_div: 0\n",
      "reminder:10\n"
     ]
    }
   ],
   "source": [
    "print(f'addition: {add}\\nsubtraction:{sub}\\nmulplication:{mul}\\ndivision:{div}\\npower_a:{power}\\nfloar_div: {flr_div}\\nreminder:{rmdr}')"
   ]
  },
  {
   "cell_type": "code",
   "execution_count": null,
   "id": "1a44d6c3",
   "metadata": {},
   "outputs": [],
   "source": [
    "# arithemetic operators on diffrent data types."
   ]
  },
  {
   "cell_type": "code",
   "execution_count": 85,
   "id": "ffdeb5f0",
   "metadata": {},
   "outputs": [
    {
     "data": {
      "text/plain": [
       "'10101010101010101010'"
      ]
     },
     "execution_count": 85,
     "metadata": {},
     "output_type": "execute_result"
    }
   ],
   "source": [
    "# * operator can be used for writing multiple times.\n",
    "a = 10\n",
    "b = '10'\n",
    "a*b"
   ]
  },
  {
   "cell_type": "code",
   "execution_count": 87,
   "id": "a5d555a3",
   "metadata": {
    "collapsed": true
   },
   "outputs": [
    {
     "ename": "TypeError",
     "evalue": "unsupported operand type(s) for +: 'float' and 'str'",
     "output_type": "error",
     "traceback": [
      "\u001b[1;31m---------------------------------------------------------------------------\u001b[0m",
      "\u001b[1;31mTypeError\u001b[0m                                 Traceback (most recent call last)",
      "Cell \u001b[1;32mIn[87], line 3\u001b[0m\n\u001b[0;32m      1\u001b[0m a \u001b[38;5;241m=\u001b[39m \u001b[38;5;241m10.3\u001b[39m\n\u001b[0;32m      2\u001b[0m b \u001b[38;5;241m=\u001b[39m \u001b[38;5;124m'\u001b[39m\u001b[38;5;124m10\u001b[39m\u001b[38;5;124m'\u001b[39m\n\u001b[1;32m----> 3\u001b[0m a\u001b[38;5;241m+\u001b[39mb\n",
      "\u001b[1;31mTypeError\u001b[0m: unsupported operand type(s) for +: 'float' and 'str'"
     ]
    }
   ],
   "source": [
    "a = 10.3\n",
    "b = '10'\n",
    "a+b"
   ]
  },
  {
   "cell_type": "code",
   "execution_count": 88,
   "id": "6cb29297",
   "metadata": {},
   "outputs": [
    {
     "data": {
      "text/plain": [
       "'10.310'"
      ]
     },
     "execution_count": 88,
     "metadata": {},
     "output_type": "execute_result"
    }
   ],
   "source": [
    "# + operator can be used for concatination\n",
    "a = '10.3'\n",
    "b = '10'\n",
    "a+b"
   ]
  },
  {
   "cell_type": "markdown",
   "id": "0d0258c8",
   "metadata": {},
   "source": [
    "# Data structures\n",
    "List\n",
    "Tuple\n",
    "Set\n",
    "Dictionary"
   ]
  },
  {
   "cell_type": "code",
   "execution_count": null,
   "id": "70ebfdcd",
   "metadata": {},
   "outputs": [],
   "source": [
    "Creating a list type of data structure,[], list(), values are stored as comma separated."
   ]
  },
  {
   "cell_type": "code",
   "execution_count": 135,
   "id": "6bad97ef",
   "metadata": {},
   "outputs": [
    {
     "name": "stdout",
     "output_type": "stream",
     "text": [
      "[]\n",
      "<class 'list'>\n"
     ]
    }
   ],
   "source": [
    "Alist = []\n",
    "print(Alist)\n",
    "print(type(Alist))"
   ]
  },
  {
   "cell_type": "code",
   "execution_count": 136,
   "id": "239e74cf",
   "metadata": {},
   "outputs": [
    {
     "name": "stdout",
     "output_type": "stream",
     "text": [
      "[]\n",
      "<class 'list'>\n"
     ]
    }
   ],
   "source": [
    "Alist = list()\n",
    "print(Alist)\n",
    "print(type(Alist))"
   ]
  },
  {
   "cell_type": "code",
   "execution_count": 137,
   "id": "5bda16af",
   "metadata": {},
   "outputs": [
    {
     "name": "stdout",
     "output_type": "stream",
     "text": [
      "[10, 15, 19, 18, 20, 30]\n",
      "<class 'list'>\n"
     ]
    }
   ],
   "source": [
    "Blist = [10,15,19,18,20,30]\n",
    "print(Blist)\n",
    "print(type(Blist))"
   ]
  },
  {
   "cell_type": "code",
   "execution_count": 138,
   "id": "61b75abd",
   "metadata": {},
   "outputs": [
    {
     "name": "stdout",
     "output_type": "stream",
     "text": [
      "[10, 19.6, 'name', True, None]\n",
      "<class 'list'>\n"
     ]
    }
   ],
   "source": [
    "Clist = [10,19.6, 'name',True,None]\n",
    "print(Clist)\n",
    "print(type(Clist))"
   ]
  },
  {
   "cell_type": "code",
   "execution_count": 139,
   "id": "04f67f50",
   "metadata": {},
   "outputs": [
    {
     "data": {
      "text/plain": [
       "[10, 15, 19, 18, 20, 30, 10, 15, 19, 18, 20, 30, 10, 15, 19, 18, 20, 30]"
      ]
     },
     "execution_count": 139,
     "metadata": {},
     "output_type": "execute_result"
    }
   ],
   "source": [
    "Blist * 3 # multiple tim"
   ]
  },
  {
   "cell_type": "code",
   "execution_count": 140,
   "id": "7760122b",
   "metadata": {},
   "outputs": [
    {
     "data": {
      "text/plain": [
       "[10, 15, 19, 18, 20, 30, 10, 19.6, 'name', True, None]"
      ]
     },
     "execution_count": 140,
     "metadata": {},
     "output_type": "execute_result"
    }
   ],
   "source": [
    "Blist + Clist # concatination /join"
   ]
  },
  {
   "cell_type": "code",
   "execution_count": 141,
   "id": "cec8f717",
   "metadata": {},
   "outputs": [],
   "source": [
    "# - ,/ operators will not work for list type of data."
   ]
  },
  {
   "cell_type": "code",
   "execution_count": 142,
   "id": "d438b70f",
   "metadata": {},
   "outputs": [
    {
     "data": {
      "text/plain": [
       "(True, True)"
      ]
     },
     "execution_count": 142,
     "metadata": {},
     "output_type": "execute_result"
    }
   ],
   "source": [
    "20 in Blist, 23 not in Blist # membership operators"
   ]
  },
  {
   "cell_type": "code",
   "execution_count": 143,
   "id": "36b95b57",
   "metadata": {},
   "outputs": [
    {
     "data": {
      "text/plain": [
       "(True, True)"
      ]
     },
     "execution_count": 143,
     "metadata": {},
     "output_type": "execute_result"
    }
   ],
   "source": [
    "type(Blist) is list, type(Blist) is not str  # membership operators"
   ]
  },
  {
   "cell_type": "code",
   "execution_count": 144,
   "id": "b3a5bd80",
   "metadata": {},
   "outputs": [],
   "source": [
    "# builtin function for list type of data"
   ]
  },
  {
   "cell_type": "code",
   "execution_count": 145,
   "id": "2b7b597f",
   "metadata": {},
   "outputs": [],
   "source": [
    "age = [25,26,27,28,29,30,45,86,52]"
   ]
  },
  {
   "cell_type": "code",
   "execution_count": 146,
   "id": "d7593f26",
   "metadata": {},
   "outputs": [],
   "source": [
    "# to add a new value to a list\n",
    "age.append(23) # single value"
   ]
  },
  {
   "cell_type": "code",
   "execution_count": 147,
   "id": "82734f3e",
   "metadata": {},
   "outputs": [
    {
     "data": {
      "text/plain": [
       "[25, 26, 27, 28, 29, 30, 45, 86, 52, 23]"
      ]
     },
     "execution_count": 147,
     "metadata": {},
     "output_type": "execute_result"
    }
   ],
   "source": [
    "age"
   ]
  },
  {
   "cell_type": "code",
   "execution_count": 148,
   "id": "a4667238",
   "metadata": {},
   "outputs": [],
   "source": [
    "age.append([26,29])"
   ]
  },
  {
   "cell_type": "code",
   "execution_count": 149,
   "id": "cc64eaab",
   "metadata": {},
   "outputs": [
    {
     "data": {
      "text/plain": [
       "[25, 26, 27, 28, 29, 30, 45, 86, 52, 23, [26, 29]]"
      ]
     },
     "execution_count": 149,
     "metadata": {},
     "output_type": "execute_result"
    }
   ],
   "source": [
    "age"
   ]
  },
  {
   "cell_type": "code",
   "execution_count": 150,
   "id": "2578832c",
   "metadata": {},
   "outputs": [],
   "source": [
    "age.extend([24,25]) # multiple value"
   ]
  },
  {
   "cell_type": "code",
   "execution_count": 111,
   "id": "e5ab0615",
   "metadata": {
    "collapsed": true
   },
   "outputs": [
    {
     "data": {
      "text/plain": [
       "[25, 26, 27, 28, 29, 30, 45, 86, 52, 23, [26, 29], 24, 25]"
      ]
     },
     "execution_count": 111,
     "metadata": {},
     "output_type": "execute_result"
    }
   ],
   "source": [
    "age"
   ]
  },
  {
   "cell_type": "code",
   "execution_count": 112,
   "id": "fa364829",
   "metadata": {},
   "outputs": [],
   "source": [
    "age.insert(0,15)"
   ]
  },
  {
   "cell_type": "code",
   "execution_count": 113,
   "id": "afb96f24",
   "metadata": {},
   "outputs": [
    {
     "data": {
      "text/plain": [
       "[15, 25, 26, 27, 28, 29, 30, 45, 86, 52, 23, [26, 29], 24, 25]"
      ]
     },
     "execution_count": 113,
     "metadata": {},
     "output_type": "execute_result"
    }
   ],
   "source": [
    "age"
   ]
  },
  {
   "cell_type": "code",
   "execution_count": null,
   "id": "7f969baa",
   "metadata": {},
   "outputs": [],
   "source": [
    "# removing a value / "
   ]
  },
  {
   "cell_type": "code",
   "execution_count": 114,
   "id": "86414261",
   "metadata": {
    "collapsed": true
   },
   "outputs": [
    {
     "data": {
      "text/plain": [
       "25"
      ]
     },
     "execution_count": 114,
     "metadata": {},
     "output_type": "execute_result"
    }
   ],
   "source": [
    "age.pop() # last value"
   ]
  },
  {
   "cell_type": "code",
   "execution_count": 115,
   "id": "af5e391b",
   "metadata": {},
   "outputs": [
    {
     "data": {
      "text/plain": [
       "[15, 25, 26, 27, 28, 29, 30, 45, 86, 52, 23, [26, 29], 24]"
      ]
     },
     "execution_count": 115,
     "metadata": {},
     "output_type": "execute_result"
    }
   ],
   "source": [
    "age"
   ]
  },
  {
   "cell_type": "code",
   "execution_count": 116,
   "id": "9426e5d5",
   "metadata": {
    "collapsed": true
   },
   "outputs": [
    {
     "data": {
      "text/plain": [
       "25"
      ]
     },
     "execution_count": 116,
     "metadata": {},
     "output_type": "execute_result"
    }
   ],
   "source": [
    "age.pop(1)"
   ]
  },
  {
   "cell_type": "code",
   "execution_count": 117,
   "id": "00723212",
   "metadata": {
    "collapsed": true
   },
   "outputs": [
    {
     "data": {
      "text/plain": [
       "[15, 26, 27, 28, 29, 30, 45, 86, 52, 23, [26, 29], 24]"
      ]
     },
     "execution_count": 117,
     "metadata": {},
     "output_type": "execute_result"
    }
   ],
   "source": [
    "age"
   ]
  },
  {
   "cell_type": "code",
   "execution_count": 118,
   "id": "d836c2dd",
   "metadata": {},
   "outputs": [],
   "source": [
    "age.remove(86)"
   ]
  },
  {
   "cell_type": "code",
   "execution_count": 119,
   "id": "b08d4198",
   "metadata": {
    "collapsed": true
   },
   "outputs": [
    {
     "data": {
      "text/plain": [
       "[15, 26, 27, 28, 29, 30, 45, 52, 23, [26, 29], 24]"
      ]
     },
     "execution_count": 119,
     "metadata": {},
     "output_type": "execute_result"
    }
   ],
   "source": [
    "age"
   ]
  },
  {
   "cell_type": "code",
   "execution_count": 120,
   "id": "ab271bdf",
   "metadata": {},
   "outputs": [],
   "source": [
    "age.remove([26,29])"
   ]
  },
  {
   "cell_type": "code",
   "execution_count": 121,
   "id": "152fcf6e",
   "metadata": {},
   "outputs": [
    {
     "data": {
      "text/plain": [
       "[15, 26, 27, 28, 29, 30, 45, 52, 23, 24]"
      ]
     },
     "execution_count": 121,
     "metadata": {},
     "output_type": "execute_result"
    }
   ],
   "source": [
    "age"
   ]
  },
  {
   "cell_type": "code",
   "execution_count": null,
   "id": "c15ac97c",
   "metadata": {},
   "outputs": [],
   "source": [
    "Age = age[::-1]"
   ]
  },
  {
   "cell_type": "code",
   "execution_count": null,
   "id": "20664825",
   "metadata": {},
   "outputs": [],
   "source": [
    "Age"
   ]
  },
  {
   "cell_type": "code",
   "execution_count": null,
   "id": "950eb5f2",
   "metadata": {},
   "outputs": [],
   "source": [
    "Age.remove(30)"
   ]
  },
  {
   "cell_type": "code",
   "execution_count": null,
   "id": "80e39289",
   "metadata": {},
   "outputs": [],
   "source": [
    "Age"
   ]
  },
  {
   "cell_type": "code",
   "execution_count": null,
   "id": "8a0bc737",
   "metadata": {},
   "outputs": [],
   "source": [
    "age.clear()"
   ]
  },
  {
   "cell_type": "code",
   "execution_count": null,
   "id": "290aad6d",
   "metadata": {},
   "outputs": [],
   "source": [
    "age"
   ]
  },
  {
   "cell_type": "code",
   "execution_count": 128,
   "id": "8760e042",
   "metadata": {},
   "outputs": [],
   "source": [
    "age = [25,26,27,28,29,30,45,86,52]"
   ]
  },
  {
   "cell_type": "code",
   "execution_count": 123,
   "id": "ce0cddeb",
   "metadata": {},
   "outputs": [],
   "source": [
    "Age = age.copy()"
   ]
  },
  {
   "cell_type": "code",
   "execution_count": 124,
   "id": "5a5d90d0",
   "metadata": {
    "collapsed": true
   },
   "outputs": [
    {
     "data": {
      "text/plain": [
       "[25, 26, 27, 28, 29, 30, 45, 86, 52]"
      ]
     },
     "execution_count": 124,
     "metadata": {},
     "output_type": "execute_result"
    }
   ],
   "source": [
    "Age"
   ]
  },
  {
   "cell_type": "code",
   "execution_count": 134,
   "id": "0352bef7",
   "metadata": {},
   "outputs": [
    {
     "data": {
      "text/plain": [
       "6"
      ]
     },
     "execution_count": 134,
     "metadata": {},
     "output_type": "execute_result"
    }
   ],
   "source": [
    "age.index(27) # index number of given value"
   ]
  },
  {
   "cell_type": "code",
   "execution_count": 126,
   "id": "f9ef64a1",
   "metadata": {},
   "outputs": [],
   "source": [
    "age.reverse()"
   ]
  },
  {
   "cell_type": "code",
   "execution_count": 127,
   "id": "9c2e46eb",
   "metadata": {
    "collapsed": true
   },
   "outputs": [
    {
     "data": {
      "text/plain": [
       "[52, 86, 45, 30, 29, 28, 27, 26, 25]"
      ]
     },
     "execution_count": 127,
     "metadata": {},
     "output_type": "execute_result"
    }
   ],
   "source": [
    "age"
   ]
  },
  {
   "cell_type": "code",
   "execution_count": 129,
   "id": "2df3080e",
   "metadata": {
    "collapsed": true
   },
   "outputs": [
    {
     "data": {
      "text/plain": [
       "[52, 86, 45, 30, 29, 28, 27, 26, 25]"
      ]
     },
     "execution_count": 129,
     "metadata": {},
     "output_type": "execute_result"
    }
   ],
   "source": [
    "age[::-1]"
   ]
  },
  {
   "cell_type": "code",
   "execution_count": 130,
   "id": "28e8fdfa",
   "metadata": {},
   "outputs": [],
   "source": [
    "age.sort() # ascending order"
   ]
  },
  {
   "cell_type": "code",
   "execution_count": 131,
   "id": "f509b3b0",
   "metadata": {
    "collapsed": true
   },
   "outputs": [
    {
     "data": {
      "text/plain": [
       "[25, 26, 27, 28, 29, 30, 45, 52, 86]"
      ]
     },
     "execution_count": 131,
     "metadata": {},
     "output_type": "execute_result"
    }
   ],
   "source": [
    "age"
   ]
  },
  {
   "cell_type": "code",
   "execution_count": 132,
   "id": "ed8475f1",
   "metadata": {},
   "outputs": [],
   "source": [
    "age.sort(reverse=True) # descending order"
   ]
  },
  {
   "cell_type": "code",
   "execution_count": 151,
   "id": "759fd537",
   "metadata": {},
   "outputs": [
    {
     "data": {
      "text/plain": [
       "[25, 26, 27, 28, 29, 30, 45, 86, 52, 23, [26, 29], 24, 25]"
      ]
     },
     "execution_count": 151,
     "metadata": {},
     "output_type": "execute_result"
    }
   ],
   "source": [
    "age"
   ]
  },
  {
   "cell_type": "code",
   "execution_count": null,
   "id": "88589fd1",
   "metadata": {},
   "outputs": [],
   "source": [
    "# indexing and slicing"
   ]
  },
  {
   "cell_type": "code",
   "execution_count": 152,
   "id": "50522997",
   "metadata": {},
   "outputs": [
    {
     "data": {
      "text/plain": [
       "[25, 26, 27, 28, 29, 30, 45, 86, 52, 23, [26, 29], 24, 25]"
      ]
     },
     "execution_count": 152,
     "metadata": {},
     "output_type": "execute_result"
    }
   ],
   "source": [
    "age"
   ]
  },
  {
   "cell_type": "code",
   "execution_count": 153,
   "id": "4a4c9b02",
   "metadata": {},
   "outputs": [
    {
     "data": {
      "text/plain": [
       "25"
      ]
     },
     "execution_count": 153,
     "metadata": {},
     "output_type": "execute_result"
    }
   ],
   "source": [
    "age[0]"
   ]
  },
  {
   "cell_type": "code",
   "execution_count": 154,
   "id": "92987818",
   "metadata": {},
   "outputs": [
    {
     "data": {
      "text/plain": [
       "26"
      ]
     },
     "execution_count": 154,
     "metadata": {},
     "output_type": "execute_result"
    }
   ],
   "source": [
    "age[1]"
   ]
  },
  {
   "cell_type": "code",
   "execution_count": 155,
   "id": "479529d2",
   "metadata": {},
   "outputs": [
    {
     "data": {
      "text/plain": [
       "[25, 26, 27, 28, 29]"
      ]
     },
     "execution_count": 155,
     "metadata": {},
     "output_type": "execute_result"
    }
   ],
   "source": [
    "age[0:5]"
   ]
  },
  {
   "cell_type": "code",
   "execution_count": 156,
   "id": "26d8fda1",
   "metadata": {},
   "outputs": [
    {
     "data": {
      "text/plain": [
       "[30, 29, 28, 27, 26]"
      ]
     },
     "execution_count": 156,
     "metadata": {},
     "output_type": "execute_result"
    }
   ],
   "source": [
    "age[5:0:-1]"
   ]
  },
  {
   "cell_type": "code",
   "execution_count": 157,
   "id": "ef17ef29",
   "metadata": {},
   "outputs": [
    {
     "data": {
      "text/plain": [
       "[25, 27, 29]"
      ]
     },
     "execution_count": 157,
     "metadata": {},
     "output_type": "execute_result"
    }
   ],
   "source": [
    "age[0:6:2]"
   ]
  },
  {
   "cell_type": "code",
   "execution_count": 158,
   "id": "69fcbab4",
   "metadata": {},
   "outputs": [
    {
     "data": {
      "text/plain": [
       "[25, 26, 27, 28, 29, 30, 45, 86, 52, 23, [26, 29], 24, 25]"
      ]
     },
     "execution_count": 158,
     "metadata": {},
     "output_type": "execute_result"
    }
   ],
   "source": [
    "age"
   ]
  },
  {
   "cell_type": "code",
   "execution_count": 159,
   "id": "cef2a461",
   "metadata": {},
   "outputs": [],
   "source": [
    "age[2] = 50"
   ]
  },
  {
   "cell_type": "code",
   "execution_count": 160,
   "id": "5ce43b26",
   "metadata": {},
   "outputs": [
    {
     "data": {
      "text/plain": [
       "[25, 26, 50, 28, 29, 30, 45, 86, 52, 23, [26, 29], 24, 25]"
      ]
     },
     "execution_count": 160,
     "metadata": {},
     "output_type": "execute_result"
    }
   ],
   "source": [
    "age"
   ]
  },
  {
   "cell_type": "code",
   "execution_count": null,
   "id": "01b2013a",
   "metadata": {},
   "outputs": [],
   "source": [
    "# multiple list"
   ]
  },
  {
   "cell_type": "code",
   "execution_count": 171,
   "id": "36abd257",
   "metadata": {},
   "outputs": [
    {
     "data": {
      "text/plain": [
       "1"
      ]
     },
     "execution_count": 171,
     "metadata": {},
     "output_type": "execute_result"
    }
   ],
   "source": [
    "import numpy as np\n",
    "mul_list = np.array([10,20,30])\n",
    "mul_list.ndim"
   ]
  },
  {
   "cell_type": "code",
   "execution_count": 175,
   "id": "6bfb1bf8",
   "metadata": {},
   "outputs": [],
   "source": [
    "import numpy as np\n",
    "mul_list = np.array([[[[10,20,30],\n",
    "                      [10,20,30]]]])"
   ]
  },
  {
   "cell_type": "code",
   "execution_count": 176,
   "id": "ce80c38b",
   "metadata": {
    "collapsed": true
   },
   "outputs": [
    {
     "data": {
      "text/plain": [
       "(1, 1, 2, 3)"
      ]
     },
     "execution_count": 176,
     "metadata": {},
     "output_type": "execute_result"
    }
   ],
   "source": [
    "mul_list.shape"
   ]
  },
  {
   "cell_type": "code",
   "execution_count": 177,
   "id": "217f389d",
   "metadata": {
    "collapsed": true
   },
   "outputs": [
    {
     "data": {
      "text/plain": [
       "4"
      ]
     },
     "execution_count": 177,
     "metadata": {},
     "output_type": "execute_result"
    }
   ],
   "source": [
    "mul_list.ndim"
   ]
  },
  {
   "cell_type": "code",
   "execution_count": 183,
   "id": "f8207603",
   "metadata": {},
   "outputs": [],
   "source": [
    "mul_list[0][0][0][1] = 30"
   ]
  },
  {
   "cell_type": "code",
   "execution_count": 184,
   "id": "ca040d29",
   "metadata": {
    "collapsed": true
   },
   "outputs": [
    {
     "data": {
      "text/plain": [
       "array([[[[10, 30, 30],\n",
       "         [10, 20, 30]]]])"
      ]
     },
     "execution_count": 184,
     "metadata": {},
     "output_type": "execute_result"
    }
   ],
   "source": [
    "mul_list"
   ]
  },
  {
   "cell_type": "code",
   "execution_count": 185,
   "id": "123c0839",
   "metadata": {},
   "outputs": [],
   "source": [
    "mul_list = [[12,30,60],[1,2,3,[4,5,6],[5,6,9,[4,8,9,[0,0,0]]]]]"
   ]
  },
  {
   "cell_type": "code",
   "execution_count": 190,
   "id": "e5886ae1",
   "metadata": {},
   "outputs": [],
   "source": [
    "mul_list[1][4][1] = 7 # 6 --> 7"
   ]
  },
  {
   "cell_type": "code",
   "execution_count": 191,
   "id": "f0297087",
   "metadata": {},
   "outputs": [
    {
     "data": {
      "text/plain": [
       "[[12, 30, 60], [1, 2, 3, [4, 5, 6], [5, 7, 9, [4, 8, 9, [0, 0, 0]]]]]"
      ]
     },
     "execution_count": 191,
     "metadata": {},
     "output_type": "execute_result"
    }
   ],
   "source": [
    "mul_list"
   ]
  },
  {
   "cell_type": "code",
   "execution_count": null,
   "id": "2e78979d",
   "metadata": {},
   "outputs": [],
   "source": [
    "mul_list1 =[[[[10,20,30]],[[15,16],18],[90,60,30]]]"
   ]
  },
  {
   "cell_type": "code",
   "execution_count": null,
   "id": "3a71f50d",
   "metadata": {},
   "outputs": [],
   "source": [
    "mul_list1[0][1][0][1]"
   ]
  },
  {
   "cell_type": "code",
   "execution_count": null,
   "id": "1dd963ae",
   "metadata": {},
   "outputs": [],
   "source": [
    "mul_list1[0][2][2]"
   ]
  },
  {
   "cell_type": "code",
   "execution_count": null,
   "id": "66ffcb54",
   "metadata": {},
   "outputs": [],
   "source": [
    "# python's builtin function"
   ]
  },
  {
   "cell_type": "code",
   "execution_count": null,
   "id": "1c2e9f50",
   "metadata": {},
   "outputs": [],
   "source": [
    "min(),max(),sum(),len(), abs(), round()"
   ]
  },
  {
   "cell_type": "code",
   "execution_count": 192,
   "id": "1ed99abc",
   "metadata": {},
   "outputs": [],
   "source": [
    "marks =[56,58,59,93,63,77]"
   ]
  },
  {
   "cell_type": "code",
   "execution_count": 193,
   "id": "144fda68",
   "metadata": {
    "collapsed": true
   },
   "outputs": [
    {
     "data": {
      "text/plain": [
       "(56, 93, 406, 6, 90)"
      ]
     },
     "execution_count": 193,
     "metadata": {},
     "output_type": "execute_result"
    }
   ],
   "source": [
    "min(marks), max(marks), sum(marks),len(marks),abs(-90)"
   ]
  },
  {
   "cell_type": "code",
   "execution_count": null,
   "id": "c2d40e4a",
   "metadata": {},
   "outputs": [],
   "source": [
    "# average marks"
   ]
  },
  {
   "cell_type": "code",
   "execution_count": 194,
   "id": "1800e5a3",
   "metadata": {
    "collapsed": true
   },
   "outputs": [
    {
     "data": {
      "text/plain": [
       "67.66666666666667"
      ]
     },
     "execution_count": 194,
     "metadata": {},
     "output_type": "execute_result"
    }
   ],
   "source": [
    "avegare_marks = sum(marks)/len(marks)\n",
    "avegare_marks"
   ]
  },
  {
   "cell_type": "code",
   "execution_count": 195,
   "id": "e6c5f614",
   "metadata": {
    "collapsed": true
   },
   "outputs": [
    {
     "data": {
      "text/plain": [
       "68"
      ]
     },
     "execution_count": 195,
     "metadata": {},
     "output_type": "execute_result"
    }
   ],
   "source": [
    "round(avegare_marks)"
   ]
  },
  {
   "cell_type": "code",
   "execution_count": 198,
   "id": "f3566ca8",
   "metadata": {
    "collapsed": true
   },
   "outputs": [
    {
     "data": {
      "text/plain": [
       "67.667"
      ]
     },
     "execution_count": 198,
     "metadata": {},
     "output_type": "execute_result"
    }
   ],
   "source": [
    "round(avegare_marks,3)"
   ]
  },
  {
   "cell_type": "code",
   "execution_count": 199,
   "id": "8efaf188",
   "metadata": {},
   "outputs": [],
   "source": [
    "# calculate average age.\n",
    "students_age = [28, 29, 30, 45, 86, 52, 23, [26, 29], 24, 25]"
   ]
  },
  {
   "cell_type": "code",
   "execution_count": null,
   "id": "3deeb789",
   "metadata": {},
   "outputs": [],
   "source": [
    "# convert the student name in upper case.\n",
    "students_name = ['Prajwal','juhaib','aryan','ram']"
   ]
  },
  {
   "cell_type": "code",
   "execution_count": null,
   "id": "def147ba",
   "metadata": {},
   "outputs": [],
   "source": [
    "students_name[0][0].upper()"
   ]
  },
  {
   "cell_type": "code",
   "execution_count": null,
   "id": "a37f2665",
   "metadata": {},
   "outputs": [],
   "source": [
    "# Tuple : immutable type data structure. \n",
    "cannt update the tuple data\n",
    "cannt assign a new value\n",
    "cannt delet a value from a tuple."
   ]
  },
  {
   "cell_type": "code",
   "execution_count": 200,
   "id": "4706d582",
   "metadata": {},
   "outputs": [],
   "source": [
    "# create tuple data\n",
    "t = tuple()\n",
    "T = 10,20,30,60\n",
    "y = (10,20,30)"
   ]
  },
  {
   "cell_type": "code",
   "execution_count": 201,
   "id": "cb77cb4f",
   "metadata": {
    "collapsed": true
   },
   "outputs": [
    {
     "name": "stdout",
     "output_type": "stream",
     "text": [
      "<class 'tuple'>\n",
      "<class 'tuple'>\n",
      "<class 'tuple'>\n"
     ]
    }
   ],
   "source": [
    "print(type(t))\n",
    "print(type(T))\n",
    "print(type(y))"
   ]
  },
  {
   "cell_type": "code",
   "execution_count": 204,
   "id": "49acdcad",
   "metadata": {
    "collapsed": true
   },
   "outputs": [
    {
     "data": {
      "text/plain": [
       "(1, 2)"
      ]
     },
     "execution_count": 204,
     "metadata": {},
     "output_type": "execute_result"
    }
   ],
   "source": [
    "T.count(10),T.index(30)"
   ]
  },
  {
   "cell_type": "code",
   "execution_count": 205,
   "id": "24900714",
   "metadata": {
    "collapsed": true
   },
   "outputs": [
    {
     "name": "stdout",
     "output_type": "stream",
     "text": [
      "[10, 20, 30, 60, 80]\n",
      "<class 'list'>\n"
     ]
    }
   ],
   "source": [
    "# converting to list\n",
    "List = list(T)\n",
    "List.append(80)\n",
    "print(List)\n",
    "print(type(List))"
   ]
  },
  {
   "cell_type": "code",
   "execution_count": 206,
   "id": "ef76b3f8",
   "metadata": {
    "collapsed": true
   },
   "outputs": [
    {
     "name": "stdout",
     "output_type": "stream",
     "text": [
      "(10, 20, 30, 60, 80)\n",
      "<class 'tuple'>\n"
     ]
    }
   ],
   "source": [
    "T = tuple(List)\n",
    "print(T)\n",
    "print(type(T))"
   ]
  },
  {
   "cell_type": "code",
   "execution_count": null,
   "id": "7181f810",
   "metadata": {},
   "outputs": [],
   "source": [
    "# Set type of data structure.\n",
    "defualt unique + ascending order\n",
    "the data is not on basis of indexing"
   ]
  },
  {
   "cell_type": "code",
   "execution_count": 207,
   "id": "1ee9e29c",
   "metadata": {
    "collapsed": true
   },
   "outputs": [
    {
     "name": "stdout",
     "output_type": "stream",
     "text": [
      "{10, 20, 30}\n",
      "set()\n",
      "<class 'set'> <class 'set'>\n"
     ]
    }
   ],
   "source": [
    "#create a set type of data\n",
    "S = {10,20,30}\n",
    "R = set()\n",
    "print(S)\n",
    "print(R)\n",
    "print(type(S),type(R))"
   ]
  },
  {
   "cell_type": "code",
   "execution_count": 225,
   "id": "698178ac",
   "metadata": {},
   "outputs": [
    {
     "name": "stdout",
     "output_type": "stream",
     "text": [
      "{80, 50, 20, 10, 60, 30}\n"
     ]
    }
   ],
   "source": [
    "Set1 = {10,20,20,30,30,50,60,10,20,80}\n",
    "print(Set1)"
   ]
  },
  {
   "cell_type": "code",
   "execution_count": 226,
   "id": "1dc0d834",
   "metadata": {},
   "outputs": [
    {
     "data": {
      "text/plain": [
       "{10, 20, 30, 50, 60, 80}"
      ]
     },
     "execution_count": 226,
     "metadata": {},
     "output_type": "execute_result"
    }
   ],
   "source": [
    "Set1"
   ]
  },
  {
   "cell_type": "code",
   "execution_count": 212,
   "id": "bf136220",
   "metadata": {
    "collapsed": true
   },
   "outputs": [
    {
     "name": "stdout",
     "output_type": "stream",
     "text": [
      "{50, 20, 10, 60, 30}\n"
     ]
    }
   ],
   "source": [
    "Set2 = {10,20,30,50,60,10,20}\n",
    "print(Set2)"
   ]
  },
  {
   "cell_type": "code",
   "execution_count": 213,
   "id": "876b96e5",
   "metadata": {},
   "outputs": [
    {
     "data": {
      "text/plain": [
       "({10, 20, 30, 50, 60, 80}, {10, 20, 30, 50, 60})"
      ]
     },
     "execution_count": 213,
     "metadata": {},
     "output_type": "execute_result"
    }
   ],
   "source": [
    "Set1, Set2"
   ]
  },
  {
   "cell_type": "code",
   "execution_count": 216,
   "id": "0a3d251b",
   "metadata": {},
   "outputs": [],
   "source": [
    "Set1.add(19)"
   ]
  },
  {
   "cell_type": "code",
   "execution_count": 217,
   "id": "997dc6a1",
   "metadata": {
    "collapsed": true
   },
   "outputs": [
    {
     "data": {
      "text/plain": [
       "{10, 19, 20, 30, 50, 60, 80}"
      ]
     },
     "execution_count": 217,
     "metadata": {},
     "output_type": "execute_result"
    }
   ],
   "source": [
    "Set1"
   ]
  },
  {
   "cell_type": "code",
   "execution_count": 218,
   "id": "21e39b9e",
   "metadata": {},
   "outputs": [],
   "source": [
    "Set1.update({104,105})"
   ]
  },
  {
   "cell_type": "code",
   "execution_count": 219,
   "id": "e1eafd20",
   "metadata": {
    "collapsed": true
   },
   "outputs": [
    {
     "data": {
      "text/plain": [
       "{10, 19, 20, 30, 50, 60, 80, 104, 105}"
      ]
     },
     "execution_count": 219,
     "metadata": {},
     "output_type": "execute_result"
    }
   ],
   "source": [
    "Set1"
   ]
  },
  {
   "cell_type": "code",
   "execution_count": 221,
   "id": "cdd2a1a6",
   "metadata": {
    "collapsed": true
   },
   "outputs": [
    {
     "data": {
      "text/plain": [
       "105"
      ]
     },
     "execution_count": 221,
     "metadata": {},
     "output_type": "execute_result"
    }
   ],
   "source": [
    "Set1.pop()"
   ]
  },
  {
   "cell_type": "code",
   "execution_count": 222,
   "id": "fbfae2e9",
   "metadata": {
    "collapsed": true
   },
   "outputs": [
    {
     "data": {
      "text/plain": [
       "{10, 19, 20, 30, 50, 60, 80}"
      ]
     },
     "execution_count": 222,
     "metadata": {},
     "output_type": "execute_result"
    }
   ],
   "source": [
    "Set1"
   ]
  },
  {
   "cell_type": "code",
   "execution_count": 223,
   "id": "37634742",
   "metadata": {},
   "outputs": [],
   "source": [
    "Set1.remove(60)"
   ]
  },
  {
   "cell_type": "code",
   "execution_count": 224,
   "id": "741bb671",
   "metadata": {},
   "outputs": [
    {
     "data": {
      "text/plain": [
       "{10, 19, 20, 30, 50, 80}"
      ]
     },
     "execution_count": 224,
     "metadata": {},
     "output_type": "execute_result"
    }
   ],
   "source": [
    "Set1"
   ]
  },
  {
   "cell_type": "code",
   "execution_count": 233,
   "id": "3d069e9e",
   "metadata": {},
   "outputs": [],
   "source": [
    "name1 = {'Prajwal','juhaib','aryan','ram','pyarellall','aryan','ram','pyarellall'}\n",
    "name2 = {'aryan','ram','pyarellall','binit','venkatesh','tej','rajshri','tanuja'}"
   ]
  },
  {
   "cell_type": "code",
   "execution_count": 228,
   "id": "7110bac0",
   "metadata": {
    "collapsed": true
   },
   "outputs": [
    {
     "data": {
      "text/plain": [
       "({'Prajwal', 'aryan', 'juhaib', 'pyarellall', 'ram'},\n",
       " {'aryan',\n",
       "  'binit',\n",
       "  'pyarellall',\n",
       "  'rajshri',\n",
       "  'ram',\n",
       "  'tanuja',\n",
       "  'tej',\n",
       "  'venkatesh'})"
      ]
     },
     "execution_count": 228,
     "metadata": {},
     "output_type": "execute_result"
    }
   ],
   "source": [
    "name1,name2"
   ]
  },
  {
   "cell_type": "code",
   "execution_count": 229,
   "id": "6fbd13f9",
   "metadata": {
    "collapsed": true
   },
   "outputs": [
    {
     "data": {
      "text/plain": [
       "{'Prajwal',\n",
       " 'aryan',\n",
       " 'binit',\n",
       " 'juhaib',\n",
       " 'pyarellall',\n",
       " 'rajshri',\n",
       " 'ram',\n",
       " 'tanuja',\n",
       " 'tej',\n",
       " 'venkatesh'}"
      ]
     },
     "execution_count": 229,
     "metadata": {},
     "output_type": "execute_result"
    }
   ],
   "source": [
    "name1.union(name2)"
   ]
  },
  {
   "cell_type": "code",
   "execution_count": 230,
   "id": "11681b2c",
   "metadata": {},
   "outputs": [
    {
     "data": {
      "text/plain": [
       "{'Prajwal', 'juhaib'}"
      ]
     },
     "execution_count": 230,
     "metadata": {},
     "output_type": "execute_result"
    }
   ],
   "source": [
    "name1.difference(name2)"
   ]
  },
  {
   "cell_type": "code",
   "execution_count": 234,
   "id": "84033bfa",
   "metadata": {
    "collapsed": true
   },
   "outputs": [
    {
     "data": {
      "text/plain": [
       "{'binit', 'rajshri', 'tanuja', 'tej', 'venkatesh'}"
      ]
     },
     "execution_count": 234,
     "metadata": {},
     "output_type": "execute_result"
    }
   ],
   "source": [
    "name2.difference(name1)"
   ]
  },
  {
   "cell_type": "code",
   "execution_count": 235,
   "id": "eaf5ea6e",
   "metadata": {
    "collapsed": true
   },
   "outputs": [
    {
     "data": {
      "text/plain": [
       "{'aryan', 'pyarellall', 'ram'}"
      ]
     },
     "execution_count": 235,
     "metadata": {},
     "output_type": "execute_result"
    }
   ],
   "source": [
    "name1.intersection(name2)"
   ]
  },
  {
   "cell_type": "code",
   "execution_count": 236,
   "id": "37697982",
   "metadata": {
    "collapsed": true
   },
   "outputs": [
    {
     "data": {
      "text/plain": [
       "{'aryan', 'pyarellall', 'ram'}"
      ]
     },
     "execution_count": 236,
     "metadata": {},
     "output_type": "execute_result"
    }
   ],
   "source": [
    "name2.intersection(name1)"
   ]
  },
  {
   "cell_type": "code",
   "execution_count": 237,
   "id": "eb7c8e65",
   "metadata": {},
   "outputs": [
    {
     "data": {
      "text/plain": [
       "{'Prajwal', 'binit', 'juhaib', 'rajshri', 'tanuja', 'tej', 'venkatesh'}"
      ]
     },
     "execution_count": 237,
     "metadata": {},
     "output_type": "execute_result"
    }
   ],
   "source": [
    "name1.symmetric_difference(name2)"
   ]
  },
  {
   "cell_type": "code",
   "execution_count": 238,
   "id": "f652ce86",
   "metadata": {
    "collapsed": true
   },
   "outputs": [
    {
     "data": {
      "text/plain": [
       "({'Prajwal', 'aryan', 'juhaib', 'pyarellall', 'ram'},\n",
       " {'aryan',\n",
       "  'binit',\n",
       "  'pyarellall',\n",
       "  'rajshri',\n",
       "  'ram',\n",
       "  'tanuja',\n",
       "  'tej',\n",
       "  'venkatesh'})"
      ]
     },
     "execution_count": 238,
     "metadata": {},
     "output_type": "execute_result"
    }
   ],
   "source": [
    "name1, name2"
   ]
  },
  {
   "cell_type": "code",
   "execution_count": 239,
   "id": "faf86e4a",
   "metadata": {},
   "outputs": [],
   "source": [
    "name1.difference_update(name2)"
   ]
  },
  {
   "cell_type": "code",
   "execution_count": 240,
   "id": "63e03102",
   "metadata": {
    "collapsed": true
   },
   "outputs": [
    {
     "data": {
      "text/plain": [
       "({'Prajwal', 'juhaib'},\n",
       " {'aryan',\n",
       "  'binit',\n",
       "  'pyarellall',\n",
       "  'rajshri',\n",
       "  'ram',\n",
       "  'tanuja',\n",
       "  'tej',\n",
       "  'venkatesh'})"
      ]
     },
     "execution_count": 240,
     "metadata": {},
     "output_type": "execute_result"
    }
   ],
   "source": [
    "name1, name2"
   ]
  },
  {
   "cell_type": "code",
   "execution_count": 241,
   "id": "35b01fcf",
   "metadata": {},
   "outputs": [
    {
     "data": {
      "text/plain": [
       "set()"
      ]
     },
     "execution_count": 241,
     "metadata": {},
     "output_type": "execute_result"
    }
   ],
   "source": [
    "name1.intersection(name2)"
   ]
  },
  {
   "cell_type": "code",
   "execution_count": 242,
   "id": "4a22b729",
   "metadata": {},
   "outputs": [],
   "source": [
    "name1.intersection_update(name2)"
   ]
  },
  {
   "cell_type": "code",
   "execution_count": 243,
   "id": "1db52497",
   "metadata": {
    "collapsed": true
   },
   "outputs": [
    {
     "data": {
      "text/plain": [
       "(set(),\n",
       " {'aryan',\n",
       "  'binit',\n",
       "  'pyarellall',\n",
       "  'rajshri',\n",
       "  'ram',\n",
       "  'tanuja',\n",
       "  'tej',\n",
       "  'venkatesh'})"
      ]
     },
     "execution_count": 243,
     "metadata": {},
     "output_type": "execute_result"
    }
   ],
   "source": [
    "name1, name2"
   ]
  },
  {
   "cell_type": "code",
   "execution_count": 244,
   "id": "db492b31",
   "metadata": {
    "collapsed": true
   },
   "outputs": [
    {
     "data": {
      "text/plain": [
       "{'aryan',\n",
       " 'binit',\n",
       " 'pyarellall',\n",
       " 'rajshri',\n",
       " 'ram',\n",
       " 'tanuja',\n",
       " 'tej',\n",
       " 'venkatesh'}"
      ]
     },
     "execution_count": 244,
     "metadata": {},
     "output_type": "execute_result"
    }
   ],
   "source": [
    "name1.symmetric_difference(name2)"
   ]
  },
  {
   "cell_type": "code",
   "execution_count": 245,
   "id": "a63b30d5",
   "metadata": {},
   "outputs": [],
   "source": [
    "name1.symmetric_difference_update(name2)"
   ]
  },
  {
   "cell_type": "code",
   "execution_count": 247,
   "id": "9337907f",
   "metadata": {
    "collapsed": true
   },
   "outputs": [
    {
     "data": {
      "text/plain": [
       "({'aryan',\n",
       "  'binit',\n",
       "  'pyarellall',\n",
       "  'rajshri',\n",
       "  'ram',\n",
       "  'tanuja',\n",
       "  'tej',\n",
       "  'venkatesh'},\n",
       " {'aryan',\n",
       "  'binit',\n",
       "  'pyarellall',\n",
       "  'rajshri',\n",
       "  'ram',\n",
       "  'tanuja',\n",
       "  'tej',\n",
       "  'venkatesh'})"
      ]
     },
     "execution_count": 247,
     "metadata": {},
     "output_type": "execute_result"
    }
   ],
   "source": [
    "name1,name2"
   ]
  },
  {
   "cell_type": "code",
   "execution_count": 249,
   "id": "46e11dfe",
   "metadata": {},
   "outputs": [],
   "source": [
    "A = {1,2,3,4,5,6,7,8,9,10}\n",
    "B = {1,2,3,4,8,9,10}"
   ]
  },
  {
   "cell_type": "code",
   "execution_count": 250,
   "id": "06a87df1",
   "metadata": {},
   "outputs": [
    {
     "data": {
      "text/plain": [
       "(True, True)"
      ]
     },
     "execution_count": 250,
     "metadata": {},
     "output_type": "execute_result"
    }
   ],
   "source": [
    "B.issubset(A),A.issuperset(B)"
   ]
  },
  {
   "cell_type": "code",
   "execution_count": 251,
   "id": "02832e0b",
   "metadata": {},
   "outputs": [
    {
     "data": {
      "text/plain": [
       "(False, False)"
      ]
     },
     "execution_count": 251,
     "metadata": {},
     "output_type": "execute_result"
    }
   ],
   "source": [
    "B.issuperset(A),A.issubset(B)"
   ]
  },
  {
   "cell_type": "markdown",
   "id": "29194aa1",
   "metadata": {},
   "source": [
    "# Dictionary"
   ]
  },
  {
   "cell_type": "code",
   "execution_count": null,
   "id": "720b1357",
   "metadata": {},
   "outputs": [],
   "source": [
    "# Dictionary: (key: value) pairs, comma sepatrated.\n",
    "{},{'key':values},   "
   ]
  },
  {
   "cell_type": "code",
   "execution_count": 252,
   "id": "9b05e379",
   "metadata": {
    "collapsed": true
   },
   "outputs": [
    {
     "data": {
      "text/plain": [
       "dict"
      ]
     },
     "execution_count": 252,
     "metadata": {},
     "output_type": "execute_result"
    }
   ],
   "source": [
    "Dict1 = {}\n",
    "type(Dict1)"
   ]
  },
  {
   "cell_type": "code",
   "execution_count": 253,
   "id": "aaf3184f",
   "metadata": {
    "collapsed": true
   },
   "outputs": [
    {
     "data": {
      "text/plain": [
       "dict"
      ]
     },
     "execution_count": 253,
     "metadata": {},
     "output_type": "execute_result"
    }
   ],
   "source": [
    "Dict1 = {'key1':1,\n",
    "        'key2':2,\n",
    "        'key3':3,\n",
    "        'key4':4}\n",
    "type(Dict1)"
   ]
  },
  {
   "cell_type": "code",
   "execution_count": 256,
   "id": "5a159e94",
   "metadata": {},
   "outputs": [
    {
     "data": {
      "text/plain": [
       "dict"
      ]
     },
     "execution_count": 256,
     "metadata": {},
     "output_type": "execute_result"
    }
   ],
   "source": [
    "Dict2 = {1:10,\n",
    "        2:'excler',\n",
    "        3:True,\n",
    "        4:20.3}\n",
    "type(Dict2)"
   ]
  },
  {
   "cell_type": "code",
   "execution_count": 257,
   "id": "c1fe39f4",
   "metadata": {
    "collapsed": true
   },
   "outputs": [
    {
     "name": "stdout",
     "output_type": "stream",
     "text": [
      "{'key1': 1, 'key2': 2, 'key3': 3, 'key4': 4}\n"
     ]
    }
   ],
   "source": [
    "print(Dict1)"
   ]
  },
  {
   "cell_type": "code",
   "execution_count": 262,
   "id": "22c42101",
   "metadata": {
    "collapsed": true
   },
   "outputs": [
    {
     "data": {
      "text/plain": [
       "(1, 1)"
      ]
     },
     "execution_count": 262,
     "metadata": {},
     "output_type": "execute_result"
    }
   ],
   "source": [
    "Dict1['key1'], Dict1.get('key1')"
   ]
  },
  {
   "cell_type": "code",
   "execution_count": 264,
   "id": "e5cc0400",
   "metadata": {
    "collapsed": true
   },
   "outputs": [
    {
     "data": {
      "text/plain": [
       "(dict_keys(['key1', 'key2', 'key3', 'key4']), dict_values([1, 2, 3, 4]))"
      ]
     },
     "execution_count": 264,
     "metadata": {},
     "output_type": "execute_result"
    }
   ],
   "source": [
    "Dict1.keys(),Dict1.values()"
   ]
  },
  {
   "cell_type": "code",
   "execution_count": 265,
   "id": "fae4446e",
   "metadata": {
    "collapsed": true
   },
   "outputs": [
    {
     "data": {
      "text/plain": [
       "dict_items([('key1', 1), ('key2', 2), ('key3', 3), ('key4', 4)])"
      ]
     },
     "execution_count": 265,
     "metadata": {},
     "output_type": "execute_result"
    }
   ],
   "source": [
    "Dict1.items()"
   ]
  },
  {
   "cell_type": "code",
   "execution_count": null,
   "id": "def11eb6",
   "metadata": {},
   "outputs": [],
   "source": [
    "Dict2[3]"
   ]
  },
  {
   "cell_type": "code",
   "execution_count": null,
   "id": "24a509b4",
   "metadata": {},
   "outputs": [],
   "source": [
    "Dict1.get('key1')"
   ]
  },
  {
   "cell_type": "code",
   "execution_count": null,
   "id": "1e6ad449",
   "metadata": {},
   "outputs": [],
   "source": [
    "Dict1.keys()"
   ]
  },
  {
   "cell_type": "code",
   "execution_count": null,
   "id": "00057c5d",
   "metadata": {},
   "outputs": [],
   "source": [
    "Dict1.values()"
   ]
  },
  {
   "cell_type": "code",
   "execution_count": null,
   "id": "2c6989f8",
   "metadata": {},
   "outputs": [],
   "source": [
    "Dict1.items()"
   ]
  },
  {
   "cell_type": "code",
   "execution_count": 267,
   "id": "6ed31324",
   "metadata": {
    "collapsed": true
   },
   "outputs": [
    {
     "data": {
      "text/plain": [
       "1"
      ]
     },
     "execution_count": 267,
     "metadata": {},
     "output_type": "execute_result"
    }
   ],
   "source": [
    "Dict1.pop('key1')"
   ]
  },
  {
   "cell_type": "code",
   "execution_count": 268,
   "id": "f417c57d",
   "metadata": {
    "collapsed": true
   },
   "outputs": [
    {
     "data": {
      "text/plain": [
       "('key4', 4)"
      ]
     },
     "execution_count": 268,
     "metadata": {},
     "output_type": "execute_result"
    }
   ],
   "source": [
    "Dict1.popitem()"
   ]
  },
  {
   "cell_type": "code",
   "execution_count": 269,
   "id": "6243cd1e",
   "metadata": {
    "collapsed": true
   },
   "outputs": [
    {
     "data": {
      "text/plain": [
       "dict_items([('key2', 2), ('key3', 3)])"
      ]
     },
     "execution_count": 269,
     "metadata": {},
     "output_type": "execute_result"
    }
   ],
   "source": [
    "Dict1.items()"
   ]
  },
  {
   "cell_type": "code",
   "execution_count": 270,
   "id": "a8fe64a4",
   "metadata": {},
   "outputs": [],
   "source": [
    "Dict1.update({'key1': 1})"
   ]
  },
  {
   "cell_type": "code",
   "execution_count": 271,
   "id": "ba685a54",
   "metadata": {
    "collapsed": true
   },
   "outputs": [
    {
     "data": {
      "text/plain": [
       "{'key2': 2, 'key3': 3, 'key1': 1}"
      ]
     },
     "execution_count": 271,
     "metadata": {},
     "output_type": "execute_result"
    }
   ],
   "source": [
    "Dict1"
   ]
  },
  {
   "cell_type": "code",
   "execution_count": 273,
   "id": "9b6a7d8d",
   "metadata": {},
   "outputs": [],
   "source": [
    "student_info = {'name':'Prajwal',\n",
    "               'age': 26,\n",
    "               'course': ['DS','DA','AWS'],\n",
    "               'marks':[80,90,60]}"
   ]
  },
  {
   "cell_type": "code",
   "execution_count": 274,
   "id": "cf0e9cf3",
   "metadata": {},
   "outputs": [
    {
     "data": {
      "text/plain": [
       "dict"
      ]
     },
     "execution_count": 274,
     "metadata": {},
     "output_type": "execute_result"
    }
   ],
   "source": [
    "type(student_info)"
   ]
  },
  {
   "cell_type": "code",
   "execution_count": 275,
   "id": "04318555",
   "metadata": {},
   "outputs": [
    {
     "data": {
      "text/plain": [
       "'Prajwal'"
      ]
     },
     "execution_count": 275,
     "metadata": {},
     "output_type": "execute_result"
    }
   ],
   "source": [
    "student_info['name']"
   ]
  },
  {
   "cell_type": "code",
   "execution_count": 276,
   "id": "37505734",
   "metadata": {},
   "outputs": [],
   "source": [
    "student_info['name'] = 'Ram'"
   ]
  },
  {
   "cell_type": "code",
   "execution_count": 277,
   "id": "938728fd",
   "metadata": {
    "collapsed": true
   },
   "outputs": [
    {
     "data": {
      "text/plain": [
       "{'name': 'Ram',\n",
       " 'age': 26,\n",
       " 'course': ['DS', 'DA', 'AWS'],\n",
       " 'marks': [80, 90, 60]}"
      ]
     },
     "execution_count": 277,
     "metadata": {},
     "output_type": "execute_result"
    }
   ],
   "source": [
    "student_info"
   ]
  },
  {
   "cell_type": "code",
   "execution_count": 285,
   "id": "8e45c9a5",
   "metadata": {},
   "outputs": [],
   "source": [
    "student_info['course'][2] = 'ML'"
   ]
  },
  {
   "cell_type": "code",
   "execution_count": 286,
   "id": "54547bac",
   "metadata": {},
   "outputs": [
    {
     "data": {
      "text/plain": [
       "{'name': 'Ram', 'age': 26, 'course': ['DS', 'DA', 'ML'], 'marks': [80, 90, 60]}"
      ]
     },
     "execution_count": 286,
     "metadata": {},
     "output_type": "execute_result"
    }
   ],
   "source": [
    "student_info"
   ]
  },
  {
   "cell_type": "code",
   "execution_count": 288,
   "id": "73ab5e3b",
   "metadata": {},
   "outputs": [],
   "source": [
    "student_info['course'].append('AWS')"
   ]
  },
  {
   "cell_type": "code",
   "execution_count": 289,
   "id": "e24290e7",
   "metadata": {
    "collapsed": true
   },
   "outputs": [
    {
     "data": {
      "text/plain": [
       "{'name': 'Ram',\n",
       " 'age': 26,\n",
       " 'course': ['DS', 'DA', 'ML', 'AWS'],\n",
       " 'marks': [80, 90, 60]}"
      ]
     },
     "execution_count": 289,
     "metadata": {},
     "output_type": "execute_result"
    }
   ],
   "source": [
    "student_info"
   ]
  },
  {
   "cell_type": "code",
   "execution_count": 290,
   "id": "09bc9259",
   "metadata": {},
   "outputs": [],
   "source": [
    "student_info['marks'].append(85)"
   ]
  },
  {
   "cell_type": "code",
   "execution_count": 291,
   "id": "62ab7dc8",
   "metadata": {
    "collapsed": true
   },
   "outputs": [
    {
     "data": {
      "text/plain": [
       "{'name': 'Ram',\n",
       " 'age': 26,\n",
       " 'course': ['DS', 'DA', 'ML', 'AWS'],\n",
       " 'marks': [80, 90, 60, 85]}"
      ]
     },
     "execution_count": 291,
     "metadata": {},
     "output_type": "execute_result"
    }
   ],
   "source": [
    "student_info"
   ]
  },
  {
   "cell_type": "markdown",
   "id": "33a33e18",
   "metadata": {},
   "source": [
    "# calculate the average marks"
   ]
  },
  {
   "cell_type": "code",
   "execution_count": 292,
   "id": "bc2f463d",
   "metadata": {},
   "outputs": [
    {
     "data": {
      "text/plain": [
       "[80, 90, 60, 85]"
      ]
     },
     "execution_count": 292,
     "metadata": {},
     "output_type": "execute_result"
    }
   ],
   "source": [
    "student_info['marks']"
   ]
  },
  {
   "cell_type": "code",
   "execution_count": 293,
   "id": "098ada8f",
   "metadata": {},
   "outputs": [],
   "source": [
    "avg_marks = sum(student_info['marks'])/len(student_info['marks'])"
   ]
  },
  {
   "cell_type": "code",
   "execution_count": 294,
   "id": "35f49419",
   "metadata": {},
   "outputs": [
    {
     "data": {
      "text/plain": [
       "78.75"
      ]
     },
     "execution_count": 294,
     "metadata": {},
     "output_type": "execute_result"
    }
   ],
   "source": [
    "avg_marks"
   ]
  },
  {
   "cell_type": "code",
   "execution_count": 42,
   "id": "0238fe13",
   "metadata": {},
   "outputs": [],
   "source": [
    "students_details = [ {'name': 'Ram',\n",
    "                     'age': 30,\n",
    "                     'course': ['DS', 'Stat', 'AWS'],\n",
    "                     'marks': [80, 90, 60]},\n",
    "                    \n",
    "                     {'name': 'Sam',\n",
    "                     'age': 37,\n",
    "                     'course': ['DS', 'Stat', 'AWS'],\n",
    "                     'marks': [80, 95, 69]}\n",
    "                ]"
   ]
  },
  {
   "cell_type": "code",
   "execution_count": 300,
   "id": "46a55b7c",
   "metadata": {},
   "outputs": [],
   "source": [
    "students = {'st1':{'name': 'Ram',\n",
    "                     'age': 30,\n",
    "                     'course': ['DS', 'Stat', 'AWS'],\n",
    "                     'marks': [80, 90, 60]},\n",
    "            \n",
    "            'st2':{'name': 'Sam',\n",
    "                     'age': 37,\n",
    "                     'course': ['DS', 'Stat', 'AWS'],\n",
    "                     'marks': [80, 95, 69]}\n",
    "           }\n",
    "                "
   ]
  },
  {
   "cell_type": "code",
   "execution_count": 303,
   "id": "eab2cc2c",
   "metadata": {},
   "outputs": [
    {
     "data": {
      "text/plain": [
       "'Sam'"
      ]
     },
     "execution_count": 303,
     "metadata": {},
     "output_type": "execute_result"
    }
   ],
   "source": [
    "students['st2']['name']"
   ]
  },
  {
   "cell_type": "code",
   "execution_count": null,
   "id": "4fc03424",
   "metadata": {},
   "outputs": [],
   "source": []
  },
  {
   "cell_type": "code",
   "execution_count": 299,
   "id": "bc1d1d6d",
   "metadata": {},
   "outputs": [
    {
     "data": {
      "text/plain": [
       "{'name': 'Sam',\n",
       " 'age': 37,\n",
       " 'course': ['DS', 'Stat', 'AWS'],\n",
       " 'marks': [80, 95, 69]}"
      ]
     },
     "execution_count": 299,
     "metadata": {},
     "output_type": "execute_result"
    }
   ],
   "source": [
    "students_details[1]"
   ]
  },
  {
   "cell_type": "code",
   "execution_count": null,
   "id": "1abb7820",
   "metadata": {},
   "outputs": [],
   "source": [
    "# conditional statements\n",
    "if\n",
    "if else\n",
    "if elif else\n",
    "if ternory operator\n",
    "nested if statements"
   ]
  },
  {
   "cell_type": "code",
   "execution_count": null,
   "id": "c67c042a",
   "metadata": {},
   "outputs": [],
   "source": [
    "# sytax for if statements\n",
    "if condition:\n",
    "    statements \n",
    "    \n",
    "# syntax for else statements\n",
    "\n",
    "if condition:\n",
    "    statements\n",
    "else:\n",
    "    statements\n",
    "        \n",
    "# syntax for elif statements\n",
    "if condition1:\n",
    "    statements\n",
    "elif condition2:\n",
    "    statements\n",
    "elif condition3:\n",
    "    statements\n",
    "else:\n",
    "    statements    "
   ]
  },
  {
   "cell_type": "code",
   "execution_count": 1,
   "id": "0822200b",
   "metadata": {},
   "outputs": [],
   "source": [
    "a = 10\n",
    "b = 20"
   ]
  },
  {
   "cell_type": "code",
   "execution_count": 2,
   "id": "32b97806",
   "metadata": {},
   "outputs": [
    {
     "data": {
      "text/plain": [
       "(False, True, False, False, True, True)"
      ]
     },
     "execution_count": 2,
     "metadata": {},
     "output_type": "execute_result"
    }
   ],
   "source": [
    "a == b, a!=b, a>b, a>=b,a<b,a<=b"
   ]
  },
  {
   "cell_type": "code",
   "execution_count": 3,
   "id": "eea74058",
   "metadata": {},
   "outputs": [
    {
     "name": "stdout",
     "output_type": "stream",
     "text": [
      "a is not equal to b\n"
     ]
    }
   ],
   "source": [
    "if a != b:\n",
    "    print('a is not equal to b')"
   ]
  },
  {
   "cell_type": "code",
   "execution_count": 5,
   "id": "731ca296",
   "metadata": {},
   "outputs": [
    {
     "name": "stdout",
     "output_type": "stream",
     "text": [
      "a is not greater then  to b\n"
     ]
    }
   ],
   "source": [
    "if a <= b:\n",
    "    print('a is not greater then  to b')"
   ]
  },
  {
   "cell_type": "code",
   "execution_count": 6,
   "id": "5aa66052",
   "metadata": {},
   "outputs": [],
   "source": [
    "if a == b:\n",
    "    print('a is not equal to b')"
   ]
  },
  {
   "cell_type": "code",
   "execution_count": 7,
   "id": "5782f1a9",
   "metadata": {},
   "outputs": [],
   "source": [
    "if a >= b:\n",
    "    print('a is not greater then  to b')"
   ]
  },
  {
   "cell_type": "code",
   "execution_count": 8,
   "id": "dc8bfb98",
   "metadata": {},
   "outputs": [
    {
     "name": "stdout",
     "output_type": "stream",
     "text": [
      "Enter your age: 15\n",
      "The given age is in integer\n"
     ]
    }
   ],
   "source": [
    "age = int(input('Enter your age: '))\n",
    "if type(age) == int:\n",
    "    print('The given age is in integer')"
   ]
  },
  {
   "cell_type": "code",
   "execution_count": 10,
   "id": "1e7ebc33",
   "metadata": {},
   "outputs": [
    {
     "name": "stdout",
     "output_type": "stream",
     "text": [
      "Enter your age: 15\n"
     ]
    }
   ],
   "source": [
    "age = int(input('Enter your age: '))\n",
    "if age >= 18:\n",
    "    print('The age is eligible for voting')"
   ]
  },
  {
   "cell_type": "code",
   "execution_count": 13,
   "id": "a0a0905f",
   "metadata": {},
   "outputs": [
    {
     "name": "stdout",
     "output_type": "stream",
     "text": [
      "Enter your age: 8\n",
      "8 is The given number is even\n"
     ]
    }
   ],
   "source": [
    "#check the given number is even. [0,2,4,6,,,,, ]\n",
    "num = int(input('Enter your age: '))\n",
    "if num%2 ==0:\n",
    "    print(f'{num} is The given number is even')"
   ]
  },
  {
   "cell_type": "code",
   "execution_count": 29,
   "id": "1cae5d24",
   "metadata": {
    "collapsed": true
   },
   "outputs": [
    {
     "name": "stdout",
     "output_type": "stream",
     "text": [
      "Enter your age: 13\n"
     ]
    }
   ],
   "source": [
    "age = int(input('Enter your age: '))\n",
    "if type(age) == int and age>=18:\n",
    "    print('The given age is in integer and eligible for voting ')"
   ]
  },
  {
   "cell_type": "code",
   "execution_count": 14,
   "id": "6924d990",
   "metadata": {},
   "outputs": [
    {
     "data": {
      "text/plain": [
       "(10, 20)"
      ]
     },
     "execution_count": 14,
     "metadata": {},
     "output_type": "execute_result"
    }
   ],
   "source": [
    "a,b"
   ]
  },
  {
   "cell_type": "code",
   "execution_count": 20,
   "id": "043673bb",
   "metadata": {
    "collapsed": true
   },
   "outputs": [
    {
     "data": {
      "text/plain": [
       "False"
      ]
     },
     "execution_count": 20,
     "metadata": {},
     "output_type": "execute_result"
    }
   ],
   "source": [
    "a == 10 and b==20 and b==15"
   ]
  },
  {
   "cell_type": "code",
   "execution_count": null,
   "id": "8b40e4cb",
   "metadata": {},
   "outputs": [],
   "source": [
    "a != 10 and  b==20"
   ]
  },
  {
   "cell_type": "code",
   "execution_count": 25,
   "id": "b79346f0",
   "metadata": {},
   "outputs": [],
   "source": [
    "if a == 10 and  b!=20:\n",
    "    print('a is not greater then  to b')"
   ]
  },
  {
   "cell_type": "code",
   "execution_count": null,
   "id": "2c82df55",
   "metadata": {},
   "outputs": [],
   "source": [
    "a == 10 and  b==20"
   ]
  },
  {
   "cell_type": "code",
   "execution_count": null,
   "id": "ec2a05f7",
   "metadata": {},
   "outputs": [],
   "source": [
    "if a == 10 and  b==20:\n",
    "    print('a is not greater then  to b')"
   ]
  },
  {
   "cell_type": "code",
   "execution_count": 23,
   "id": "7b876c4a",
   "metadata": {},
   "outputs": [
    {
     "data": {
      "text/plain": [
       "False"
      ]
     },
     "execution_count": 23,
     "metadata": {},
     "output_type": "execute_result"
    }
   ],
   "source": [
    "a != 10 or  b!=20"
   ]
  },
  {
   "cell_type": "code",
   "execution_count": 27,
   "id": "1db27c3b",
   "metadata": {},
   "outputs": [
    {
     "name": "stdout",
     "output_type": "stream",
     "text": [
      "a is not greater then  to b\n"
     ]
    }
   ],
   "source": [
    "if a != 10 or  b==20:\n",
    "    print('a is not greater then  to b')"
   ]
  },
  {
   "cell_type": "code",
   "execution_count": 30,
   "id": "c769580d",
   "metadata": {},
   "outputs": [],
   "source": [
    "if not a==10:\n",
    "    print(' a is equal to b')"
   ]
  },
  {
   "cell_type": "code",
   "execution_count": 31,
   "id": "86db7172",
   "metadata": {},
   "outputs": [
    {
     "name": "stdout",
     "output_type": "stream",
     "text": [
      " a is equal to 10\n"
     ]
    }
   ],
   "source": [
    "if not a!=10:\n",
    "    print(' a is equal to 10')"
   ]
  },
  {
   "cell_type": "code",
   "execution_count": 33,
   "id": "a65b25de",
   "metadata": {},
   "outputs": [
    {
     "name": "stdout",
     "output_type": "stream",
     "text": [
      " a is equal to 10 , b is equal to 20\n"
     ]
    }
   ],
   "source": [
    "if not a!=10 and not b!=20:\n",
    "    print(' a is equal to 10 , b is equal to 20')"
   ]
  },
  {
   "cell_type": "code",
   "execution_count": 35,
   "id": "95fb6d60",
   "metadata": {
    "collapsed": true
   },
   "outputs": [
    {
     "name": "stdout",
     "output_type": "stream",
     "text": [
      "Enter your age: 18\n",
      "You are eligible for voting.\n"
     ]
    }
   ],
   "source": [
    "age = int(input('Enter your age: '))\n",
    "if age >= 18:\n",
    "    print('You are eligible for voting.')\n",
    "else:\n",
    "    print('you are not eligible for voting.')"
   ]
  },
  {
   "cell_type": "code",
   "execution_count": 37,
   "id": "74f05ba0",
   "metadata": {
    "collapsed": true
   },
   "outputs": [
    {
     "name": "stdout",
     "output_type": "stream",
     "text": [
      "Enter your age: 25\n",
      "Enter your gender type: female\n",
      "you are not eligible for voting.\n"
     ]
    }
   ],
   "source": [
    "age = int(input('Enter your age: '))\n",
    "gender = input('Enter your gender type: ')\n",
    "if age >= 18 and gender == 'male':\n",
    "    print('You are eligible for voting in the male booth.')\n",
    "else:\n",
    "    print('you are not eligible for voting.')"
   ]
  },
  {
   "cell_type": "code",
   "execution_count": 38,
   "id": "1b2185b8",
   "metadata": {
    "collapsed": true
   },
   "outputs": [
    {
     "data": {
      "text/plain": [
       "True"
      ]
     },
     "execution_count": 38,
     "metadata": {},
     "output_type": "execute_result"
    }
   ],
   "source": [
    "age >= 18 and (gender == 'male' or gender =='female')"
   ]
  },
  {
   "cell_type": "code",
   "execution_count": 40,
   "id": "349d4594",
   "metadata": {},
   "outputs": [
    {
     "name": "stdout",
     "output_type": "stream",
     "text": [
      "Enter your age: 25\n",
      "Enter your gender type: female\n",
      "You are eligible for voting\n"
     ]
    }
   ],
   "source": [
    "age = int(input('Enter your age: '))\n",
    "gender = input('Enter your gender type: ')\n",
    "if age >= 18 and (gender == 'male' or gender =='female'):\n",
    "    print('You are eligible for voting')\n",
    "else:\n",
    "    print('you are not eligible for voting.')"
   ]
  },
  {
   "cell_type": "markdown",
   "id": "89a0bef0",
   "metadata": {},
   "source": [
    "# Task1: check the given user input value is divisible are not.\n",
    "\n",
    "# Task2: Check the given number is even or odd.\n"
   ]
  },
  {
   "cell_type": "code",
   "execution_count": null,
   "id": "4fad2419",
   "metadata": {},
   "outputs": [],
   "source": [
    "#if student name is given, calculate the average marks. if not print the statements as student is absent.\n",
    "data = {'name':None,\n",
    "        'age':26\n",
    "       'marks':[10,20,50,60,70,90]}"
   ]
  },
  {
   "cell_type": "code",
   "execution_count": null,
   "id": "81771899",
   "metadata": {},
   "outputs": [],
   "source": []
  },
  {
   "cell_type": "code",
   "execution_count": null,
   "id": "abc1fe3e",
   "metadata": {},
   "outputs": [],
   "source": []
  },
  {
   "cell_type": "code",
   "execution_count": 43,
   "id": "ea0bdd45",
   "metadata": {},
   "outputs": [
    {
     "data": {
      "text/plain": [
       "76.67"
      ]
     },
     "execution_count": 43,
     "metadata": {},
     "output_type": "execute_result"
    }
   ],
   "source": [
    "avg_st1 = round(sum(students_details[0]['marks'])/len(students_details[0]['marks']),2)\n",
    "avg_st1"
   ]
  },
  {
   "cell_type": "code",
   "execution_count": 44,
   "id": "0caa99cd",
   "metadata": {},
   "outputs": [
    {
     "name": "stdout",
     "output_type": "stream",
     "text": [
      "76.67-->B grade\n"
     ]
    }
   ],
   "source": [
    "if avg_st1 >=90:\n",
    "    grade = 'A grade'\n",
    "    print(avg_st1,grade, sep='-->')\n",
    "elif avg_st1 <90 and avg_st1 >=70:\n",
    "    grade = 'B grade'\n",
    "    print(avg_st1,grade, sep='-->')\n",
    "elif avg_st1 < 70 and avg_st1 >=50:\n",
    "    grade = 'C grade'\n",
    "    print(avg_st1,grade, sep='-->')\n",
    "elif avg_st1 < 50 and avg_st1 >=35:\n",
    "    grade = 'D grade'\n",
    "    print(avg_st1,grade, sep='-->')\n",
    "else:\n",
    "    grade = 'Fail'\n",
    "    print(avg_st1,grade, sep='-->') "
   ]
  },
  {
   "cell_type": "markdown",
   "id": "6a8a39d1",
   "metadata": {},
   "source": [
    "# nested if else statements\""
   ]
  },
  {
   "cell_type": "code",
   "execution_count": 45,
   "id": "ef6e6976",
   "metadata": {
    "collapsed": true
   },
   "outputs": [
    {
     "data": {
      "text/plain": [
       "[{'name': 'Ram',\n",
       "  'age': 30,\n",
       "  'course': ['DS', 'Stat', 'AWS'],\n",
       "  'marks': [80, 90, 60]},\n",
       " {'name': 'Sam',\n",
       "  'age': 37,\n",
       "  'course': ['DS', 'Stat', 'AWS'],\n",
       "  'marks': [80, 95, 69]}]"
      ]
     },
     "execution_count": 45,
     "metadata": {},
     "output_type": "execute_result"
    }
   ],
   "source": [
    "students_details"
   ]
  },
  {
   "cell_type": "code",
   "execution_count": 48,
   "id": "c33ad1af",
   "metadata": {},
   "outputs": [
    {
     "data": {
      "text/plain": [
       "True"
      ]
     },
     "execution_count": 48,
     "metadata": {},
     "output_type": "execute_result"
    }
   ],
   "source": [
    "'DS' in students_details[0]['course']"
   ]
  },
  {
   "cell_type": "code",
   "execution_count": 52,
   "id": "048f0d69",
   "metadata": {},
   "outputs": [
    {
     "name": "stdout",
     "output_type": "stream",
     "text": [
      "The ram candidate is taken DS session\n"
     ]
    }
   ],
   "source": [
    "if 'DS' in students_details[0]['course']:\n",
    "    if students_details[0]['name'] == 'Ram':\n",
    "        print('The ram candidate is taken DS session')\n",
    "    else:\n",
    "        print('Ram is not taken the DS session')\n",
    "else:\n",
    "    print('ds is not in the courses')"
   ]
  },
  {
   "cell_type": "markdown",
   "id": "2f917860",
   "metadata": {},
   "source": [
    "# check the names as in terms of string, and hieght interms of float, if it is true calculate the average height.check for min and max hieght too.\n",
    "\n",
    "students_height = [['Prajwal','juhaib','aryan','ram','pyarellall','binit','venkatesh','tej','rajshri','tanuja','akankshya','sandhya'],[5.5,5.6,5.9,5.8,5.7,5.9,6.5,6.8,7.1,6.3,6.4,6.6,6.4]]\n"
   ]
  },
  {
   "cell_type": "markdown",
   "id": "24bd8f2d",
   "metadata": {},
   "source": [
    "# ternory operator"
   ]
  },
  {
   "cell_type": "code",
   "execution_count": null,
   "id": "ecb3f60c",
   "metadata": {},
   "outputs": [],
   "source": [
    "output = out if condition else out "
   ]
  },
  {
   "cell_type": "code",
   "execution_count": 53,
   "id": "d1f5b758",
   "metadata": {},
   "outputs": [
    {
     "name": "stdout",
     "output_type": "stream",
     "text": [
      "Enter your age: 25\n",
      "You are eligible for voting.\n"
     ]
    }
   ],
   "source": [
    "age = int(input('Enter your age: '))\n",
    "if age >= 18:\n",
    "    print('You are eligible for voting.')\n",
    "else:\n",
    "    print('you are not eligible for voting.')"
   ]
  },
  {
   "cell_type": "code",
   "execution_count": 56,
   "id": "1ab87335",
   "metadata": {},
   "outputs": [
    {
     "name": "stdout",
     "output_type": "stream",
     "text": [
      "Enter your age: 19\n"
     ]
    }
   ],
   "source": [
    "age  = int(input('Enter your age: '))\n",
    "result = 'You are eligible for voting' if age >=18 else 'you are not eligible'"
   ]
  },
  {
   "cell_type": "code",
   "execution_count": 57,
   "id": "bac695a1",
   "metadata": {},
   "outputs": [
    {
     "name": "stdout",
     "output_type": "stream",
     "text": [
      "You are eligible for voting\n"
     ]
    }
   ],
   "source": [
    "print(result)"
   ]
  },
  {
   "cell_type": "markdown",
   "id": "d9783cf1",
   "metadata": {},
   "source": [
    "# looping statements"
   ]
  },
  {
   "cell_type": "code",
   "execution_count": null,
   "id": "13b7e122",
   "metadata": {},
   "outputs": [],
   "source": [
    "range(start, end, step), start: inclisive, end: exclisive,step: step count"
   ]
  },
  {
   "cell_type": "code",
   "execution_count": null,
   "id": "bada1404",
   "metadata": {},
   "outputs": [],
   "source": [
    "For loop-->\n",
    "\n",
    "for i in range(0,10):\n",
    "    statements"
   ]
  },
  {
   "cell_type": "code",
   "execution_count": 58,
   "id": "bb2ad485",
   "metadata": {
    "collapsed": true
   },
   "outputs": [
    {
     "data": {
      "text/plain": [
       "range(0, 10)"
      ]
     },
     "execution_count": 58,
     "metadata": {},
     "output_type": "execute_result"
    }
   ],
   "source": [
    "range(0,10)"
   ]
  },
  {
   "cell_type": "code",
   "execution_count": 62,
   "id": "4778aa0d",
   "metadata": {
    "collapsed": true
   },
   "outputs": [
    {
     "name": "stdout",
     "output_type": "stream",
     "text": [
      "0\n",
      "1\n",
      "2\n",
      "3\n",
      "4\n",
      "5\n",
      "6\n",
      "7\n",
      "8\n",
      "9\n"
     ]
    }
   ],
   "source": [
    "for i in range(0,10):\n",
    "    print(i)"
   ]
  },
  {
   "cell_type": "code",
   "execution_count": 63,
   "id": "e77d008d",
   "metadata": {
    "collapsed": true
   },
   "outputs": [
    {
     "name": "stdout",
     "output_type": "stream",
     "text": [
      "10\n",
      "9\n",
      "8\n",
      "7\n",
      "6\n",
      "5\n",
      "4\n",
      "3\n",
      "2\n",
      "1\n"
     ]
    }
   ],
   "source": [
    "for i in range(10,0,-1):\n",
    "    print(i)"
   ]
  },
  {
   "cell_type": "code",
   "execution_count": 65,
   "id": "14bd9721",
   "metadata": {
    "collapsed": true
   },
   "outputs": [
    {
     "name": "stdout",
     "output_type": "stream",
     "text": [
      "1\n",
      "2\n",
      "3\n",
      "4\n",
      "5\n",
      "6\n",
      "7\n",
      "8\n",
      "9\n",
      "10\n"
     ]
    }
   ],
   "source": [
    "for i in range(1,11):\n",
    "    print(i)"
   ]
  },
  {
   "cell_type": "code",
   "execution_count": 66,
   "id": "f4942dce",
   "metadata": {
    "collapsed": true
   },
   "outputs": [
    {
     "name": "stdout",
     "output_type": "stream",
     "text": [
      "1\n",
      "2\n",
      "3\n",
      "4\n",
      "5\n",
      "6\n",
      "7\n",
      "8\n",
      "9\n",
      "10\n"
     ]
    }
   ],
   "source": [
    "for i in range(0,10):\n",
    "    print(i+1)"
   ]
  },
  {
   "cell_type": "code",
   "execution_count": null,
   "id": "79888aed",
   "metadata": {},
   "outputs": [],
   "source": [
    "for i in range(0,10,3):\n",
    "    print(i)"
   ]
  },
  {
   "cell_type": "code",
   "execution_count": 79,
   "id": "b4e15494",
   "metadata": {},
   "outputs": [],
   "source": [
    "Data = [10,20,50,70,80,30]\n",
    "Tuple_data = (50,60,70,80,13)\n",
    "Set_data = {12,15,16,17,18,19,15,19}\n",
    "students_name = ['Prajwal',' juhaib',' aryan','ram',' pyarellall','binit',\n",
    "                 'venkatesh','tej','rajshri','tanuja','akankshya','sandhya']"
   ]
  },
  {
   "cell_type": "code",
   "execution_count": 71,
   "id": "d5dbe4be",
   "metadata": {
    "collapsed": true
   },
   "outputs": [
    {
     "name": "stdout",
     "output_type": "stream",
     "text": [
      "100\n",
      "400\n",
      "2500\n",
      "4900\n",
      "6400\n",
      "900\n"
     ]
    }
   ],
   "source": [
    "for i in Data:\n",
    "    print(i**2)"
   ]
  },
  {
   "cell_type": "code",
   "execution_count": 72,
   "id": "dd4e6857",
   "metadata": {
    "collapsed": true
   },
   "outputs": [
    {
     "name": "stdout",
     "output_type": "stream",
     "text": [
      "50\n",
      "60\n",
      "70\n",
      "80\n",
      "13\n"
     ]
    }
   ],
   "source": [
    "for i in Tuple_data:\n",
    "    print(i)"
   ]
  },
  {
   "cell_type": "code",
   "execution_count": 73,
   "id": "97b005d8",
   "metadata": {
    "collapsed": true
   },
   "outputs": [
    {
     "name": "stdout",
     "output_type": "stream",
     "text": [
      "16\n",
      "17\n",
      "18\n",
      "19\n",
      "12\n",
      "15\n"
     ]
    }
   ],
   "source": [
    "for i in Set_data:\n",
    "    print(i)"
   ]
  },
  {
   "cell_type": "code",
   "execution_count": 81,
   "id": "c5e6dc82",
   "metadata": {
    "collapsed": true
   },
   "outputs": [
    {
     "name": "stdout",
     "output_type": "stream",
     "text": [
      "Prajwal\n",
      "juhaib\n",
      "aryan\n",
      "ram\n",
      "pyarellall\n",
      "binit\n",
      "venkatesh\n",
      "tej\n",
      "rajshri\n",
      "tanuja\n",
      "akankshya\n",
      "sandhya\n"
     ]
    }
   ],
   "source": [
    "for i in students_name:\n",
    "    print(i.strip())"
   ]
  },
  {
   "cell_type": "code",
   "execution_count": 101,
   "id": "24a6ac51",
   "metadata": {
    "collapsed": true
   },
   "outputs": [
    {
     "name": "stdout",
     "output_type": "stream",
     "text": [
      "{'name': 'Ram', 'age': 30, 'course': ['DS', 'Stat', 'AWS'], 'marks': [80, 90, 60]}\n",
      "{'name': 'Sam', 'age': 37, 'course': ['DS', 'Stat', 'AWS'], 'marks': [80, 95, 69]}\n"
     ]
    }
   ],
   "source": [
    "for i in students_details:\n",
    "    print(i)"
   ]
  },
  {
   "cell_type": "code",
   "execution_count": 96,
   "id": "3fa6cdf1",
   "metadata": {
    "collapsed": true
   },
   "outputs": [
    {
     "name": "stdout",
     "output_type": "stream",
     "text": [
      "name\n",
      "age\n",
      "course\n",
      "marks\n"
     ]
    }
   ],
   "source": [
    "for i in students_details[0]:\n",
    "    print(i)"
   ]
  },
  {
   "cell_type": "code",
   "execution_count": 97,
   "id": "4e18f078",
   "metadata": {
    "collapsed": true
   },
   "outputs": [
    {
     "name": "stdout",
     "output_type": "stream",
     "text": [
      "Ram\n",
      "30\n",
      "['DS', 'Stat', 'AWS']\n",
      "[80, 90, 60]\n"
     ]
    }
   ],
   "source": [
    "for i in students_details[0].values():\n",
    "    print(i)"
   ]
  },
  {
   "cell_type": "code",
   "execution_count": 98,
   "id": "aa7dcb75",
   "metadata": {
    "collapsed": true
   },
   "outputs": [
    {
     "name": "stdout",
     "output_type": "stream",
     "text": [
      "('name', 'Ram')\n",
      "('age', 30)\n",
      "('course', ['DS', 'Stat', 'AWS'])\n",
      "('marks', [80, 90, 60])\n"
     ]
    }
   ],
   "source": [
    "for i in students_details[0].items():\n",
    "    print(i)"
   ]
  },
  {
   "cell_type": "code",
   "execution_count": 99,
   "id": "e80c5454",
   "metadata": {
    "collapsed": true
   },
   "outputs": [
    {
     "name": "stdout",
     "output_type": "stream",
     "text": [
      "name\n",
      "age\n",
      "course\n",
      "marks\n"
     ]
    }
   ],
   "source": [
    "for i in students_details[0].items():\n",
    "    print(i[0])"
   ]
  },
  {
   "cell_type": "code",
   "execution_count": 100,
   "id": "dd0a5c43",
   "metadata": {},
   "outputs": [
    {
     "name": "stdout",
     "output_type": "stream",
     "text": [
      "Ram\n",
      "30\n",
      "['DS', 'Stat', 'AWS']\n",
      "[80, 90, 60]\n"
     ]
    }
   ],
   "source": [
    "for i in students_details[0].items():\n",
    "    print(i[1])"
   ]
  },
  {
   "cell_type": "code",
   "execution_count": null,
   "id": "df7b4994",
   "metadata": {},
   "outputs": [],
   "source": [
    "# break, countinue, pass."
   ]
  },
  {
   "cell_type": "code",
   "execution_count": 102,
   "id": "b67d8689",
   "metadata": {
    "collapsed": true
   },
   "outputs": [
    {
     "data": {
      "text/plain": [
       "['Prajwal',\n",
       " ' juhaib',\n",
       " ' aryan',\n",
       " 'ram',\n",
       " ' pyarellall',\n",
       " 'binit',\n",
       " 'venkatesh',\n",
       " 'tej',\n",
       " 'rajshri',\n",
       " 'tanuja',\n",
       " 'akankshya',\n",
       " 'sandhya']"
      ]
     },
     "execution_count": 102,
     "metadata": {},
     "output_type": "execute_result"
    }
   ],
   "source": [
    "students_name"
   ]
  },
  {
   "cell_type": "code",
   "execution_count": 104,
   "id": "bced0b16",
   "metadata": {
    "collapsed": true
   },
   "outputs": [
    {
     "data": {
      "text/plain": [
       "True"
      ]
     },
     "execution_count": 104,
     "metadata": {},
     "output_type": "execute_result"
    }
   ],
   "source": [
    "'binit' in students_name"
   ]
  },
  {
   "cell_type": "code",
   "execution_count": 106,
   "id": "cc813503",
   "metadata": {},
   "outputs": [],
   "source": [
    "for i in students_name:\n",
    "    if 'Binit' in students_name:\n",
    "        print(i)\n",
    "    else:\n",
    "        break"
   ]
  },
  {
   "cell_type": "code",
   "execution_count": null,
   "id": "5ab1c7a6",
   "metadata": {},
   "outputs": [],
   "source": [
    "'binit' not in students_name"
   ]
  },
  {
   "cell_type": "code",
   "execution_count": 107,
   "id": "2e6bdcca",
   "metadata": {
    "collapsed": true
   },
   "outputs": [
    {
     "name": "stdout",
     "output_type": "stream",
     "text": [
      "Prajwal\n"
     ]
    }
   ],
   "source": [
    "for i in students_name:\n",
    "    if 'binit' not in students_name:\n",
    "        print('binit is in the students name')\n",
    "    else:\n",
    "        print(i)\n",
    "        break"
   ]
  },
  {
   "cell_type": "code",
   "execution_count": 108,
   "id": "6efab276",
   "metadata": {
    "collapsed": true
   },
   "outputs": [
    {
     "name": "stdout",
     "output_type": "stream",
     "text": [
      "Prajwal\n",
      " juhaib\n",
      " aryan\n",
      "ram\n",
      " pyarellall\n"
     ]
    }
   ],
   "source": [
    "for i in students_name:\n",
    "    if 'binit' == i:\n",
    "        break\n",
    "    print(i)"
   ]
  },
  {
   "cell_type": "code",
   "execution_count": null,
   "id": "ff78688a",
   "metadata": {},
   "outputs": [],
   "source": [
    "Data = [10,20,50,70,80,30] # if i is 70 break the loop"
   ]
  },
  {
   "cell_type": "code",
   "execution_count": 109,
   "id": "3bb0f633",
   "metadata": {
    "collapsed": true
   },
   "outputs": [
    {
     "name": "stdout",
     "output_type": "stream",
     "text": [
      "10\n",
      "20\n",
      "50\n",
      "70\n"
     ]
    }
   ],
   "source": [
    "for i in Data:\n",
    "    if i == 80:\n",
    "        break\n",
    "    print(i)"
   ]
  },
  {
   "cell_type": "code",
   "execution_count": 111,
   "id": "f600e525",
   "metadata": {
    "collapsed": true
   },
   "outputs": [
    {
     "name": "stdout",
     "output_type": "stream",
     "text": [
      "10\n",
      "20\n",
      "50\n",
      "80\n",
      "80\n",
      "30\n"
     ]
    }
   ],
   "source": [
    "for i in Data:\n",
    "    if i == 70:\n",
    "        i = i+10\n",
    "        print(i)\n",
    "        continue\n",
    "    print(i)"
   ]
  },
  {
   "cell_type": "code",
   "execution_count": 112,
   "id": "31ab27b8",
   "metadata": {
    "collapsed": true
   },
   "outputs": [
    {
     "data": {
      "text/plain": [
       "['Prajwal',\n",
       " ' juhaib',\n",
       " ' aryan',\n",
       " 'ram',\n",
       " ' pyarellall',\n",
       " 'binit',\n",
       " 'venkatesh',\n",
       " 'tej',\n",
       " 'rajshri',\n",
       " 'tanuja',\n",
       " 'akankshya',\n",
       " 'sandhya']"
      ]
     },
     "execution_count": 112,
     "metadata": {},
     "output_type": "execute_result"
    }
   ],
   "source": [
    "students_name"
   ]
  },
  {
   "cell_type": "code",
   "execution_count": 114,
   "id": "8428bf1f",
   "metadata": {
    "collapsed": true
   },
   "outputs": [
    {
     "name": "stdout",
     "output_type": "stream",
     "text": [
      "Prajwal\n",
      " juhaib\n",
      " aryan\n",
      " pyarellall\n",
      "binit\n",
      "venkatesh\n",
      "tej\n",
      "rajshri\n",
      "tanuja\n",
      "akankshya\n",
      "sandhya\n",
      "RAM\n"
     ]
    }
   ],
   "source": [
    "for i in students_name:\n",
    "    if i == 'ram':\n",
    "        students_name.remove('ram')\n",
    "        students_name.append('RAM')\n",
    "    print(i)"
   ]
  },
  {
   "cell_type": "code",
   "execution_count": 115,
   "id": "5aae0723",
   "metadata": {
    "collapsed": true
   },
   "outputs": [
    {
     "name": "stdout",
     "output_type": "stream",
     "text": [
      "['Prajwal', ' juhaib', ' aryan', ' pyarellall', 'binit', 'venkatesh', 'tej', 'rajshri', 'tanuja', 'akankshya', 'sandhya', 'RAM']\n"
     ]
    }
   ],
   "source": [
    "print(students_name)"
   ]
  },
  {
   "cell_type": "code",
   "execution_count": 123,
   "id": "64918d1b",
   "metadata": {
    "collapsed": true
   },
   "outputs": [
    {
     "name": "stdout",
     "output_type": "stream",
     "text": [
      "0\n",
      "1\n",
      "2\n",
      "3\n",
      "4\n",
      "5\n"
     ]
    }
   ],
   "source": [
    "for i in range(0,6):\n",
    "    if i == 3:\n",
    "        pass        \n",
    "    print(i)"
   ]
  },
  {
   "cell_type": "code",
   "execution_count": 117,
   "id": "f3318b5e",
   "metadata": {
    "collapsed": true
   },
   "outputs": [
    {
     "name": "stdout",
     "output_type": "stream",
     "text": [
      "Prajwal\n",
      " juhaib\n",
      " aryan\n",
      " pyarellall\n",
      "binit\n",
      "venkatesh\n",
      "tej\n",
      "rajshri\n",
      "tanuja\n",
      "akankshya\n",
      "sandhya\n",
      "RAM\n"
     ]
    }
   ],
   "source": [
    "# pass\n",
    "for i in students_name:\n",
    "    if i == 'aryan':\n",
    "        pass\n",
    "    print(i)"
   ]
  },
  {
   "cell_type": "code",
   "execution_count": 121,
   "id": "44d5202c",
   "metadata": {},
   "outputs": [
    {
     "name": "stdout",
     "output_type": "stream",
     "text": [
      " aryan\n"
     ]
    }
   ],
   "source": [
    "for i in students_name:\n",
    "    if i == ' aryan':\n",
    "        pass\n",
    "        print(i)"
   ]
  },
  {
   "cell_type": "code",
   "execution_count": 331,
   "id": "3b4b5627",
   "metadata": {
    "collapsed": true
   },
   "outputs": [
    {
     "data": {
      "text/plain": [
       "[{'name': 'Ram',\n",
       "  'age': 30,\n",
       "  'course': ['DS', 'Stat', 'AWS'],\n",
       "  'marks': [80, 90, 60]},\n",
       " {'name': 'Sam',\n",
       "  'age': 37,\n",
       "  'course': ['DS', 'Stat', 'AWS'],\n",
       "  'marks': [80, 95, 69]}]"
      ]
     },
     "execution_count": 331,
     "metadata": {},
     "output_type": "execute_result"
    }
   ],
   "source": [
    "students_details"
   ]
  },
  {
   "cell_type": "code",
   "execution_count": 124,
   "id": "ad867ddd",
   "metadata": {},
   "outputs": [
    {
     "name": "stdout",
     "output_type": "stream",
     "text": [
      "Ram: 76.67: B grade\n",
      "Sam: 81.33: B grade\n"
     ]
    }
   ],
   "source": [
    "for i in students_details:\n",
    "    name = i['name']\n",
    "    avg_marks = round(sum(i['marks'])/len(i['marks']),2)\n",
    "    if avg_marks >=90:\n",
    "        grade = 'A grade'\n",
    "        print(name,avg_marks,grade, sep=': ')\n",
    "    elif avg_marks <90 and avg_marks >=70:\n",
    "        grade = 'B grade'\n",
    "        print(name,avg_marks,grade, sep=': ')\n",
    "    elif avg_marks < 70 and avg_marks >=50:\n",
    "        grade = 'C grade'\n",
    "        print(name,avg_marks,grade, sep=': ')\n",
    "    elif avg_marks < 50 and avg_marks >=35:\n",
    "        grade = 'D grade'\n",
    "        print(name,avg_marks,grade, sep=': ')\n",
    "    else:\n",
    "        grade = 'Fail'\n",
    "        print(name,avg_marks,grade, sep=': ') "
   ]
  },
  {
   "cell_type": "code",
   "execution_count": null,
   "id": "e760c452",
   "metadata": {},
   "outputs": [],
   "source": [
    "# increament --> i = 10, i = i+2"
   ]
  },
  {
   "cell_type": "code",
   "execution_count": 125,
   "id": "cbae1bc4",
   "metadata": {},
   "outputs": [
    {
     "name": "stdout",
     "output_type": "stream",
     "text": [
      "[1, 2, 3, 4, 5, 6, 7, 8, 9, 10]\n"
     ]
    }
   ],
   "source": [
    "# increament operation\n",
    "add = []\n",
    "for i in range(0,10):\n",
    "    # i = i+1\n",
    "    i += 1\n",
    "    add.append(i)\n",
    "print(add)"
   ]
  },
  {
   "cell_type": "code",
   "execution_count": 126,
   "id": "ed2efd4c",
   "metadata": {
    "collapsed": true
   },
   "outputs": [
    {
     "name": "stdout",
     "output_type": "stream",
     "text": [
      "[10, 9, 8, 7, 6, 5, 4, 3, 2, 1, 0]\n"
     ]
    }
   ],
   "source": [
    "# decrementing a value by some value, i = 10, i = i-1 or i -= 1\n",
    "sub = []\n",
    "for i in range(11,0,-1):\n",
    "    # i = i+1\n",
    "    i-=1\n",
    "    sub.append(i)\n",
    "print(sub)"
   ]
  },
  {
   "cell_type": "code",
   "execution_count": 131,
   "id": "ac57a564",
   "metadata": {},
   "outputs": [
    {
     "name": "stdout",
     "output_type": "stream",
     "text": [
      "11\n"
     ]
    }
   ],
   "source": [
    "# similar to len function---> len()\n",
    "\n",
    "data = [10,20,30,40,50,60,80,150,'p','w',True]\n",
    "Count = 0\n",
    "for i in data:\n",
    "    Count += 1\n",
    "print(Count)"
   ]
  },
  {
   "cell_type": "code",
   "execution_count": 132,
   "id": "d845cea9",
   "metadata": {},
   "outputs": [
    {
     "name": "stdout",
     "output_type": "stream",
     "text": [
      "320\n"
     ]
    }
   ],
   "source": [
    "# sum of the values -->  sum()\n",
    "\n",
    "data = [10,20,30,40,50,80,30,60]\n",
    "summation = 0\n",
    "for i in data:\n",
    "    summation += i # --> 0 + 10, 10 +20, 30 + 30,60 + 40,100+50\n",
    "print(summation)"
   ]
  },
  {
   "cell_type": "code",
   "execution_count": 137,
   "id": "f053a82d",
   "metadata": {},
   "outputs": [],
   "source": [
    "lenght = 0\n",
    "summation = 0\n",
    "prod = 1\n",
    "for i in data:\n",
    "    lenght += 1\n",
    "    summation += i\n",
    "    prod *= i\n",
    "    "
   ]
  },
  {
   "cell_type": "code",
   "execution_count": 138,
   "id": "73b21739",
   "metadata": {
    "collapsed": true
   },
   "outputs": [
    {
     "name": "stdout",
     "output_type": "stream",
     "text": [
      "Lenght: 7 \n",
      "sum: 290 \n",
      "prod:  57600000000\n"
     ]
    }
   ],
   "source": [
    "print('Lenght:',lenght,'\\nsum:',summation,'\\nprod: ',prod)"
   ]
  },
  {
   "cell_type": "code",
   "execution_count": 136,
   "id": "5f6796fc",
   "metadata": {},
   "outputs": [
    {
     "name": "stdout",
     "output_type": "stream",
     "text": [
      "57600000000\n"
     ]
    }
   ],
   "source": [
    "# product of the values\n",
    "data = [10,20,30,40,50,60,80]\n",
    "prod = 1\n",
    "for i in data:\n",
    "    prod *= i\n",
    "print(prod)"
   ]
  },
  {
   "cell_type": "code",
   "execution_count": 145,
   "id": "e8d8348d",
   "metadata": {},
   "outputs": [
    {
     "name": "stdout",
     "output_type": "stream",
     "text": [
      "20 50 60 80 90 60\n"
     ]
    }
   ],
   "source": [
    "data = list(map(int,input().split(' ')))"
   ]
  },
  {
   "cell_type": "code",
   "execution_count": 146,
   "id": "04ad2b14",
   "metadata": {},
   "outputs": [
    {
     "data": {
      "text/plain": [
       "list"
      ]
     },
     "execution_count": 146,
     "metadata": {},
     "output_type": "execute_result"
    }
   ],
   "source": [
    "type(data)"
   ]
  },
  {
   "cell_type": "code",
   "execution_count": 144,
   "id": "87dfa0dd",
   "metadata": {},
   "outputs": [
    {
     "data": {
      "text/plain": [
       "[20, 30, 60, 40]"
      ]
     },
     "execution_count": 144,
     "metadata": {},
     "output_type": "execute_result"
    }
   ],
   "source": [
    "list(data)"
   ]
  },
  {
   "cell_type": "code",
   "execution_count": 358,
   "id": "2cbd1018",
   "metadata": {},
   "outputs": [
    {
     "data": {
      "text/plain": [
       "55"
      ]
     },
     "execution_count": 358,
     "metadata": {},
     "output_type": "execute_result"
    }
   ],
   "source": [
    "# sum of squared values\n",
    "1**2+2**2+3**2+4**2+5**2"
   ]
  },
  {
   "cell_type": "code",
   "execution_count": 359,
   "id": "87a956c9",
   "metadata": {},
   "outputs": [
    {
     "name": "stdout",
     "output_type": "stream",
     "text": [
      "55\n"
     ]
    }
   ],
   "source": [
    "sum_squared = 0\n",
    "for i in range(1,6):\n",
    "    sum_squared += i ** 2\n",
    "print(sum_squared)"
   ]
  },
  {
   "cell_type": "markdown",
   "id": "ce687ed8",
   "metadata": {},
   "source": [
    "# nested loops [patterns]"
   ]
  },
  {
   "cell_type": "code",
   "execution_count": 148,
   "id": "4f942c81",
   "metadata": {
    "collapsed": true
   },
   "outputs": [
    {
     "name": "stdout",
     "output_type": "stream",
     "text": [
      "5.5\n",
      "5.6\n",
      "5.9\n",
      "5.8\n",
      "5.7\n",
      "5.9\n",
      "6.5\n",
      "6.8\n",
      "7.1\n",
      "6.3\n",
      "6.4\n",
      "6.6\n",
      "6.4\n",
      "7.1\n",
      "7.8\n",
      "7.5\n",
      "6.9\n",
      "8.1\n",
      "7.5\n",
      "7.9\n"
     ]
    }
   ],
   "source": [
    "students_heights = [[5.5,5.6,5.9,5.8,5.7,5.9],\n",
    "                    [6.5,6.8,7.1,6.3,6.4,6.6,6.4],\n",
    "                    [7.1,7.8,7.5,6.9,8.1,7.5,7.9]]\n",
    "for i in students_heights:\n",
    "#     print(i)\n",
    "    for j in i:\n",
    "        print(j)"
   ]
  },
  {
   "cell_type": "code",
   "execution_count": 168,
   "id": "740a6d2a",
   "metadata": {},
   "outputs": [],
   "source": [
    "students_heights = [[[5.5,5.6,5.9,5.8,5.7,5.9,5.5],\n",
    "                    [6.5,6.8,7.1,6.3,6.4,6.6,6.4,5.5],\n",
    "                    [7.1,7.8,7.5,6.9,8.1,7.5,7.9,5.5]]]"
   ]
  },
  {
   "cell_type": "code",
   "execution_count": 158,
   "id": "63d84026",
   "metadata": {
    "collapsed": true
   },
   "outputs": [
    {
     "name": "stdout",
     "output_type": "stream",
     "text": [
      "1.7047480922384253\n",
      "1.7227665977411035\n",
      "1.7749523509116738\n",
      "1.7578579175523736\n",
      "1.7404661748405046\n",
      "1.7749523509116738\n",
      "1.8718021769015913\n",
      "1.916922612182061\n",
      "1.9600947840472698\n",
      "1.840549633397487\n",
      "1.8562979903656263\n",
      "1.8870696490323797\n",
      "1.8562979903656263\n",
      "1.9600947840472698\n",
      "2.0541237336955462\n",
      "2.0149030205422647\n",
      "1.9315214116032138\n",
      "2.0918640616783932\n",
      "2.0149030205422647\n",
      "2.066862759472976\n"
     ]
    }
   ],
   "source": [
    "import numpy as np\n",
    "for i in students_heights:\n",
    "#     print(i)\n",
    "    for j in i:\n",
    "#         print(j)\n",
    "        for k in j:\n",
    "            print(np.log(k))"
   ]
  },
  {
   "cell_type": "code",
   "execution_count": 174,
   "id": "fa3bca9b",
   "metadata": {
    "collapsed": true
   },
   "outputs": [
    {
     "name": "stdout",
     "output_type": "stream",
     "text": [
      "5.9\n",
      "6.6\n",
      "7.5\n"
     ]
    }
   ],
   "source": [
    "for i in students_heights:\n",
    "    for j in i:\n",
    "        d = j[5]\n",
    "        print(j[5])"
   ]
  },
  {
   "cell_type": "code",
   "execution_count": 363,
   "id": "ec5bd557",
   "metadata": {},
   "outputs": [],
   "source": [
    "for i in students_heights:\n",
    "    if type(students_heights) == str:\n",
    "        for j in i:\n",
    "            print(j)"
   ]
  },
  {
   "cell_type": "code",
   "execution_count": 175,
   "id": "10a23f71",
   "metadata": {},
   "outputs": [],
   "source": [
    "DS_students = [{'name': 'Sam',\n",
    " 'age': 37,\n",
    " 'course': ['DS', 'Stat', 'AWS'],\n",
    " 'marks': [80, 95, 69,60]},\n",
    "{'name': None,\n",
    " 'age': 37,\n",
    " 'course': ['DS', 'Stat', 'AWS'],\n",
    " 'marks': [80, 95, 69,70]},\n",
    "{'name': 10,\n",
    " 'age': 37,\n",
    " 'course': ['DS', 'Stat', 'AWS'],\n",
    " 'marks': [80, 95, 69,30]}]"
   ]
  },
  {
   "cell_type": "code",
   "execution_count": 184,
   "id": "d04331b2",
   "metadata": {
    "collapsed": true
   },
   "outputs": [
    {
     "name": "stdout",
     "output_type": "stream",
     "text": [
      "76.0\n",
      "76.0\n",
      "76.0\n",
      "76.0\n"
     ]
    }
   ],
   "source": [
    "for i in DS_students:\n",
    "    if type(i['name']) == str: \n",
    "        for j in i.items():\n",
    "            avg = sum(i['marks'])/len(i['marks'])\n",
    "            print(avg)"
   ]
  },
  {
   "cell_type": "code",
   "execution_count": 193,
   "id": "d365ceaf",
   "metadata": {
    "collapsed": true
   },
   "outputs": [
    {
     "name": "stdout",
     "output_type": "stream",
     "text": [
      "0 1 2 \n",
      "0 1 2 \n",
      "0 1 2 \n",
      "0 1 2 \n",
      "0 1 2 \n"
     ]
    }
   ],
   "source": [
    "for i in range(0,5):\n",
    "    for j in range(0,3):\n",
    "        print(j,end = ' ')\n",
    "    print()\n"
   ]
  },
  {
   "cell_type": "code",
   "execution_count": 201,
   "id": "9b2d4db2",
   "metadata": {},
   "outputs": [
    {
     "name": "stdout",
     "output_type": "stream",
     "text": [
      "1 \n",
      "2 2 \n",
      "3 3 3 \n",
      "4 4 4 4 \n",
      "5 5 5 5 5 \n"
     ]
    }
   ],
   "source": [
    "row = 6\n",
    "for i in range(1,row):\n",
    "    for j in range(i):\n",
    "        print(i, end=' ')\n",
    "    print()"
   ]
  },
  {
   "cell_type": "code",
   "execution_count": 392,
   "id": "0d2618a2",
   "metadata": {
    "collapsed": true
   },
   "outputs": [
    {
     "name": "stdout",
     "output_type": "stream",
     "text": [
      "0 1 \n",
      "0 1 2 \n",
      "0 1 2 3 \n",
      "0 1 2 3 4 \n",
      "0 1 2 3 4 5 \n",
      "0 1 2 3 4 5 6 \n"
     ]
    }
   ],
   "source": [
    "row = 6\n",
    "for i in range(1,row+1):\n",
    "    for j in range(i+1):\n",
    "        print(j, end=' ')\n",
    "    print()"
   ]
  },
  {
   "cell_type": "code",
   "execution_count": 394,
   "id": "6531043b",
   "metadata": {
    "collapsed": true
   },
   "outputs": [
    {
     "name": "stdout",
     "output_type": "stream",
     "text": [
      "# \n",
      "# # \n",
      "# # # \n",
      "# # # # \n",
      "# # # # # \n",
      "# # # # # # \n"
     ]
    }
   ],
   "source": [
    "row = 6\n",
    "for i in range(1,row+1):\n",
    "    for j in range(i):\n",
    "        print('#', end=' ')\n",
    "    print()"
   ]
  },
  {
   "cell_type": "code",
   "execution_count": 203,
   "id": "d59fde4e",
   "metadata": {
    "collapsed": true
   },
   "outputs": [
    {
     "name": "stdout",
     "output_type": "stream",
     "text": [
      "5 5 5 5 5 \n",
      "4 4 4 4 \n",
      "3 3 3 \n",
      "2 2 \n",
      "1 \n"
     ]
    }
   ],
   "source": [
    "# reverse trainagle printing.\n",
    "for i in range(5,0,-1 ):\n",
    "    for j in range(i):\n",
    "        print(i, end=' ')\n",
    "    print()"
   ]
  },
  {
   "cell_type": "code",
   "execution_count": 204,
   "id": "d02cf86e",
   "metadata": {
    "collapsed": true
   },
   "outputs": [
    {
     "name": "stdout",
     "output_type": "stream",
     "text": [
      "* \n",
      "* * \n",
      "* * * \n",
      "* * * * \n",
      "* * * * * \n",
      "* * * * * * \n",
      "* * * * * \n",
      "* * * * \n",
      "* * * \n",
      "* * \n",
      "* \n"
     ]
    }
   ],
   "source": [
    "for i in range(1,row):\n",
    "    for j in range(i):\n",
    "        print('*', end=' ')\n",
    "    print()\n",
    "for i in range(row,0,-1):\n",
    "    for j in range(i):\n",
    "        print('*', end=' ')\n",
    "    print()"
   ]
  },
  {
   "cell_type": "code",
   "execution_count": 216,
   "id": "3c4f715f",
   "metadata": {},
   "outputs": [
    {
     "name": "stdout",
     "output_type": "stream",
     "text": [
      "     * \n",
      "    * * \n",
      "   * * * \n",
      "  * * * * \n",
      " * * * * * \n"
     ]
    }
   ],
   "source": [
    "# pyramid shape\n",
    "for i in range(5):\n",
    "    for b in range(5-i):\n",
    "        print(' ',end= '')\n",
    "    for j in range(i+1):\n",
    "        print('*',end = ' ')\n",
    "    print()"
   ]
  },
  {
   "cell_type": "code",
   "execution_count": 218,
   "id": "c83ab7c0",
   "metadata": {},
   "outputs": [
    {
     "name": "stdout",
     "output_type": "stream",
     "text": [
      "* * * * * \n",
      " * * * * \n",
      "  * * * \n",
      "   * * \n",
      "    * \n"
     ]
    }
   ],
   "source": [
    "for i in range(5,0,-1):\n",
    "    for b in range(5-i):\n",
    "        print(' ',end= '')\n",
    "    for j in range(i):\n",
    "        print('*',end = ' ')\n",
    "    print()"
   ]
  },
  {
   "cell_type": "code",
   "execution_count": null,
   "id": "12a5f864",
   "metadata": {},
   "outputs": [],
   "source": [
    "# while looping\n",
    "initialing\n",
    "condition\n",
    "incremeant/ decrement\n",
    "\n",
    "# syntax\n",
    "i = 0\n",
    "while i == 6:\n",
    "    statments\n",
    "    i+=3"
   ]
  },
  {
   "cell_type": "code",
   "execution_count": 231,
   "id": "25cd7133",
   "metadata": {
    "collapsed": true
   },
   "outputs": [
    {
     "data": {
      "text/plain": [
       "True"
      ]
     },
     "execution_count": 231,
     "metadata": {},
     "output_type": "execute_result"
    }
   ],
   "source": [
    "i = -2\n",
    "i<= 5"
   ]
  },
  {
   "cell_type": "code",
   "execution_count": 234,
   "id": "4254ddca",
   "metadata": {
    "collapsed": true
   },
   "outputs": [
    {
     "name": "stdout",
     "output_type": "stream",
     "text": [
      "0\n",
      "1\n",
      "2\n",
      "3\n",
      "4\n",
      "5\n"
     ]
    }
   ],
   "source": [
    "i = 0\n",
    "while (i <= 5):\n",
    "    print(i)\n",
    "    i+=1"
   ]
  },
  {
   "cell_type": "code",
   "execution_count": 235,
   "id": "5f9a7849",
   "metadata": {
    "collapsed": true
   },
   "outputs": [
    {
     "name": "stdout",
     "output_type": "stream",
     "text": [
      "5\n",
      "4\n",
      "3\n",
      "2\n",
      "1\n",
      "0\n"
     ]
    }
   ],
   "source": [
    "i = 5\n",
    "while (i >= 0):\n",
    "    print(i)\n",
    "    i-=1"
   ]
  },
  {
   "cell_type": "code",
   "execution_count": 237,
   "id": "7ff865ab",
   "metadata": {},
   "outputs": [
    {
     "name": "stdout",
     "output_type": "stream",
     "text": [
      "15\n"
     ]
    }
   ],
   "source": [
    "# sum of values\n",
    "i = 0\n",
    "SUM = 0\n",
    "while (i <= 5):\n",
    "    SUM += i\n",
    "    i+=1\n",
    "print(SUM)"
   ]
  },
  {
   "cell_type": "code",
   "execution_count": 241,
   "id": "4b34b1e5",
   "metadata": {
    "collapsed": true
   },
   "outputs": [
    {
     "name": "stdout",
     "output_type": "stream",
     "text": [
      "1 \n",
      "2 2 \n",
      "3 3 3 \n",
      "4 4 4 4 \n",
      "5 5 5 5 5 \n"
     ]
    }
   ],
   "source": [
    "# # Nested while loop(patterns)\n",
    "i = 1\n",
    "while (i <= 5):\n",
    "    j = 1\n",
    "    while (j <= i):\n",
    "        print(i, end = ' ')\n",
    "        j = j+1\n",
    "    print()\n",
    "    i = i+1"
   ]
  },
  {
   "cell_type": "code",
   "execution_count": 242,
   "id": "f22170a6",
   "metadata": {},
   "outputs": [
    {
     "name": "stdout",
     "output_type": "stream",
     "text": [
      "1 \n",
      "1 2 \n",
      "1 2 3 \n",
      "1 2 3 4 \n",
      "1 2 3 4 5 \n"
     ]
    }
   ],
   "source": [
    "i = 1\n",
    "while i<= 5:\n",
    "    j = 1\n",
    "    while j<=i:\n",
    "        print(j, end = ' ')\n",
    "        j = j+1\n",
    "    print()\n",
    "    i = i+1"
   ]
  },
  {
   "cell_type": "code",
   "execution_count": null,
   "id": "82c9335d",
   "metadata": {},
   "outputs": [],
   "source": [
    "i = 1\n",
    "while i<= 5:\n",
    "    j = 1\n",
    "    while j<=i:\n",
    "        print(j, end = ' ')\n",
    "        j = j+1\n",
    "    print()\n",
    "    i = i+1"
   ]
  },
  {
   "cell_type": "code",
   "execution_count": 243,
   "id": "7d75ed9c",
   "metadata": {
    "collapsed": true
   },
   "outputs": [
    {
     "name": "stdout",
     "output_type": "stream",
     "text": [
      "    * \n",
      "   * * \n",
      "  * * * \n",
      " * * * * \n",
      "* * * * * \n"
     ]
    }
   ],
   "source": [
    "i = 1 \n",
    "while (i <= 5):\n",
    "    j = 1 \n",
    "    while j <= 5-i:\n",
    "        print(' ',end = '')\n",
    "        j = j+1\n",
    "    k = 1 \n",
    "    while k <= i:\n",
    "        print('*',end = ' ')\n",
    "        k = k+1\n",
    "    print()\n",
    "    i = i+1"
   ]
  },
  {
   "cell_type": "code",
   "execution_count": 244,
   "id": "626a9814",
   "metadata": {
    "collapsed": true
   },
   "outputs": [
    {
     "name": "stdout",
     "output_type": "stream",
     "text": [
      " * * * * \n",
      "  * * * \n",
      "   * * \n",
      "    * \n",
      "     \n"
     ]
    }
   ],
   "source": [
    "i = 4\n",
    "while i >= 0:\n",
    "    j = 1 # 2 <= 3\n",
    "    while j <= 5-i:\n",
    "        print(' ',end = '')\n",
    "        j = j+1\n",
    "    k = 1 # 2 <= 2\n",
    "    while k <= i:\n",
    "        print('*',end = ' ')\n",
    "        k = k+1\n",
    "    print()\n",
    "    i = i-1"
   ]
  },
  {
   "cell_type": "code",
   "execution_count": 245,
   "id": "a3fc720b",
   "metadata": {
    "collapsed": true
   },
   "outputs": [
    {
     "name": "stdout",
     "output_type": "stream",
     "text": [
      "      \n",
      "     \n",
      "    * \n",
      "   * * \n",
      "  * * * \n",
      " * * * * \n",
      "* * * * * \n"
     ]
    }
   ],
   "source": [
    "while (i <= 5):\n",
    "    j = 1 # 2 <= 3\n",
    "    while j <= 5-i:\n",
    "        print(' ',end = '')\n",
    "        j = j+1\n",
    "    k = 1 # 2 <= 2\n",
    "    while k <= i:\n",
    "        print('*',end = ' ')\n",
    "        k = k+1\n",
    "    print()\n",
    "    i = i+1"
   ]
  },
  {
   "cell_type": "code",
   "execution_count": null,
   "id": "e35dd638",
   "metadata": {},
   "outputs": [],
   "source": [
    "i = 1 # 2 3 4 5 6\n",
    "\n",
    "i = 4\n",
    "while i >= 0:\n",
    "    j = 1 # 2 <= 3\n",
    "    while j <= 5-i:\n",
    "        print(' ',end = '')\n",
    "        j = j+1\n",
    "    k = 1 # 2 <= 2\n",
    "    while k <= i:\n",
    "        print('*',end = ' ')\n",
    "        k = k+1\n",
    "    print()\n",
    "    i = i-1"
   ]
  },
  {
   "cell_type": "code",
   "execution_count": null,
   "id": "b070635a",
   "metadata": {},
   "outputs": [],
   "source": [
    "i = 1\n",
    "while i<= 5:\n",
    "    j = 1\n",
    "    while j<=5-i:\n",
    "        print(' ',end = '')\n",
    "        j = j+1\n",
    "    k = 1\n",
    "    while k<=i:\n",
    "        print(k, end = ' ')\n",
    "        k = k+1\n",
    "    print()\n",
    "    i = i+1"
   ]
  },
  {
   "cell_type": "code",
   "execution_count": 246,
   "id": "0b7df2c2",
   "metadata": {},
   "outputs": [
    {
     "name": "stdout",
     "output_type": "stream",
     "text": [
      "    1 \n",
      "   2 2 \n",
      "  3 3 3 \n",
      " 4 4 4 4 \n",
      "5 5 5 5 5 \n",
      "    5 \n",
      "   4 4 \n",
      "  3 3 3 \n",
      " 2 2 2 2 \n",
      "1 1 1 1 1 \n"
     ]
    }
   ],
   "source": [
    "i = 1\n",
    "while i<= 5:\n",
    "    j = 1\n",
    "    while j<=5-i:\n",
    "        print(' ',end = '')\n",
    "        j = j+1\n",
    "    k = 1\n",
    "    while k<=i:\n",
    "        print(i, end = ' ')\n",
    "        k = k+1\n",
    "    print()\n",
    "    i = i+1\n",
    "\n",
    "i = 1\n",
    "while i<= 5:\n",
    "    j = 1\n",
    "    while j<=5-i:\n",
    "        print(' ',end = '')\n",
    "        j = j+1\n",
    "    k = 1\n",
    "    while k<=i:\n",
    "        print(j, end = ' ')\n",
    "        k = k+1\n",
    "    print()\n",
    "    i = i+1"
   ]
  },
  {
   "cell_type": "code",
   "execution_count": null,
   "id": "d3572b07",
   "metadata": {},
   "outputs": [],
   "source": [
    "# user defined functions\n",
    "builtin functions\n",
    "sum(),len(),input(),min(),max(),abs(),print(), np.mean()....."
   ]
  },
  {
   "cell_type": "code",
   "execution_count": 249,
   "id": "9b9dc8f1",
   "metadata": {},
   "outputs": [
    {
     "name": "stdout",
     "output_type": "stream",
     "text": [
      "Prints the values to a stream, or to sys.stdout by default.\n",
      "\n",
      "  sep\n",
      "    string inserted between values, default a space.\n",
      "  end\n",
      "    string appended after the last value, default a newline.\n",
      "  file\n",
      "    a file-like object (stream); defaults to the current sys.stdout.\n",
      "  flush\n",
      "    whether to forcibly flush the stream.\n"
     ]
    }
   ],
   "source": [
    "# documnetation of function/ docstring. \n",
    "help(print)\n",
    "print(print.__doc__)"
   ]
  },
  {
   "cell_type": "code",
   "execution_count": null,
   "id": "6df78704",
   "metadata": {},
   "outputs": [],
   "source": [
    "# info about function\n",
    "def --> define\n",
    "function_name(parameters)\n",
    "parameters:\n",
    "    1. positional parameter/ manadotory parameters\n",
    "    2. defualt parameter\n",
    "    3. *args\n",
    "    4. *kwargs\n",
    "staments: \n",
    "    using parameters writing staments\n",
    "output:\n",
    "    print() -->  function\n",
    "    return --> keywrod\n",
    "\n",
    "# syntax:\n",
    "def function_name(a,b,c = 10, d = True,*args,**kwargs):\n",
    "    e = a +b *d\n",
    "    print(e)\n",
    "    \n",
    "# calling a function \n",
    "function_name(10,20)\n",
    "    "
   ]
  },
  {
   "cell_type": "code",
   "execution_count": 254,
   "id": "42566c5d",
   "metadata": {},
   "outputs": [],
   "source": [
    "# single parameter function\n",
    "def student_name(name):\n",
    "    print(f'i am studying in {name}')"
   ]
  },
  {
   "cell_type": "code",
   "execution_count": 260,
   "id": "b90fdffe",
   "metadata": {},
   "outputs": [
    {
     "name": "stdout",
     "output_type": "stream",
     "text": [
      "i am studying in college\n"
     ]
    }
   ],
   "source": [
    "student_name('college')"
   ]
  },
  {
   "cell_type": "code",
   "execution_count": 261,
   "id": "55cab2de",
   "metadata": {},
   "outputs": [],
   "source": [
    "def add(a,b):\n",
    "    addition = a + b\n",
    "    print(addition)"
   ]
  },
  {
   "cell_type": "code",
   "execution_count": 265,
   "id": "5475d5db",
   "metadata": {},
   "outputs": [
    {
     "name": "stdout",
     "output_type": "stream",
     "text": [
      "30\n"
     ]
    }
   ],
   "source": [
    "add(10,20)"
   ]
  },
  {
   "cell_type": "code",
   "execution_count": 266,
   "id": "b41050d7",
   "metadata": {},
   "outputs": [],
   "source": [
    "# defualt parameters\n",
    "def add(a,b = 10):\n",
    "    addition = a + b\n",
    "    print(addition)"
   ]
  },
  {
   "cell_type": "code",
   "execution_count": 267,
   "id": "f4c1bd4c",
   "metadata": {
    "collapsed": true
   },
   "outputs": [
    {
     "name": "stdout",
     "output_type": "stream",
     "text": [
      "30\n"
     ]
    }
   ],
   "source": [
    "add(10,20)"
   ]
  },
  {
   "cell_type": "code",
   "execution_count": 268,
   "id": "36b5e2c9",
   "metadata": {
    "collapsed": true
   },
   "outputs": [
    {
     "name": "stdout",
     "output_type": "stream",
     "text": [
      "20\n"
     ]
    }
   ],
   "source": [
    "add(10)"
   ]
  },
  {
   "cell_type": "code",
   "execution_count": 269,
   "id": "b62680f2",
   "metadata": {},
   "outputs": [],
   "source": [
    "# *args\n",
    "def many_values(*args):\n",
    "    print(*args)"
   ]
  },
  {
   "cell_type": "code",
   "execution_count": 271,
   "id": "11cba7e5",
   "metadata": {},
   "outputs": [
    {
     "name": "stdout",
     "output_type": "stream",
     "text": [
      "10 20 30 40 50 602\n"
     ]
    }
   ],
   "source": [
    "many_values(10,20,30,40,50,602)"
   ]
  },
  {
   "cell_type": "code",
   "execution_count": 276,
   "id": "35d54f17",
   "metadata": {},
   "outputs": [],
   "source": [
    "def many_keyvalues(**kwargs):\n",
    "    print(kwargs)"
   ]
  },
  {
   "cell_type": "code",
   "execution_count": 280,
   "id": "19a00ef7",
   "metadata": {},
   "outputs": [
    {
     "name": "stdout",
     "output_type": "stream",
     "text": [
      "{'a': 10, 'b': 20, 'c': [10, 10, 20]}\n"
     ]
    }
   ],
   "source": [
    "many_keyvalues(a=10,b=20,c = [10,10,20])"
   ]
  },
  {
   "cell_type": "code",
   "execution_count": 321,
   "id": "6b8c5d9c",
   "metadata": {},
   "outputs": [],
   "source": [
    "# defining a mean function\n",
    "def mean(data):\n",
    "    lenght = 0\n",
    "    summation = 0\n",
    "    Nt = None\n",
    "    for i in data:\n",
    "        if type(i) != type(Nt):\n",
    "            lenght += 1\n",
    "            summation += i\n",
    "            Mean = round(summation/lenght,2)\n",
    "    return Mean"
   ]
  },
  {
   "cell_type": "code",
   "execution_count": 284,
   "id": "b29455b2",
   "metadata": {
    "collapsed": true
   },
   "outputs": [
    {
     "data": {
      "text/plain": [
       "51.43"
      ]
     },
     "execution_count": 284,
     "metadata": {},
     "output_type": "execute_result"
    }
   ],
   "source": [
    "data = [10,20,30,70,80,90,60]\n",
    "mean(data)"
   ]
  },
  {
   "cell_type": "code",
   "execution_count": 313,
   "id": "ef426b96",
   "metadata": {},
   "outputs": [
    {
     "data": {
      "text/plain": [
       "NoneType"
      ]
     },
     "execution_count": 313,
     "metadata": {},
     "output_type": "execute_result"
    }
   ],
   "source": [
    "data = None\n",
    "type(data)"
   ]
  },
  {
   "cell_type": "code",
   "execution_count": 322,
   "id": "1f48af06",
   "metadata": {},
   "outputs": [
    {
     "data": {
      "text/plain": [
       "5.7"
      ]
     },
     "execution_count": 322,
     "metadata": {},
     "output_type": "execute_result"
    }
   ],
   "source": [
    "hieght1,hieght2 = [5.5,5.6,5.9,5.8,5.7,None],[6.5,6.8,7.1,6.3,6.4,6.6,6.4]\n",
    "mean(hieght1)"
   ]
  },
  {
   "cell_type": "code",
   "execution_count": 323,
   "id": "5bf7080a",
   "metadata": {},
   "outputs": [],
   "source": [
    "hieght1 =[5.5,5.6,5.9,5.8,5.7]"
   ]
  },
  {
   "cell_type": "code",
   "execution_count": null,
   "id": "4f409fcc",
   "metadata": {},
   "outputs": [],
   "source": []
  },
  {
   "cell_type": "code",
   "execution_count": 325,
   "id": "dd8081cc",
   "metadata": {
    "collapsed": true
   },
   "outputs": [
    {
     "data": {
      "text/html": [
       "<div>\n",
       "<style scoped>\n",
       "    .dataframe tbody tr th:only-of-type {\n",
       "        vertical-align: middle;\n",
       "    }\n",
       "\n",
       "    .dataframe tbody tr th {\n",
       "        vertical-align: top;\n",
       "    }\n",
       "\n",
       "    .dataframe thead th {\n",
       "        text-align: right;\n",
       "    }\n",
       "</style>\n",
       "<table border=\"1\" class=\"dataframe\">\n",
       "  <thead>\n",
       "    <tr style=\"text-align: right;\">\n",
       "      <th></th>\n",
       "      <th>0</th>\n",
       "    </tr>\n",
       "  </thead>\n",
       "  <tbody>\n",
       "    <tr>\n",
       "      <th>count</th>\n",
       "      <td>5.000000</td>\n",
       "    </tr>\n",
       "    <tr>\n",
       "      <th>mean</th>\n",
       "      <td>5.700000</td>\n",
       "    </tr>\n",
       "    <tr>\n",
       "      <th>std</th>\n",
       "      <td>0.158114</td>\n",
       "    </tr>\n",
       "    <tr>\n",
       "      <th>min</th>\n",
       "      <td>5.500000</td>\n",
       "    </tr>\n",
       "    <tr>\n",
       "      <th>25%</th>\n",
       "      <td>5.600000</td>\n",
       "    </tr>\n",
       "    <tr>\n",
       "      <th>50%</th>\n",
       "      <td>5.700000</td>\n",
       "    </tr>\n",
       "    <tr>\n",
       "      <th>75%</th>\n",
       "      <td>5.800000</td>\n",
       "    </tr>\n",
       "    <tr>\n",
       "      <th>max</th>\n",
       "      <td>5.900000</td>\n",
       "    </tr>\n",
       "  </tbody>\n",
       "</table>\n",
       "</div>"
      ],
      "text/plain": [
       "              0\n",
       "count  5.000000\n",
       "mean   5.700000\n",
       "std    0.158114\n",
       "min    5.500000\n",
       "25%    5.600000\n",
       "50%    5.700000\n",
       "75%    5.800000\n",
       "max    5.900000"
      ]
     },
     "execution_count": 325,
     "metadata": {},
     "output_type": "execute_result"
    }
   ],
   "source": [
    "import pandas as pd\n",
    "data = pd.DataFrame([5.5,5.6,5.9,5.8,5.7,None])\n",
    "data.describe()"
   ]
  },
  {
   "cell_type": "code",
   "execution_count": 329,
   "id": "63c49b61",
   "metadata": {},
   "outputs": [
    {
     "data": {
      "text/plain": [
       "['ArrowDtype',\n",
       " 'BooleanDtype',\n",
       " 'Categorical',\n",
       " 'CategoricalDtype',\n",
       " 'CategoricalIndex',\n",
       " 'DataFrame',\n",
       " 'DateOffset',\n",
       " 'DatetimeIndex',\n",
       " 'DatetimeTZDtype',\n",
       " 'ExcelFile',\n",
       " 'ExcelWriter',\n",
       " 'Flags',\n",
       " 'Float32Dtype',\n",
       " 'Float64Dtype',\n",
       " 'Grouper',\n",
       " 'HDFStore',\n",
       " 'Index',\n",
       " 'IndexSlice',\n",
       " 'Int16Dtype',\n",
       " 'Int32Dtype',\n",
       " 'Int64Dtype',\n",
       " 'Int8Dtype',\n",
       " 'Interval',\n",
       " 'IntervalDtype',\n",
       " 'IntervalIndex',\n",
       " 'MultiIndex',\n",
       " 'NA',\n",
       " 'NaT',\n",
       " 'NamedAgg',\n",
       " 'Period',\n",
       " 'PeriodDtype',\n",
       " 'PeriodIndex',\n",
       " 'RangeIndex',\n",
       " 'Series',\n",
       " 'SparseDtype',\n",
       " 'StringDtype',\n",
       " 'Timedelta',\n",
       " 'TimedeltaIndex',\n",
       " 'Timestamp',\n",
       " 'UInt16Dtype',\n",
       " 'UInt32Dtype',\n",
       " 'UInt64Dtype',\n",
       " 'UInt8Dtype',\n",
       " '__all__',\n",
       " '__builtins__',\n",
       " '__cached__',\n",
       " '__doc__',\n",
       " '__docformat__',\n",
       " '__file__',\n",
       " '__git_version__',\n",
       " '__loader__',\n",
       " '__name__',\n",
       " '__package__',\n",
       " '__path__',\n",
       " '__spec__',\n",
       " '__version__',\n",
       " '_config',\n",
       " '_is_numpy_dev',\n",
       " '_libs',\n",
       " '_testing',\n",
       " '_typing',\n",
       " '_version',\n",
       " 'annotations',\n",
       " 'api',\n",
       " 'array',\n",
       " 'arrays',\n",
       " 'bdate_range',\n",
       " 'compat',\n",
       " 'concat',\n",
       " 'core',\n",
       " 'crosstab',\n",
       " 'cut',\n",
       " 'date_range',\n",
       " 'describe_option',\n",
       " 'errors',\n",
       " 'eval',\n",
       " 'factorize',\n",
       " 'from_dummies',\n",
       " 'get_dummies',\n",
       " 'get_option',\n",
       " 'infer_freq',\n",
       " 'interval_range',\n",
       " 'io',\n",
       " 'isna',\n",
       " 'isnull',\n",
       " 'json_normalize',\n",
       " 'lreshape',\n",
       " 'melt',\n",
       " 'merge',\n",
       " 'merge_asof',\n",
       " 'merge_ordered',\n",
       " 'notna',\n",
       " 'notnull',\n",
       " 'offsets',\n",
       " 'option_context',\n",
       " 'options',\n",
       " 'pandas',\n",
       " 'period_range',\n",
       " 'pivot',\n",
       " 'pivot_table',\n",
       " 'plotting',\n",
       " 'qcut',\n",
       " 'read_clipboard',\n",
       " 'read_csv',\n",
       " 'read_excel',\n",
       " 'read_feather',\n",
       " 'read_fwf',\n",
       " 'read_gbq',\n",
       " 'read_hdf',\n",
       " 'read_html',\n",
       " 'read_json',\n",
       " 'read_orc',\n",
       " 'read_parquet',\n",
       " 'read_pickle',\n",
       " 'read_sas',\n",
       " 'read_spss',\n",
       " 'read_sql',\n",
       " 'read_sql_query',\n",
       " 'read_sql_table',\n",
       " 'read_stata',\n",
       " 'read_table',\n",
       " 'read_xml',\n",
       " 'reset_option',\n",
       " 'set_eng_float_format',\n",
       " 'set_option',\n",
       " 'show_versions',\n",
       " 'test',\n",
       " 'testing',\n",
       " 'timedelta_range',\n",
       " 'to_datetime',\n",
       " 'to_numeric',\n",
       " 'to_pickle',\n",
       " 'to_timedelta',\n",
       " 'tseries',\n",
       " 'unique',\n",
       " 'util',\n",
       " 'value_counts',\n",
       " 'wide_to_long']"
      ]
     },
     "execution_count": 329,
     "metadata": {},
     "output_type": "execute_result"
    }
   ],
   "source": [
    "# to get all modules and functions\n",
    "dir(pd)"
   ]
  },
  {
   "cell_type": "code",
   "execution_count": 287,
   "id": "4645a492",
   "metadata": {
    "collapsed": true
   },
   "outputs": [
    {
     "data": {
      "text/plain": [
       "6.59"
      ]
     },
     "execution_count": 287,
     "metadata": {},
     "output_type": "execute_result"
    }
   ],
   "source": [
    "mean(hieght2)"
   ]
  },
  {
   "cell_type": "code",
   "execution_count": null,
   "id": "98ce95ea",
   "metadata": {},
   "outputs": [],
   "source": [
    "# exception hadling / error handling.\n",
    "syntax error,\n",
    "type error,\n",
    "name error\n",
    "value error,\n",
    "file not fount error\n",
    "import error\n",
    "indentation error\n",
    "attribute error\n",
    "....................."
   ]
  },
  {
   "cell_type": "code",
   "execution_count": 331,
   "id": "cc662f14",
   "metadata": {
    "collapsed": true
   },
   "outputs": [
    {
     "ename": "IndentationError",
     "evalue": "unexpected indent (3295514649.py, line 3)",
     "output_type": "error",
     "traceback": [
      "\u001b[1;36m  Cell \u001b[1;32mIn[331], line 3\u001b[1;36m\u001b[0m\n\u001b[1;33m    print(a/b\u001b[0m\n\u001b[1;37m    ^\u001b[0m\n\u001b[1;31mIndentationError\u001b[0m\u001b[1;31m:\u001b[0m unexpected indent\n"
     ]
    }
   ],
   "source": [
    "a = 10\n",
    "b = 5\n",
    " print(a/b)"
   ]
  },
  {
   "cell_type": "code",
   "execution_count": 332,
   "id": "0e0a47de",
   "metadata": {
    "collapsed": true
   },
   "outputs": [
    {
     "ename": "ZeroDivisionError",
     "evalue": "division by zero",
     "output_type": "error",
     "traceback": [
      "\u001b[1;31m---------------------------------------------------------------------------\u001b[0m",
      "\u001b[1;31mZeroDivisionError\u001b[0m                         Traceback (most recent call last)",
      "Cell \u001b[1;32mIn[332], line 3\u001b[0m\n\u001b[0;32m      1\u001b[0m a \u001b[38;5;241m=\u001b[39m \u001b[38;5;241m10\u001b[39m\n\u001b[0;32m      2\u001b[0m b \u001b[38;5;241m=\u001b[39m \u001b[38;5;241m0\u001b[39m\n\u001b[1;32m----> 3\u001b[0m \u001b[38;5;28mprint\u001b[39m(a\u001b[38;5;241m/\u001b[39mb)\n",
      "\u001b[1;31mZeroDivisionError\u001b[0m: division by zero"
     ]
    }
   ],
   "source": [
    "a = 10\n",
    "b = 0\n",
    "print(a/b)"
   ]
  },
  {
   "cell_type": "code",
   "execution_count": null,
   "id": "af841e16",
   "metadata": {},
   "outputs": [],
   "source": [
    "#Syntax\n",
    "try:\n",
    "    Error\n",
    "except:\n",
    "    statements\n",
    "    \n"
   ]
  },
  {
   "cell_type": "code",
   "execution_count": 338,
   "id": "7830df03",
   "metadata": {},
   "outputs": [
    {
     "name": "stdout",
     "output_type": "stream",
     "text": [
      "C has bee occured an error\n",
      "10\n"
     ]
    }
   ],
   "source": [
    "try:\n",
    "    c = a / b\n",
    "    print(c)\n",
    "except:\n",
    "    print('C has bee occured an error')\n",
    "print(a+b)"
   ]
  },
  {
   "cell_type": "code",
   "execution_count": 349,
   "id": "8dec4731",
   "metadata": {
    "collapsed": true
   },
   "outputs": [
    {
     "data": {
      "text/plain": [
       "['.ipynb_checkpoints',\n",
       " 'Basic of python.ipynb',\n",
       " 'file.txt',\n",
       " 'Untitled Folder',\n",
       " 'Untitled.ipynb',\n",
       " 'Untitled1.ipynb',\n",
       " 'Untitled2.ipynb']"
      ]
     },
     "execution_count": 349,
     "metadata": {},
     "output_type": "execute_result"
    }
   ],
   "source": [
    "import os\n",
    "os.listdir()"
   ]
  },
  {
   "cell_type": "code",
   "execution_count": 350,
   "id": "670027c2",
   "metadata": {
    "collapsed": true
   },
   "outputs": [
    {
     "ename": "FileNotFoundError",
     "evalue": "[Errno 2] No such file or directory: 'file1.txt'",
     "output_type": "error",
     "traceback": [
      "\u001b[1;31m---------------------------------------------------------------------------\u001b[0m",
      "\u001b[1;31mFileNotFoundError\u001b[0m                         Traceback (most recent call last)",
      "Cell \u001b[1;32mIn[350], line 1\u001b[0m\n\u001b[1;32m----> 1\u001b[0m f \u001b[38;5;241m=\u001b[39m \u001b[38;5;28mopen\u001b[39m(\u001b[38;5;124m'\u001b[39m\u001b[38;5;124mfile1.txt\u001b[39m\u001b[38;5;124m'\u001b[39m)\n\u001b[0;32m      2\u001b[0m f\u001b[38;5;241m.\u001b[39mread()\n",
      "File \u001b[1;32mC:\\ProgramData\\anaconda3\\New folder\\Lib\\site-packages\\IPython\\core\\interactiveshell.py:286\u001b[0m, in \u001b[0;36m_modified_open\u001b[1;34m(file, *args, **kwargs)\u001b[0m\n\u001b[0;32m    279\u001b[0m \u001b[38;5;28;01mif\u001b[39;00m file \u001b[38;5;129;01min\u001b[39;00m {\u001b[38;5;241m0\u001b[39m, \u001b[38;5;241m1\u001b[39m, \u001b[38;5;241m2\u001b[39m}:\n\u001b[0;32m    280\u001b[0m     \u001b[38;5;28;01mraise\u001b[39;00m \u001b[38;5;167;01mValueError\u001b[39;00m(\n\u001b[0;32m    281\u001b[0m         \u001b[38;5;124mf\u001b[39m\u001b[38;5;124m\"\u001b[39m\u001b[38;5;124mIPython won\u001b[39m\u001b[38;5;124m'\u001b[39m\u001b[38;5;124mt let you open fd=\u001b[39m\u001b[38;5;132;01m{\u001b[39;00mfile\u001b[38;5;132;01m}\u001b[39;00m\u001b[38;5;124m by default \u001b[39m\u001b[38;5;124m\"\u001b[39m\n\u001b[0;32m    282\u001b[0m         \u001b[38;5;124m\"\u001b[39m\u001b[38;5;124mas it is likely to crash IPython. If you know what you are doing, \u001b[39m\u001b[38;5;124m\"\u001b[39m\n\u001b[0;32m    283\u001b[0m         \u001b[38;5;124m\"\u001b[39m\u001b[38;5;124myou can use builtins\u001b[39m\u001b[38;5;124m'\u001b[39m\u001b[38;5;124m open.\u001b[39m\u001b[38;5;124m\"\u001b[39m\n\u001b[0;32m    284\u001b[0m     )\n\u001b[1;32m--> 286\u001b[0m \u001b[38;5;28;01mreturn\u001b[39;00m io_open(file, \u001b[38;5;241m*\u001b[39margs, \u001b[38;5;241m*\u001b[39m\u001b[38;5;241m*\u001b[39mkwargs)\n",
      "\u001b[1;31mFileNotFoundError\u001b[0m: [Errno 2] No such file or directory: 'file1.txt'"
     ]
    }
   ],
   "source": [
    "f = open('file1.txt')\n",
    "f.read()"
   ]
  },
  {
   "cell_type": "code",
   "execution_count": 351,
   "id": "25d718a6",
   "metadata": {},
   "outputs": [
    {
     "name": "stdout",
     "output_type": "stream",
     "text": [
      "File is not present , creating a new file\n"
     ]
    }
   ],
   "source": [
    "try:\n",
    "    f = open('file1.txt')\n",
    "    f.read()\n",
    "except:\n",
    "    print('File is not present , creating a new file')\n",
    "    f = open('file1.txt',mode = 'w')"
   ]
  },
  {
   "cell_type": "code",
   "execution_count": 352,
   "id": "70c7ba95",
   "metadata": {},
   "outputs": [
    {
     "data": {
      "text/plain": [
       "['.ipynb_checkpoints',\n",
       " 'Basic of python.ipynb',\n",
       " 'file.txt',\n",
       " 'file1.txt',\n",
       " 'Untitled Folder',\n",
       " 'Untitled.ipynb',\n",
       " 'Untitled1.ipynb',\n",
       " 'Untitled2.ipynb']"
      ]
     },
     "execution_count": 352,
     "metadata": {},
     "output_type": "execute_result"
    }
   ],
   "source": [
    "os.listdir()"
   ]
  },
  {
   "cell_type": "code",
   "execution_count": 354,
   "id": "0645ae2f",
   "metadata": {},
   "outputs": [
    {
     "name": "stdout",
     "output_type": "stream",
     "text": [
      "not readable The file operation having an error\n"
     ]
    }
   ],
   "source": [
    "try:\n",
    "    f = open('file.txt',mode = 'w')\n",
    "    f.read()\n",
    "except Exception as e:\n",
    "    print(e,'The file operation having an error')"
   ]
  },
  {
   "cell_type": "code",
   "execution_count": 355,
   "id": "ac180a64",
   "metadata": {
    "collapsed": true
   },
   "outputs": [
    {
     "name": "stdout",
     "output_type": "stream",
     "text": [
      "10\n"
     ]
    },
    {
     "ename": "TypeError",
     "evalue": "can only concatenate str (not \"int\") to str",
     "output_type": "error",
     "traceback": [
      "\u001b[1;31m---------------------------------------------------------------------------\u001b[0m",
      "\u001b[1;31mTypeError\u001b[0m                                 Traceback (most recent call last)",
      "Cell \u001b[1;32mIn[355], line 3\u001b[0m\n\u001b[0;32m      1\u001b[0m \u001b[38;5;66;03m# hadling exception on user input\u001b[39;00m\n\u001b[0;32m      2\u001b[0m val \u001b[38;5;241m=\u001b[39m \u001b[38;5;28minput\u001b[39m()\n\u001b[1;32m----> 3\u001b[0m val \u001b[38;5;241m+\u001b[39m \u001b[38;5;241m10\u001b[39m\n",
      "\u001b[1;31mTypeError\u001b[0m: can only concatenate str (not \"int\") to str"
     ]
    }
   ],
   "source": [
    "# hadling exception on user input\n",
    "val = input()\n",
    "val + 10"
   ]
  },
  {
   "cell_type": "code",
   "execution_count": 358,
   "id": "b8abda56",
   "metadata": {},
   "outputs": [
    {
     "name": "stdout",
     "output_type": "stream",
     "text": [
      "10\n",
      "20\n"
     ]
    }
   ],
   "source": [
    "try:\n",
    "    val = int(input())\n",
    "    print(val+10)\n",
    "except:\n",
    "    print('Error')"
   ]
  },
  {
   "cell_type": "code",
   "execution_count": 363,
   "id": "10e1ab6a",
   "metadata": {
    "collapsed": true
   },
   "outputs": [
    {
     "name": "stdout",
     "output_type": "stream",
     "text": [
      "BKHKJH\n",
      "invalid literal for int() with base 10: 'BKHKJH'\n"
     ]
    }
   ],
   "source": [
    "try:\n",
    "    deno = int(input())\n",
    "    numer = 100\n",
    "    ques = numer/deno\n",
    "    print(ques)\n",
    "except ZeroDivisionError as Z:\n",
    "    print(Z)\n",
    "except ValueError as V:\n",
    "    print(V)\n"
   ]
  },
  {
   "cell_type": "code",
   "execution_count": 361,
   "id": "2a471195",
   "metadata": {},
   "outputs": [
    {
     "name": "stdout",
     "output_type": "stream",
     "text": [
      "-56\n"
     ]
    }
   ],
   "source": [
    "deno = int(input())"
   ]
  },
  {
   "cell_type": "code",
   "execution_count": 366,
   "id": "68ddd364",
   "metadata": {},
   "outputs": [
    {
     "name": "stdout",
     "output_type": "stream",
     "text": [
      "0\n",
      "division by zero\n"
     ]
    }
   ],
   "source": [
    "try:\n",
    "    deno = int(input())\n",
    "    numer = 100\n",
    "    ques = numer/deno\n",
    "    print(ques)\n",
    "except ValueError as V:\n",
    "    print(V)\n",
    "except Exception as Z:\n",
    "    print(Z)"
   ]
  },
  {
   "cell_type": "code",
   "execution_count": 372,
   "id": "7f3b6f93",
   "metadata": {},
   "outputs": [
    {
     "name": "stdout",
     "output_type": "stream",
     "text": [
      "hh\n",
      "invalid literal for int() with base 10: 'hh'\n"
     ]
    }
   ],
   "source": [
    "try:\n",
    "    deno = int(input())\n",
    "    numer = 100\n",
    "    ques = numer/deno\n",
    "    print(que)\n",
    "except (ValueError,NameError,ZeroDivisionError) as V:\n",
    "    print(V)"
   ]
  },
  {
   "cell_type": "code",
   "execution_count": 373,
   "id": "26bf8e71",
   "metadata": {
    "collapsed": true
   },
   "outputs": [
    {
     "name": "stdout",
     "output_type": "stream",
     "text": [
      "thk\n"
     ]
    },
    {
     "ename": "ValueError",
     "evalue": "invalid literal for int() with base 10: 'thk'",
     "output_type": "error",
     "traceback": [
      "\u001b[1;31m---------------------------------------------------------------------------\u001b[0m",
      "\u001b[1;31mValueError\u001b[0m                                Traceback (most recent call last)",
      "Cell \u001b[1;32mIn[373], line 1\u001b[0m\n\u001b[1;32m----> 1\u001b[0m deno \u001b[38;5;241m=\u001b[39m \u001b[38;5;28mint\u001b[39m(\u001b[38;5;28minput\u001b[39m())\n\u001b[0;32m      2\u001b[0m numer \u001b[38;5;241m=\u001b[39m \u001b[38;5;241m100\u001b[39m\n\u001b[0;32m      3\u001b[0m ques \u001b[38;5;241m=\u001b[39m numer\u001b[38;5;241m/\u001b[39mdeno\n",
      "\u001b[1;31mValueError\u001b[0m: invalid literal for int() with base 10: 'thk'"
     ]
    }
   ],
   "source": [
    "deno = int(input())\n",
    "numer = 100\n",
    "ques = numer/deno\n",
    "print(que)"
   ]
  },
  {
   "cell_type": "code",
   "execution_count": null,
   "id": "da581451",
   "metadata": {},
   "outputs": [],
   "source": [
    "values = [10,20,30,602]\n",
    "values['1']"
   ]
  },
  {
   "cell_type": "code",
   "execution_count": 378,
   "id": "1eb61eb2",
   "metadata": {},
   "outputs": [
    {
     "name": "stdout",
     "output_type": "stream",
     "text": [
      "1990\n",
      "2024\n",
      "abc\n",
      "my name is abc, my age 34\n"
     ]
    }
   ],
   "source": [
    "year_born = int(input())\n",
    "age = int(input())- year_born\n",
    "name = input()\n",
    "statment = f'my name is {name}, my age {age}'\n",
    "print(statment)"
   ]
  },
  {
   "cell_type": "code",
   "execution_count": 379,
   "id": "799dcd67",
   "metadata": {},
   "outputs": [],
   "source": [
    "# else and finally bolck\n",
    "x,y = 10,2\n",
    "z = x/y"
   ]
  },
  {
   "cell_type": "code",
   "execution_count": 383,
   "id": "564a5e1b",
   "metadata": {},
   "outputs": [
    {
     "name": "stdout",
     "output_type": "stream",
     "text": [
      "5.0\n",
      "finally will exceute always\n",
      "error\n"
     ]
    }
   ],
   "source": [
    "try:\n",
    "    x,y = 10,2\n",
    "    Z = x/y\n",
    "except Exception as e:\n",
    "    print(e)\n",
    "else:\n",
    "    print(Z)\n",
    "finally: \n",
    "    print('finally will exceute always')\n",
    "    try:\n",
    "        x = 10\n",
    "        y = 0\n",
    "        z = x/y\n",
    "        print(z)\n",
    "    except:\n",
    "        print('error')"
   ]
  },
  {
   "cell_type": "code",
   "execution_count": 381,
   "id": "bc685029",
   "metadata": {},
   "outputs": [
    {
     "name": "stdout",
     "output_type": "stream",
     "text": [
      "division by zero\n",
      "finally will exceute always\n"
     ]
    }
   ],
   "source": [
    "try:\n",
    "    x,y = 10,0\n",
    "    Z = x/y\n",
    "except Exception as e:\n",
    "    print(e)\n",
    "else:\n",
    "    print(Z)\n",
    "finally: \n",
    "    print('finally will exceute always')\n",
    "    x = 0\n",
    "    y = 10\n",
    "    z = x/y"
   ]
  },
  {
   "cell_type": "code",
   "execution_count": 398,
   "id": "a8a00c66",
   "metadata": {},
   "outputs": [
    {
     "name": "stdout",
     "output_type": "stream",
     "text": [
      "-1\n",
      "-1 The value should be greater then zero.\n"
     ]
    }
   ],
   "source": [
    "# raise and exception\n",
    "try:\n",
    "    age = int(input())\n",
    "    if age < 0:\n",
    "        raise ValueError('The value should be greater then zero.')\n",
    "except ValueError as v:\n",
    "    print(age, v)"
   ]
  },
  {
   "cell_type": "code",
   "execution_count": 400,
   "id": "5e8f7a36",
   "metadata": {},
   "outputs": [
    {
     "name": "stdout",
     "output_type": "stream",
     "text": [
      "12\n"
     ]
    }
   ],
   "source": [
    "age = int(input())\n",
    "if age < 0:\n",
    "    raise ValueError('The value should be greater then zero.')"
   ]
  },
  {
   "cell_type": "code",
   "execution_count": null,
   "id": "ec9904d3",
   "metadata": {},
   "outputs": [],
   "source": []
  }
 ],
 "metadata": {
  "kernelspec": {
   "display_name": "Python 3 (ipykernel)",
   "language": "python",
   "name": "python3"
  },
  "language_info": {
   "codemirror_mode": {
    "name": "ipython",
    "version": 3
   },
   "file_extension": ".py",
   "mimetype": "text/x-python",
   "name": "python",
   "nbconvert_exporter": "python",
   "pygments_lexer": "ipython3",
   "version": "3.11.5"
  }
 },
 "nbformat": 4,
 "nbformat_minor": 5
}
