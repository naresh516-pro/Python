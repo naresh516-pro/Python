{
 "cells": [
  {
   "cell_type": "markdown",
   "id": "7aa590a2",
   "metadata": {},
   "source": [
    "## for loop\n",
    "for(i in range):\n",
    "   //statements"
   ]
  },
  {
   "cell_type": "code",
   "execution_count": 2,
   "id": "0afc6e63",
   "metadata": {},
   "outputs": [
    {
     "name": "stdout",
     "output_type": "stream",
     "text": [
      "Enter a number:10\n",
      "0\n",
      "0\n",
      "0\n",
      "0\n",
      "0\n",
      "0\n",
      "0\n",
      "0\n",
      "0\n",
      "0\n"
     ]
    }
   ],
   "source": [
    "#W.A.P that reads a number N and prints the number 0 N times on N lines.\n",
    "n=int(input(\"Enter a number:\"))\n",
    "for i in range(n):\n",
    "    print(0)"
   ]
  },
  {
   "cell_type": "code",
   "execution_count": 4,
   "id": "c8dde471",
   "metadata": {},
   "outputs": [
    {
     "name": "stdout",
     "output_type": "stream",
     "text": [
      "Enter a number:10\n",
      "0\n",
      "1\n",
      "2\n",
      "3\n",
      "4\n",
      "5\n",
      "6\n",
      "7\n",
      "8\n",
      "9\n",
      "10\n"
     ]
    }
   ],
   "source": [
    "#w.a .p that prints n integers.\n",
    "n=int(input(\"Enter a number:\"))\n",
    "for i in range(n+1):\n",
    "    print(i)"
   ]
  },
  {
   "cell_type": "code",
   "execution_count": 9,
   "id": "153d505b",
   "metadata": {},
   "outputs": [
    {
     "name": "stdout",
     "output_type": "stream",
     "text": [
      "Enter a number:20\n",
      "1\n",
      "2\n",
      "3\n",
      "4\n",
      "5\n",
      "6\n",
      "7\n",
      "8\n",
      "9\n",
      "10\n",
      "11\n",
      "12\n",
      "13\n",
      "14\n",
      "15\n",
      "16\n",
      "17\n",
      "18\n",
      "19\n",
      "20\n"
     ]
    }
   ],
   "source": [
    "#w.a.p that print first N natural numbers.\n",
    "n=int(input(\"Enter a number:\"))\n",
    "for i in range(1,n+1):\n",
    "    print(i)"
   ]
  },
  {
   "cell_type": "code",
   "execution_count": 11,
   "id": "046fb5e2",
   "metadata": {},
   "outputs": [
    {
     "name": "stdout",
     "output_type": "stream",
     "text": [
      "Enter a fisrt number:10\n",
      "Enter a second  number:20\n",
      "10\n",
      "11\n",
      "12\n",
      "13\n",
      "14\n",
      "15\n",
      "16\n",
      "17\n",
      "18\n",
      "19\n",
      "20\n"
     ]
    }
   ],
   "source": [
    "##given two integers numbers M and N ,W.A.P print the integers from M to N\n",
    "m=int(input(\"Enter a fisrt number:\"))\n",
    "n=int(input(\"Enter a second  number:\"))\n",
    "for i in range(m,n+1):\n",
    "    print(i)"
   ]
  },
  {
   "cell_type": "code",
   "execution_count": 16,
   "id": "b8d5641f",
   "metadata": {},
   "outputs": [
    {
     "name": "stdout",
     "output_type": "stream",
     "text": [
      "Enter a number:3\n",
      "the average is 2.0\n"
     ]
    }
   ],
   "source": [
    "#w.a.p that reads a number N and print the average of N numbers from 1\n",
    "n=int(input(\"Enter a number:\"))\n",
    "sum=0\n",
    "for i in range(1,n+1):\n",
    "    sum=sum+i\n",
    "avg=sum/n\n",
    "print(\"the average is\",avg)\n",
    "    \n",
    "    "
   ]
  },
  {
   "cell_type": "code",
   "execution_count": 22,
   "id": "37dc8355",
   "metadata": {},
   "outputs": [
    {
     "name": "stdout",
     "output_type": "stream",
     "text": [
      "Enter a number:3\n",
      "1\n",
      "8\n",
      "27\n",
      "36\n"
     ]
    }
   ],
   "source": [
    "#w.a.p that reads a number N and prints the cube of N numbers from 1\n",
    "n=int(input(\"Enter a number:\"))\n",
    "cube=0\n",
    "sum=0\n",
    "for i in range(1,n+1):\n",
    "    cube=i**3\n",
    "    sum=sum+cube\n",
    "    print(cube)\n",
    "print(sum)    "
   ]
  },
  {
   "cell_type": "code",
   "execution_count": 27,
   "id": "207ba62b",
   "metadata": {},
   "outputs": [
    {
     "name": "stdout",
     "output_type": "stream",
     "text": [
      "Enter a fisrt number:2\n",
      "Enter a second  number:3\n",
      "* * * \n",
      "* * * \n"
     ]
    }
   ],
   "source": [
    "#given two integers numbers M and N,w.a.p solid rectangle pattern of M  \n",
    "#rows and N colums using the asterik character(*)\n",
    "m=int(input(\"Enter a fisrt number:\"))\n",
    "n=int(input(\"Enter a second  number:\"))\n",
    "for i in range(m):\n",
    "    print(\"* \"*n)\n",
    "    "
   ]
  },
  {
   "cell_type": "code",
   "execution_count": 30,
   "id": "52f1034c",
   "metadata": {},
   "outputs": [
    {
     "name": "stdout",
     "output_type": "stream",
     "text": [
      "Enter a number:10\n",
      "11\n",
      "12\n",
      "13\n",
      "14\n",
      "15\n",
      "16\n",
      "17\n",
      "18\n",
      "19\n",
      "20\n"
     ]
    }
   ],
   "source": [
    "#w.a.p that reads a number N and prints 10 numbers after N.\n",
    "n=int(input(\"Enter a number:\"))\n",
    "for i in range(n,n+10):\n",
    "    print(i+1)"
   ]
  },
  {
   "cell_type": "code",
   "execution_count": 33,
   "id": "030f51c8",
   "metadata": {},
   "outputs": [
    {
     "name": "stdout",
     "output_type": "stream",
     "text": [
      "Enter a fisrt number:10\n",
      "Enter a second  number:20\n",
      "21\n",
      "22\n",
      "23\n",
      "24\n",
      "25\n",
      "26\n",
      "27\n",
      "28\n",
      "29\n",
      "30\n"
     ]
    }
   ],
   "source": [
    "#w.a.p that reads a two numbers M and N.prints N numbers after M.\n",
    "m=int(input(\"Enter a fisrt number:\"))\n",
    "n=int(input(\"Enter a second  number:\"))\n",
    "for i in range (n,n+m):\n",
    "    print(i+1)"
   ]
  },
  {
   "cell_type": "code",
   "execution_count": 3,
   "id": "718b1e5f",
   "metadata": {},
   "outputs": [
    {
     "name": "stdout",
     "output_type": "stream",
     "text": [
      "Enter a fisrt number:1\n",
      "Enter a second  number:10\n",
      "55\n"
     ]
    }
   ],
   "source": [
    "#print sum of N numbers after M.\n",
    "m=int(input(\"Enter a fisrt number:\"))\n",
    "n=int(input(\"Enter a second  number:\"))\n",
    "sum=0\n",
    "for i in range(m,n+m):\n",
    "    sum=sum+i\n",
    "print(sum)    \n",
    "    "
   ]
  },
  {
   "cell_type": "code",
   "execution_count": 5,
   "id": "da8e478a",
   "metadata": {},
   "outputs": [
    {
     "name": "stdout",
     "output_type": "stream",
     "text": [
      "Enter a number:3\n",
      "\n",
      "* \n",
      "* * \n",
      "* * * \n"
     ]
    }
   ],
   "source": [
    "#Given  a integer number(N) as input w.a.p to print the right-angled \n",
    "#triangular pattern of N lines using an asterisk (*) symbol.\n",
    "a=int(input(\"Enter a number:\"))\n",
    "for i in range(a+1):\n",
    "    print(\"* \"*i)"
   ]
  },
  {
   "cell_type": "code",
   "execution_count": 5,
   "id": "b3c0322a",
   "metadata": {},
   "outputs": [
    {
     "name": "stdout",
     "output_type": "stream",
     "text": [
      "Enter a number of inputs:5\n",
      "1\n",
      "2\n",
      "3\n",
      "4\n",
      "5\n",
      "the product of n numbers is 15\n"
     ]
    }
   ],
   "source": [
    "#w.a.p to read 'N' number of inputs and print the sum.\n",
    "n=int(input(\"Enter a number of inputs:\"))\n",
    "sum=0\n",
    "for i in range(n):\n",
    "    b=int(input())\n",
    "    sum=sum+b\n",
    "print(\"the product of n numbers is\",sum)    "
   ]
  },
  {
   "cell_type": "code",
   "execution_count": 8,
   "id": "b9d6cfc8",
   "metadata": {},
   "outputs": [
    {
     "name": "stdout",
     "output_type": "stream",
     "text": [
      "Enter a number of inputs:3\n",
      "1\n",
      "2\n",
      "3\n",
      "the product of n numbers is 6\n"
     ]
    }
   ],
   "source": [
    "#w.a.p to read 'N' number of inputs and print the product.\n",
    "n=int(input(\"Enter a number of inputs:\"))\n",
    "product=1\n",
    "for  i in range(1,n+1):\n",
    "    b=int(input())\n",
    "    product=product*b\n",
    "print(\"the product of n numbers is\",product)    "
   ]
  },
  {
   "cell_type": "markdown",
   "id": "7845e080",
   "metadata": {},
   "source": []
  }
 ],
 "metadata": {
  "kernelspec": {
   "display_name": "Python 3 (ipykernel)",
   "language": "python",
   "name": "python3"
  },
  "language_info": {
   "codemirror_mode": {
    "name": "ipython",
    "version": 3
   },
   "file_extension": ".py",
   "mimetype": "text/x-python",
   "name": "python",
   "nbconvert_exporter": "python",
   "pygments_lexer": "ipython3",
   "version": "3.9.13"
  }
 },
 "nbformat": 4,
 "nbformat_minor": 5
}
