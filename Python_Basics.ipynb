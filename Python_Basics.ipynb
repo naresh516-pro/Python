{
  "nbformat": 4,
  "nbformat_minor": 0,
  "metadata": {
    "colab": {
      "provenance": []
    },
    "kernelspec": {
      "name": "python3",
      "display_name": "Python 3"
    },
    "language_info": {
      "name": "python"
    }
  },
  "cells": [
    {
      "cell_type": "markdown",
      "source": [
        "# Python Programming Language\n",
        "\n",
        "Python was founded by Guido van Rossum on February 20th, 1991\n",
        "\n",
        "# Usages of Python\n",
        "- Web development\n",
        "- Software development\n",
        "- Mathematics & Data Science/Analytics\n",
        "- System Scripting\n",
        "\n",
        "# What can Python do?\n",
        "- Python can be used on a server to create web applications.\n",
        "- Python can be used alongside software to create workflows.\n",
        "- Python can connect to database systems. It can also read and modify files.\n",
        "- Python can be used to handle big data and perform complex mathematics.\n",
        "- Python can be used for rapid prototyping, or for production-ready software development.\n",
        "\n",
        "# Why Python?\n",
        "- Python works on different platforms (Windows, Mac, Linux, Raspberry Pi, etc).\n",
        "- Python has a simple syntax similar to the English language.\n",
        "- Python has syntax that allows developers to write programs with fewer lines than some other programming languages.\n",
        "- Python runs on an interpreter system, meaning that code can be executed as soon as it is written. This means that prototyping can be very quick.\n",
        "- Python can be treated in a procedural way, an object-oriented way or a functional way.\n",
        "\n",
        "# Python Syntax compared to other programming languages\n",
        "- Python was designed for readability, and has some similarities to the English language with influence from mathematics.\n",
        "- Python uses new lines to complete a command, as opposed to other programming languages which often use semicolons or parentheses.\n",
        "- Python relies on indentation, using whitespace, to define scope; such as the scope of loops, functions and classes. Other programming languages often use curly-brackets for this purpose.\n",
        "\n",
        "Python file extension:\n",
        "Python Basics Data Analytics.ipynb\n",
        "\n",
        "|Data Types:| Description|\n",
        "|-----------|------------|\n",
        "| Numerical:|Integer, Float, Complex, Binary|\n",
        "| Character:|String/Object|\n",
        "| Boollean: |True/False, 1/0|\n",
        "| Date:     |Numerical/Character|\n",
        "\n",
        "\n",
        "Data Structures:\n",
        "- List\n",
        "- Tuple\n",
        "- Dictionary\n",
        "- Set\n",
        "- Array (NumPy)\n",
        "- Series (Pandas)\n",
        "- DataFrame (Pandas)\n",
        "\n",
        "Libraries:\n",
        "- NumPy (Numerical Calculations)\n",
        "- Pandas (For data arranged in table)\n",
        "- Matplotlib (Visualization)\n",
        "- Seaborn (Visualization)\n",
        "- Scipy Stats (For statistics)\n",
        "- Scikit Learn (Machine Learning)\n",
        "- NLTK & Spacy(Natural Language Processing)\n",
        "- Tensorflow/Keras (Deep Learning)\n",
        "\n",
        "\n",
        "\n",
        "| Item         | Price | # In stock |\n",
        "|--------------|:-----:|-----------:|\n",
        "| Apples       |  1.99 |        739 |\n",
        "| Bananas      |  1.89 |          6 |\n",
        "\n",
        "\n",
        "## Usage of brackets\n",
        "\n",
        "- Box Bracket [] : To create a list, or to access any value from a list, tuple, dataframe, array, series or a key from a dictionary, after loc & iloc function in a dataframe.\n",
        "\n",
        "- Curve Bracket () : To create a tuple, and for all the functions & methods, except loc & iloc are followed by curve bracket.\n",
        "\n",
        "- Flower bracket {} : To create a dictionary or a set data structure.\n",
        "\n",
        "\n",
        "# Object\n",
        "Object is like an empty container, which can save any value or function. We can say that an object is a variable."
      ],
      "metadata": {
        "id": "PMTl6w1Zw3IC"
      }
    },
    {
      "cell_type": "code",
      "source": [
        "a = 5\n",
        "a\n",
        "b= 9\n",
        "b"
      ],
      "metadata": {
        "colab": {
          "base_uri": "https://localhost:8080/"
        },
        "id": "CyCGUVs007bX",
        "outputId": "4b79aea4-5fed-4497-e470-9b703ec4eaf1"
      },
      "execution_count": null,
      "outputs": [
        {
          "output_type": "execute_result",
          "data": {
            "text/plain": [
              "9"
            ]
          },
          "metadata": {},
          "execution_count": 3
        }
      ]
    },
    {
      "cell_type": "code",
      "source": [
        "a = 5\n",
        "print(a)\n",
        "b= 9\n",
        "b"
      ],
      "metadata": {
        "colab": {
          "base_uri": "https://localhost:8080/"
        },
        "id": "fa5dlWF007q4",
        "outputId": "2eafb641-03f7-4202-9db4-d87faccec9ce"
      },
      "execution_count": null,
      "outputs": [
        {
          "output_type": "stream",
          "name": "stdout",
          "text": [
            "5\n"
          ]
        },
        {
          "output_type": "execute_result",
          "data": {
            "text/plain": [
              "9"
            ]
          },
          "metadata": {},
          "execution_count": 4
        }
      ]
    },
    {
      "cell_type": "code",
      "source": [
        "a = 7\n",
        "print('The value of a is',a)\n",
        "b = 6\n",
        "print('The value of b is',b)\n",
        "a = 3\n",
        "print('The new value of a is',a)"
      ],
      "metadata": {
        "colab": {
          "base_uri": "https://localhost:8080/"
        },
        "id": "o11qQ9Px3gFH",
        "outputId": "267d503e-f5d0-43fe-dea6-717b1460458b"
      },
      "execution_count": null,
      "outputs": [
        {
          "output_type": "stream",
          "name": "stdout",
          "text": [
            "The value of a is 7\n",
            "The value of b is 6\n",
            "The new value of a is 3\n",
            "3 6\n"
          ]
        }
      ]
    },
    {
      "cell_type": "code",
      "source": [
        "print(a,b)"
      ],
      "metadata": {
        "colab": {
          "base_uri": "https://localhost:8080/"
        },
        "id": "Py2UZpjg3ynC",
        "outputId": "a6dbca38-36dd-47f6-c3f3-d30d16d2d2c1"
      },
      "execution_count": null,
      "outputs": [
        {
          "output_type": "stream",
          "name": "stdout",
          "text": [
            "3 6\n"
          ]
        }
      ]
    },
    {
      "cell_type": "code",
      "source": [
        "x = 8\n",
        "print(x)\n",
        "print('The type of data store in x is',type(x))"
      ],
      "metadata": {
        "colab": {
          "base_uri": "https://localhost:8080/"
        },
        "id": "50uKc5hM3kPV",
        "outputId": "be0f74da-d6fd-4b30-b12d-55e50ece02d2"
      },
      "execution_count": null,
      "outputs": [
        {
          "output_type": "stream",
          "name": "stdout",
          "text": [
            "8\n",
            "The type of data store in x is <class 'int'>\n"
          ]
        }
      ]
    },
    {
      "cell_type": "code",
      "source": [
        "y = 12.63\n",
        "print(y)\n",
        "type(y)"
      ],
      "metadata": {
        "colab": {
          "base_uri": "https://localhost:8080/"
        },
        "id": "buhCyeIj2dSN",
        "outputId": "4bfc9127-bc43-4558-968b-e0fe1ff1afcf"
      },
      "execution_count": null,
      "outputs": [
        {
          "output_type": "stream",
          "name": "stdout",
          "text": [
            "12.63\n"
          ]
        },
        {
          "output_type": "execute_result",
          "data": {
            "text/plain": [
              "float"
            ]
          },
          "metadata": {},
          "execution_count": 12
        }
      ]
    },
    {
      "cell_type": "code",
      "source": [
        "z = 'Python'\n",
        "print(z)\n",
        "type(z)"
      ],
      "metadata": {
        "colab": {
          "base_uri": "https://localhost:8080/"
        },
        "id": "AWl4H2Hr5lcg",
        "outputId": "370a049c-81c2-407c-bd68-b0180c0af2c6"
      },
      "execution_count": null,
      "outputs": [
        {
          "output_type": "stream",
          "name": "stdout",
          "text": [
            "Python\n"
          ]
        },
        {
          "output_type": "execute_result",
          "data": {
            "text/plain": [
              "str"
            ]
          },
          "metadata": {},
          "execution_count": 13
        }
      ]
    },
    {
      "cell_type": "code",
      "source": [
        "m = 5+6j\n",
        "print(m)\n",
        "type(m)"
      ],
      "metadata": {
        "colab": {
          "base_uri": "https://localhost:8080/"
        },
        "id": "JO3Bu8Gt5tSE",
        "outputId": "df0db964-4f77-4c33-cefb-772462e275bc"
      },
      "execution_count": null,
      "outputs": [
        {
          "output_type": "stream",
          "name": "stdout",
          "text": [
            "(5+6j)\n"
          ]
        },
        {
          "output_type": "execute_result",
          "data": {
            "text/plain": [
              "complex"
            ]
          },
          "metadata": {},
          "execution_count": 14
        }
      ]
    },
    {
      "cell_type": "code",
      "source": [
        "m = 5+6i\n",
        "print(m)\n",
        "type(m)"
      ],
      "metadata": {
        "colab": {
          "base_uri": "https://localhost:8080/",
          "height": 109
        },
        "id": "WqXz4fsf6ll7",
        "outputId": "27e5b727-eaa7-4bf5-ca64-c0cc6a1dc738"
      },
      "execution_count": null,
      "outputs": [
        {
          "output_type": "error",
          "ename": "SyntaxError",
          "evalue": "invalid decimal literal (<ipython-input-15-b9d1ac3a933f>, line 1)",
          "traceback": [
            "\u001b[0;36m  File \u001b[0;32m\"<ipython-input-15-b9d1ac3a933f>\"\u001b[0;36m, line \u001b[0;32m1\u001b[0m\n\u001b[0;31m    m = 5+6i\u001b[0m\n\u001b[0m          ^\u001b[0m\n\u001b[0;31mSyntaxError\u001b[0m\u001b[0;31m:\u001b[0m invalid decimal literal\n"
          ]
        }
      ]
    },
    {
      "cell_type": "code",
      "source": [
        "'''This is a\n",
        "multi line\n",
        "comment'''\n"
      ],
      "metadata": {
        "id": "YbqkOvwq-lTT"
      },
      "execution_count": null,
      "outputs": []
    },
    {
      "cell_type": "code",
      "source": [
        "p = True\n",
        "print(p)\n",
        "type(p)"
      ],
      "metadata": {
        "colab": {
          "base_uri": "https://localhost:8080/"
        },
        "id": "4eSw27gn7c3_",
        "outputId": "d31106f7-3fd9-482a-c29b-1d22ce258213"
      },
      "execution_count": null,
      "outputs": [
        {
          "output_type": "stream",
          "name": "stdout",
          "text": [
            "True\n"
          ]
        },
        {
          "output_type": "execute_result",
          "data": {
            "text/plain": [
              "bool"
            ]
          },
          "metadata": {},
          "execution_count": 17
        }
      ]
    },
    {
      "cell_type": "code",
      "source": [
        "# Boollean Value\n",
        "p = True\n",
        "print(p)\n",
        "print(type(p))\n",
        "p = int(p)\n",
        "print(p)"
      ],
      "metadata": {
        "colab": {
          "base_uri": "https://localhost:8080/"
        },
        "id": "CE6-sBQf8-I_",
        "outputId": "b84fae24-071b-4212-f490-377fb05c7a06"
      },
      "execution_count": null,
      "outputs": [
        {
          "output_type": "stream",
          "name": "stdout",
          "text": [
            "True\n",
            "<class 'bool'>\n",
            "1\n"
          ]
        }
      ]
    },
    {
      "cell_type": "code",
      "source": [
        "p = 1\n",
        "print(p)\n",
        "print(type(p))\n",
        "p = bool(p)\n",
        "print(p)"
      ],
      "metadata": {
        "colab": {
          "base_uri": "https://localhost:8080/"
        },
        "id": "s0yxXRr19l3U",
        "outputId": "95a0fe94-5c63-4422-f377-1e1696f0e877"
      },
      "execution_count": null,
      "outputs": [
        {
          "output_type": "stream",
          "name": "stdout",
          "text": [
            "1\n",
            "<class 'int'>\n",
            "True\n"
          ]
        }
      ]
    },
    {
      "cell_type": "code",
      "source": [
        "q = False\n",
        "print(q)\n",
        "type(q)"
      ],
      "metadata": {
        "colab": {
          "base_uri": "https://localhost:8080/"
        },
        "id": "-mJPj2yo8fJ0",
        "outputId": "cafe3cc3-ae68-4999-ea59-553777db5da9"
      },
      "execution_count": null,
      "outputs": [
        {
          "output_type": "stream",
          "name": "stdout",
          "text": [
            "False\n"
          ]
        },
        {
          "output_type": "execute_result",
          "data": {
            "text/plain": [
              "bool"
            ]
          },
          "metadata": {},
          "execution_count": 18
        }
      ]
    },
    {
      "cell_type": "code",
      "source": [
        "q = False\n",
        "print(q)\n",
        "print(type(q))\n",
        "q = int(q)\n",
        "print(q)"
      ],
      "metadata": {
        "colab": {
          "base_uri": "https://localhost:8080/"
        },
        "id": "s_jNZrhH8mFo",
        "outputId": "517c27ca-310a-47e0-9528-366a33083383"
      },
      "execution_count": null,
      "outputs": [
        {
          "output_type": "stream",
          "name": "stdout",
          "text": [
            "False\n",
            "<class 'bool'>\n",
            "0\n"
          ]
        }
      ]
    },
    {
      "cell_type": "code",
      "source": [
        "q = 0\n",
        "print(q)\n",
        "print(type(q))\n",
        "q = bool(q)\n",
        "print(q)"
      ],
      "metadata": {
        "colab": {
          "base_uri": "https://localhost:8080/"
        },
        "id": "zt0iDxL_9PRO",
        "outputId": "f76af543-3725-4113-d66b-a02acdf27d5f"
      },
      "execution_count": null,
      "outputs": [
        {
          "output_type": "stream",
          "name": "stdout",
          "text": [
            "0\n",
            "<class 'int'>\n",
            "False\n"
          ]
        }
      ]
    },
    {
      "cell_type": "markdown",
      "source": [
        "# Operators in Python\n",
        "- Addition +\n",
        "Used to add the values\n",
        "- Subtraction -\n",
        "Used to subtract the value from another\n",
        "- Multiplication *\n",
        "Used to multiply a value with another\n",
        "- Division /\n",
        "Used to divide a value by another\n",
        "- Floor Division //\n",
        "Will provide the whole number part of the quotient after dividing\n",
        "- Power **\n",
        "Will raise a number to another number\n",
        "- Mod % Will provide the remainder after dividing a number with another\n",
        "\n",
        "# Relational Operators\n",
        "- Greater than or equal to >=\n",
        "- Lesser than or equal to <=\n",
        "- Lesser than <\n",
        "- Greater than >\n",
        "- Equal to ==\n",
        "- Not equal to !=\n",
        "- in\n",
        "- not in"
      ],
      "metadata": {
        "id": "RYAzSaP0xA4q"
      }
    },
    {
      "cell_type": "code",
      "source": [
        "a = 9\n",
        "b = 5\n",
        "a+b"
      ],
      "metadata": {
        "colab": {
          "base_uri": "https://localhost:8080/"
        },
        "id": "LYchEfVQEtwW",
        "outputId": "273ddbdd-5715-4c03-aacc-7ada9ce44d3d"
      },
      "execution_count": null,
      "outputs": [
        {
          "output_type": "execute_result",
          "data": {
            "text/plain": [
              "14"
            ]
          },
          "metadata": {},
          "execution_count": 27
        }
      ]
    },
    {
      "cell_type": "code",
      "source": [
        "a = 9\n",
        "b = 5\n",
        "a-b"
      ],
      "metadata": {
        "colab": {
          "base_uri": "https://localhost:8080/"
        },
        "id": "ZlLXWWmfEyoi",
        "outputId": "5fc03f06-e7b2-47fa-9e11-822087c917e9"
      },
      "execution_count": null,
      "outputs": [
        {
          "output_type": "execute_result",
          "data": {
            "text/plain": [
              "4"
            ]
          },
          "metadata": {},
          "execution_count": 28
        }
      ]
    },
    {
      "cell_type": "code",
      "source": [
        "a = 9\n",
        "b = 5\n",
        "a*b"
      ],
      "metadata": {
        "colab": {
          "base_uri": "https://localhost:8080/"
        },
        "id": "YgL7rvObE29A",
        "outputId": "9d46a465-7a28-4688-b19a-c900684008fd"
      },
      "execution_count": null,
      "outputs": [
        {
          "output_type": "execute_result",
          "data": {
            "text/plain": [
              "45"
            ]
          },
          "metadata": {},
          "execution_count": 29
        }
      ]
    },
    {
      "cell_type": "code",
      "source": [
        "a = 9\n",
        "b = 5\n",
        "a/b"
      ],
      "metadata": {
        "colab": {
          "base_uri": "https://localhost:8080/"
        },
        "id": "CHKqxKXvE50j",
        "outputId": "07dfaaaf-cc06-450f-d7ab-77aba4fd9a5a"
      },
      "execution_count": null,
      "outputs": [
        {
          "output_type": "execute_result",
          "data": {
            "text/plain": [
              "1.8"
            ]
          },
          "metadata": {},
          "execution_count": 30
        }
      ]
    },
    {
      "cell_type": "code",
      "source": [
        "# To find the round down value of the quotient when a number is divided by another\n",
        "a = 9\n",
        "b = 2\n",
        "a//b"
      ],
      "metadata": {
        "colab": {
          "base_uri": "https://localhost:8080/"
        },
        "id": "tt0CMyjsE760",
        "outputId": "1c8da456-6719-426f-ab71-540934bc9621"
      },
      "execution_count": null,
      "outputs": [
        {
          "output_type": "execute_result",
          "data": {
            "text/plain": [
              "4"
            ]
          },
          "metadata": {},
          "execution_count": 32
        }
      ]
    },
    {
      "cell_type": "code",
      "source": [
        "# To find the remainder when a number is divided by another\n",
        "a = 9\n",
        "b = 7\n",
        "a%b"
      ],
      "metadata": {
        "colab": {
          "base_uri": "https://localhost:8080/"
        },
        "id": "cch4T4cQFG6O",
        "outputId": "5ffe682f-e0f1-4edb-d0eb-05dff5a2bd01"
      },
      "execution_count": null,
      "outputs": [
        {
          "output_type": "execute_result",
          "data": {
            "text/plain": [
              "2"
            ]
          },
          "metadata": {},
          "execution_count": 34
        }
      ]
    },
    {
      "cell_type": "code",
      "source": [
        "# To raise a number to a power\n",
        "a = 4\n",
        "b = 3\n",
        "a**b   #4*4*4"
      ],
      "metadata": {
        "colab": {
          "base_uri": "https://localhost:8080/"
        },
        "id": "vXvK5Ck2FP_-",
        "outputId": "9daebb79-aeca-4130-ff6d-8f3caa31c331"
      },
      "execution_count": null,
      "outputs": [
        {
          "output_type": "execute_result",
          "data": {
            "text/plain": [
              "64"
            ]
          },
          "metadata": {},
          "execution_count": 35
        }
      ]
    },
    {
      "cell_type": "code",
      "source": [
        "a = 3+5j\n",
        "b = 4+9j\n",
        "a*b"
      ],
      "metadata": {
        "colab": {
          "base_uri": "https://localhost:8080/"
        },
        "id": "gH9ArtkeFbNp",
        "outputId": "b86b5d21-3145-4cb8-d756-2fe244b21540"
      },
      "execution_count": null,
      "outputs": [
        {
          "output_type": "execute_result",
          "data": {
            "text/plain": [
              "(-33+47j)"
            ]
          },
          "metadata": {},
          "execution_count": 37
        }
      ]
    },
    {
      "cell_type": "code",
      "source": [
        "a = 3+5j\n",
        "b = 4+9j\n",
        "a+b"
      ],
      "metadata": {
        "colab": {
          "base_uri": "https://localhost:8080/"
        },
        "id": "GLZqJ4GWE3P0",
        "outputId": "4889024e-38d5-45f6-a038-8d5e94e08cad"
      },
      "execution_count": null,
      "outputs": [
        {
          "output_type": "execute_result",
          "data": {
            "text/plain": [
              "(7+14j)"
            ]
          },
          "metadata": {},
          "execution_count": 38
        }
      ]
    },
    {
      "cell_type": "code",
      "source": [
        "str(59.6) + '%'"
      ],
      "metadata": {
        "colab": {
          "base_uri": "https://localhost:8080/",
          "height": 36
        },
        "id": "O6t4pqKYHtmj",
        "outputId": "f7e241f7-1756-4a50-afe5-73187e6373a4"
      },
      "execution_count": null,
      "outputs": [
        {
          "output_type": "execute_result",
          "data": {
            "text/plain": [
              "'59.6%'"
            ],
            "application/vnd.google.colaboratory.intrinsic+json": {
              "type": "string"
            }
          },
          "metadata": {},
          "execution_count": 39
        }
      ]
    },
    {
      "cell_type": "code",
      "source": [
        "a = 6\n",
        "b = 4.56\n",
        "c = 'kilometres'\n",
        "round(a+b, 2)"
      ],
      "metadata": {
        "colab": {
          "base_uri": "https://localhost:8080/"
        },
        "id": "jncMmuuCHz5l",
        "outputId": "aa78e7fa-9c4f-48da-a9a4-83913e5f385e"
      },
      "execution_count": null,
      "outputs": [
        {
          "output_type": "execute_result",
          "data": {
            "text/plain": [
              "10.56"
            ]
          },
          "metadata": {},
          "execution_count": 46
        }
      ]
    },
    {
      "cell_type": "code",
      "source": [
        "a = 6\n",
        "b = 4.56\n",
        "c = 'kilometres'\n",
        "a+c"
      ],
      "metadata": {
        "colab": {
          "base_uri": "https://localhost:8080/",
          "height": 144
        },
        "id": "Gp1rEn85GP6B",
        "outputId": "3c7b3865-620f-4bac-95b1-ce2c82742767"
      },
      "execution_count": null,
      "outputs": [
        {
          "output_type": "error",
          "ename": "TypeError",
          "evalue": "unsupported operand type(s) for +: 'int' and 'str'",
          "traceback": [
            "\u001b[0;31m---------------------------------------------------------------------------\u001b[0m",
            "\u001b[0;31mTypeError\u001b[0m                                 Traceback (most recent call last)",
            "\u001b[0;32m<ipython-input-44-e200917bc55f>\u001b[0m in \u001b[0;36m<cell line: 1>\u001b[0;34m()\u001b[0m\n\u001b[0;32m----> 1\u001b[0;31m \u001b[0ma\u001b[0m\u001b[0;34m+\u001b[0m\u001b[0mc\u001b[0m\u001b[0;34m\u001b[0m\u001b[0;34m\u001b[0m\u001b[0m\n\u001b[0m",
            "\u001b[0;31mTypeError\u001b[0m: unsupported operand type(s) for +: 'int' and 'str'"
          ]
        }
      ]
    },
    {
      "cell_type": "code",
      "source": [
        "a = 6\n",
        "b = 4.56\n",
        "c = 'kilometres'\n",
        "str(a) + ' ' + c"
      ],
      "metadata": {
        "colab": {
          "base_uri": "https://localhost:8080/",
          "height": 36
        },
        "id": "p3vnbmqaIU_B",
        "outputId": "ba3cb9b9-b983-40f7-bf76-227097c0357e"
      },
      "execution_count": null,
      "outputs": [
        {
          "output_type": "execute_result",
          "data": {
            "text/plain": [
              "'6 kilometres'"
            ],
            "application/vnd.google.colaboratory.intrinsic+json": {
              "type": "string"
            }
          },
          "metadata": {},
          "execution_count": 49
        }
      ]
    },
    {
      "cell_type": "code",
      "source": [
        "a = '56/25'\n",
        "a"
      ],
      "metadata": {
        "colab": {
          "base_uri": "https://localhost:8080/",
          "height": 36
        },
        "id": "k07HNTCRIewz",
        "outputId": "7cc5bf23-9b5c-428c-d66f-fa5c88c9f3cf"
      },
      "execution_count": null,
      "outputs": [
        {
          "output_type": "execute_result",
          "data": {
            "text/plain": [
              "'56/25'"
            ],
            "application/vnd.google.colaboratory.intrinsic+json": {
              "type": "string"
            }
          },
          "metadata": {},
          "execution_count": 47
        }
      ]
    },
    {
      "cell_type": "code",
      "source": [
        "letters = 'abcdefghijklmnopqrstuvxyz'\n",
        "letters[5:15]"
      ],
      "metadata": {
        "id": "gINN72q2IX3e",
        "colab": {
          "base_uri": "https://localhost:8080/",
          "height": 36
        },
        "outputId": "fa56142e-bdb1-4d2e-fe60-29e7808373c7"
      },
      "execution_count": null,
      "outputs": [
        {
          "output_type": "execute_result",
          "data": {
            "text/plain": [
              "'fghijklmno'"
            ],
            "application/vnd.google.colaboratory.intrinsic+json": {
              "type": "string"
            }
          },
          "metadata": {},
          "execution_count": 1
        }
      ]
    },
    {
      "cell_type": "code",
      "source": [
        "letters[10:]"
      ],
      "metadata": {
        "colab": {
          "base_uri": "https://localhost:8080/",
          "height": 36
        },
        "id": "u2JJXJEo8zgd",
        "outputId": "63baa49d-4cd0-459f-a5d2-b6d54faaef0e"
      },
      "execution_count": null,
      "outputs": [
        {
          "output_type": "execute_result",
          "data": {
            "text/plain": [
              "'klmnopqrstuvxyz'"
            ],
            "application/vnd.google.colaboratory.intrinsic+json": {
              "type": "string"
            }
          },
          "metadata": {},
          "execution_count": 2
        }
      ]
    },
    {
      "cell_type": "code",
      "source": [
        "letters[:15]"
      ],
      "metadata": {
        "colab": {
          "base_uri": "https://localhost:8080/",
          "height": 36
        },
        "id": "WaUp5yXg8zwI",
        "outputId": "684479f3-b874-466d-dfe5-6e73cd3aed0e"
      },
      "execution_count": null,
      "outputs": [
        {
          "output_type": "execute_result",
          "data": {
            "text/plain": [
              "'abcdefghijklmno'"
            ],
            "application/vnd.google.colaboratory.intrinsic+json": {
              "type": "string"
            }
          },
          "metadata": {},
          "execution_count": 3
        }
      ]
    },
    {
      "cell_type": "code",
      "source": [
        "letters = 'abcdefghijklmnopqrstuvxyz'\n",
        "letters[3:6] + letters[15:18]"
      ],
      "metadata": {
        "id": "2S_uh8ROIRN_",
        "colab": {
          "base_uri": "https://localhost:8080/",
          "height": 36
        },
        "outputId": "1e0c6a44-3faa-4708-8171-de8b75a6e699"
      },
      "execution_count": null,
      "outputs": [
        {
          "output_type": "execute_result",
          "data": {
            "text/plain": [
              "'defpqr'"
            ],
            "application/vnd.google.colaboratory.intrinsic+json": {
              "type": "string"
            }
          },
          "metadata": {},
          "execution_count": 5
        }
      ]
    },
    {
      "cell_type": "code",
      "source": [
        "letters = 'abcdefghijklmnopqrstuvwxyz'\n",
        "print(letters)\n",
        "letters[23:]"
      ],
      "metadata": {
        "colab": {
          "base_uri": "https://localhost:8080/",
          "height": 53
        },
        "id": "rS4USmcx_YP0",
        "outputId": "68246d66-11e6-4f14-8427-9cb16dcb6fe1"
      },
      "execution_count": null,
      "outputs": [
        {
          "output_type": "stream",
          "name": "stdout",
          "text": [
            "abcdefghijklmnopqrstuvwxyz\n"
          ]
        },
        {
          "output_type": "execute_result",
          "data": {
            "text/plain": [
              "'xyz'"
            ],
            "application/vnd.google.colaboratory.intrinsic+json": {
              "type": "string"
            }
          },
          "metadata": {},
          "execution_count": 10
        }
      ]
    },
    {
      "cell_type": "code",
      "source": [
        "letters"
      ],
      "metadata": {
        "colab": {
          "base_uri": "https://localhost:8080/",
          "height": 36
        },
        "id": "PR_1d7bpAApP",
        "outputId": "c5126dbd-7755-4f61-89ec-b130fca2477e"
      },
      "execution_count": null,
      "outputs": [
        {
          "output_type": "execute_result",
          "data": {
            "text/plain": [
              "'abcdefghijklmnopqrstuvwxyz'"
            ],
            "application/vnd.google.colaboratory.intrinsic+json": {
              "type": "string"
            }
          },
          "metadata": {},
          "execution_count": 9
        }
      ]
    },
    {
      "cell_type": "code",
      "source": [
        "print(letters)\n",
        "letters[-10:]"
      ],
      "metadata": {
        "colab": {
          "base_uri": "https://localhost:8080/",
          "height": 53
        },
        "id": "j3bmOkkaAQKj",
        "outputId": "7296a733-63a9-4b7e-ea31-5e18c18ae601"
      },
      "execution_count": null,
      "outputs": [
        {
          "output_type": "stream",
          "name": "stdout",
          "text": [
            "abcdefghijklmnopqrstuvwxyz\n"
          ]
        },
        {
          "output_type": "execute_result",
          "data": {
            "text/plain": [
              "'qrstuvwxyz'"
            ],
            "application/vnd.google.colaboratory.intrinsic+json": {
              "type": "string"
            }
          },
          "metadata": {},
          "execution_count": 11
        }
      ]
    },
    {
      "cell_type": "code",
      "source": [
        "print(letters)\n",
        "letters[-10:-24:-1]"
      ],
      "metadata": {
        "colab": {
          "base_uri": "https://localhost:8080/",
          "height": 53
        },
        "id": "uCk0_CJ8AQTe",
        "outputId": "cc69136b-e401-4697-94a3-523c33f07777"
      },
      "execution_count": null,
      "outputs": [
        {
          "output_type": "stream",
          "name": "stdout",
          "text": [
            "abcdefghijklmnopqrstuvwxyz\n"
          ]
        },
        {
          "output_type": "execute_result",
          "data": {
            "text/plain": [
              "'qponmlkjihgfed'"
            ],
            "application/vnd.google.colaboratory.intrinsic+json": {
              "type": "string"
            }
          },
          "metadata": {},
          "execution_count": 13
        }
      ]
    },
    {
      "cell_type": "code",
      "source": [
        "print(letters)\n",
        "letters[10:23:3]"
      ],
      "metadata": {
        "colab": {
          "base_uri": "https://localhost:8080/",
          "height": 53
        },
        "id": "ngVu2XVkBEVV",
        "outputId": "591e27af-af7f-4621-af75-0c682ad018ae"
      },
      "execution_count": null,
      "outputs": [
        {
          "output_type": "stream",
          "name": "stdout",
          "text": [
            "abcdefghijklmnopqrstuvwxyz\n"
          ]
        },
        {
          "output_type": "execute_result",
          "data": {
            "text/plain": [
              "'knqtw'"
            ],
            "application/vnd.google.colaboratory.intrinsic+json": {
              "type": "string"
            }
          },
          "metadata": {},
          "execution_count": 14
        }
      ]
    },
    {
      "cell_type": "code",
      "source": [
        "print(letters)\n",
        "letters[-3:-23:-2]"
      ],
      "metadata": {
        "colab": {
          "base_uri": "https://localhost:8080/",
          "height": 53
        },
        "id": "TbC-9Jo5BgYJ",
        "outputId": "c1a31f43-e060-4919-cc7e-d9edbf032603"
      },
      "execution_count": null,
      "outputs": [
        {
          "output_type": "stream",
          "name": "stdout",
          "text": [
            "abcdefghijklmnopqrstuvwxyz\n"
          ]
        },
        {
          "output_type": "execute_result",
          "data": {
            "text/plain": [
              "'xvtrpnljhf'"
            ],
            "application/vnd.google.colaboratory.intrinsic+json": {
              "type": "string"
            }
          },
          "metadata": {},
          "execution_count": 15
        }
      ]
    },
    {
      "cell_type": "code",
      "source": [
        "print(letters)\n",
        "letters[-23:-15:3]"
      ],
      "metadata": {
        "colab": {
          "base_uri": "https://localhost:8080/",
          "height": 53
        },
        "id": "h45V8XEUBgbf",
        "outputId": "033725ce-0079-4b05-cd9b-bd8b4de5f7b9"
      },
      "execution_count": null,
      "outputs": [
        {
          "output_type": "stream",
          "name": "stdout",
          "text": [
            "abcdefghijklmnopqrstuvwxyz\n"
          ]
        },
        {
          "output_type": "execute_result",
          "data": {
            "text/plain": [
              "'dgj'"
            ],
            "application/vnd.google.colaboratory.intrinsic+json": {
              "type": "string"
            }
          },
          "metadata": {},
          "execution_count": 17
        }
      ]
    },
    {
      "cell_type": "code",
      "source": [
        "print(letters)\n",
        "letters[-17:-24:-3]"
      ],
      "metadata": {
        "colab": {
          "base_uri": "https://localhost:8080/",
          "height": 53
        },
        "id": "-M4ZRAtjBgev",
        "outputId": "321a1f94-4456-44ed-ff4e-00aa963159ba"
      },
      "execution_count": null,
      "outputs": [
        {
          "output_type": "stream",
          "name": "stdout",
          "text": [
            "abcdefghijklmnopqrstuvwxyz\n"
          ]
        },
        {
          "output_type": "execute_result",
          "data": {
            "text/plain": [
              "'jgd'"
            ],
            "application/vnd.google.colaboratory.intrinsic+json": {
              "type": "string"
            }
          },
          "metadata": {},
          "execution_count": 22
        }
      ]
    },
    {
      "cell_type": "code",
      "source": [
        "print(letters)\n",
        "letters[-1:-26:-2]"
      ],
      "metadata": {
        "colab": {
          "base_uri": "https://localhost:8080/",
          "height": 53
        },
        "id": "OvV4_nyCAQW4",
        "outputId": "88c77614-cbab-481f-803d-3d763d237bf4"
      },
      "execution_count": null,
      "outputs": [
        {
          "output_type": "stream",
          "name": "stdout",
          "text": [
            "abcdefghijklmnopqrstuvwxyz\n"
          ]
        },
        {
          "output_type": "execute_result",
          "data": {
            "text/plain": [
              "'zxvtrpnljhfdb'"
            ],
            "application/vnd.google.colaboratory.intrinsic+json": {
              "type": "string"
            }
          },
          "metadata": {},
          "execution_count": 23
        }
      ]
    },
    {
      "cell_type": "code",
      "source": [],
      "metadata": {
        "id": "6iEMiM7uEY9z"
      },
      "execution_count": null,
      "outputs": []
    },
    {
      "cell_type": "markdown",
      "source": [
        "# Difference Between Data Type & Data Structure\n",
        "- Data type can be different for each single value, whether stored in an object or not. Every single value has its data type.\n",
        "- Data Structure is an arrangement of multiple data values of different data types in a single object.\n",
        "\n",
        "# Rules for the object name\n",
        "- Never start an object name with a numeric value\n",
        "- Never keep any space in object name\n",
        "- Except underscore _, no other special character should be used in object name\n",
        "\n",
        "# Python is Highly Case & Character Sensitive\n",
        "# Python Follows Zero Indexation\n",
        "\n",
        "# Difference between 'Function' & 'Method'?\n",
        "\n",
        "\n",
        "# List Data Structure\n",
        "Most dynamic data structure and accepts all types of data, which is mutable in all possible ways.\n",
        "\n",
        "|Method|Description|\n",
        "|------|-----------|\n",
        "|append()|Adds an element at the end of the list|\n",
        "|clear()|Removes all the elements from the list|\n",
        "|copy()|Returns a copy of the list|\n",
        "|count()|Returns the number of elements with the |specified value|\n",
        "|extend()|Add the elements of a list (or any iterable), to the end of the current list\n",
        "|index()|Returns the index of the first element with the specified value|\n",
        "|insert()|Adds an element at the specified position|\n",
        "|pop()|Removes the element at the specified position|\n",
        "|remove()|Removes the item with the specified value|\n",
        "|reverse()|Reverses the order of the list|\n",
        "|sort()|Sorts the list|"
      ],
      "metadata": {
        "id": "PP9qOAPCxK2L"
      }
    },
    {
      "cell_type": "code",
      "source": [
        "list1 = [1,2,3,6,45.2,14.8,5j,9j,'Data', 'Science', True, False]\n",
        "list1"
      ],
      "metadata": {
        "colab": {
          "base_uri": "https://localhost:8080/"
        },
        "id": "spZpzjRvFjV2",
        "outputId": "7127395d-91c3-40c1-9ce8-4c67f1f00347"
      },
      "execution_count": null,
      "outputs": [
        {
          "output_type": "execute_result",
          "data": {
            "text/plain": [
              "[1, 2, 3, 6, 45.2, 14.8, 5j, 9j, 'Data', 'Science', True, False]"
            ]
          },
          "metadata": {},
          "execution_count": 24
        }
      ]
    },
    {
      "cell_type": "code",
      "source": [
        "list1[4]"
      ],
      "metadata": {
        "colab": {
          "base_uri": "https://localhost:8080/"
        },
        "id": "PxbDdrUvGje4",
        "outputId": "5fd9b2a3-f14c-498d-fe57-95fb3049558d"
      },
      "execution_count": null,
      "outputs": [
        {
          "output_type": "execute_result",
          "data": {
            "text/plain": [
              "45.2"
            ]
          },
          "metadata": {},
          "execution_count": 25
        }
      ]
    },
    {
      "cell_type": "code",
      "source": [
        "list1[5:10]"
      ],
      "metadata": {
        "colab": {
          "base_uri": "https://localhost:8080/"
        },
        "id": "e9ezeBpqGjiK",
        "outputId": "25f92ab5-99df-483d-9430-588241db1652"
      },
      "execution_count": null,
      "outputs": [
        {
          "output_type": "execute_result",
          "data": {
            "text/plain": [
              "[14.8, 5j, 9j, 'Data', 'Science']"
            ]
          },
          "metadata": {},
          "execution_count": 26
        }
      ]
    },
    {
      "cell_type": "code",
      "source": [
        "print(list1)\n",
        "list1[-2:-9:-1]"
      ],
      "metadata": {
        "colab": {
          "base_uri": "https://localhost:8080/"
        },
        "id": "ykmB8IpgIj1d",
        "outputId": "5f31c5a3-cc89-4e5f-ef79-dd2170dd98fb"
      },
      "execution_count": null,
      "outputs": [
        {
          "output_type": "stream",
          "name": "stdout",
          "text": [
            "[1, 2, 3, 6, 45.2, 14.8, 5j, 9j, 'Data', 'Science', True, False]\n"
          ]
        },
        {
          "output_type": "execute_result",
          "data": {
            "text/plain": [
              "[True, 'Science', 'Data', 9j, 5j, 14.8, 45.2]"
            ]
          },
          "metadata": {},
          "execution_count": 29
        }
      ]
    },
    {
      "cell_type": "code",
      "source": [
        "list2 = [4,8,5,2,3,6,5, [4,7,8,5,2,4],7,8,5,2,4,1]\n",
        "list2"
      ],
      "metadata": {
        "colab": {
          "base_uri": "https://localhost:8080/"
        },
        "id": "cnmzDriGGjk7",
        "outputId": "1da69eab-37ce-4d60-d662-79f928f56b99"
      },
      "execution_count": null,
      "outputs": [
        {
          "output_type": "execute_result",
          "data": {
            "text/plain": [
              "[4, 8, 5, 2, 3, 6, 5, [4, 7, 8, 5, 2, 4], 7, 8, 5, 2, 4, 1]"
            ]
          },
          "metadata": {},
          "execution_count": 30
        }
      ]
    },
    {
      "cell_type": "code",
      "source": [
        "list2[7]"
      ],
      "metadata": {
        "colab": {
          "base_uri": "https://localhost:8080/"
        },
        "id": "d9UAgZO-O3zH",
        "outputId": "ee101941-8163-4cc4-de6f-45ef02f3bf10"
      },
      "execution_count": null,
      "outputs": [
        {
          "output_type": "execute_result",
          "data": {
            "text/plain": [
              "[4, 7, 8, 5, 2, 4]"
            ]
          },
          "metadata": {},
          "execution_count": 33
        }
      ]
    },
    {
      "cell_type": "code",
      "source": [
        "list2[7][2]"
      ],
      "metadata": {
        "colab": {
          "base_uri": "https://localhost:8080/"
        },
        "id": "fNfEnaMoOjFd",
        "outputId": "965d54d2-934b-4a6a-ee06-85dfd0983f32"
      },
      "execution_count": null,
      "outputs": [
        {
          "output_type": "execute_result",
          "data": {
            "text/plain": [
              "8"
            ]
          },
          "metadata": {},
          "execution_count": 32
        }
      ]
    },
    {
      "cell_type": "code",
      "source": [
        "print(list2)\n",
        "list2[7][4]"
      ],
      "metadata": {
        "colab": {
          "base_uri": "https://localhost:8080/"
        },
        "id": "1LWu_f8NGjoR",
        "outputId": "9dca92af-5dae-441d-bf6d-578e36a148e0"
      },
      "execution_count": null,
      "outputs": [
        {
          "output_type": "stream",
          "name": "stdout",
          "text": [
            "[4, 8, 5, 2, 3, 6, 5, [4, 7, 8, 5, 2, 4], 7, 8, 5, 2, 4, 1]\n"
          ]
        },
        {
          "output_type": "execute_result",
          "data": {
            "text/plain": [
              "2"
            ]
          },
          "metadata": {},
          "execution_count": 35
        }
      ]
    },
    {
      "cell_type": "code",
      "source": [
        "list(range(6))"
      ],
      "metadata": {
        "colab": {
          "base_uri": "https://localhost:8080/"
        },
        "id": "dyPGGUfJGjrI",
        "outputId": "afdf16d1-ff15-4883-bc5b-600c8d7b8c5c"
      },
      "execution_count": null,
      "outputs": [
        {
          "output_type": "execute_result",
          "data": {
            "text/plain": [
              "[0, 1, 2, 3, 4, 5]"
            ]
          },
          "metadata": {},
          "execution_count": 37
        }
      ]
    },
    {
      "cell_type": "code",
      "source": [
        "list(range(15,31))"
      ],
      "metadata": {
        "colab": {
          "base_uri": "https://localhost:8080/"
        },
        "id": "g1mhbJm4GjuI",
        "outputId": "bf29fb04-4524-406e-e31f-b21eb09847b1"
      },
      "execution_count": null,
      "outputs": [
        {
          "output_type": "execute_result",
          "data": {
            "text/plain": [
              "[15, 16, 17, 18, 19, 20, 21, 22, 23, 24, 25, 26, 27, 28, 29, 30]"
            ]
          },
          "metadata": {},
          "execution_count": 39
        }
      ]
    },
    {
      "cell_type": "code",
      "source": [
        "list(range(5,51,3))"
      ],
      "metadata": {
        "colab": {
          "base_uri": "https://localhost:8080/"
        },
        "id": "MEGYlPm5GjxK",
        "outputId": "30535b26-d49c-463f-afa8-5006f97fe4a0"
      },
      "execution_count": null,
      "outputs": [
        {
          "output_type": "execute_result",
          "data": {
            "text/plain": [
              "[5, 8, 11, 14, 17, 20, 23, 26, 29, 32, 35, 38, 41, 44, 47, 50]"
            ]
          },
          "metadata": {},
          "execution_count": 40
        }
      ]
    },
    {
      "cell_type": "code",
      "source": [
        "nums = list(range(5,51,3))\n",
        "nums"
      ],
      "metadata": {
        "colab": {
          "base_uri": "https://localhost:8080/"
        },
        "id": "VogEu_36Gjz-",
        "outputId": "f659e08d-ddeb-47ef-daf3-b50b250284e3"
      },
      "execution_count": null,
      "outputs": [
        {
          "output_type": "execute_result",
          "data": {
            "text/plain": [
              "[5, 8, 11, 14, 17, 20, 23, 26, 29, 32, 35, 38, 41, 44, 47, 50]"
            ]
          },
          "metadata": {},
          "execution_count": 41
        }
      ]
    },
    {
      "cell_type": "code",
      "source": [
        "list1 = ['Apple', 'Mango', 'Pineapple', 'Plum', 'Kiwi']\n",
        "print(list1)\n",
        "list1.append('Papaya')\n",
        "print(list1)"
      ],
      "metadata": {
        "id": "rn_LT6vSGj3J",
        "colab": {
          "base_uri": "https://localhost:8080/"
        },
        "outputId": "974919fa-dc7c-4528-8adc-c712816ed184"
      },
      "execution_count": null,
      "outputs": [
        {
          "output_type": "stream",
          "name": "stdout",
          "text": [
            "['Apple', 'Mango', 'Pineapple', 'Plum', 'Kiwi']\n",
            "['Apple', 'Mango', 'Pineapple', 'Plum', 'Kiwi', 'Papaya']\n"
          ]
        }
      ]
    },
    {
      "cell_type": "code",
      "source": [
        "list1 = ['Apple', 'Mango', 'Pineapple', 'Plum', 'Kiwi']\n",
        "print(list1)\n",
        "list1.append(['Chickoo', 'Dragon Fruit', 'Muskmelon'])\n",
        "print(list1)"
      ],
      "metadata": {
        "id": "EsdUc2faGj6E",
        "colab": {
          "base_uri": "https://localhost:8080/"
        },
        "outputId": "d5600696-6eca-47bb-8934-c5a00c591efa"
      },
      "execution_count": null,
      "outputs": [
        {
          "output_type": "stream",
          "name": "stdout",
          "text": [
            "['Apple', 'Mango', 'Pineapple', 'Plum', 'Kiwi']\n",
            "['Apple', 'Mango', 'Pineapple', 'Plum', 'Kiwi', ['Chickoo', 'Dragon Fruit', 'Muskmelon']]\n"
          ]
        }
      ]
    },
    {
      "cell_type": "code",
      "source": [
        "list1 = ['Apple', 'Mango', 'Pineapple', 'Plum', 'Kiwi']\n",
        "print(list1)\n",
        "list1.insert(2, 'Grapes')\n",
        "print(list1)\n",
        "list1.insert(4, 'Muskmelon')\n",
        "print(list1)"
      ],
      "metadata": {
        "colab": {
          "base_uri": "https://localhost:8080/"
        },
        "id": "AsXDeAxQCoG1",
        "outputId": "fa7bc69d-5a3e-4c92-b7e4-60d140d8e788"
      },
      "execution_count": null,
      "outputs": [
        {
          "output_type": "stream",
          "name": "stdout",
          "text": [
            "['Apple', 'Mango', 'Pineapple', 'Plum', 'Kiwi']\n",
            "['Apple', 'Mango', 'Grapes', 'Pineapple', 'Plum', 'Kiwi']\n",
            "['Apple', 'Mango', 'Grapes', 'Pineapple', 'Muskmelon', 'Plum', 'Kiwi']\n"
          ]
        }
      ]
    },
    {
      "cell_type": "code",
      "source": [
        "list1 = ['Apple', 'Mango', 'Pineapple', 'Plum', 'Kiwi']\n",
        "list1= list1[:3] + ['Grapes', 'Muskmelon'] + list1[3:]\n",
        "print(list1)"
      ],
      "metadata": {
        "colab": {
          "base_uri": "https://localhost:8080/"
        },
        "id": "ma21SyiRGlEM",
        "outputId": "46d5868f-66be-44ef-d510-980dcdf18f42"
      },
      "execution_count": null,
      "outputs": [
        {
          "output_type": "stream",
          "name": "stdout",
          "text": [
            "['Apple', 'Mango', 'Pineapple', 'Grapes', 'Muskmelon', 'Plum', 'Kiwi']\n"
          ]
        }
      ]
    },
    {
      "cell_type": "code",
      "source": [
        "list1 = ['Apple', 'Mango', 'Pineapple', 'Plum', 'Kiwi']\n",
        "list2= list1[:3] + ['Grapes', 'Muskmelon'] + list1[3:]\n",
        "print(list1)\n",
        "print(list2)"
      ],
      "metadata": {
        "colab": {
          "base_uri": "https://localhost:8080/"
        },
        "id": "69azFCIWKQqy",
        "outputId": "4be2d0d4-303c-4d5f-d129-4807602fe0a6"
      },
      "execution_count": null,
      "outputs": [
        {
          "output_type": "stream",
          "name": "stdout",
          "text": [
            "['Apple', 'Mango', 'Pineapple', 'Plum', 'Kiwi']\n",
            "['Apple', 'Mango', 'Pineapple', 'Grapes', 'Muskmelon', 'Plum', 'Kiwi']\n"
          ]
        }
      ]
    },
    {
      "cell_type": "code",
      "source": [
        "list1 = list(range(6))\n",
        "print(list1)\n",
        "list1.insert(3, 9)\n",
        "print(list1)\n",
        "list1.insert(-2, 8)\n",
        "print(list1)"
      ],
      "metadata": {
        "colab": {
          "base_uri": "https://localhost:8080/"
        },
        "id": "Jdaoxnz8CoZI",
        "outputId": "bca0d2c1-f6c5-45b3-941b-0f0f51330d03"
      },
      "execution_count": null,
      "outputs": [
        {
          "output_type": "stream",
          "name": "stdout",
          "text": [
            "[0, 1, 2, 3, 4, 5]\n",
            "[0, 1, 2, 9, 3, 4, 5]\n",
            "[0, 1, 2, 9, 3, 8, 4, 5]\n"
          ]
        }
      ]
    },
    {
      "cell_type": "code",
      "source": [
        "list(range(5.5))"
      ],
      "metadata": {
        "id": "dlzWpZmpGj9J",
        "colab": {
          "base_uri": "https://localhost:8080/",
          "height": 144
        },
        "outputId": "b9716ab5-cbed-4289-c1c0-9b5e5b7f8d0c"
      },
      "execution_count": null,
      "outputs": [
        {
          "output_type": "error",
          "ename": "TypeError",
          "evalue": "'float' object cannot be interpreted as an integer",
          "traceback": [
            "\u001b[0;31m---------------------------------------------------------------------------\u001b[0m",
            "\u001b[0;31mTypeError\u001b[0m                                 Traceback (most recent call last)",
            "\u001b[0;32m<ipython-input-18-e54337b3fcaf>\u001b[0m in \u001b[0;36m<cell line: 1>\u001b[0;34m()\u001b[0m\n\u001b[0;32m----> 1\u001b[0;31m \u001b[0mlist\u001b[0m\u001b[0;34m(\u001b[0m\u001b[0mrange\u001b[0m\u001b[0;34m(\u001b[0m\u001b[0;36m5.5\u001b[0m\u001b[0;34m)\u001b[0m\u001b[0;34m)\u001b[0m\u001b[0;34m\u001b[0m\u001b[0;34m\u001b[0m\u001b[0m\n\u001b[0m",
            "\u001b[0;31mTypeError\u001b[0m: 'float' object cannot be interpreted as an integer"
          ]
        }
      ]
    },
    {
      "cell_type": "code",
      "source": [
        "list1 = ['Apple', 'Mango', 'Pineapple', 'Plum', 'Kiwi']\n",
        "print(list1)\n",
        "list1.remove('Plum')\n",
        "print(list1)"
      ],
      "metadata": {
        "colab": {
          "base_uri": "https://localhost:8080/"
        },
        "id": "PK9VrD9TNurz",
        "outputId": "e7782bbc-2b50-4e7b-d75b-5eb2c83d74d7"
      },
      "execution_count": null,
      "outputs": [
        {
          "output_type": "stream",
          "name": "stdout",
          "text": [
            "['Apple', 'Mango', 'Pineapple', 'Plum', 'Kiwi']\n",
            "['Apple', 'Mango', 'Pineapple', 'Kiwi']\n"
          ]
        }
      ]
    },
    {
      "cell_type": "code",
      "source": [
        "list1 = ['Apple', 'Mango', 'Pineapple', 'Plum', 'Kiwi']\n",
        "print(list1)\n",
        "list1.remove(list1[3])\n",
        "print(list1)"
      ],
      "metadata": {
        "colab": {
          "base_uri": "https://localhost:8080/"
        },
        "id": "b9fo_vkPOQTX",
        "outputId": "51d528e5-b6ad-43a4-8407-30e6fded0cc8"
      },
      "execution_count": null,
      "outputs": [
        {
          "output_type": "stream",
          "name": "stdout",
          "text": [
            "['Apple', 'Mango', 'Pineapple', 'Plum', 'Kiwi']\n",
            "['Apple', 'Mango', 'Pineapple', 'Kiwi']\n"
          ]
        }
      ]
    },
    {
      "cell_type": "code",
      "source": [
        "list1 = ['Apple', 'Mango', 'Pineapple', 'Plum', 'Mango', 'Pineapple', 'Kiwi', 'Mango', 'Plum', 'Pineapple']\n",
        "print(list1)\n",
        "list1.remove(list1[4])\n",
        "print(list1)"
      ],
      "metadata": {
        "colab": {
          "base_uri": "https://localhost:8080/"
        },
        "id": "GaL7pH4ROm18",
        "outputId": "a809d7a3-7eaf-49dc-f7ab-2c7e2ca0bd9f"
      },
      "execution_count": null,
      "outputs": [
        {
          "output_type": "stream",
          "name": "stdout",
          "text": [
            "['Apple', 'Mango', 'Pineapple', 'Plum', 'Mango', 'Pineapple', 'Kiwi', 'Mango', 'Plum', 'Pineapple']\n",
            "['Apple', 'Pineapple', 'Plum', 'Mango', 'Pineapple', 'Kiwi', 'Mango', 'Plum', 'Pineapple']\n"
          ]
        }
      ]
    },
    {
      "cell_type": "code",
      "source": [
        "list1 = ['Apple', 'Mango', 'Pineapple', 'Plum', 'Mango', 'Pineapple', 'Kiwi', 'Mango', 'Plum', 'Pineapple']\n",
        "print(list1)\n",
        "list1.remove(list1[-2])\n",
        "print(list1)"
      ],
      "metadata": {
        "colab": {
          "base_uri": "https://localhost:8080/"
        },
        "id": "pazcbyDGSha7",
        "outputId": "7e343e14-9049-449d-9ad2-598f17b8ce7e"
      },
      "execution_count": null,
      "outputs": [
        {
          "output_type": "stream",
          "name": "stdout",
          "text": [
            "['Apple', 'Mango', 'Pineapple', 'Plum', 'Mango', 'Pineapple', 'Kiwi', 'Mango', 'Plum', 'Pineapple']\n",
            "['Apple', 'Mango', 'Pineapple', 'Mango', 'Pineapple', 'Kiwi', 'Mango', 'Plum', 'Pineapple']\n"
          ]
        }
      ]
    },
    {
      "cell_type": "code",
      "source": [
        "list1 = ['Apple', 'Mango', 'Pineapple', 'Plum', 'Mango', 'Pineapple', 'Kiwi', 'Mango', 'Plum', 'Pineapple']\n",
        "print(list1)\n",
        "list1.pop(4)\n",
        "print(list1)"
      ],
      "metadata": {
        "colab": {
          "base_uri": "https://localhost:8080/"
        },
        "id": "43PPc0utOQav",
        "outputId": "d727ff24-2e59-4d09-ee9c-d4e591a8e08c"
      },
      "execution_count": null,
      "outputs": [
        {
          "output_type": "stream",
          "name": "stdout",
          "text": [
            "['Apple', 'Mango', 'Pineapple', 'Plum', 'Mango', 'Pineapple', 'Kiwi', 'Mango', 'Plum', 'Pineapple']\n",
            "['Apple', 'Mango', 'Pineapple', 'Plum', 'Pineapple', 'Kiwi', 'Mango', 'Plum', 'Pineapple']\n"
          ]
        }
      ]
    },
    {
      "cell_type": "code",
      "source": [
        "list1 = ['Apple', 'Mango', 'Pineapple', 'Plum', 'Mango', 'Pineapple', 'Kiwi', 'Mango', 'Plum', 'Pineapple']\n",
        "print(list1)\n",
        "list1.pop()\n",
        "print(list1)"
      ],
      "metadata": {
        "colab": {
          "base_uri": "https://localhost:8080/"
        },
        "id": "mdX7ydGHaIvP",
        "outputId": "2138681d-2301-41ef-96c5-915832c06ff4"
      },
      "execution_count": null,
      "outputs": [
        {
          "output_type": "stream",
          "name": "stdout",
          "text": [
            "['Apple', 'Mango', 'Pineapple', 'Plum', 'Mango', 'Pineapple', 'Kiwi', 'Mango', 'Plum', 'Pineapple']\n",
            "['Apple', 'Mango', 'Pineapple', 'Plum', 'Mango', 'Pineapple', 'Kiwi', 'Mango', 'Plum']\n"
          ]
        }
      ]
    },
    {
      "cell_type": "code",
      "source": [],
      "metadata": {
        "id": "T6fVrDM5aPB4"
      },
      "execution_count": null,
      "outputs": []
    },
    {
      "cell_type": "code",
      "source": [
        "list1 = ['Apple', 'Mango', 'Pineapple', 'Plum', 'Mango', 'Pineapple', 'Kiwi', 'Mango', 'Plum', 'Pineapple']\n",
        "print(list1)\n",
        "list1.remove('Mango')\n",
        "print(list1)"
      ],
      "metadata": {
        "colab": {
          "base_uri": "https://localhost:8080/"
        },
        "id": "Kzn0K3qPW87f",
        "outputId": "72d18b9a-e6e3-4dcc-e974-995b37d28f7b"
      },
      "execution_count": null,
      "outputs": [
        {
          "output_type": "stream",
          "name": "stdout",
          "text": [
            "['Apple', 'Mango', 'Pineapple', 'Plum', 'Mango', 'Pineapple', 'Kiwi', 'Mango', 'Plum', 'Pineapple']\n",
            "['Apple', 'Pineapple', 'Plum', 'Mango', 'Pineapple', 'Kiwi', 'Mango', 'Plum', 'Pineapple']\n"
          ]
        }
      ]
    },
    {
      "cell_type": "code",
      "source": [
        "list1.remove('Mango')\n",
        "print(list1)"
      ],
      "metadata": {
        "colab": {
          "base_uri": "https://localhost:8080/"
        },
        "id": "7zchzzzFOQd4",
        "outputId": "a21cb7c7-22a6-4935-9e85-136034fb72e4"
      },
      "execution_count": null,
      "outputs": [
        {
          "output_type": "stream",
          "name": "stdout",
          "text": [
            "['Apple', 'Pineapple', 'Plum', 'Pineapple', 'Kiwi', 'Plum', 'Pineapple']\n"
          ]
        }
      ]
    },
    {
      "cell_type": "code",
      "source": [
        "list1 = ['Apple', 'Mango', 'Pineapple', 'Plum', 'Mango', 'Pineapple', 'Kiwi']\n",
        "print(list1)\n",
        "list1.extend(['Muskmelon','Mango', 'Plum', 'Pineapple'])\n",
        "print(list1)"
      ],
      "metadata": {
        "colab": {
          "base_uri": "https://localhost:8080/"
        },
        "id": "LqVa7zHEYFRp",
        "outputId": "09885fcf-d7ff-4f06-dcaf-f5a28e71b61b"
      },
      "execution_count": null,
      "outputs": [
        {
          "output_type": "stream",
          "name": "stdout",
          "text": [
            "['Apple', 'Mango', 'Pineapple', 'Plum', 'Mango', 'Pineapple', 'Kiwi']\n",
            "['Apple', 'Mango', 'Pineapple', 'Plum', 'Mango', 'Pineapple', 'Kiwi', 'Muskmelon', 'Mango', 'Plum', 'Pineapple']\n"
          ]
        }
      ]
    },
    {
      "cell_type": "code",
      "source": [
        "list1 = [22.3, 'Apple', 'Mango', 14, 'Pineapple', 45.23, 'Plum', True, 'Mango', 'Pineapple', 5j, 'Kiwi']\n",
        "print(list1)\n",
        "list1.reverse()\n",
        "print(list1)"
      ],
      "metadata": {
        "colab": {
          "base_uri": "https://localhost:8080/"
        },
        "id": "CHVVEWmpY3oR",
        "outputId": "8de6662f-132f-4f86-ac10-48f9541b821e"
      },
      "execution_count": null,
      "outputs": [
        {
          "output_type": "stream",
          "name": "stdout",
          "text": [
            "[22.3, 'Apple', 'Mango', 14, 'Pineapple', 45.23, 'Plum', True, 'Mango', 'Pineapple', 5j, 'Kiwi']\n",
            "['Kiwi', 5j, 'Pineapple', 'Mango', True, 'Plum', 45.23, 'Pineapple', 14, 'Mango', 'Apple', 22.3]\n"
          ]
        }
      ]
    },
    {
      "cell_type": "code",
      "source": [
        "list1 = [22.3, 'Apple', 'Mango', 14, 'Pineapple', 45.23, 'Plum', True, 'Mango', 'Pineapple', 5j, 'Kiwi']\n",
        "print(list1)\n",
        "list1.sort()\n",
        "print(list1)"
      ],
      "metadata": {
        "colab": {
          "base_uri": "https://localhost:8080/",
          "height": 216
        },
        "id": "RlvqM1tbbaT3",
        "outputId": "c29e903a-b843-4cde-9be1-8d688b95f868"
      },
      "execution_count": null,
      "outputs": [
        {
          "output_type": "stream",
          "name": "stdout",
          "text": [
            "[22.3, 'Apple', 'Mango', 14, 'Pineapple', 45.23, 'Plum', True, 'Mango', 'Pineapple', 5j, 'Kiwi']\n"
          ]
        },
        {
          "output_type": "error",
          "ename": "TypeError",
          "evalue": "'<' not supported between instances of 'str' and 'float'",
          "traceback": [
            "\u001b[0;31m---------------------------------------------------------------------------\u001b[0m",
            "\u001b[0;31mTypeError\u001b[0m                                 Traceback (most recent call last)",
            "\u001b[0;32m<ipython-input-33-a209fd07fb85>\u001b[0m in \u001b[0;36m<cell line: 3>\u001b[0;34m()\u001b[0m\n\u001b[1;32m      1\u001b[0m \u001b[0mlist1\u001b[0m \u001b[0;34m=\u001b[0m \u001b[0;34m[\u001b[0m\u001b[0;36m22.3\u001b[0m\u001b[0;34m,\u001b[0m \u001b[0;34m'Apple'\u001b[0m\u001b[0;34m,\u001b[0m \u001b[0;34m'Mango'\u001b[0m\u001b[0;34m,\u001b[0m \u001b[0;36m14\u001b[0m\u001b[0;34m,\u001b[0m \u001b[0;34m'Pineapple'\u001b[0m\u001b[0;34m,\u001b[0m \u001b[0;36m45.23\u001b[0m\u001b[0;34m,\u001b[0m \u001b[0;34m'Plum'\u001b[0m\u001b[0;34m,\u001b[0m \u001b[0;32mTrue\u001b[0m\u001b[0;34m,\u001b[0m \u001b[0;34m'Mango'\u001b[0m\u001b[0;34m,\u001b[0m \u001b[0;34m'Pineapple'\u001b[0m\u001b[0;34m,\u001b[0m \u001b[0;36m5j\u001b[0m\u001b[0;34m,\u001b[0m \u001b[0;34m'Kiwi'\u001b[0m\u001b[0;34m]\u001b[0m\u001b[0;34m\u001b[0m\u001b[0;34m\u001b[0m\u001b[0m\n\u001b[1;32m      2\u001b[0m \u001b[0mprint\u001b[0m\u001b[0;34m(\u001b[0m\u001b[0mlist1\u001b[0m\u001b[0;34m)\u001b[0m\u001b[0;34m\u001b[0m\u001b[0;34m\u001b[0m\u001b[0m\n\u001b[0;32m----> 3\u001b[0;31m \u001b[0mlist1\u001b[0m\u001b[0;34m.\u001b[0m\u001b[0msort\u001b[0m\u001b[0;34m(\u001b[0m\u001b[0;34m)\u001b[0m\u001b[0;34m\u001b[0m\u001b[0;34m\u001b[0m\u001b[0m\n\u001b[0m\u001b[1;32m      4\u001b[0m \u001b[0mprint\u001b[0m\u001b[0;34m(\u001b[0m\u001b[0mlist1\u001b[0m\u001b[0;34m)\u001b[0m\u001b[0;34m\u001b[0m\u001b[0;34m\u001b[0m\u001b[0m\n",
            "\u001b[0;31mTypeError\u001b[0m: '<' not supported between instances of 'str' and 'float'"
          ]
        }
      ]
    },
    {
      "cell_type": "code",
      "source": [
        "list1 = ['Apple', 'Mango', 'Pineapple', 'plum', 'Mango', 'Pineapple', 'kiwi', 'Muskmelon', 'mango', 'Plum', 'pineapple']\n",
        "print(list1)\n",
        "list1.sort()\n",
        "print(list1)\n",
        "list1.sort(reverse= True)\n",
        "print(list1)"
      ],
      "metadata": {
        "colab": {
          "base_uri": "https://localhost:8080/"
        },
        "id": "iVdENMGcYjei",
        "outputId": "6f9a2648-f6b5-4af2-d6b2-24add8da4030"
      },
      "execution_count": null,
      "outputs": [
        {
          "output_type": "stream",
          "name": "stdout",
          "text": [
            "['Apple', 'Mango', 'Pineapple', 'plum', 'Mango', 'Pineapple', 'kiwi', 'Muskmelon', 'mango', 'Plum', 'pineapple']\n",
            "['Apple', 'Mango', 'Mango', 'Muskmelon', 'Pineapple', 'Pineapple', 'Plum', 'kiwi', 'mango', 'pineapple', 'plum']\n",
            "['plum', 'pineapple', 'mango', 'kiwi', 'Plum', 'Pineapple', 'Pineapple', 'Muskmelon', 'Mango', 'Mango', 'Apple']\n"
          ]
        }
      ]
    },
    {
      "cell_type": "code",
      "source": [
        "list1 = [22.5,5,8,6,2.1,6.3,7.2,41,23,52,96,1.4]\n",
        "print(list1)\n",
        "list1.sort()\n",
        "print(list1)\n",
        "list1.sort(reverse= True)\n",
        "print(list1)"
      ],
      "metadata": {
        "colab": {
          "base_uri": "https://localhost:8080/"
        },
        "id": "STfSdmOWcElh",
        "outputId": "77112582-ad3a-4904-8178-a839757e7214"
      },
      "execution_count": null,
      "outputs": [
        {
          "output_type": "stream",
          "name": "stdout",
          "text": [
            "[22.5, 5, 8, 6, 2.1, 6.3, 7.2, 41, 23, 52, 96, 1.4]\n",
            "[1.4, 2.1, 5, 6, 6.3, 7.2, 8, 22.5, 23, 41, 52, 96]\n",
            "[96, 52, 41, 23, 22.5, 8, 7.2, 6.3, 6, 5, 2.1, 1.4]\n"
          ]
        }
      ]
    },
    {
      "cell_type": "code",
      "source": [
        "list1 = [22.3, 'Apple', 'Mango', 14, 'Pineapple', 45.23, 'Plum', True, 'Mango', 'Pineapple', 5j, 'Kiwi','Mango']\n",
        "print(list1)\n",
        "list1.count('Mango')"
      ],
      "metadata": {
        "id": "bfoOw-8NcYl5",
        "colab": {
          "base_uri": "https://localhost:8080/"
        },
        "outputId": "894cc186-4b6f-410a-957b-03388bca2f06"
      },
      "execution_count": null,
      "outputs": [
        {
          "output_type": "stream",
          "name": "stdout",
          "text": [
            "[22.3, 'Apple', 'Mango', 14, 'Pineapple', 45.23, 'Plum', True, 'Mango', 'Pineapple', 5j, 'Kiwi', 'Mango']\n"
          ]
        },
        {
          "output_type": "execute_result",
          "data": {
            "text/plain": [
              "3"
            ]
          },
          "metadata": {},
          "execution_count": 2
        }
      ]
    },
    {
      "cell_type": "code",
      "source": [
        "list1 = [22.3, 'Apple', 'Mango', 14, 'Pineapple', 45.23, 'Plum', True, 'Mango', 'Pineapple', 5j, 'Kiwi','Mango']\n",
        "print(list1)\n",
        "list1.count('Apple')"
      ],
      "metadata": {
        "id": "JYfL_G9WYjhB",
        "colab": {
          "base_uri": "https://localhost:8080/"
        },
        "outputId": "79e77413-df31-473a-a35b-f5118925880a"
      },
      "execution_count": null,
      "outputs": [
        {
          "output_type": "stream",
          "name": "stdout",
          "text": [
            "[22.3, 'Apple', 'Mango', 14, 'Pineapple', 45.23, 'Plum', True, 'Mango', 'Pineapple', 5j, 'Kiwi', 'Mango']\n"
          ]
        },
        {
          "output_type": "execute_result",
          "data": {
            "text/plain": [
              "1"
            ]
          },
          "metadata": {},
          "execution_count": 3
        }
      ]
    },
    {
      "cell_type": "code",
      "source": [
        "list1 = [22.3, 'Apple', 'Mango', 14, 'Pineapple', 45.23, 'Plum', True, 'Mango', 'Pineapple', 5j, 'Kiwi','Mango']\n",
        "print(list1)\n",
        "list1.index(14)"
      ],
      "metadata": {
        "id": "vNsTh2SvYjkQ",
        "colab": {
          "base_uri": "https://localhost:8080/"
        },
        "outputId": "c08d0f30-0433-457f-d868-624514018ed1"
      },
      "execution_count": null,
      "outputs": [
        {
          "output_type": "stream",
          "name": "stdout",
          "text": [
            "[22.3, 'Apple', 'Mango', 14, 'Pineapple', 45.23, 'Plum', True, 'Mango', 'Pineapple', 5j, 'Kiwi', 'Mango']\n"
          ]
        },
        {
          "output_type": "execute_result",
          "data": {
            "text/plain": [
              "3"
            ]
          },
          "metadata": {},
          "execution_count": 5
        }
      ]
    },
    {
      "cell_type": "code",
      "source": [
        "list1 = [22.3, 'Apple', 'Mango', 14, 'Pineapple', 45.23, 'Plum', True, 'Mango', 'Pineapple', 5j, 'Kiwi','Mango']\n",
        "print(list1)\n",
        "list1.index('Plum')"
      ],
      "metadata": {
        "id": "7UKGiwu4Yjm-",
        "colab": {
          "base_uri": "https://localhost:8080/"
        },
        "outputId": "aa94626e-47c0-4d95-902b-a416a98cea21"
      },
      "execution_count": null,
      "outputs": [
        {
          "output_type": "stream",
          "name": "stdout",
          "text": [
            "[22.3, 'Apple', 'Mango', 14, 'Pineapple', 45.23, 'Plum', True, 'Mango', 'Pineapple', 5j, 'Kiwi', 'Mango']\n"
          ]
        },
        {
          "output_type": "execute_result",
          "data": {
            "text/plain": [
              "6"
            ]
          },
          "metadata": {},
          "execution_count": 6
        }
      ]
    },
    {
      "cell_type": "code",
      "source": [
        "list1 = [22.3, 'Apple', 'Mango', 14, 'Pineapple', 45.23, 'Plum', True, 'Mango', 'Pineapple', 5j, 'Kiwi','Mango']\n",
        "print(list1)\n",
        "print('The first occurrence of \"Mango\" is at index ',list1.index('Mango'))\n",
        "print('The second occurrence of \"Mango\" is at index ',list1.index('Mango', 3))\n",
        "print('The third occurrence of \"Mango\" is at index ',list1.index('Mango', 9))"
      ],
      "metadata": {
        "colab": {
          "base_uri": "https://localhost:8080/"
        },
        "id": "fHcRkijKgGTB",
        "outputId": "56de1c65-83cb-45f9-99f3-e10931977151"
      },
      "execution_count": null,
      "outputs": [
        {
          "output_type": "stream",
          "name": "stdout",
          "text": [
            "[22.3, 'Apple', 'Mango', 14, 'Pineapple', 45.23, 'Plum', True, 'Mango', 'Pineapple', 5j, 'Kiwi', 'Mango']\n",
            "The first occurrence of \"Mango\" is at index  2\n",
            "The second occurrence of \"Mango\" is at index  8\n",
            "The third occurrence of \"Mango\" is at index  12\n"
          ]
        }
      ]
    },
    {
      "cell_type": "code",
      "source": [
        "list1 = [22.3, 'Apple', 'Mango', 14, 'Pineapple', 45.23, 'Plum', True, 'Mango', 'Pineapple', 5j, 'Kiwi','Mango']\n",
        "print(list1)\n",
        "list1.clear()\n",
        "print(list1)"
      ],
      "metadata": {
        "colab": {
          "base_uri": "https://localhost:8080/"
        },
        "id": "kgjB8wCigsPe",
        "outputId": "507c0fd6-b77f-41e8-de16-92cc5c0b9549"
      },
      "execution_count": null,
      "outputs": [
        {
          "output_type": "stream",
          "name": "stdout",
          "text": [
            "[22.3, 'Apple', 'Mango', 14, 'Pineapple', 45.23, 'Plum', True, 'Mango', 'Pineapple', 5j, 'Kiwi', 'Mango']\n",
            "[]\n"
          ]
        }
      ]
    },
    {
      "cell_type": "code",
      "source": [
        "list1 = [22.3, 'Apple', 'Mango', 14, 'Pineapple', 45.23, 'Plum', True, 'Mango', 'Pineapple', 5j, 'Kiwi','Mango']\n",
        "print(list1)\n",
        "list2 = list1.copy()\n",
        "print(list2)\n",
        "print(id(list1))\n",
        "print(id(list2))\n",
        "list1.append('New Element')\n",
        "print(list1)\n",
        "print(list2)"
      ],
      "metadata": {
        "colab": {
          "base_uri": "https://localhost:8080/"
        },
        "id": "WH4toivyjJRM",
        "outputId": "333e2ad3-500d-4b95-b002-7e4dc1eee72e"
      },
      "execution_count": null,
      "outputs": [
        {
          "output_type": "stream",
          "name": "stdout",
          "text": [
            "[22.3, 'Apple', 'Mango', 14, 'Pineapple', 45.23, 'Plum', True, 'Mango', 'Pineapple', 5j, 'Kiwi', 'Mango']\n",
            "[22.3, 'Apple', 'Mango', 14, 'Pineapple', 45.23, 'Plum', True, 'Mango', 'Pineapple', 5j, 'Kiwi', 'Mango']\n",
            "135621861412032\n",
            "135621861417280\n",
            "[22.3, 'Apple', 'Mango', 14, 'Pineapple', 45.23, 'Plum', True, 'Mango', 'Pineapple', 5j, 'Kiwi', 'Mango', 'New Element']\n",
            "[22.3, 'Apple', 'Mango', 14, 'Pineapple', 45.23, 'Plum', True, 'Mango', 'Pineapple', 5j, 'Kiwi', 'Mango']\n"
          ]
        }
      ]
    },
    {
      "cell_type": "code",
      "source": [
        "list1 = [22.3, 'Apple', 'Mango', 14, 'Pineapple', 45.23, 'Plum', True, 'Mango', 'Pineapple', 5j, 'Kiwi','Mango']\n",
        "list2 = list1\n",
        "print(list1)\n",
        "print(list2)\n",
        "print(id(list1))\n",
        "print(id(list2))\n",
        "list1.append('New Element')\n",
        "print(list1)\n",
        "print(list2)"
      ],
      "metadata": {
        "colab": {
          "base_uri": "https://localhost:8080/"
        },
        "id": "NxEpQ7yzj3bG",
        "outputId": "dce32cb7-904a-42f7-9622-25ad12a2ba9b"
      },
      "execution_count": null,
      "outputs": [
        {
          "output_type": "stream",
          "name": "stdout",
          "text": [
            "[22.3, 'Apple', 'Mango', 14, 'Pineapple', 45.23, 'Plum', True, 'Mango', 'Pineapple', 5j, 'Kiwi', 'Mango']\n",
            "[22.3, 'Apple', 'Mango', 14, 'Pineapple', 45.23, 'Plum', True, 'Mango', 'Pineapple', 5j, 'Kiwi', 'Mango']\n",
            "135621861414464\n",
            "135621861414464\n",
            "[22.3, 'Apple', 'Mango', 14, 'Pineapple', 45.23, 'Plum', True, 'Mango', 'Pineapple', 5j, 'Kiwi', 'Mango', 'New Element']\n",
            "[22.3, 'Apple', 'Mango', 14, 'Pineapple', 45.23, 'Plum', True, 'Mango', 'Pineapple', 5j, 'Kiwi', 'Mango', 'New Element']\n"
          ]
        }
      ]
    },
    {
      "cell_type": "code",
      "source": [
        "list1 = [22.3, 'Apple', 'Mango', 14, 'Pineapple', 45.23, 'Plum', True, 'Mango', 'Pineapple', 5j, 'Kiwi','Mango']\n",
        "print(list1)\n",
        "list1[1] = 'Papaya'\n",
        "print(list1)\n",
        "list1[6] = 'Cherry'\n",
        "print(list1)\n",
        "list1[1],list1[2] = list1[2],list1[1]\n",
        "print(list1)"
      ],
      "metadata": {
        "colab": {
          "base_uri": "https://localhost:8080/"
        },
        "id": "K8ocBMMCkINi",
        "outputId": "3237b616-e1fb-4e1f-b357-42d4d7cb0751"
      },
      "execution_count": null,
      "outputs": [
        {
          "output_type": "stream",
          "name": "stdout",
          "text": [
            "[22.3, 'Apple', 'Mango', 14, 'Pineapple', 45.23, 'Plum', True, 'Mango', 'Pineapple', 5j, 'Kiwi', 'Mango']\n",
            "[22.3, 'Papaya', 'Mango', 14, 'Pineapple', 45.23, 'Plum', True, 'Mango', 'Pineapple', 5j, 'Kiwi', 'Mango']\n",
            "[22.3, 'Papaya', 'Mango', 14, 'Pineapple', 45.23, 'Cherry', True, 'Mango', 'Pineapple', 5j, 'Kiwi', 'Mango']\n",
            "[22.3, 'Mango', 'Papaya', 14, 'Pineapple', 45.23, 'Cherry', True, 'Mango', 'Pineapple', 5j, 'Kiwi', 'Mango']\n"
          ]
        }
      ]
    },
    {
      "cell_type": "markdown",
      "source": [
        "# Tuple\n",
        "\n",
        "Tuple is an immutable data structure. So once a tuple is created, we cannot make any modifications to it, like adding elements, deleting elements or even replacing elements."
      ],
      "metadata": {
        "id": "2EFyau0NxMW-"
      }
    },
    {
      "cell_type": "code",
      "source": [
        "tup1 = (1,4,5,2,12.3,74.2,True,False, 'Data', 'Science', 5j,9+8j)\n",
        "tup1"
      ],
      "metadata": {
        "colab": {
          "base_uri": "https://localhost:8080/"
        },
        "id": "ZsCfAatcpL3p",
        "outputId": "553d2909-d1b7-417e-c49f-c05d306d219b"
      },
      "execution_count": null,
      "outputs": [
        {
          "output_type": "execute_result",
          "data": {
            "text/plain": [
              "(1, 4, 5, 2, 12.3, 74.2, True, False, 'Data', 'Science', 5j, (9+8j))"
            ]
          },
          "metadata": {},
          "execution_count": 22
        }
      ]
    },
    {
      "cell_type": "code",
      "source": [
        "tup1[2] = 58"
      ],
      "metadata": {
        "colab": {
          "base_uri": "https://localhost:8080/",
          "height": 144
        },
        "id": "pRwX7FxmpML-",
        "outputId": "427ececc-f69c-43a9-b4c2-ae1d74ddf064"
      },
      "execution_count": null,
      "outputs": [
        {
          "output_type": "error",
          "ename": "TypeError",
          "evalue": "'tuple' object does not support item assignment",
          "traceback": [
            "\u001b[0;31m---------------------------------------------------------------------------\u001b[0m",
            "\u001b[0;31mTypeError\u001b[0m                                 Traceback (most recent call last)",
            "\u001b[0;32m<ipython-input-23-bbe475389d57>\u001b[0m in \u001b[0;36m<cell line: 1>\u001b[0;34m()\u001b[0m\n\u001b[0;32m----> 1\u001b[0;31m \u001b[0mtup1\u001b[0m\u001b[0;34m[\u001b[0m\u001b[0;36m2\u001b[0m\u001b[0;34m]\u001b[0m \u001b[0;34m=\u001b[0m \u001b[0;36m58\u001b[0m\u001b[0;34m\u001b[0m\u001b[0;34m\u001b[0m\u001b[0m\n\u001b[0m",
            "\u001b[0;31mTypeError\u001b[0m: 'tuple' object does not support item assignment"
          ]
        }
      ]
    },
    {
      "cell_type": "code",
      "source": [
        "tup1.append('New Element')"
      ],
      "metadata": {
        "colab": {
          "base_uri": "https://localhost:8080/",
          "height": 144
        },
        "id": "cr4ahbIgpq_y",
        "outputId": "c073e997-d0a1-4189-a2db-f06ac43a4b70"
      },
      "execution_count": null,
      "outputs": [
        {
          "output_type": "error",
          "ename": "AttributeError",
          "evalue": "'tuple' object has no attribute 'append'",
          "traceback": [
            "\u001b[0;31m---------------------------------------------------------------------------\u001b[0m",
            "\u001b[0;31mAttributeError\u001b[0m                            Traceback (most recent call last)",
            "\u001b[0;32m<ipython-input-24-8f6f6ba6c45f>\u001b[0m in \u001b[0;36m<cell line: 1>\u001b[0;34m()\u001b[0m\n\u001b[0;32m----> 1\u001b[0;31m \u001b[0mtup1\u001b[0m\u001b[0;34m.\u001b[0m\u001b[0mappend\u001b[0m\u001b[0;34m(\u001b[0m\u001b[0;34m'New Element'\u001b[0m\u001b[0;34m)\u001b[0m\u001b[0;34m\u001b[0m\u001b[0;34m\u001b[0m\u001b[0m\n\u001b[0m",
            "\u001b[0;31mAttributeError\u001b[0m: 'tuple' object has no attribute 'append'"
          ]
        }
      ]
    },
    {
      "cell_type": "code",
      "source": [
        "tup1 = (1,4,5,2,12.3,74.2,True,False, 'Data', 'Science', 5j,9+8j)\n",
        "print(tup1)\n",
        "tup1[5]"
      ],
      "metadata": {
        "colab": {
          "base_uri": "https://localhost:8080/"
        },
        "id": "JtGq1vbzpwqr",
        "outputId": "4114bd85-76af-48f7-85f8-504eeea33433"
      },
      "execution_count": null,
      "outputs": [
        {
          "output_type": "stream",
          "name": "stdout",
          "text": [
            "(1, 4, 5, 2, 12.3, 74.2, True, False, 'Data', 'Science', 5j, (9+8j))\n"
          ]
        },
        {
          "output_type": "execute_result",
          "data": {
            "text/plain": [
              "74.2"
            ]
          },
          "metadata": {},
          "execution_count": 25
        }
      ]
    },
    {
      "cell_type": "code",
      "source": [
        "print('The value at the 7th index of tup1 is', tup1[7])"
      ],
      "metadata": {
        "colab": {
          "base_uri": "https://localhost:8080/"
        },
        "id": "bqV5lKNnrSep",
        "outputId": "e163c87e-0403-41a3-dc9a-9ecbb4f0f3fe"
      },
      "execution_count": null,
      "outputs": [
        {
          "output_type": "stream",
          "name": "stdout",
          "text": [
            "The value at the 7th index of tup1 is False\n"
          ]
        }
      ]
    },
    {
      "cell_type": "code",
      "source": [
        "tup1 = (1,4,5,2,4,12.3,74.2,4,True,12.3,False,12.3, 'Data', 'Science',12.3, 5j,9+8j)\n",
        "print(tup1)\n",
        "tup1.count(12.3)"
      ],
      "metadata": {
        "colab": {
          "base_uri": "https://localhost:8080/"
        },
        "id": "k_aWuNRArdtG",
        "outputId": "f9ebf6e4-5ef1-4284-8187-2d93a498d0b6"
      },
      "execution_count": null,
      "outputs": [
        {
          "output_type": "stream",
          "name": "stdout",
          "text": [
            "(1, 4, 5, 2, 4, 12.3, 74.2, 4, True, 12.3, False, 12.3, 'Data', 'Science', 12.3, 5j, (9+8j))\n"
          ]
        },
        {
          "output_type": "execute_result",
          "data": {
            "text/plain": [
              "4"
            ]
          },
          "metadata": {},
          "execution_count": 28
        }
      ]
    },
    {
      "cell_type": "code",
      "source": [
        "tup1 = (1,4,5,2,4,12.3,74.2,4,True,12.3,False,12.3, 'Data', 'Science',12.3, 5j,9+8j)\n",
        "print(tup1)\n",
        "#True = 1\n",
        "#False = 0\n",
        "tup1.index(True)\n",
        "tup1.index(False)"
      ],
      "metadata": {
        "colab": {
          "base_uri": "https://localhost:8080/"
        },
        "id": "vBukHn_iwJ2H",
        "outputId": "e69ba3de-c5db-4373-8fa0-e8fa324d9ef4"
      },
      "execution_count": null,
      "outputs": [
        {
          "output_type": "execute_result",
          "data": {
            "text/plain": [
              "10"
            ]
          },
          "metadata": {},
          "execution_count": 31
        }
      ]
    },
    {
      "cell_type": "code",
      "source": [
        "tup1 = (1,4,5,2,4,0,12.3,74.2,4,True,12.3,False,12.3, 'Data', 'Science',12.3, 5j,9+8j)\n",
        "print(tup1)\n",
        "#True = 1\n",
        "#False = 0\n",
        "tup1.index(True)\n",
        "tup1.index(False)"
      ],
      "metadata": {
        "colab": {
          "base_uri": "https://localhost:8080/"
        },
        "id": "w-Qc4VvUwQh1",
        "outputId": "8a14708c-a12d-45b6-c3da-accf72ff1f79"
      },
      "execution_count": null,
      "outputs": [
        {
          "output_type": "stream",
          "name": "stdout",
          "text": [
            "(1, 4, 5, 2, 4, 0, 12.3, 74.2, 4, True, 12.3, False, 12.3, 'Data', 'Science', 12.3, 5j, (9+8j))\n"
          ]
        },
        {
          "output_type": "execute_result",
          "data": {
            "text/plain": [
              "5"
            ]
          },
          "metadata": {},
          "execution_count": 32
        }
      ]
    },
    {
      "cell_type": "code",
      "source": [
        "tup1 = (5)\n",
        "print(tup1)\n",
        "print(type(tup1))"
      ],
      "metadata": {
        "colab": {
          "base_uri": "https://localhost:8080/"
        },
        "id": "i0nrotVsysGz",
        "outputId": "61524afa-cf13-44be-bfb2-7435873fa1bc"
      },
      "execution_count": null,
      "outputs": [
        {
          "output_type": "stream",
          "name": "stdout",
          "text": [
            "5\n",
            "<class 'int'>\n"
          ]
        }
      ]
    },
    {
      "cell_type": "code",
      "source": [
        "tup1 = (5,)\n",
        "print(tup1)\n",
        "print(type(tup1))"
      ],
      "metadata": {
        "colab": {
          "base_uri": "https://localhost:8080/"
        },
        "id": "UF6Tf_bBz41U",
        "outputId": "66f6023f-2c60-4b99-f716-f4af35c7f072"
      },
      "execution_count": null,
      "outputs": [
        {
          "output_type": "stream",
          "name": "stdout",
          "text": [
            "(5,)\n",
            "<class 'tuple'>\n"
          ]
        }
      ]
    },
    {
      "cell_type": "code",
      "source": [
        "tup1 = (4,1,2,5,6)\n",
        "tup1*5"
      ],
      "metadata": {
        "colab": {
          "base_uri": "https://localhost:8080/"
        },
        "id": "3ozCaS6q0lra",
        "outputId": "8ae95f48-4c9a-4cad-91af-a7ec51961f1d"
      },
      "execution_count": null,
      "outputs": [
        {
          "output_type": "execute_result",
          "data": {
            "text/plain": [
              "(4, 1, 2, 5, 6, 4, 1, 2, 5, 6, 4, 1, 2, 5, 6, 4, 1, 2, 5, 6, 4, 1, 2, 5, 6)"
            ]
          },
          "metadata": {},
          "execution_count": 35
        }
      ]
    },
    {
      "cell_type": "markdown",
      "source": [
        "# Dictionary\n",
        "\n",
        "Dictionary will always accept elements as a key & value pair, where the key & value are displayed with a colon between them:\n",
        "\n",
        "key:value\n",
        "\n",
        "We cannot have duplicated key, but values can be duplicated.\n",
        "\n",
        "|Method|Description|\n",
        "|------|-----------|\n",
        "|clear()|Removes all the elements from the dictionary|\n",
        "|copy()|Returns a copy of the dictionary|\n",
        "|fromkeys()|Returns a dictionary with the specified keys and value|\n",
        "|get()|Returns the value of the specified key|\n",
        "|items()|Returns a list containing a tuple for each key value pair|\n",
        "|keys()|Returns a list containing the dictionary's keys|\n",
        "|pop()|Removes the element with the specified key|\n",
        "|popitem()|Removes the last inserted key-value pair|\n",
        "|setdefault()|Returns the value of the specified key. If the key does not exist: insert the key, with the specified value|\n",
        "|update()|Updates the dictionary with the specified key-value pairs|\n",
        "|values()|Returns a list of all the values in the dictionary|\n",
        "\n",
        "\n",
        "\n"
      ],
      "metadata": {
        "id": "dUaTdTQJpEGf"
      }
    },
    {
      "cell_type": "code",
      "source": [
        "dict1 = {'Institute':'ExcelR', 'Building':'Akshaya Mansion', 'Floor': 3,\n",
        "         'Classroom': 'Newton', 'Institute': 'ExcelR Edtech', 'Room No.': 3, 'Floor':4}\n",
        "dict1"
      ],
      "metadata": {
        "id": "CRvNA4zC0iB3",
        "colab": {
          "base_uri": "https://localhost:8080/"
        },
        "outputId": "8e5a3985-9f44-4453-d5de-bc6840b1c1ce"
      },
      "execution_count": null,
      "outputs": [
        {
          "output_type": "execute_result",
          "data": {
            "text/plain": [
              "{'Institute': 'ExcelR Edtech',\n",
              " 'Building': 'Akshaya Mansion',\n",
              " 'Floor': 4,\n",
              " 'Classroom': 'Newton',\n",
              " 'Room No.': 3}"
            ]
          },
          "metadata": {},
          "execution_count": 38
        }
      ]
    },
    {
      "cell_type": "code",
      "source": [
        "dict1['Classroom']"
      ],
      "metadata": {
        "colab": {
          "base_uri": "https://localhost:8080/",
          "height": 36
        },
        "id": "5yCUA_jJ2xX4",
        "outputId": "a12ee219-7d57-4f74-dda9-d2a0f3713552"
      },
      "execution_count": null,
      "outputs": [
        {
          "output_type": "execute_result",
          "data": {
            "text/plain": [
              "'Newton'"
            ],
            "application/vnd.google.colaboratory.intrinsic+json": {
              "type": "string"
            }
          },
          "metadata": {},
          "execution_count": 39
        }
      ]
    },
    {
      "cell_type": "code",
      "source": [
        "dict1['Institute']"
      ],
      "metadata": {
        "colab": {
          "base_uri": "https://localhost:8080/",
          "height": 36
        },
        "id": "tznTmYUM3zv2",
        "outputId": "88ff3832-189f-4132-ae1d-074882ef48f9"
      },
      "execution_count": null,
      "outputs": [
        {
          "output_type": "execute_result",
          "data": {
            "text/plain": [
              "'ExcelR Edtech'"
            ],
            "application/vnd.google.colaboratory.intrinsic+json": {
              "type": "string"
            }
          },
          "metadata": {},
          "execution_count": 40
        }
      ]
    },
    {
      "cell_type": "code",
      "source": [
        "dict1[3]"
      ],
      "metadata": {
        "colab": {
          "base_uri": "https://localhost:8080/",
          "height": 144
        },
        "id": "rJwCCfSK36Bd",
        "outputId": "9753f219-b318-4759-a5c1-611c436fd8a0"
      },
      "execution_count": null,
      "outputs": [
        {
          "output_type": "error",
          "ename": "KeyError",
          "evalue": "3",
          "traceback": [
            "\u001b[0;31m---------------------------------------------------------------------------\u001b[0m",
            "\u001b[0;31mKeyError\u001b[0m                                  Traceback (most recent call last)",
            "\u001b[0;32m<ipython-input-41-3ffe6edbd3b9>\u001b[0m in \u001b[0;36m<cell line: 1>\u001b[0;34m()\u001b[0m\n\u001b[0;32m----> 1\u001b[0;31m \u001b[0mdict1\u001b[0m\u001b[0;34m[\u001b[0m\u001b[0;36m3\u001b[0m\u001b[0;34m]\u001b[0m\u001b[0;34m\u001b[0m\u001b[0;34m\u001b[0m\u001b[0m\n\u001b[0m",
            "\u001b[0;31mKeyError\u001b[0m: 3"
          ]
        }
      ]
    },
    {
      "cell_type": "code",
      "source": [
        "dict1 = {'Institute':'ExcelR', 'Building':'Akshaya Mansion', 'Floor': 3,\n",
        "         'Classroom': 'Newton', 'Institute': 'ExcelR Edtech', 'Room No.': 3, 'Floor':4}\n",
        "print(dict1)\n",
        "dict1['Building'] = 'Safeway Plaza'\n",
        "print(dict1)\n",
        "dict1['Classroom'] = 'Aryabhatta'\n",
        "print(dict1)\n",
        "dict1['Area'] = 'BTM Layout'\n",
        "print(dict1)"
      ],
      "metadata": {
        "colab": {
          "base_uri": "https://localhost:8080/"
        },
        "id": "Ahhx79XX382b",
        "outputId": "8aae7177-8b0d-4417-afda-cae7c4ea4fca"
      },
      "execution_count": null,
      "outputs": [
        {
          "output_type": "stream",
          "name": "stdout",
          "text": [
            "{'Institute': 'ExcelR Edtech', 'Building': 'Akshaya Mansion', 'Floor': 4, 'Classroom': 'Newton', 'Room No.': 3}\n",
            "{'Institute': 'ExcelR Edtech', 'Building': 'Safeway Plaza', 'Floor': 4, 'Classroom': 'Newton', 'Room No.': 3}\n",
            "{'Institute': 'ExcelR Edtech', 'Building': 'Safeway Plaza', 'Floor': 4, 'Classroom': 'Aryabhatta', 'Room No.': 3}\n",
            "{'Institute': 'ExcelR Edtech', 'Building': 'Safeway Plaza', 'Floor': 4, 'Classroom': 'Aryabhatta', 'Room No.': 3, 'Area': 'BTM Layout'}\n"
          ]
        }
      ]
    },
    {
      "cell_type": "code",
      "source": [
        "dict1 = {'Institute':'ExcelR', 'Building':'Akshaya Mansion', 'Floor': 3,'Classroom': 'Newton'}\n",
        "print(dict1)\n",
        "dict1.keys()\n",
        "list(dict1.keys())"
      ],
      "metadata": {
        "colab": {
          "base_uri": "https://localhost:8080/"
        },
        "id": "a6T_xxqYoQUM",
        "outputId": "879e7fd3-bb14-4a42-81dc-96a617ad59c7"
      },
      "execution_count": null,
      "outputs": [
        {
          "output_type": "stream",
          "name": "stdout",
          "text": [
            "{'Institute': 'ExcelR', 'Building': 'Akshaya Mansion', 'Floor': 3, 'Classroom': 'Newton'}\n"
          ]
        },
        {
          "output_type": "execute_result",
          "data": {
            "text/plain": [
              "['Institute', 'Building', 'Floor', 'Classroom']"
            ]
          },
          "metadata": {},
          "execution_count": 5
        }
      ]
    },
    {
      "cell_type": "code",
      "source": [
        "dict1 = {'Institute':'ExcelR', 'Building':'Akshaya Mansion', 'Floor': 3,'Classroom': 'Newton'}\n",
        "print(dict1)\n",
        "dict1.values()\n",
        "list(dict1.values())"
      ],
      "metadata": {
        "colab": {
          "base_uri": "https://localhost:8080/"
        },
        "id": "1yYGe4DkpAWN",
        "outputId": "2160aaeb-04d9-4da1-eef5-1218ff628b17"
      },
      "execution_count": null,
      "outputs": [
        {
          "output_type": "stream",
          "name": "stdout",
          "text": [
            "{'Institute': 'ExcelR', 'Building': 'Akshaya Mansion', 'Floor': 3, 'Classroom': 'Newton'}\n"
          ]
        },
        {
          "output_type": "execute_result",
          "data": {
            "text/plain": [
              "['ExcelR', 'Akshaya Mansion', 3, 'Newton']"
            ]
          },
          "metadata": {},
          "execution_count": 7
        }
      ]
    },
    {
      "cell_type": "code",
      "source": [
        "dict1 = {'Institute':'ExcelR', 'Building':'Akshaya Mansion', 'Floor': 3,'Classroom': 'Newton'}\n",
        "print(dict1)\n",
        "dict1.items()"
      ],
      "metadata": {
        "colab": {
          "base_uri": "https://localhost:8080/"
        },
        "id": "6lgN1uxQpEjZ",
        "outputId": "14c2903a-a5e7-421c-b33f-aa0f3216a72e"
      },
      "execution_count": null,
      "outputs": [
        {
          "output_type": "stream",
          "name": "stdout",
          "text": [
            "{'Institute': 'ExcelR', 'Building': 'Akshaya Mansion', 'Floor': 3, 'Classroom': 'Newton'}\n"
          ]
        },
        {
          "output_type": "execute_result",
          "data": {
            "text/plain": [
              "dict_items([('Institute', 'ExcelR'), ('Building', 'Akshaya Mansion'), ('Floor', 3), ('Classroom', 'Newton')])"
            ]
          },
          "metadata": {},
          "execution_count": 15
        }
      ]
    },
    {
      "cell_type": "code",
      "source": [
        "a = tuple(dict1.items())\n",
        "a"
      ],
      "metadata": {
        "colab": {
          "base_uri": "https://localhost:8080/"
        },
        "id": "oaYKXheLuAae",
        "outputId": "f8acb605-5ffb-4432-e40a-803f64107dd5"
      },
      "execution_count": null,
      "outputs": [
        {
          "output_type": "execute_result",
          "data": {
            "text/plain": [
              "(('Institute', 'ExcelR'),\n",
              " ('Building', 'Akshaya Mansion'),\n",
              " ('Floor', 3),\n",
              " ('Classroom', 'Newton'))"
            ]
          },
          "metadata": {},
          "execution_count": 16
        }
      ]
    },
    {
      "cell_type": "code",
      "source": [
        "a = list(dict1.items())\n",
        "a"
      ],
      "metadata": {
        "colab": {
          "base_uri": "https://localhost:8080/"
        },
        "id": "gRRx1TsquI9G",
        "outputId": "25db5b3a-dbf0-41bf-d35e-345ad15b8f09"
      },
      "execution_count": null,
      "outputs": [
        {
          "output_type": "execute_result",
          "data": {
            "text/plain": [
              "[('Institute', 'ExcelR'),\n",
              " ('Building', 'Akshaya Mansion'),\n",
              " ('Floor', 3),\n",
              " ('Classroom', 'Newton')]"
            ]
          },
          "metadata": {},
          "execution_count": 17
        }
      ]
    },
    {
      "cell_type": "code",
      "source": [
        "a[2]"
      ],
      "metadata": {
        "colab": {
          "base_uri": "https://localhost:8080/"
        },
        "id": "kMVl9iybuAo3",
        "outputId": "21d895d2-5fa6-44a8-9caf-480b0da20b93"
      },
      "execution_count": null,
      "outputs": [
        {
          "output_type": "execute_result",
          "data": {
            "text/plain": [
              "('Floor', 3)"
            ]
          },
          "metadata": {},
          "execution_count": 18
        }
      ]
    },
    {
      "cell_type": "code",
      "source": [
        "dict1 = {'Institute':'ExcelR', 'Building':'Akshaya Mansion', 'Floor': 3,'Classroom': 'Newton'}\n",
        "print(dict1)\n",
        "print(dict1.popitem())\n",
        "dict1.popitem()\n",
        "print(dict1)"
      ],
      "metadata": {
        "colab": {
          "base_uri": "https://localhost:8080/"
        },
        "id": "bzmT-UUaqZvz",
        "outputId": "e0f50134-f58c-4830-85dc-01e05805a0d2"
      },
      "execution_count": null,
      "outputs": [
        {
          "output_type": "stream",
          "name": "stdout",
          "text": [
            "{'Institute': 'ExcelR', 'Building': 'Akshaya Mansion', 'Floor': 3, 'Classroom': 'Newton'}\n",
            "('Classroom', 'Newton')\n",
            "{'Institute': 'ExcelR', 'Building': 'Akshaya Mansion'}\n"
          ]
        }
      ]
    },
    {
      "cell_type": "code",
      "source": [
        "dict1 = {'Institute':'ExcelR', 'Building':'Akshaya Mansion', 'Floor': 3,'Classroom': 'Newton'}\n",
        "print(dict1)\n",
        "dict1.pop('Floor')\n",
        "print(dict1)"
      ],
      "metadata": {
        "colab": {
          "base_uri": "https://localhost:8080/"
        },
        "id": "SJkEzU0jqwS8",
        "outputId": "ad0864ad-e780-4e81-f91f-756cf064b210"
      },
      "execution_count": null,
      "outputs": [
        {
          "output_type": "stream",
          "name": "stdout",
          "text": [
            "{'Institute': 'ExcelR', 'Building': 'Akshaya Mansion', 'Floor': 3, 'Classroom': 'Newton'}\n",
            "{'Institute': 'ExcelR', 'Building': 'Akshaya Mansion', 'Classroom': 'Newton'}\n"
          ]
        }
      ]
    },
    {
      "cell_type": "code",
      "source": [
        "dict1 = {'Institute':'ExcelR', 'Building':'Akshaya Mansion', 'Floor': 3,'Classroom': 'Newton'}\n",
        "print(dict1)\n",
        "dict1.setdefault('Area','BTM Layout')\n",
        "print(dict1)\n",
        "dict1.setdefault('Building','Malini Mansion')\n",
        "print(dict1)"
      ],
      "metadata": {
        "colab": {
          "base_uri": "https://localhost:8080/"
        },
        "id": "BmMIv4enq4zu",
        "outputId": "1b16373d-11f6-4e63-ca27-b14810623083"
      },
      "execution_count": null,
      "outputs": [
        {
          "output_type": "stream",
          "name": "stdout",
          "text": [
            "{'Institute': 'ExcelR', 'Building': 'Akshaya Mansion', 'Floor': 3, 'Classroom': 'Newton'}\n",
            "{'Institute': 'ExcelR', 'Building': 'Akshaya Mansion', 'Floor': 3, 'Classroom': 'Newton', 'Area': 'BTM Layout'}\n",
            "{'Institute': 'ExcelR', 'Building': 'Akshaya Mansion', 'Floor': 3, 'Classroom': 'Newton', 'Area': 'BTM Layout'}\n"
          ]
        }
      ]
    },
    {
      "cell_type": "code",
      "source": [
        "dict1 = {'Institute':'ExcelR', 'Building':'Akshaya Mansion', 'Classroom': 'Newton'}\n",
        "print(dict1)\n",
        "list1 = list(dict1.items())\n",
        "print(list1)\n",
        "list1.insert(1, ('Trainer','Neha'))\n",
        "list1.insert(3, ('Floor', 3))\n",
        "print(list1)\n",
        "dict1 = dict(list1)\n",
        "print(dict1)\n",
        "# Add a new key value pair 'Trainer':'Neha' after 'Institute' key,\n",
        "# & another key value pair 'Floor': 3 after 'Building' key."
      ],
      "metadata": {
        "colab": {
          "base_uri": "https://localhost:8080/"
        },
        "id": "sLlIS1umr3Ts",
        "outputId": "391880ab-2b66-4931-cb30-fbbe4b124fe7"
      },
      "execution_count": null,
      "outputs": [
        {
          "output_type": "stream",
          "name": "stdout",
          "text": [
            "{'Institute': 'ExcelR', 'Building': 'Akshaya Mansion', 'Classroom': 'Newton'}\n",
            "[('Institute', 'ExcelR'), ('Building', 'Akshaya Mansion'), ('Classroom', 'Newton')]\n",
            "[('Institute', 'ExcelR'), ('Trainer', 'Neha'), ('Building', 'Akshaya Mansion'), ('Floor', 3), ('Classroom', 'Newton')]\n",
            "{'Institute': 'ExcelR', 'Trainer': 'Neha', 'Building': 'Akshaya Mansion', 'Floor': 3, 'Classroom': 'Newton'}\n"
          ]
        }
      ]
    },
    {
      "cell_type": "code",
      "source": [
        "dict1 = {'Institute':'ExcelR', 'Building':'Akshaya Mansion', 'Classroom': 'Newton'}\n",
        "print(dict1)\n",
        "dict1.clear()\n",
        "print(dict1)"
      ],
      "metadata": {
        "colab": {
          "base_uri": "https://localhost:8080/"
        },
        "id": "o4LUhUGp0OCh",
        "outputId": "fb26431a-82e2-4147-8e30-ad975f9bd35a"
      },
      "execution_count": null,
      "outputs": [
        {
          "output_type": "stream",
          "name": "stdout",
          "text": [
            "{'Institute': 'ExcelR', 'Building': 'Akshaya Mansion', 'Classroom': 'Newton'}\n",
            "{}\n"
          ]
        }
      ]
    },
    {
      "cell_type": "code",
      "source": [
        "x = ['Rahul', 'Pradeep', 'Mithun']\n",
        "y = 50\n",
        "marks = dict.fromkeys(x,y)\n",
        "marks"
      ],
      "metadata": {
        "colab": {
          "base_uri": "https://localhost:8080/"
        },
        "id": "ZyA9bXGj6EXB",
        "outputId": "23f8818d-46f2-4d63-fec8-2111d52436fe"
      },
      "execution_count": null,
      "outputs": [
        {
          "output_type": "execute_result",
          "data": {
            "text/plain": [
              "{'Rahul': 50, 'Pradeep': 50, 'Mithun': 50}"
            ]
          },
          "metadata": {},
          "execution_count": 22
        }
      ]
    },
    {
      "cell_type": "code",
      "source": [
        "dict1 = {'Institute':'ExcelR', 'Building':'Akshaya Mansion', 'Classroom': 'Newton'}\n",
        "dict2 = {'Floor':3, 'Area': 'BTM Layout'}\n",
        "print(dict1)\n",
        "dict1.update(dict2)\n",
        "print(dict1)"
      ],
      "metadata": {
        "id": "6caEpUCRru9k",
        "colab": {
          "base_uri": "https://localhost:8080/"
        },
        "outputId": "4b2596dd-4dbb-4670-cdcc-d175b55865ef"
      },
      "execution_count": null,
      "outputs": [
        {
          "output_type": "stream",
          "name": "stdout",
          "text": [
            "{'Institute': 'ExcelR', 'Building': 'Akshaya Mansion', 'Classroom': 'Newton'}\n",
            "{'Institute': 'ExcelR', 'Building': 'Akshaya Mansion', 'Classroom': 'Newton', 'Floor': 3, 'Area': 'BTM Layout'}\n"
          ]
        }
      ]
    },
    {
      "cell_type": "code",
      "source": [
        "dict1={'Institute': 'ExcelR', 'Building': 'Akshaya Mansion', 'Classroom': 'Newton', 'Floor': 3, 'Area': 'BTM Layout'}\n",
        "print(dict1)\n",
        "dict1.get('Area')"
      ],
      "metadata": {
        "colab": {
          "base_uri": "https://localhost:8080/",
          "height": 36
        },
        "id": "9nRFBO819d3e",
        "outputId": "67b59596-cb78-4e74-da35-06756f411df4"
      },
      "execution_count": null,
      "outputs": [
        {
          "output_type": "execute_result",
          "data": {
            "text/plain": [
              "'BTM Layout'"
            ],
            "application/vnd.google.colaboratory.intrinsic+json": {
              "type": "string"
            }
          },
          "metadata": {},
          "execution_count": 24
        }
      ]
    },
    {
      "cell_type": "code",
      "source": [
        "dict1={'Institute': 'ExcelR', 'Building': 'Akshaya Mansion', 'Classroom': 'Newton', 'Floor': 3, 'Area': 'BTM Layout'}\n",
        "dict2 = dict1.copy()\n",
        "print(dict1)\n",
        "print(dict2)\n",
        "print(id(dict1))\n",
        "print(id(dict2))\n",
        "dict1['State'] = 'Karnataka'\n",
        "print(dict1)\n",
        "print(dict2)"
      ],
      "metadata": {
        "id": "VD7TaxlJ19NK"
      },
      "execution_count": null,
      "outputs": []
    },
    {
      "cell_type": "code",
      "source": [
        "dict1={'Institute':'ExcelR','Building':'Akshaya Mansion','Classroom': 'Newton','Floor': 3,'Area': 'BTM Layout'}\n",
        "dict2 = dict1\n",
        "print(dict1)\n",
        "print(dict2)\n",
        "print(id(dict1))\n",
        "print(id(dict2))\n",
        "dict1['State'] = 'Karnataka'\n",
        "print(dict1)\n",
        "print(dict2)"
      ],
      "metadata": {
        "id": "i5tug6_PAgrv"
      },
      "execution_count": null,
      "outputs": []
    },
    {
      "cell_type": "code",
      "source": [
        "dict1 = {'Institute':'ExcelR','Building':'Akshaya Mansion','Classroom': 'Newton',\n",
        "         'Address':{'Street':'27th Main', 'Area':'BTM Layout', 'Pincode':560068}}\n",
        "print(dict1)\n",
        "dict1['Address']['Pincode']"
      ],
      "metadata": {
        "id": "JqzZt5_yBZit"
      },
      "execution_count": null,
      "outputs": []
    },
    {
      "cell_type": "code",
      "source": [],
      "metadata": {
        "id": "B8TVxpjJB0aW"
      },
      "execution_count": null,
      "outputs": []
    },
    {
      "cell_type": "markdown",
      "source": [
        "# Set\n",
        "\n",
        "|Method|Description|\n",
        "|------|-----------|\n",
        "|add()|Adds an element to the set|\n",
        "|clear()|Removes all the elements from the set|\n",
        "|copy()|Returns a copy of the set|\n",
        "|difference()|Returns a set containing the difference between two or more sets|\n",
        "|difference_update()|Removes the items in this set that are also included in another, specified set|\n",
        "|discard()|Remove the specified item|\n",
        "|intersection()|Returns a set, that is the intersection of two or more sets|\n",
        "|intersection_update()|Removes the items in this set that are not present in other, specified set(s)|\n",
        "|isdisjoint()|Returns whether two sets have a intersection or not|\n",
        "|issubset()|Returns whether another set contains this set or not|\n",
        "|issuperset()|Returns whether this set contains another set or not|\n",
        "|pop()|Removes an element from the set|\n",
        "|remove()|Removes the specified element|\n",
        "|symmetric_difference()|Returns a set with the symmetric differences of two sets|\n",
        "|symmetric_difference_update()|inserts the symmetric differences from this set and another|\n",
        "|union()|Return a set containing the union of sets|\n",
        "|update()|Update the set with another set, or any other iterable|"
      ],
      "metadata": {
        "id": "rX_6rd7RAMJe"
      }
    },
    {
      "cell_type": "code",
      "source": [
        "set1= {'Elephant','Monkey','Cat', 'Dog','Lion', 'Deer'}\n",
        "print(set1)"
      ],
      "metadata": {
        "colab": {
          "base_uri": "https://localhost:8080/"
        },
        "id": "6KWrtzfXywPv",
        "outputId": "d9e5b1fa-e50a-4140-e59f-ff8f409e2477"
      },
      "execution_count": null,
      "outputs": [
        {
          "output_type": "stream",
          "name": "stdout",
          "text": [
            "{'Elephant', 'Cat', 'Dog', 'Deer', 'Monkey', 'Lion'}\n"
          ]
        }
      ]
    },
    {
      "cell_type": "code",
      "source": [
        "set1"
      ],
      "metadata": {
        "colab": {
          "base_uri": "https://localhost:8080/"
        },
        "id": "pQyk8g30zXnz",
        "outputId": "e214bc98-d26d-4b3b-d825-f7067d71683a"
      },
      "execution_count": null,
      "outputs": [
        {
          "output_type": "execute_result",
          "data": {
            "text/plain": [
              "{'Cat', 'Deer', 'Dog', 'Elephant', 'Lion', 'Monkey'}"
            ]
          },
          "metadata": {},
          "execution_count": 2
        }
      ]
    },
    {
      "cell_type": "code",
      "source": [
        "set1[2]"
      ],
      "metadata": {
        "colab": {
          "base_uri": "https://localhost:8080/",
          "height": 144
        },
        "id": "rBU0bPhozZHT",
        "outputId": "7eb96992-39ba-46d2-f894-6ca20a573c3b"
      },
      "execution_count": null,
      "outputs": [
        {
          "output_type": "error",
          "ename": "TypeError",
          "evalue": "'set' object is not subscriptable",
          "traceback": [
            "\u001b[0;31m---------------------------------------------------------------------------\u001b[0m",
            "\u001b[0;31mTypeError\u001b[0m                                 Traceback (most recent call last)",
            "\u001b[0;32m<ipython-input-3-f6f64d0ccb0e>\u001b[0m in \u001b[0;36m<cell line: 1>\u001b[0;34m()\u001b[0m\n\u001b[0;32m----> 1\u001b[0;31m \u001b[0mset1\u001b[0m\u001b[0;34m[\u001b[0m\u001b[0;36m2\u001b[0m\u001b[0;34m]\u001b[0m\u001b[0;34m\u001b[0m\u001b[0;34m\u001b[0m\u001b[0m\n\u001b[0m",
            "\u001b[0;31mTypeError\u001b[0m: 'set' object is not subscriptable"
          ]
        }
      ]
    },
    {
      "cell_type": "code",
      "source": [
        "set1= {'Elephant','Monkey','Cat', 'Dog','Lion', 'Deer'}\n",
        "print(set1)\n",
        "set1.add('Snake')\n",
        "print(set1)\n",
        "set1.add('Cat')\n",
        "print(set1)"
      ],
      "metadata": {
        "colab": {
          "base_uri": "https://localhost:8080/"
        },
        "id": "c04kCQOg0I-R",
        "outputId": "31a0d38d-6308-4e33-b9ef-6d8002c3e653"
      },
      "execution_count": null,
      "outputs": [
        {
          "output_type": "stream",
          "name": "stdout",
          "text": [
            "{'Elephant', 'Cat', 'Dog', 'Deer', 'Monkey', 'Lion'}\n",
            "{'Elephant', 'Cat', 'Dog', 'Deer', 'Snake', 'Monkey', 'Lion'}\n",
            "{'Elephant', 'Cat', 'Dog', 'Deer', 'Snake', 'Monkey', 'Lion'}\n"
          ]
        }
      ]
    },
    {
      "cell_type": "code",
      "source": [
        "set1= {'Elephant','Monkey','Cat', 'Dog','Lion', 'Deer'}\n",
        "print(set1)\n",
        "set1.remove('Dog')\n",
        "print(set1)"
      ],
      "metadata": {
        "colab": {
          "base_uri": "https://localhost:8080/"
        },
        "id": "o52O0T1D0zT4",
        "outputId": "71386586-826b-430c-eea0-bf0ea23ea0e5"
      },
      "execution_count": null,
      "outputs": [
        {
          "output_type": "stream",
          "name": "stdout",
          "text": [
            "{'Elephant', 'Cat', 'Dog', 'Deer', 'Monkey', 'Lion'}\n",
            "{'Elephant', 'Cat', 'Deer', 'Monkey', 'Lion'}\n"
          ]
        }
      ]
    },
    {
      "cell_type": "code",
      "source": [
        "set1= {'Elephant','Monkey','Cat', 'Dog','Lion', 'Deer'}\n",
        "print(set1)\n",
        "set1.remove('Horse')\n",
        "print(set1)"
      ],
      "metadata": {
        "colab": {
          "base_uri": "https://localhost:8080/",
          "height": 216
        },
        "id": "FHWtCFat0JRc",
        "outputId": "53968b6c-381a-4d7f-a6d7-cf1be4fd84eb"
      },
      "execution_count": null,
      "outputs": [
        {
          "output_type": "stream",
          "name": "stdout",
          "text": [
            "{'Elephant', 'Cat', 'Dog', 'Deer', 'Monkey', 'Lion'}\n"
          ]
        },
        {
          "output_type": "error",
          "ename": "KeyError",
          "evalue": "'Horse'",
          "traceback": [
            "\u001b[0;31m---------------------------------------------------------------------------\u001b[0m",
            "\u001b[0;31mKeyError\u001b[0m                                  Traceback (most recent call last)",
            "\u001b[0;32m<ipython-input-6-c9a9ba2bddb1>\u001b[0m in \u001b[0;36m<cell line: 3>\u001b[0;34m()\u001b[0m\n\u001b[1;32m      1\u001b[0m \u001b[0mset1\u001b[0m\u001b[0;34m=\u001b[0m \u001b[0;34m{\u001b[0m\u001b[0;34m'Elephant'\u001b[0m\u001b[0;34m,\u001b[0m\u001b[0;34m'Monkey'\u001b[0m\u001b[0;34m,\u001b[0m\u001b[0;34m'Cat'\u001b[0m\u001b[0;34m,\u001b[0m \u001b[0;34m'Dog'\u001b[0m\u001b[0;34m,\u001b[0m\u001b[0;34m'Lion'\u001b[0m\u001b[0;34m,\u001b[0m \u001b[0;34m'Deer'\u001b[0m\u001b[0;34m}\u001b[0m\u001b[0;34m\u001b[0m\u001b[0;34m\u001b[0m\u001b[0m\n\u001b[1;32m      2\u001b[0m \u001b[0mprint\u001b[0m\u001b[0;34m(\u001b[0m\u001b[0mset1\u001b[0m\u001b[0;34m)\u001b[0m\u001b[0;34m\u001b[0m\u001b[0;34m\u001b[0m\u001b[0m\n\u001b[0;32m----> 3\u001b[0;31m \u001b[0mset1\u001b[0m\u001b[0;34m.\u001b[0m\u001b[0mremove\u001b[0m\u001b[0;34m(\u001b[0m\u001b[0;34m'Horse'\u001b[0m\u001b[0;34m)\u001b[0m\u001b[0;34m\u001b[0m\u001b[0;34m\u001b[0m\u001b[0m\n\u001b[0m\u001b[1;32m      4\u001b[0m \u001b[0mprint\u001b[0m\u001b[0;34m(\u001b[0m\u001b[0mset1\u001b[0m\u001b[0;34m)\u001b[0m\u001b[0;34m\u001b[0m\u001b[0;34m\u001b[0m\u001b[0m\n",
            "\u001b[0;31mKeyError\u001b[0m: 'Horse'"
          ]
        }
      ]
    },
    {
      "cell_type": "code",
      "source": [
        "set1= {'Elephant','Monkey','Cat', 'Dog','Lion', 'Deer'}\n",
        "print(set1)\n",
        "set1.discard('Deer')\n",
        "print(set1)"
      ],
      "metadata": {
        "colab": {
          "base_uri": "https://localhost:8080/"
        },
        "id": "dqGRURKI1emq",
        "outputId": "287386b2-73a6-4cc3-8361-969f1677297f"
      },
      "execution_count": null,
      "outputs": [
        {
          "output_type": "stream",
          "name": "stdout",
          "text": [
            "{'Elephant', 'Cat', 'Dog', 'Deer', 'Monkey', 'Lion'}\n",
            "{'Elephant', 'Cat', 'Dog', 'Monkey', 'Lion'}\n"
          ]
        }
      ]
    },
    {
      "cell_type": "code",
      "source": [
        "set1= {'Elephant','Monkey','Cat', 'Dog','Lion', 'Deer'}\n",
        "print(set1)\n",
        "set1.discard('Tiger')\n",
        "print(set1)"
      ],
      "metadata": {
        "colab": {
          "base_uri": "https://localhost:8080/"
        },
        "id": "ionyZJyC1lgg",
        "outputId": "e5ea483d-c0bc-4b50-c345-f8e201319824"
      },
      "execution_count": null,
      "outputs": [
        {
          "output_type": "stream",
          "name": "stdout",
          "text": [
            "{'Elephant', 'Cat', 'Dog', 'Deer', 'Monkey', 'Lion'}\n",
            "{'Elephant', 'Cat', 'Dog', 'Deer', 'Monkey', 'Lion'}\n"
          ]
        }
      ]
    },
    {
      "cell_type": "code",
      "source": [
        "set1= {'Elephant','Monkey','Cat', 'Dog','Lion', 'Deer'}\n",
        "print(set1)\n",
        "set1.pop()\n",
        "print(set1)"
      ],
      "metadata": {
        "colab": {
          "base_uri": "https://localhost:8080/"
        },
        "id": "404JFjcG1q4s",
        "outputId": "29f3e847-3b80-45d1-fea5-b5d4b7f94bc3"
      },
      "execution_count": null,
      "outputs": [
        {
          "output_type": "stream",
          "name": "stdout",
          "text": [
            "{'Elephant', 'Cat', 'Dog', 'Deer', 'Monkey', 'Lion'}\n",
            "{'Cat', 'Dog', 'Deer', 'Monkey', 'Lion'}\n"
          ]
        }
      ]
    },
    {
      "cell_type": "code",
      "source": [
        "set1= {'Elephant','Monkey','Cat', 'Dog','Lion', 'Deer'}\n",
        "print(set1)\n",
        "set1.update({'Fish', 'Whale', 'Tortoise'})\n",
        "print(set1)"
      ],
      "metadata": {
        "colab": {
          "base_uri": "https://localhost:8080/"
        },
        "id": "_mqO5cCA3BLr",
        "outputId": "0808de97-a0cb-4ee8-b9f7-13919cb41048"
      },
      "execution_count": null,
      "outputs": [
        {
          "output_type": "stream",
          "name": "stdout",
          "text": [
            "{'Elephant', 'Cat', 'Dog', 'Deer', 'Monkey', 'Lion'}\n",
            "{'Elephant', 'Cat', 'Whale', 'Deer', 'Fish', 'Monkey', 'Dog', 'Tortoise', 'Lion'}\n"
          ]
        }
      ]
    },
    {
      "cell_type": "code",
      "source": [
        "set1= {'Elephant','Monkey','Cat', 'Dog','Lion', 'Deer'}\n",
        "print(set1)\n",
        "set1.update({'Fish', 'Whale', 'Deer','Tortoise','Cat'})\n",
        "print(set1)"
      ],
      "metadata": {
        "colab": {
          "base_uri": "https://localhost:8080/"
        },
        "id": "itf1zAkx8iNk",
        "outputId": "032bf2c5-e5ca-4b49-857d-8fe8405616ad"
      },
      "execution_count": null,
      "outputs": [
        {
          "output_type": "stream",
          "name": "stdout",
          "text": [
            "{'Elephant', 'Cat', 'Dog', 'Deer', 'Monkey', 'Lion'}\n",
            "{'Elephant', 'Cat', 'Whale', 'Deer', 'Fish', 'Monkey', 'Dog', 'Tortoise', 'Lion'}\n"
          ]
        }
      ]
    },
    {
      "cell_type": "code",
      "source": [
        "set1= {'Elephant','Monkey','Cat', 'Dog','Lion', 'Deer'}\n",
        "print(set1)\n",
        "set1.update(('Fish', 'Whale', 'Tortoise'))\n",
        "print(set1)"
      ],
      "metadata": {
        "colab": {
          "base_uri": "https://localhost:8080/"
        },
        "id": "9nwDZLD54hNV",
        "outputId": "768cc3c1-bcb3-4022-c7af-ba51276b324e"
      },
      "execution_count": null,
      "outputs": [
        {
          "output_type": "stream",
          "name": "stdout",
          "text": [
            "{'Elephant', 'Cat', 'Dog', 'Deer', 'Monkey', 'Lion'}\n",
            "{'Cat', 'Fish', 'Tortoise', 'Elephant', 'Whale', 'Deer', 'Monkey', 'Dog', 'Lion'}\n"
          ]
        }
      ]
    },
    {
      "cell_type": "code",
      "source": [
        "set1= {'Elephant','Monkey','Cat', ('Fish', 'Whale', 'Tortoise'),'Dog','Lion', 'Deer'}\n",
        "print(set1)"
      ],
      "metadata": {
        "colab": {
          "base_uri": "https://localhost:8080/"
        },
        "id": "dXx1IMWI6ojS",
        "outputId": "f836ebe5-2d53-4699-adb8-b47bfc2ad355"
      },
      "execution_count": null,
      "outputs": [
        {
          "output_type": "stream",
          "name": "stdout",
          "text": [
            "{'Elephant', 'Cat', 'Dog', 'Deer', ('Fish', 'Whale', 'Tortoise'), 'Monkey', 'Lion'}\n"
          ]
        }
      ]
    },
    {
      "cell_type": "code",
      "source": [
        "set1= {'Elephant','elephant','Monkey','monkey','Cat','cat', 'Dog','dog','Lion','lion', 'Deer','deer'}\n",
        "print(set1)\n",
        "set1"
      ],
      "metadata": {
        "colab": {
          "base_uri": "https://localhost:8080/"
        },
        "id": "yVtoyGzW5vLi",
        "outputId": "ac7d899b-cadc-40d9-cc7f-572247c7151c"
      },
      "execution_count": null,
      "outputs": [
        {
          "output_type": "stream",
          "name": "stdout",
          "text": [
            "{'Elephant', 'Cat', 'cat', 'lion', 'Deer', 'elephant', 'Monkey', 'deer', 'Dog', 'monkey', 'dog', 'Lion'}\n"
          ]
        },
        {
          "output_type": "execute_result",
          "data": {
            "text/plain": [
              "{'Cat',\n",
              " 'Deer',\n",
              " 'Dog',\n",
              " 'Elephant',\n",
              " 'Lion',\n",
              " 'Monkey',\n",
              " 'cat',\n",
              " 'deer',\n",
              " 'dog',\n",
              " 'elephant',\n",
              " 'lion',\n",
              " 'monkey'}"
            ]
          },
          "metadata": {},
          "execution_count": 15
        }
      ]
    },
    {
      "cell_type": "code",
      "source": [
        "set1 = {'Elephant','Monkey',['Fish', 'Whale', 'Tortoise'],'Cat', 'Dog','Lion', 'Deer'}\n",
        "print(set1)"
      ],
      "metadata": {
        "colab": {
          "base_uri": "https://localhost:8080/",
          "height": 162
        },
        "id": "5R4IBDVq0C_m",
        "outputId": "563408d8-de31-41d9-c2ba-c640aa61df55"
      },
      "execution_count": null,
      "outputs": [
        {
          "output_type": "error",
          "ename": "TypeError",
          "evalue": "unhashable type: 'list'",
          "traceback": [
            "\u001b[0;31m---------------------------------------------------------------------------\u001b[0m",
            "\u001b[0;31mTypeError\u001b[0m                                 Traceback (most recent call last)",
            "\u001b[0;32m<ipython-input-12-13c7eaa576e0>\u001b[0m in \u001b[0;36m<cell line: 1>\u001b[0;34m()\u001b[0m\n\u001b[0;32m----> 1\u001b[0;31m \u001b[0mset1\u001b[0m \u001b[0;34m=\u001b[0m \u001b[0;34m{\u001b[0m\u001b[0;34m'Elephant'\u001b[0m\u001b[0;34m,\u001b[0m\u001b[0;34m'Monkey'\u001b[0m\u001b[0;34m,\u001b[0m\u001b[0;34m[\u001b[0m\u001b[0;34m'Fish'\u001b[0m\u001b[0;34m,\u001b[0m \u001b[0;34m'Whale'\u001b[0m\u001b[0;34m,\u001b[0m \u001b[0;34m'Tortoise'\u001b[0m\u001b[0;34m]\u001b[0m\u001b[0;34m,\u001b[0m\u001b[0;34m'Cat'\u001b[0m\u001b[0;34m,\u001b[0m \u001b[0;34m'Dog'\u001b[0m\u001b[0;34m,\u001b[0m\u001b[0;34m'Lion'\u001b[0m\u001b[0;34m,\u001b[0m \u001b[0;34m'Deer'\u001b[0m\u001b[0;34m}\u001b[0m\u001b[0;34m\u001b[0m\u001b[0;34m\u001b[0m\u001b[0m\n\u001b[0m\u001b[1;32m      2\u001b[0m \u001b[0mprint\u001b[0m\u001b[0;34m(\u001b[0m\u001b[0mset1\u001b[0m\u001b[0;34m)\u001b[0m\u001b[0;34m\u001b[0m\u001b[0;34m\u001b[0m\u001b[0m\n",
            "\u001b[0;31mTypeError\u001b[0m: unhashable type: 'list'"
          ]
        }
      ]
    },
    {
      "cell_type": "code",
      "source": [
        "set1 = {'Elephant','Monkey','Cat','Fish', 'Whale', 'Tortoise','Dog','Lion', 'Deer'}\n",
        "set2 = {'Cat', 'Tiger', 'Monkey','Fish', 'Crocodile', 'Donkey', 'Lion'}\n",
        "set1.union(set2)"
      ],
      "metadata": {
        "colab": {
          "base_uri": "https://localhost:8080/"
        },
        "id": "PCuzof2VCZS-",
        "outputId": "34716eb3-ca22-40b1-f13e-b7153783c80d"
      },
      "execution_count": null,
      "outputs": [
        {
          "output_type": "execute_result",
          "data": {
            "text/plain": [
              "{'Cat',\n",
              " 'Crocodile',\n",
              " 'Deer',\n",
              " 'Dog',\n",
              " 'Donkey',\n",
              " 'Elephant',\n",
              " 'Fish',\n",
              " 'Lion',\n",
              " 'Monkey',\n",
              " 'Tiger',\n",
              " 'Tortoise',\n",
              " 'Whale'}"
            ]
          },
          "metadata": {},
          "execution_count": 18
        }
      ]
    },
    {
      "cell_type": "code",
      "source": [
        "set1 | set2"
      ],
      "metadata": {
        "colab": {
          "base_uri": "https://localhost:8080/"
        },
        "id": "ArFtHKTnCu0o",
        "outputId": "94f11bff-a91e-4509-d948-ec3ebb05e90f"
      },
      "execution_count": null,
      "outputs": [
        {
          "output_type": "execute_result",
          "data": {
            "text/plain": [
              "{'Cat',\n",
              " 'Crocodile',\n",
              " 'Deer',\n",
              " 'Dog',\n",
              " 'Donkey',\n",
              " 'Elephant',\n",
              " 'Fish',\n",
              " 'Lion',\n",
              " 'Monkey',\n",
              " 'Tiger',\n",
              " 'Tortoise',\n",
              " 'Whale'}"
            ]
          },
          "metadata": {},
          "execution_count": 19
        }
      ]
    },
    {
      "cell_type": "code",
      "source": [
        "set1 = {'Elephant','Monkey','Cat','Fish', 'Whale', 'Tortoise','Dog','Lion', 'Deer'}\n",
        "set2 = {'Cat', 'Tiger', 'Monkey','Fish', 'Crocodile', 'Donkey', 'Lion'}\n",
        "set3 = {'Gorilla', 'Giraffe', 'Monkey','Snake', 'Cat'}\n",
        "set1.union(set2,set3)"
      ],
      "metadata": {
        "colab": {
          "base_uri": "https://localhost:8080/"
        },
        "id": "8esdMIzoE_yl",
        "outputId": "d736c055-be07-40f2-d789-1dc1ddaf4de5"
      },
      "execution_count": null,
      "outputs": [
        {
          "output_type": "execute_result",
          "data": {
            "text/plain": [
              "{'Cat',\n",
              " 'Crocodile',\n",
              " 'Deer',\n",
              " 'Dog',\n",
              " 'Donkey',\n",
              " 'Elephant',\n",
              " 'Fish',\n",
              " 'Giraffe',\n",
              " 'Gorilla',\n",
              " 'Lion',\n",
              " 'Monkey',\n",
              " 'Snake',\n",
              " 'Tiger',\n",
              " 'Tortoise',\n",
              " 'Whale'}"
            ]
          },
          "metadata": {},
          "execution_count": 24
        }
      ]
    },
    {
      "cell_type": "code",
      "source": [
        "set1 | set2 | set3"
      ],
      "metadata": {
        "id": "5aotfdT2FmXT"
      },
      "execution_count": null,
      "outputs": []
    },
    {
      "cell_type": "code",
      "source": [
        "set1 = {'Elephant','Monkey','Cat','Fish', 'Whale', 'Tortoise','Dog','Lion', 'Deer'}\n",
        "set2 = {'Cat', 'Tiger', 'Monkey','Fish', 'Crocodile', 'Donkey', 'Lion'}\n",
        "set1.intersection(set2)"
      ],
      "metadata": {
        "colab": {
          "base_uri": "https://localhost:8080/"
        },
        "id": "l6aalbs3DB7a",
        "outputId": "c3b82af1-880b-4963-ed74-112495ae47c9"
      },
      "execution_count": null,
      "outputs": [
        {
          "output_type": "execute_result",
          "data": {
            "text/plain": [
              "{'Cat', 'Fish', 'Lion', 'Monkey'}"
            ]
          },
          "metadata": {},
          "execution_count": 20
        }
      ]
    },
    {
      "cell_type": "code",
      "source": [
        "set1 & set2"
      ],
      "metadata": {
        "colab": {
          "base_uri": "https://localhost:8080/"
        },
        "id": "AoJoknZEEH7n",
        "outputId": "3a5d56d6-ff22-4377-81cb-9cf64db7b9fb"
      },
      "execution_count": null,
      "outputs": [
        {
          "output_type": "execute_result",
          "data": {
            "text/plain": [
              "{'Cat', 'Fish', 'Lion', 'Monkey'}"
            ]
          },
          "metadata": {},
          "execution_count": 21
        }
      ]
    },
    {
      "cell_type": "code",
      "source": [
        "set1 = {'Elephant','Monkey','Cat','Fish', 'Whale', 'Tortoise','Dog','Lion', 'Deer'}\n",
        "set2 = {'Cat', 'Tiger', 'Monkey','Fish', 'Crocodile', 'Donkey', 'Lion'}\n",
        "set3 = {'Gorilla', 'Giraffe', 'Monkey','Snake', 'Cat'}\n",
        "set1.intersection(set2,set3)"
      ],
      "metadata": {
        "colab": {
          "base_uri": "https://localhost:8080/"
        },
        "id": "Or-SKK8OEn9_",
        "outputId": "df8b2fdb-c296-4eb4-c343-d3a7a3807d4c"
      },
      "execution_count": null,
      "outputs": [
        {
          "output_type": "execute_result",
          "data": {
            "text/plain": [
              "{'Cat', 'Monkey'}"
            ]
          },
          "metadata": {},
          "execution_count": 26
        }
      ]
    },
    {
      "cell_type": "code",
      "source": [
        "set1 & set2 & set3"
      ],
      "metadata": {
        "colab": {
          "base_uri": "https://localhost:8080/"
        },
        "id": "_mnYtWhYFvPV",
        "outputId": "f6a59786-742a-4f4e-cc32-886b7b58cb6f"
      },
      "execution_count": null,
      "outputs": [
        {
          "output_type": "execute_result",
          "data": {
            "text/plain": [
              "{'Cat', 'Monkey'}"
            ]
          },
          "metadata": {},
          "execution_count": 27
        }
      ]
    },
    {
      "cell_type": "code",
      "source": [
        "set1 = {'Elephant','Monkey','Cat','Fish', 'Whale', 'Tortoise','Dog','Lion', 'Deer'}\n",
        "set2 = {'Cat', 'Tiger', 'Monkey','Fish', 'Crocodile', 'Donkey', 'Lion'}\n",
        "set1.difference(set2)"
      ],
      "metadata": {
        "colab": {
          "base_uri": "https://localhost:8080/"
        },
        "id": "BRfNQeIDFyzh",
        "outputId": "8ee90b3c-b19d-4956-9ae2-c5954158819c"
      },
      "execution_count": null,
      "outputs": [
        {
          "output_type": "execute_result",
          "data": {
            "text/plain": [
              "{'Deer', 'Dog', 'Elephant', 'Tortoise', 'Whale'}"
            ]
          },
          "metadata": {},
          "execution_count": 29
        }
      ]
    },
    {
      "cell_type": "code",
      "source": [
        "set1 - set2"
      ],
      "metadata": {
        "colab": {
          "base_uri": "https://localhost:8080/"
        },
        "id": "nBcc4t5rG2WC",
        "outputId": "4d1d8f07-f12f-4aac-e423-631c9fb51e22"
      },
      "execution_count": null,
      "outputs": [
        {
          "output_type": "execute_result",
          "data": {
            "text/plain": [
              "{'Deer', 'Dog', 'Elephant', 'Tortoise', 'Whale'}"
            ]
          },
          "metadata": {},
          "execution_count": 30
        }
      ]
    },
    {
      "cell_type": "code",
      "source": [
        "set2 - set1"
      ],
      "metadata": {
        "colab": {
          "base_uri": "https://localhost:8080/"
        },
        "id": "ta8fmrj8HP9_",
        "outputId": "b3a1eba1-1ac6-48a5-c9fd-cf1383ba6041"
      },
      "execution_count": null,
      "outputs": [
        {
          "output_type": "execute_result",
          "data": {
            "text/plain": [
              "{'Crocodile', 'Donkey', 'Tiger'}"
            ]
          },
          "metadata": {},
          "execution_count": 31
        }
      ]
    },
    {
      "cell_type": "code",
      "source": [
        "set1 = {'Elephant','Monkey','Cat','Fish', 'Whale', 'Tortoise','Dog','Lion', 'Deer'}\n",
        "set2 = {'Cat', 'Tiger', 'Monkey','Fish', 'Crocodile', 'Donkey', 'Lion'}\n",
        "set3 = {'Gorilla', 'Giraffe', 'Monkey','Snake', 'Cat'}\n",
        "set1.symmetric_difference(set2)"
      ],
      "metadata": {
        "colab": {
          "base_uri": "https://localhost:8080/"
        },
        "id": "ZGm4gyf5II3J",
        "outputId": "5f38b7ca-bbef-491d-be0e-ccfef5dfecda"
      },
      "execution_count": null,
      "outputs": [
        {
          "output_type": "execute_result",
          "data": {
            "text/plain": [
              "{'Crocodile',\n",
              " 'Deer',\n",
              " 'Dog',\n",
              " 'Donkey',\n",
              " 'Elephant',\n",
              " 'Tiger',\n",
              " 'Tortoise',\n",
              " 'Whale'}"
            ]
          },
          "metadata": {},
          "execution_count": 32
        }
      ]
    },
    {
      "cell_type": "code",
      "source": [
        "set1 = {'Elephant','Monkey','Cat','Fish', 'Whale', 'Tortoise','Dog','Lion', 'Deer'}\n",
        "set2 = {'Cat', 'Tiger', 'Monkey','Fish', 'Crocodile', 'Donkey', 'Lion'}\n",
        "set3 = {'Gorilla', 'Giraffe', 'Monkey','Snake', 'Cat', 'Tiger', 'Whale', 'Dog'}\n",
        "print('set1^set2', set1.symmetric_difference(set2))\n",
        "print('set3',set3)\n",
        "print('set1^set2^set3',set1.symmetric_difference(set2).symmetric_difference(set3))"
      ],
      "metadata": {
        "colab": {
          "base_uri": "https://localhost:8080/"
        },
        "id": "SUOyOC4LIcZp",
        "outputId": "cf029db7-6a6f-42f3-dc5a-884c218267ce"
      },
      "execution_count": null,
      "outputs": [
        {
          "output_type": "stream",
          "name": "stdout",
          "text": [
            "set1^set2 {'Crocodile', 'Tortoise', 'Tiger', 'Donkey', 'Elephant', 'Whale', 'Deer', 'Dog'}\n",
            "set3 {'Cat', 'Whale', 'Snake', 'Monkey', 'Gorilla', 'Giraffe', 'Dog', 'Tiger'}\n",
            "set1^set2^set3 {'Elephant', 'Cat', 'Crocodile', 'Deer', 'Snake', 'Monkey', 'Gorilla', 'Giraffe', 'Tortoise', 'Donkey'}\n"
          ]
        }
      ]
    },
    {
      "cell_type": "markdown",
      "source": [
        "Symmetric Difference will always consider only 2 sets at a time.\n",
        "\n",
        "For example, we have 5 sets : Set1, Set2, Set3, Set4, Set5\n",
        "\n",
        "So this is how it will calculate response for the command below:\n",
        "\n",
        "Set1^Set2^Set3^Set4^Set5\n",
        "\n",
        "- First it will find symm diff of set1 & set2 only. Save this response in a.\n",
        "- In second iteration it will do symm diff a & set3, save this response in b.\n",
        "- In third iteration, it will symm diff b & set4, save this response in c.\n",
        "- In final iteration, it will symm diff c & set5.\n",
        "That will be final response."
      ],
      "metadata": {
        "id": "dU-yVFs_L5x0"
      }
    },
    {
      "cell_type": "code",
      "source": [
        "set1 ^ set2"
      ],
      "metadata": {
        "colab": {
          "base_uri": "https://localhost:8080/"
        },
        "id": "SPIoBu6_Itg2",
        "outputId": "10b4b329-2741-4b34-c6e6-9a66fafc66e1"
      },
      "execution_count": null,
      "outputs": [
        {
          "output_type": "execute_result",
          "data": {
            "text/plain": [
              "{'Crocodile',\n",
              " 'Deer',\n",
              " 'Dog',\n",
              " 'Donkey',\n",
              " 'Elephant',\n",
              " 'Tiger',\n",
              " 'Tortoise',\n",
              " 'Whale'}"
            ]
          },
          "metadata": {},
          "execution_count": 35
        }
      ]
    },
    {
      "cell_type": "code",
      "source": [
        "set1 = {'Apple', 'Mango', 'Banana', 'Chickoo', 'Muskmelon'}\n",
        "set2 = {'Mango', 'Grapes', 'Plum', 'Apple', 'Watermelon'}\n",
        "print('______________________Before Intersection Update______________________')\n",
        "print('Set1:', set1)\n",
        "print('Set2:', set2)\n",
        "print('__________________________________________________________________')\n",
        "print('                                                                  ')\n",
        "print('Output of set1.intersection(set2) :', set1.intersection(set2))\n",
        "print(\"\\n\")\n",
        "set1.intersection_update(set2)\n",
        "print('                                                                  ')\n",
        "print('______________________After Intersection Update______________________')\n",
        "print('Set1:', set1)\n",
        "print('Set2:', set2)"
      ],
      "metadata": {
        "colab": {
          "base_uri": "https://localhost:8080/"
        },
        "id": "yvnEZG6FQWDl",
        "outputId": "03d0907c-72eb-4a02-ba7d-41a9796ca771"
      },
      "execution_count": 3,
      "outputs": [
        {
          "output_type": "stream",
          "name": "stdout",
          "text": [
            "______________________Before Intersection Update______________________\n",
            "Set1: {'Banana', 'Muskmelon', 'Apple', 'Chickoo', 'Mango'}\n",
            "Set2: {'Grapes', 'Plum', 'Apple', 'Watermelon', 'Mango'}\n",
            "__________________________________________________________________\n",
            "                                                                  \n",
            "Output of set1.intersection(set2) : {'Apple', 'Mango'}\n",
            "\n",
            "\n",
            "                                                                  \n",
            "______________________After Intersection Update______________________\n",
            "Set1: {'Apple', 'Mango'}\n",
            "Set2: {'Grapes', 'Plum', 'Apple', 'Watermelon', 'Mango'}\n"
          ]
        }
      ]
    },
    {
      "cell_type": "code",
      "source": [
        "set1 = {'Apple', 'Mango', 'Banana', 'Chickoo', 'Muskmelon'}\n",
        "set2 = {'Mango', 'Grapes', 'Plum', 'Apple', 'Watermelon'}\n",
        "print('______________________Before Intersection Update______________________')\n",
        "print('Set1', set1)\n",
        "print('Set2', set2)\n",
        "print('__________________________________________________________________')\n",
        "print('                                                                  ')\n",
        "print('Output of Intersection', set2.intersection(set1))\n",
        "set2.intersection_update(set1)\n",
        "print('                                                                  ')\n",
        "print('______________________After Intersection Update______________________')\n",
        "print('Set1', set1)\n",
        "print('Set2', set2)"
      ],
      "metadata": {
        "colab": {
          "base_uri": "https://localhost:8080/"
        },
        "id": "XWjQQqtxUHqo",
        "outputId": "efb4626e-0df9-4ce2-da65-a28afcd35bb4"
      },
      "execution_count": null,
      "outputs": [
        {
          "output_type": "stream",
          "name": "stdout",
          "text": [
            "Set1 before intersection update {'Apple', 'Chickoo', 'Banana', 'Mango', 'Muskmelon'}\n",
            "Set2 before intersection update {'Watermelon', 'Apple', 'Grapes', 'Plum', 'Mango'}\n",
            "Output of Intersection {'Apple', 'Mango'}\n",
            "----------------------------------\n",
            "Set1 after intersection update {'Apple', 'Chickoo', 'Banana', 'Mango', 'Muskmelon'}\n",
            "Set2 after intersection update {'Apple', 'Mango'}\n"
          ]
        }
      ]
    },
    {
      "cell_type": "code",
      "source": [
        "set1 = {'Apple', 'Mango', 'Banana', 'Chickoo', 'Muskmelon'}\n",
        "set2 = {'Mango', 'Grapes', 'Plum', 'Apple', 'Watermelon'}\n",
        "print('______________________Before Difference Update______________________')\n",
        "print('Set1: ', set1)\n",
        "print('Set2: ', set2)\n",
        "print('__________________________________________________________________')\n",
        "print('                                                                  ')\n",
        "print('Output of set1.difference(set2)', set1.difference(set2))\n",
        "set1.difference_update(set2)\n",
        "print('                                                                  ')\n",
        "print('______________________After Difference Update______________________')\n",
        "print('Set1: ', set1)\n",
        "print('Set2: ', set2)"
      ],
      "metadata": {
        "colab": {
          "base_uri": "https://localhost:8080/"
        },
        "id": "4uGmmybgTQF5",
        "outputId": "50d48968-64cb-436f-f2a3-33882afb1966"
      },
      "execution_count": 4,
      "outputs": [
        {
          "output_type": "stream",
          "name": "stdout",
          "text": [
            "______________________Before Difference Update______________________\n",
            "Set1:  {'Banana', 'Muskmelon', 'Apple', 'Chickoo', 'Mango'}\n",
            "Set2:  {'Grapes', 'Plum', 'Apple', 'Watermelon', 'Mango'}\n",
            "__________________________________________________________________\n",
            "                                                                  \n",
            "Output of set1.difference(set2) {'Muskmelon', 'Chickoo', 'Banana'}\n",
            "                                                                  \n",
            "______________________After Difference Update______________________\n",
            "Set1:  {'Banana', 'Muskmelon', 'Chickoo'}\n",
            "Set2:  {'Grapes', 'Plum', 'Apple', 'Watermelon', 'Mango'}\n"
          ]
        }
      ]
    },
    {
      "cell_type": "code",
      "source": [
        "set1 = {'Apple', 'Mango', 'Banana', 'Chickoo', 'Muskmelon'}\n",
        "set2 = {'Mango', 'Grapes', 'Plum', 'Apple', 'Watermelon'}\n",
        "print('______________________Before Difference Update______________________')\n",
        "print('Set1: ', set1)\n",
        "print('Set2: ', set2)\n",
        "print('__________________________________________________________________')\n",
        "print('                                                                  ')\n",
        "print('Output of set2.difference(set1) :', set2.difference(set1))\n",
        "set2.difference_update(set1)\n",
        "print('                                                                  ')\n",
        "print('______________________After Difference Update______________________')\n",
        "print('Set1: ', set1)\n",
        "print('Set2: ', set2)"
      ],
      "metadata": {
        "colab": {
          "base_uri": "https://localhost:8080/"
        },
        "id": "R8avmNwlW0VM",
        "outputId": "76942e12-b4cb-4241-f6b5-65d5d84773e0"
      },
      "execution_count": 5,
      "outputs": [
        {
          "output_type": "stream",
          "name": "stdout",
          "text": [
            "______________________Before Difference Update______________________\n",
            "Set1:  {'Banana', 'Muskmelon', 'Apple', 'Chickoo', 'Mango'}\n",
            "Set2:  {'Grapes', 'Plum', 'Apple', 'Watermelon', 'Mango'}\n",
            "__________________________________________________________________\n",
            "                                                                  \n",
            "Output of set2.difference(set1) : {'Watermelon', 'Grapes', 'Plum'}\n",
            "                                                                  \n",
            "______________________After Difference Update______________________\n",
            "Set1:  {'Banana', 'Muskmelon', 'Apple', 'Chickoo', 'Mango'}\n",
            "Set2:  {'Grapes', 'Plum', 'Watermelon'}\n"
          ]
        }
      ]
    },
    {
      "cell_type": "code",
      "source": [
        "set1 = {'Apple', 'Mango', 'Banana', 'Chickoo', 'Muskmelon'}\n",
        "set2 = {'Mango', 'Grapes', 'Plum', 'Apple', 'Watermelon'}\n",
        "print('______________________Before Symmetric Difference Update______________________')\n",
        "print('Set1: ', set1)\n",
        "print('Set2: ', set2)\n",
        "print('__________________________________________________________________')\n",
        "print('                                                                  ')\n",
        "print('Output of set1.symmetric_difference(set2) :', set1.symmetric_difference(set2))\n",
        "set1.symmetric_difference_update(set2)\n",
        "print('                                                                  ')\n",
        "print('______________________After Symmetric Difference Update______________________')\n",
        "print('Set1: ', set1)\n",
        "print('Set2: ', set2)"
      ],
      "metadata": {
        "colab": {
          "base_uri": "https://localhost:8080/"
        },
        "id": "RVT_Ed-nTQJq",
        "outputId": "3a8a965c-c77b-426e-de20-280ee776e2a3"
      },
      "execution_count": 6,
      "outputs": [
        {
          "output_type": "stream",
          "name": "stdout",
          "text": [
            "______________________Before Symmetric Difference Update______________________\n",
            "Set1:  {'Banana', 'Muskmelon', 'Apple', 'Chickoo', 'Mango'}\n",
            "Set2:  {'Grapes', 'Plum', 'Apple', 'Watermelon', 'Mango'}\n",
            "__________________________________________________________________\n",
            "                                                                  \n",
            "Output of set1.symmetric_difference(set2) : {'Banana', 'Grapes', 'Plum', 'Muskmelon', 'Watermelon', 'Chickoo'}\n",
            "                                                                  \n",
            "______________________After Symmetric Difference Update______________________\n",
            "Set1:  {'Banana', 'Grapes', 'Plum', 'Muskmelon', 'Watermelon', 'Chickoo'}\n",
            "Set2:  {'Grapes', 'Plum', 'Apple', 'Watermelon', 'Mango'}\n"
          ]
        }
      ]
    },
    {
      "cell_type": "code",
      "source": [
        "set1 = {'Apple', 'Mango', 'Banana', 'Chickoo', 'Muskmelon'}\n",
        "set2 = {'Mango', 'Grapes', 'Plum', 'Apple', 'Watermelon'}\n",
        "print('______________________Before Symmetric Difference Update______________________')\n",
        "print('Set1', set1)\n",
        "print('Set2', set2)\n",
        "print('__________________________________________________________________')\n",
        "print('                                                                  ')\n",
        "print('Output of Symmetric Difference: ', set2.symmetric_difference(set1))\n",
        "set2.symmetric_difference_update(set1)\n",
        "print('\\n')\n",
        "print('______________________After Symmetric Difference Update______________________')\n",
        "print('Set1', set1)\n",
        "print('Set2', set2)"
      ],
      "metadata": {
        "colab": {
          "base_uri": "https://localhost:8080/"
        },
        "id": "zgRdZnZ5Ynz-",
        "outputId": "019fea53-2754-4a7b-a49e-05dbe53d57de"
      },
      "execution_count": 23,
      "outputs": [
        {
          "output_type": "stream",
          "name": "stdout",
          "text": [
            "______________________Before Symmetric Difference Update______________________\n",
            "Set1 {'Banana', 'Muskmelon', 'Apple', 'Chickoo', 'Mango'}\n",
            "Set2 {'Grapes', 'Plum', 'Apple', 'Watermelon', 'Mango'}\n",
            "__________________________________________________________________\n",
            "                                                                  \n",
            "Output of Symmetric Difference:  {'Banana', 'Grapes', 'Plum', 'Muskmelon', 'Watermelon', 'Chickoo'}\n",
            "\n",
            "\n",
            "______________________After Symmetric Difference Update______________________\n",
            "Set1 {'Banana', 'Muskmelon', 'Apple', 'Chickoo', 'Mango'}\n",
            "Set2 {'Banana', 'Grapes', 'Plum', 'Muskmelon', 'Watermelon', 'Chickoo'}\n"
          ]
        }
      ]
    },
    {
      "cell_type": "code",
      "source": [
        "# Apply ^= operator for symmetric_difference_update\n",
        "set1 = {'Apple', 'Mango', 'Banana', 'Chickoo', 'Muskmelon'}\n",
        "set2 = {'Mango', 'Grapes', 'Plum', 'Apple', 'Watermelon'}\n",
        "print('set1 before symmetric_difference_update :',set1)\n",
        "print('set2 before symmetric_difference_update :',set2)\n",
        "print('\\n')\n",
        "print('Output of set1 ^ set2 : ', set1 ^ set2)\n",
        "set1 ^= set2\n",
        "print('\\n')\n",
        "print('set1 after symmetric_difference_update :',set1)\n",
        "print('set2 after symmetric_difference_update :',set2)"
      ],
      "metadata": {
        "id": "-J5hREGxEx2L",
        "colab": {
          "base_uri": "https://localhost:8080/"
        },
        "outputId": "6a7cc0e0-4fde-4349-b16e-ab9d482b3458"
      },
      "execution_count": 24,
      "outputs": [
        {
          "output_type": "stream",
          "name": "stdout",
          "text": [
            "set1 before symmetric_difference_update : {'Banana', 'Muskmelon', 'Apple', 'Chickoo', 'Mango'}\n",
            "set2 before symmetric_difference_update : {'Grapes', 'Plum', 'Apple', 'Watermelon', 'Mango'}\n",
            "\n",
            "\n",
            "Output of set1 ^ set2 :  {'Banana', 'Grapes', 'Plum', 'Muskmelon', 'Watermelon', 'Chickoo'}\n",
            "\n",
            "\n",
            "set1 after symmetric_difference_update : {'Banana', 'Grapes', 'Plum', 'Muskmelon', 'Watermelon', 'Chickoo'}\n",
            "set2 after symmetric_difference_update : {'Grapes', 'Plum', 'Apple', 'Watermelon', 'Mango'}\n"
          ]
        }
      ]
    },
    {
      "cell_type": "code",
      "source": [
        "# Apply -= operator for difference_update\n",
        "set1 = {'Apple', 'Mango', 'Banana', 'Chickoo', 'Muskmelon'}\n",
        "set2 = {'Mango', 'Grapes', 'Plum', 'Apple', 'Watermelon'}\n",
        "print('set1 before difference_update :',set1)\n",
        "print('set2 before difference_update :',set2)\n",
        "print('\\n')\n",
        "print('Output of set1 - set2 : ', set1 - set2)\n",
        "set1 -= set2\n",
        "print('\\n')\n",
        "print('set1 after difference_update :',set1)\n",
        "print('set1 after difference_update :',set2)"
      ],
      "metadata": {
        "colab": {
          "base_uri": "https://localhost:8080/"
        },
        "id": "8BcUtL8tFKoI",
        "outputId": "be93e7ec-1226-492f-8b85-ceb81b4742d2"
      },
      "execution_count": 25,
      "outputs": [
        {
          "output_type": "stream",
          "name": "stdout",
          "text": [
            "set1 before difference_update : {'Banana', 'Muskmelon', 'Apple', 'Chickoo', 'Mango'}\n",
            "set2 before difference_update : {'Grapes', 'Plum', 'Apple', 'Watermelon', 'Mango'}\n",
            "\n",
            "\n",
            "Output of set1 - set2 :  {'Muskmelon', 'Chickoo', 'Banana'}\n",
            "\n",
            "\n",
            "set1 after difference_update : {'Banana', 'Muskmelon', 'Chickoo'}\n",
            "set1 after difference_update : {'Grapes', 'Plum', 'Apple', 'Watermelon', 'Mango'}\n"
          ]
        }
      ]
    },
    {
      "cell_type": "code",
      "source": [
        "set1 = {'Apple', 'Mango', 'Banana', 'Chickoo', 'Muskmelon', 'Grapes', 'Plum', 'Watermelon'}\n",
        "set2 = {'Plum', 'Apple', 'Watermelon'}\n",
        "set3 = {'Mango', 'Orange', 'Chickoo'}\n",
        "\n",
        "print('Is set2 a subset of set1? ->', set2.issubset(set1))\n",
        "print('Is set3 a subset of set1? ->', set3.issubset(set1))\n",
        "print('Is set1 a superset of set2? ->', set1.issuperset(set2))\n",
        "print('Is set1 a superset of set3? ->', set1.issuperset(set3))"
      ],
      "metadata": {
        "colab": {
          "base_uri": "https://localhost:8080/"
        },
        "id": "JRAV0TeAFMsS",
        "outputId": "6c11a4d4-734b-4517-83a6-e0bb14ef14a4"
      },
      "execution_count": 17,
      "outputs": [
        {
          "output_type": "stream",
          "name": "stdout",
          "text": [
            "Is set2 a subset of set1? -> True\n",
            "Is set3 a subset of set1? -> False\n",
            "Is set1 a superset of set2? -> True\n",
            "Is set1 a superset of set3? -> False\n"
          ]
        }
      ]
    },
    {
      "cell_type": "code",
      "source": [
        "set1 = {'Apple', 'Mango', 'Banana', 'Chickoo', 'Muskmelon', 'Grapes', 'Plum', 'Watermelon'}\n",
        "set2 = {'Plum', 'Apple', 'Watermelon'}\n",
        "set3 = {'Mango', 'Orange', 'Chickoo'}\n",
        "\n",
        "print('Is set2 a subset of set1? ->', set2 < set1)\n",
        "print('Is set3 a subset of set1? ->', set3 < set1)\n",
        "print('Is set1 a superset of set2? ->', set1 > set2)\n",
        "print('Is set1 a superset of set3? ->', set1 > set3)"
      ],
      "metadata": {
        "id": "o0Cs88ziEBG7",
        "colab": {
          "base_uri": "https://localhost:8080/"
        },
        "outputId": "64325df0-3915-49f3-c0d8-3ce75b452f07"
      },
      "execution_count": 19,
      "outputs": [
        {
          "output_type": "stream",
          "name": "stdout",
          "text": [
            "Is set2 a subset of set1? -> True\n",
            "Is set3 a subset of set1? -> False\n",
            "Is set1 a superset of set2? -> True\n",
            "Is set1 a superset of set3? -> False\n"
          ]
        }
      ]
    },
    {
      "cell_type": "code",
      "source": [
        "set1 = {'Blue', 'Red', 'Green'}\n",
        "set2 = {'Green', 'Blue', 'Red'}\n",
        "set1 == set2"
      ],
      "metadata": {
        "colab": {
          "base_uri": "https://localhost:8080/"
        },
        "id": "UJp4vx-TJ-6S",
        "outputId": "591fb50b-be7a-40b2-a905-b7960db046c7"
      },
      "execution_count": 20,
      "outputs": [
        {
          "output_type": "execute_result",
          "data": {
            "text/plain": [
              "True"
            ]
          },
          "metadata": {},
          "execution_count": 20
        }
      ]
    },
    {
      "cell_type": "code",
      "source": [
        "set1 = {'Blue', 'Red', 'Pink'}\n",
        "set2 = {'Green', 'Blue', 'Red'}\n",
        "set1 == set2"
      ],
      "metadata": {
        "id": "CSzJbpqrCZcQ",
        "colab": {
          "base_uri": "https://localhost:8080/"
        },
        "outputId": "cf215306-806e-45f0-e974-c9c92a6b27d8"
      },
      "execution_count": 21,
      "outputs": [
        {
          "output_type": "execute_result",
          "data": {
            "text/plain": [
              "False"
            ]
          },
          "metadata": {},
          "execution_count": 21
        }
      ]
    },
    {
      "cell_type": "code",
      "source": [
        "set1 = {'Apple', 'Mango', 'Banana', 'Chickoo', 'Grapes'}\n",
        "set2 = {'Plum', 'Apple', 'Watermelon','Grapes'}\n",
        "set3 = {'DragonFruit', 'Plum', 'Watermelon'}\n",
        "print('Are set1 & set2 disjoint? (There no common element between the set1 & set2?)', set1.isdisjoint(set2))\n",
        "print('Are set1 & set3 disjoint? (There no common element between the set1 & set3?)', set1.isdisjoint(set3))"
      ],
      "metadata": {
        "colab": {
          "base_uri": "https://localhost:8080/"
        },
        "id": "oO2UKvaxKnHt",
        "outputId": "331528f5-9f5a-4c96-8ddb-8eb0d6431096"
      },
      "execution_count": 30,
      "outputs": [
        {
          "output_type": "stream",
          "name": "stdout",
          "text": [
            "Are set1 & set2 disjoint? (There no common element between the set1 & set2?) False\n",
            "Are set1 & set3 disjoint? (There no common element between the set1 & set3?) True\n"
          ]
        }
      ]
    },
    {
      "cell_type": "code",
      "source": [],
      "metadata": {
        "id": "o2UXNA3rQgoi"
      },
      "execution_count": null,
      "outputs": []
    },
    {
      "cell_type": "code",
      "source": [],
      "metadata": {
        "id": "RUXXGZi-CZf8"
      },
      "execution_count": null,
      "outputs": []
    },
    {
      "cell_type": "code",
      "source": [],
      "metadata": {
        "id": "tGty762XHNwW"
      },
      "execution_count": null,
      "outputs": []
    }
  ]
}