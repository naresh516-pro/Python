{
 "cells": [
  {
   "cell_type": "markdown",
   "id": "dba910df",
   "metadata": {},
   "source": [
    "# PATTENRS."
   ]
  },
  {
   "cell_type": "code",
   "execution_count": 17,
   "id": "b768de9a",
   "metadata": {},
   "outputs": [
    {
     "name": "stdout",
     "output_type": "stream",
     "text": [
      "Enter n value:4\n",
      "****"
     ]
    }
   ],
   "source": [
    "#TO PRINT GIVEN NUMBER OF STARS IN ROW.\n",
    "n=int(input(\"Enter n value:\"))\n",
    "for i in range(n):\n",
    "    print(\"*\",end=\"\")"
   ]
  },
  {
   "cell_type": "code",
   "execution_count": 6,
   "id": "0c83d0cd",
   "metadata": {},
   "outputs": [
    {
     "name": "stdout",
     "output_type": "stream",
     "text": [
      "Enter a number of rows:4\n",
      "* * * * \n",
      "* * * * \n",
      "* * * * \n",
      "* * * * \n"
     ]
    }
   ],
   "source": [
    "#TO PRINT SQAURE PATTERN WITH * SYMBOLS.\n",
    "n=int(input(\"Enter a number of rows:\"))\n",
    "for i in range(n):\n",
    "    print(\"* \"*n)"
   ]
  },
  {
   "cell_type": "code",
   "execution_count": 20,
   "id": "41624d82",
   "metadata": {},
   "outputs": [
    {
     "name": "stdout",
     "output_type": "stream",
     "text": [
      "Enter a number of rows:5\n",
      "5 5 5 5 5 \n",
      "5 5 5 5 5 \n",
      "5 5 5 5 5 \n",
      "5 5 5 5 5 \n",
      "5 5 5 5 5 \n",
      "\n"
     ]
    }
   ],
   "source": [
    "#TO PRINT SQUARE WITH PROVIDED FIXID DIGIT.\n",
    "n=int(input(\"Enter a number of rows:\"))\n",
    "for i in range(n):\n",
    "    print(f\"{n} \" \"\"*n)\n",
    "print()"
   ]
  },
  {
   "cell_type": "code",
   "execution_count": 21,
   "id": "173e3bf5",
   "metadata": {},
   "outputs": [
    {
     "name": "stdout",
     "output_type": "stream",
     "text": [
      "Enter a number of rows:5\n",
      "5 5 5 5 5 \n",
      "5 5 5 5 5 \n",
      "5 5 5 5 5 \n",
      "5 5 5 5 5 \n",
      "5 5 5 5 5 \n"
     ]
    }
   ],
   "source": [
    "#TO PRINT SQUARE WITH PROVIDED FIXID DIGIT.\n",
    "n=int(input(\"Enter a number of rows:\"))\n",
    "for i in range(n):\n",
    "    print((str(n)+ \" \")*n)"
   ]
  },
  {
   "cell_type": "code",
   "execution_count": 11,
   "id": "11260068",
   "metadata": {},
   "outputs": [
    {
     "name": "stdout",
     "output_type": "stream",
     "text": [
      "Enter a number of rows:4\n",
      "1 1 1 1 \n",
      "2 2 2 2 \n",
      "3 3 3 3 \n",
      "4 4 4 4 \n"
     ]
    }
   ],
   "source": [
    "#TO PRINT SQUARE PATTERN WITH PROVIDED DIGIT IN EVERY ROW.\n",
    "n=int(input(\"Enter a number of rows:\"))\n",
    "for i in range(1,n+1):\n",
    "    print((str(i)+\" \")*n)"
   ]
  },
  {
   "cell_type": "code",
   "execution_count": 12,
   "id": "51f80c38",
   "metadata": {},
   "outputs": [
    {
     "name": "stdout",
     "output_type": "stream",
     "text": [
      "Enter a number of rows:4\n",
      "1 1 1 1 \n",
      "2 2 2 2 \n",
      "3 3 3 3 \n",
      "4 4 4 4 \n"
     ]
    }
   ],
   "source": [
    "#TO PRINT SQUARE PATTERN WITH PROVIDED DIGIT IN EVERY ROW.\n",
    "n=int(input(\"Enter a number of rows:\"))\n",
    "for i in range(n):\n",
    "    print((str(i+1)+\" \")*n)"
   ]
  },
  {
   "cell_type": "code",
   "execution_count": 13,
   "id": "2d41888d",
   "metadata": {},
   "outputs": [
    {
     "name": "stdout",
     "output_type": "stream",
     "text": [
      "Enter a number of rows:5\n",
      "A A A A A \n",
      "A A A A A \n",
      "A A A A A \n",
      "A A A A A \n",
      "A A A A A \n"
     ]
    }
   ],
   "source": [
    "#TO PRINT SQUARE PATTERN WITH FIXED ALPHABET SYMBOL.\n",
    "n=int(input(\"Enter a number of rows:\"))\n",
    "for i in range(n):\n",
    "    print((\"A\"+\" \")*n)"
   ]
  },
  {
   "cell_type": "code",
   "execution_count": 16,
   "id": "f3fe5e7a",
   "metadata": {},
   "outputs": [
    {
     "name": "stdout",
     "output_type": "stream",
     "text": [
      "Enter a number of rows:12\n",
      "A A A A A A A A A A A A \n",
      "A A A A A A A A A A A A \n",
      "A A A A A A A A A A A A \n",
      "A A A A A A A A A A A A \n",
      "A A A A A A A A A A A A \n",
      "A A A A A A A A A A A A \n",
      "A A A A A A A A A A A A \n",
      "A A A A A A A A A A A A \n",
      "A A A A A A A A A A A A \n",
      "A A A A A A A A A A A A \n",
      "A A A A A A A A A A A A \n",
      "A A A A A A A A A A A A \n"
     ]
    }
   ],
   "source": [
    "#TO PRINT SQUARE PATTERN WITH FIXED ALPHABET SYMBOL.\n",
    "n=int(input(\"Enter a number of rows:\"))\n",
    "for i in range(n):\n",
    "    print((\"A \")*n)"
   ]
  },
  {
   "cell_type": "code",
   "execution_count": 19,
   "id": "12c90f09",
   "metadata": {},
   "outputs": [
    {
     "name": "stdout",
     "output_type": "stream",
     "text": [
      "Enter a number of rows:5\n",
      "A \n",
      "B B \n",
      "C C C \n",
      "D D D D \n",
      "E E E E E \n"
     ]
    }
   ],
   "source": [
    "#TO PRINT RIGHT ANGLE TRIANGLE PATTERN WITH FIXED ALPHABET SYNBOL.\n",
    "#ASCII VALUES A=65,B=66......\n",
    "n=int(input(\"Enter a number of rows:\"))\n",
    "for i in range(n):#0,1,2,3.\n",
    "    print((chr(65+i)+\" \")*(i+1))#chr"
   ]
  },
  {
   "cell_type": "code",
   "execution_count": 36,
   "id": "ac8f2eb7",
   "metadata": {},
   "outputs": [
    {
     "name": "stdout",
     "output_type": "stream",
     "text": [
      "Enter a number of rows:5\n",
      "* * * * * \n",
      "* * * * \n",
      "* * * \n",
      "* * \n",
      "* \n"
     ]
    }
   ],
   "source": [
    "#TO PRINT INVERTED RIGHT ANGLE TRIANGLE PATTERN WITH * SYMBOL.\n",
    "n=int(input(\"Enter a number of rows:\"))\n",
    "for i in range(n):\n",
    "    print(\"* \"*(n-i))"
   ]
  },
  {
   "cell_type": "code",
   "execution_count": 33,
   "id": "aee18735",
   "metadata": {},
   "outputs": [
    {
     "name": "stdout",
     "output_type": "stream",
     "text": [
      "Enter a number of rows:4\n",
      "1 2 3 4 \n",
      "1 2 3 \n",
      "1 2 \n",
      "1 \n"
     ]
    }
   ],
   "source": [
    "#TO PRINT RIGHT ANGLE TRIANGLE PATTERN WITH DIGITS IN ASENDING ORDER IN \n",
    "# EVERY ROW.\n",
    "n=int(input(\"Enter a number of rows:\"))\n",
    "for i in range(n):#0,1,2,3\n",
    "    for j in range(n-i):\n",
    "        print(j+1,end=\" \")\n",
    "    print()   "
   ]
  },
  {
   "cell_type": "code",
   "execution_count": 41,
   "id": "6433e24e",
   "metadata": {},
   "outputs": [
    {
     "name": "stdout",
     "output_type": "stream",
     "text": [
      "Enter number of rows:5\n",
      "* * * * * \n",
      "* * * * \n",
      "* * * \n",
      "* * \n",
      "* \n"
     ]
    }
   ],
   "source": [
    "#TO PRINT INVERTED RIGHT ANGLE TRIANGLE PATTERN WITH * SYMBOL.\n",
    "n=int(input(\"Enter number of rows:\"))\n",
    "for i in range(n):\n",
    "    for j in range(n-i):\n",
    "        print(\"* \",end=\"\")\n",
    "    print()    "
   ]
  },
  {
   "cell_type": "code",
   "execution_count": 44,
   "id": "4dc0c280",
   "metadata": {},
   "outputs": [
    {
     "name": "stdout",
     "output_type": "stream",
     "text": [
      "Enter a number of rows:5\n",
      "* * * * * \n",
      "* * * * \n",
      "* * * \n",
      "* * \n",
      "* \n"
     ]
    }
   ],
   "source": [
    "#TO PRINT INVERTED RIGHT ANGLE TRIANGLE PATTERN WITH * SYMBOL.\n",
    "n=int(input(\"Enter a number of rows:\"))\n",
    "for i in range(n):\n",
    "    print(\"* \"*(n-i))  "
   ]
  },
  {
   "cell_type": "code",
   "execution_count": 42,
   "id": "bc0f9259",
   "metadata": {},
   "outputs": [
    {
     "name": "stdout",
     "output_type": "stream",
     "text": [
      "Enter a number of rows:5\n",
      "* \n",
      "* * \n",
      "* * * \n",
      "* * * * \n",
      "* * * * * \n"
     ]
    }
   ],
   "source": [
    "#TO PRINT RIGHT ANGLE TRIANGLE PATTERN WITH * SYMBOL.\n",
    "n=int(input(\"Enter a number of rows:\"))\n",
    "for i in range(n):\n",
    "    print(\"* \"*(i+1))"
   ]
  },
  {
   "cell_type": "code",
   "execution_count": 43,
   "id": "454d7589",
   "metadata": {},
   "outputs": [
    {
     "name": "stdout",
     "output_type": "stream",
     "text": [
      "Enter number of rows:5\n",
      "* \n",
      "* * \n",
      "* * * \n",
      "* * * * \n",
      "* * * * * \n"
     ]
    }
   ],
   "source": [
    "#TO PRINT RIGHT ANGLE TRIANGLE PATTERN WITH * SYMBOL.\n",
    "n=int(input(\"Enter number of rows:\"))\n",
    "for i in range(n):\n",
    "    for j in range(i+1):\n",
    "        print(\"* \",end=\"\")\n",
    "    print()   "
   ]
  },
  {
   "cell_type": "code",
   "execution_count": 47,
   "id": "12ce8bc7",
   "metadata": {},
   "outputs": [
    {
     "name": "stdout",
     "output_type": "stream",
     "text": [
      "Enter a number:5\n",
      "* \n",
      "* * \n",
      "* * * \n",
      "* * * * \n",
      "* * * * * \n"
     ]
    }
   ],
   "source": [
    "#INCREASING TRIANGLE PATTERN\n",
    "n=int(input(\"Enter a number:\"))\n",
    "for i in range(n):\n",
    "    for j in range(i+1):\n",
    "        print(\"*\",end=\" \")\n",
    "    print()    "
   ]
  },
  {
   "cell_type": "code",
   "execution_count": 1,
   "id": "aa8312f9",
   "metadata": {},
   "outputs": [
    {
     "name": "stdout",
     "output_type": "stream",
     "text": [
      "Enter a number:5\n",
      "* * * * * \n",
      "* * * * \n",
      "* * * \n",
      "* * \n",
      "* \n"
     ]
    }
   ],
   "source": [
    "#DECREASING TRIANGLE PATTERN\n",
    "n=int(input(\"Enter a number:\"))\n",
    "for i in range(n):\n",
    "    for j in range(i,n):\n",
    "        print(\"*\",end=\" \")\n",
    "    print()    "
   ]
  },
  {
   "cell_type": "code",
   "execution_count": 9,
   "id": "fe14e037",
   "metadata": {},
   "outputs": [
    {
     "name": "stdout",
     "output_type": "stream",
     "text": [
      "Enter a number of rows:5\n",
      "    *\n",
      "   **\n",
      "  ***\n",
      " ****\n",
      "*****\n"
     ]
    }
   ],
   "source": [
    "#RIGHT SIDED TRIANGLE\n",
    "n=int(input(\"Enter a number of rows:\"))\n",
    "for i in range(n):\n",
    "    for j in range(i,n-1):\n",
    "        print(\" \",end=\"\")\n",
    "    for k in range(i+1):\n",
    "        print(\"*\",end=\"\")\n",
    "    print()        "
   ]
  },
  {
   "cell_type": "code",
   "execution_count": 1,
   "id": "8158b33a",
   "metadata": {},
   "outputs": [
    {
     "name": "stdout",
     "output_type": "stream",
     "text": [
      "Enter a number:5\n",
      "*****\n",
      " ****\n",
      "  ***\n",
      "   **\n",
      "    *\n"
     ]
    }
   ],
   "source": [
    "n=int(input(\"Enter a number:\"))\n",
    "for i in range(n):\n",
    "    for j in range(i):\n",
    "        print(\" \",end=\"\")\n",
    "    for k in range(i,n):\n",
    "        print(\"*\",end=\"\")    \n",
    "    print()"
   ]
  },
  {
   "cell_type": "code",
   "execution_count": 13,
   "id": "f937d673",
   "metadata": {},
   "outputs": [
    {
     "name": "stdout",
     "output_type": "stream",
     "text": [
      "Enter a number:5\n",
      "*****\n",
      " ****\n",
      "  ***\n",
      "   **\n",
      "    *\n"
     ]
    }
   ],
   "source": [
    "n=int(input(\"Enter a number:\"))\n",
    "for i in range(n):\n",
    "    for j in range(i):\n",
    "        print(\" \",end=\"\")\n",
    "    for j in range(i,n):\n",
    "        print(\"*\",end=\"\")    \n",
    "    print()"
   ]
  },
  {
   "cell_type": "code",
   "execution_count": 2,
   "id": "42a48e1c",
   "metadata": {},
   "outputs": [
    {
     "name": "stdout",
     "output_type": "stream",
     "text": [
      "Enter a number of rows:5\n",
      "     *\n",
      "    ***\n",
      "   *****\n",
      "  *******\n",
      " *********\n"
     ]
    }
   ],
   "source": [
    "#HILL PATTERN\n",
    "n=int(input(\"Enter a number of rows:\"))\n",
    "for i in range(n):\n",
    "    for j in range(i,n):\n",
    "        print(\" \",end=\"\")\n",
    "    for j in range(i+1):\n",
    "        print(\"*\",end=\"\")\n",
    "    for j in range(i):\n",
    "        print(\"*\",end=\"\")    \n",
    "    print()     "
   ]
  },
  {
   "cell_type": "code",
   "execution_count": 21,
   "id": "cd84c032",
   "metadata": {},
   "outputs": [
    {
     "name": "stdout",
     "output_type": "stream",
     "text": [
      "Enter a number of rows:5\n",
      "     *\n",
      "    ***\n",
      "   *****\n",
      "  *******\n",
      " *********\n"
     ]
    }
   ],
   "source": [
    "#HILL PATTERN\n",
    "n=int(input(\"Enter a number of rows:\"))\n",
    "for i in range(n):\n",
    "    for j in range(i,n):\n",
    "        print(\" \",end=\"\")\n",
    "    for j in range(i):\n",
    "        print(\"*\",end=\"\")\n",
    "    for j in range(i+1):\n",
    "        print(\"*\",end=\"\")    \n",
    "    print()"
   ]
  },
  {
   "cell_type": "code",
   "execution_count": 30,
   "id": "f5eb2027",
   "metadata": {},
   "outputs": [
    {
     "name": "stdout",
     "output_type": "stream",
     "text": [
      "Enter a number:5\n",
      " *********\n",
      "  *******\n",
      "   *****\n",
      "    ***\n",
      "     *\n"
     ]
    }
   ],
   "source": [
    "#REVERSE HILL PATTERN\n",
    "n=int(input(\"Enter a number:\"))\n",
    "for i in range(n):\n",
    "    for j in range(i+1):\n",
    "        print(\" \",end=\"\")\n",
    "    for j in range(i,n-1):\n",
    "        print(\"*\",end=\"\")  \n",
    "    for j in range(i,n):\n",
    "        print(\"*\",end=\"\")     \n",
    "    print()"
   ]
  },
  {
   "cell_type": "code",
   "execution_count": 29,
   "id": "190861cd",
   "metadata": {},
   "outputs": [
    {
     "name": "stdout",
     "output_type": "stream",
     "text": [
      "Enter a number:5\n",
      " *********\n",
      "  *******\n",
      "   *****\n",
      "    ***\n",
      "     *\n"
     ]
    }
   ],
   "source": [
    "#REVERSE HILL PATTERN\n",
    "n=int(input(\"Enter a number:\"))\n",
    "for i in range(n):\n",
    "    for j in range(i+1):\n",
    "        print(\" \",end=\"\")\n",
    "    for j in range(i,n):\n",
    "        print(\"*\",end=\"\")  \n",
    "    for j in range(i,n-1):\n",
    "        print(\"*\",end=\"\")     \n",
    "    print()"
   ]
  },
  {
   "cell_type": "code",
   "execution_count": 35,
   "id": "a65bc8f5",
   "metadata": {},
   "outputs": [
    {
     "name": "stdout",
     "output_type": "stream",
     "text": [
      "Enter a number of rows:5\n",
      "     *\n",
      "    ***\n",
      "   *****\n",
      "  *******\n",
      " *********\n",
      "  *******\n",
      "   *****\n",
      "    ***\n",
      "     *\n"
     ]
    }
   ],
   "source": [
    "#DIAMOND PATTERN\n",
    "n=int(input(\"Enter a number of rows:\"))\n",
    "for i in range(n-1):\n",
    "    for j in range(i,n):\n",
    "        print(\" \",end=\"\")\n",
    "    for j in range(i):\n",
    "        print(\"*\",end=\"\")\n",
    "    for j in range(i+1):\n",
    "        print(\"*\",end=\"\")    \n",
    "    print()   \n",
    "for i in range(n):\n",
    "    for j in range(i+1):\n",
    "        print(\" \",end=\"\")\n",
    "    for j in range(i,n):\n",
    "        print(\"*\",end=\"\")  \n",
    "    for j in range(i,n-1):\n",
    "        print(\"*\",end=\"\")     \n",
    "    print()"
   ]
  },
  {
   "cell_type": "code",
   "execution_count": 3,
   "id": "941c1c9b",
   "metadata": {},
   "outputs": [
    {
     "name": "stdout",
     "output_type": "stream",
     "text": [
      "Enter a number of rows:5\n",
      "      *\n",
      "     * *\n",
      "    * * *\n",
      "   * * * *\n",
      "  * * * * *\n"
     ]
    }
   ],
   "source": [
    "n=int(input(\"Enter a number of rows:\"))\n",
    "for i in range(n):\n",
    "    for j in range(i,n):\n",
    "        print(\" \",end=\"\")\n",
    "    for j in range(i+1):\n",
    "        print(\" *\",end=\"\")   \n",
    "    print()"
   ]
  },
  {
   "cell_type": "code",
   "execution_count": 2,
   "id": "44e19f49",
   "metadata": {},
   "outputs": [
    {
     "name": "stdout",
     "output_type": "stream",
     "text": [
      "Enter a number of rows:5\n",
      "     * \n",
      "    * * \n",
      "   * * * \n",
      "  * * * * \n",
      " * * * * * \n",
      " * * * * * \n",
      "  * * * * \n",
      "   * * * \n",
      "    * * \n",
      "     * \n"
     ]
    }
   ],
   "source": [
    "n=int(input(\"Enter a number of rows:\"))\n",
    "for i in range(n):\n",
    "    for j in range(i,n):\n",
    "        print(\" \",end=\"\")\n",
    "    for j in range(i+1):\n",
    "        print(\"* \",end=\"\")   \n",
    "    print()\n",
    "for i in range(n):\n",
    "    for j in range(i+1):\n",
    "        print(\" \",end=\"\")\n",
    "    for j in range(n-i):\n",
    "        print(\"* \",end=\"\")   \n",
    "    print()"
   ]
  },
  {
   "cell_type": "code",
   "execution_count": 49,
   "id": "25a1290d",
   "metadata": {},
   "outputs": [
    {
     "name": "stdout",
     "output_type": "stream",
     "text": [
      "Enter a number of rows:5\n",
      "1 \n",
      "2 2 \n",
      "3 3 3 \n",
      "4 4 4 4 \n",
      "5 5 5 5 5 \n"
     ]
    }
   ],
   "source": [
    "n=int(input(\"Enter a number of rows:\"))\n",
    "for i in range(1,n+1):\n",
    "    print((str(i)+\" \")*i)"
   ]
  },
  {
   "cell_type": "code",
   "execution_count": 51,
   "id": "e3d46125",
   "metadata": {},
   "outputs": [
    {
     "name": "stdout",
     "output_type": "stream",
     "text": [
      "Enter a number of rows:5\n",
      "    1 \n",
      "   2 2 \n",
      "  3 3 3 \n",
      " 4 4 4 4 \n",
      "5 5 5 5 5 \n"
     ]
    }
   ],
   "source": [
    "n=int(input(\"Enter a number of rows:\"))\n",
    "for i in range(n):\n",
    "    print(\" \"*(n-i-1)+(str(i+1)+\" \")*(i+1))"
   ]
  },
  {
   "cell_type": "code",
   "execution_count": 56,
   "id": "ab82a812",
   "metadata": {},
   "outputs": [
    {
     "name": "stdout",
     "output_type": "stream",
     "text": [
      "Enter a number of rows:5\n",
      "    E \n",
      "   E D \n",
      "  E D C \n",
      " E D C B \n",
      "E D C B A \n"
     ]
    }
   ],
   "source": [
    "n=int(input(\"Enter a number of rows:\"))\n",
    "for i in range(n):\n",
    "    print(\" \"*(n-i-1),end=\"\")\n",
    "    for j in range(i+1):\n",
    "        print((chr(64+n-j)),end=\" \")\n",
    "    print()          "
   ]
  },
  {
   "cell_type": "code",
   "execution_count": 7,
   "id": "9b3b0366",
   "metadata": {},
   "outputs": [
    {
     "name": "stdout",
     "output_type": "stream",
     "text": [
      "Enter a number:5\n",
      "A \n",
      "A B \n",
      "A B C \n",
      "A B C D \n",
      "A B C D E \n",
      "A B C D \n",
      "A B C \n",
      "A B \n",
      "A \n"
     ]
    }
   ],
   "source": [
    "n=int(input(\"Enter a number:\"))\n",
    "for i in range(n):\n",
    "    for  j in range(i+1):\n",
    "        print(chr(65+j),end=\" \")\n",
    "    print() \n",
    "for i in range(n-1):\n",
    "    for j in range(n-i-1):\n",
    "        print(chr(65+j),end=\" \")\n",
    "    print()    \n",
    "    "
   ]
  },
  {
   "cell_type": "code",
   "execution_count": 12,
   "id": "d8c93462",
   "metadata": {},
   "outputs": [
    {
     "name": "stdout",
     "output_type": "stream",
     "text": [
      "Enter a number:5\n",
      "A B C D E \n",
      " A B C D \n",
      "  A B C \n",
      "   A B \n",
      "    A \n"
     ]
    }
   ],
   "source": [
    "n=int(input(\"Enter a number:\"))\n",
    "for i in range(n):\n",
    "    print(\" \"*i,end=\"\")\n",
    "    for j in range(n-i):\n",
    "            print(chr(65+j),end=\" \")\n",
    "    print()      "
   ]
  },
  {
   "cell_type": "code",
   "execution_count": 23,
   "id": "8ad441a6",
   "metadata": {},
   "outputs": [
    {
     "name": "stdout",
     "output_type": "stream",
     "text": [
      "Enter a number:4\n",
      "   * \n",
      "  * * \n",
      " * * * \n",
      "* * * * \n",
      " * * * \n",
      "  * * \n",
      "   * \n"
     ]
    }
   ],
   "source": [
    "n=int(input(\"Enter a number:\"))\n",
    "for i in range(n):\n",
    "    print(\" \"*(n-i-1)+\"* \"*(i+1))\n",
    "for i in range(n-1):\n",
    "    print(\" \"*(i+1)+\"* \"*(n-i-1))\n",
    "    "
   ]
  },
  {
   "cell_type": "code",
   "execution_count": 27,
   "id": "cc822f0e",
   "metadata": {},
   "outputs": [
    {
     "name": "stdout",
     "output_type": "stream",
     "text": [
      "Enter a number:5\n",
      "* \n",
      "* * \n",
      "* * * \n",
      "* * * * \n",
      "* * * * * \n",
      "* * * * \n",
      "* * * \n",
      "* * \n",
      "* \n"
     ]
    }
   ],
   "source": [
    "n=int(input(\"Enter a number:\"))\n",
    "for i in range(n):\n",
    "    for  j in range(i+1):\n",
    "        print(\"* \",end=\" \")\n",
    "    print() \n",
    "for i in range(n-1):\n",
    "    for j in range(n-i-1):\n",
    "        print(\"* \",end=\" \")\n",
    "    print()    \n",
    "    "
   ]
  },
  {
   "cell_type": "code",
   "execution_count": 31,
   "id": "2d64663d",
   "metadata": {},
   "outputs": [
    {
     "name": "stdout",
     "output_type": "stream",
     "text": [
      "Enter a number:5\n",
      "* \n",
      "* * \n",
      "* * * \n",
      "* * * * \n",
      "* * * * * \n",
      "* * * * \n",
      "* * * \n",
      "* * \n",
      "* \n"
     ]
    }
   ],
   "source": [
    "n=int(input(\"Enter a number:\"))\n",
    "for i in range(n):\n",
    "        print(\"* \"*(i+1))\n",
    "for i in range(n-1):\n",
    "        print(\"* \"*(n-i-1))\n",
    "    "
   ]
  },
  {
   "cell_type": "code",
   "execution_count": 4,
   "id": "2a62bda2",
   "metadata": {},
   "outputs": [
    {
     "name": "stdout",
     "output_type": "stream",
     "text": [
      "Enter length:5\n",
      "Enter breadth:10\n",
      "* * * * * * * * * * \n",
      "*                 *\n",
      "*                 *\n",
      "*                 *\n",
      "* * * * * * * * * * \n"
     ]
    }
   ],
   "source": [
    "l=int(input(\"Enter length:\"))\n",
    "b=int(input(\"Enter breadth:\"))\n",
    "print(\"* \"*b)\n",
    "for i in range(1,l-1):\n",
    "    print(\"*\"+\"  \"*((b*2)-3)+\"*\")\n",
    "print(\"* \"*b)"
   ]
  },
  {
   "cell_type": "code",
   "execution_count": 6,
   "id": "994bee1c",
   "metadata": {},
   "outputs": [
    {
     "name": "stdout",
     "output_type": "stream",
     "text": [
      "Enter length:5\n",
      "Enter breadth:19\n",
      "* * * * * * * * * * * * * * * * * * * \n",
      "*                                   *\n",
      "*                                   *\n",
      "*                                   *\n",
      "* * * * * * * * * * * * * * * * * * * \n"
     ]
    }
   ],
   "source": [
    "l=int(input(\"Enter length:\"))\n",
    "b=int(input(\"Enter breadth:\"))\n",
    "print(\"* \"*b)\n",
    "for i in range(1,l-1):\n",
    "    print(\"* \"+\"  \"*(b-2)+\"*\")\n",
    "print(\"* \"*b)"
   ]
  },
  {
   "cell_type": "code",
   "execution_count": 10,
   "id": "dbe3e67b",
   "metadata": {},
   "outputs": [
    {
     "name": "stdout",
     "output_type": "stream",
     "text": [
      "Enter a number of rows:5\n",
      "1 \n",
      "1 2 \n",
      "1 2 3 \n",
      "1 2 3 4 \n",
      "1 2 3 4 5 \n"
     ]
    }
   ],
   "source": [
    "n=int(input(\"Enter a number of rows:\"))\n",
    "for i in range(n):\n",
    "    for j in range(i+1):\n",
    "        print(j+1,end=\" \")\n",
    "    print()    "
   ]
  },
  {
   "cell_type": "code",
   "execution_count": 9,
   "id": "c7c9bcec",
   "metadata": {},
   "outputs": [
    {
     "name": "stdout",
     "output_type": "stream",
     "text": [
      "5\n",
      "0 1 0 1 0 \n",
      "0 1 0 1 0 \n",
      "0 1 0 1 0 \n",
      "0 1 0 1 0 \n",
      "0 1 0 1 0 \n"
     ]
    }
   ],
   "source": [
    "n=int(input())\n",
    "for i in range(n):\n",
    "    for j in range(n):\n",
    "        if j%2==0:\n",
    "            print(\"0\",end=\" \")\n",
    "        else:\n",
    "            print(\"1\",end=\" \")\n",
    "    print()       "
   ]
  },
  {
   "cell_type": "code",
   "execution_count": 10,
   "id": "8b9e5a98",
   "metadata": {},
   "outputs": [
    {
     "name": "stdout",
     "output_type": "stream",
     "text": [
      "5\n",
      "1 0 1 0 1 \n",
      "1 0 1 0 1 \n",
      "1 0 1 0 1 \n",
      "1 0 1 0 1 \n",
      "1 0 1 0 1 \n"
     ]
    }
   ],
   "source": [
    "n=int(input())\n",
    "for i in range(n):\n",
    "    for j in range(n):\n",
    "        if j%2==0:\n",
    "            print(\"1\",end=\" \")\n",
    "        else:\n",
    "            print(\"0\",end=\" \")\n",
    "    print()       "
   ]
  },
  {
   "cell_type": "code",
   "execution_count": 15,
   "id": "c6be4977",
   "metadata": {},
   "outputs": [
    {
     "name": "stdout",
     "output_type": "stream",
     "text": [
      "5\n",
      "1 1 1 1 1 \n",
      "0 0 0 0 0 \n",
      "1 1 1 1 1 \n",
      "0 0 0 0 0 \n",
      "1 1 1 1 1 \n"
     ]
    }
   ],
   "source": [
    "n=int(input())\n",
    "for i in range(n):\n",
    "        if i%2==0:\n",
    "            print(\"1 \"*n)\n",
    "        else:\n",
    "            print(\"0 \"*n)      "
   ]
  },
  {
   "cell_type": "code",
   "execution_count": 24,
   "id": "e325fb10",
   "metadata": {},
   "outputs": [
    {
     "name": "stdout",
     "output_type": "stream",
     "text": [
      "5\n",
      "2 3 4 5 6 \n",
      "3 4 5 6 7 \n",
      "4 5 6 7 8 \n",
      "5 6 7 8 9 \n",
      "6 7 8 9 10 \n"
     ]
    }
   ],
   "source": [
    "n=int(input())\n",
    "for i in range(1,n+1):\n",
    "    for j in range(1,n+1): \n",
    "            print(j+i,end=\" \")\n",
    "    print()       "
   ]
  },
  {
   "cell_type": "code",
   "execution_count": 16,
   "id": "62fa5fcb",
   "metadata": {},
   "outputs": [
    {
     "name": "stdout",
     "output_type": "stream",
     "text": [
      "4\n",
      "1 1 1 1 \n",
      "2 2 2 2 \n",
      "3 3 3 3 \n",
      "4 4 4 4 \n"
     ]
    }
   ],
   "source": [
    "n=int(input())\n",
    "for i in range(1,n+1):\n",
    "    for j in range(n):\n",
    "        print(i,end=\" \")\n",
    "    print()"
   ]
  },
  {
   "cell_type": "code",
   "execution_count": 19,
   "id": "52f540d7",
   "metadata": {},
   "outputs": [
    {
     "name": "stdout",
     "output_type": "stream",
     "text": [
      "4\n",
      "1 1 1 2 2 2 2 2 2 2 "
     ]
    }
   ],
   "source": [
    "rows=int(input())\n",
    "current_value=1\n",
    "for i in range(1, rows + 1):\n",
    "        if i % 2 == 0:\n",
    "            for j in range(1, i + 1):\n",
    "                print(current_value, end=' ')\n",
    "            current_value += 1\n",
    "        else:\n",
    "            for j in range(1, i + 1):\n",
    "                print(current_value, end=' ')\n",
    "        "
   ]
  },
  {
   "cell_type": "code",
   "execution_count": 4,
   "id": "a9abaf5a",
   "metadata": {},
   "outputs": [
    {
     "name": "stdout",
     "output_type": "stream",
     "text": [
      "5\n",
      "0 00 10 20 30 4\n",
      "1 01 11 21 31 4\n",
      "2 02 12 22 32 4\n",
      "3 03 13 23 33 4\n",
      "4 04 14 24 34 4\n"
     ]
    }
   ],
   "source": [
    "n=int(input())\n",
    "for i in range(n):\n",
    "    for j in range(n):\n",
    "        print(i,j,end=\"\")\n",
    "    print()    "
   ]
  },
  {
   "cell_type": "code",
   "execution_count": 14,
   "id": "9b5f92ce",
   "metadata": {},
   "outputs": [
    {
     "name": "stdout",
     "output_type": "stream",
     "text": [
      "Enter a number of rows:5\n",
      "    1 2 \n",
      "   1 2 3 \n",
      "  1 2 3 4 \n",
      " 1 2 3 4 5 \n",
      "1 2 3 4 5 6 \n"
     ]
    }
   ],
   "source": [
    "n=int(input(\"Enter a number of rows:\"))\n",
    "for i in range(1,n+1):\n",
    "    for j in range(i,n):\n",
    "        print(\" \",end=\"\")\n",
    "    for j in range(1,i+2):\n",
    "        print(j,end=\" \")   \n",
    "    print()"
   ]
  },
  {
   "cell_type": "code",
   "execution_count": 41,
   "id": "88c278e8",
   "metadata": {},
   "outputs": [
    {
     "name": "stdout",
     "output_type": "stream",
     "text": [
      "5\n",
      "1 2 3 4 5 \n",
      "11 12 13 14 15 \n",
      "21 22 23 24 25 \n",
      "16 17 18 19 20 \n",
      "6 7 8 9 10 \n"
     ]
    }
   ],
   "source": [
    "n = int(input())\n",
    "t = n\n",
    "k = 1\n",
    "for i in range(n//2+1):\n",
    "    for j in range(n):\n",
    "        print(k,end=\" \")\n",
    "        k+=1\n",
    "    k+=n\n",
    "    print()\n",
    "k-= (3*n)\n",
    "for i in range(n//2+1,n):\n",
    "    for j in range(n):\n",
    "        print(k,end=\" \")\n",
    "        k+=1\n",
    "    k-=(3*n)\n",
    "    print()"
   ]
  },
  {
   "cell_type": "code",
   "execution_count": 51,
   "id": "92b86c68",
   "metadata": {},
   "outputs": [
    {
     "name": "stdout",
     "output_type": "stream",
     "text": [
      "4\n",
      "*  *  *  *  \n",
      "   *  *  *  \n",
      "      *  *  \n",
      "         *  \n",
      "14\n"
     ]
    }
   ],
   "source": [
    "n = int(input())\n",
    "count = 0\n",
    "for i in range(1,n+1):\n",
    "    for j in range(1,n+1):\n",
    "        if i<=j:\n",
    "            print(\"* \",end=\" \")\n",
    "            count+=1\n",
    "        else:\n",
    "            print(\"  \",end=\" \")\n",
    "    count+=1\n",
    "    print()\n",
    "print(count)"
   ]
  },
  {
   "cell_type": "code",
   "execution_count": null,
   "id": "f60551b4",
   "metadata": {},
   "outputs": [],
   "source": []
  }
 ],
 "metadata": {
  "kernelspec": {
   "display_name": "Python 3 (ipykernel)",
   "language": "python",
   "name": "python3"
  },
  "language_info": {
   "codemirror_mode": {
    "name": "ipython",
    "version": 3
   },
   "file_extension": ".py",
   "mimetype": "text/x-python",
   "name": "python",
   "nbconvert_exporter": "python",
   "pygments_lexer": "ipython3",
   "version": "3.9.13"
  }
 },
 "nbformat": 4,
 "nbformat_minor": 5
}
