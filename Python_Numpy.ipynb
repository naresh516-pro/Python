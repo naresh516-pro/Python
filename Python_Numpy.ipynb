{
 "cells": [
  {
   "cell_type": "markdown",
   "id": "12d8fc56",
   "metadata": {},
   "source": [
    "### DATA ANALYSIS:\n",
    "-IT IS MAINLY USED FOR DATA CLEANING AND MANIPULATION,DATA ORGANIZING THE DATA.\n",
    "### LIBRARIES\n",
    "1.NUMPY\n",
    "2.PANDAS\n",
    "3.MATLOTLIB\n",
    "4.SEABORN"
   ]
  },
  {
   "cell_type": "markdown",
   "id": "fe7753bc",
   "metadata": {},
   "source": [
    "# NUMPY\n",
    "-NUMPY STANDS FOR NUMERICAL PYTHON.\n",
    "-IT IS MAINLY USED FOR N-DIMENTIONAL ARRAYS\n",
    "-HOW TO CREATE NUMPY:\n",
    "  LIST,TUPLE,DICTIONARY,RANGE,ARANGE,RANDOM.\n",
    "-FIRST WE NEED TO IMPORT NUMPY LIBRARY.\n",
    "-UISNG IMPORT KEYWORD\n",
    "    IMPORT NUMPY AS NP"
   ]
  },
  {
   "cell_type": "code",
   "execution_count": 2,
   "id": "3631c565",
   "metadata": {},
   "outputs": [],
   "source": [
    "#IMPORT NUMPY LIBRARY....\n",
    "import numpy as np "
   ]
  },
  {
   "cell_type": "code",
   "execution_count": 5,
   "id": "aa2ce1da",
   "metadata": {},
   "outputs": [
    {
     "data": {
      "text/plain": [
       "'1.21.5'"
      ]
     },
     "execution_count": 5,
     "metadata": {},
     "output_type": "execute_result"
    }
   ],
   "source": [
    "#To get the currnt version of numpy array\n",
    "np.__version__"
   ]
  },
  {
   "cell_type": "code",
   "execution_count": 4,
   "id": "9fd60b5c",
   "metadata": {},
   "outputs": [
    {
     "name": "stdout",
     "output_type": "stream",
     "text": [
      "[10 20 30 40]\n",
      "<class 'numpy.ndarray'>\n"
     ]
    }
   ],
   "source": [
    "#to create numpy 1-d array using list?\n",
    "n1=np.array([10,20,30,40])\n",
    "print(n1)\n",
    "print(type(n1))"
   ]
  },
  {
   "cell_type": "code",
   "execution_count": 3,
   "id": "8c2f8d77",
   "metadata": {},
   "outputs": [
    {
     "name": "stdout",
     "output_type": "stream",
     "text": [
      "['nanda' 'jashu' 'siva' 'eswar' 'naresh']\n",
      "<class 'numpy.ndarray'>\n"
     ]
    }
   ],
   "source": [
    "a=np.array(['nanda','jashu','siva','eswar','naresh'])\n",
    "print(a)\n",
    "print(type(a))"
   ]
  },
  {
   "cell_type": "code",
   "execution_count": 5,
   "id": "f85300d7",
   "metadata": {},
   "outputs": [
    {
     "name": "stdout",
     "output_type": "stream",
     "text": [
      "[[1 2 3]\n",
      " [4 5 6]\n",
      " [7 8 9]]\n"
     ]
    }
   ],
   "source": [
    "# to create 2-d numpy array using list?\n",
    "n2=np.array([[1,2,3],[4,5,6],[7,8,9]])\n",
    "print(n2)"
   ]
  },
  {
   "cell_type": "code",
   "execution_count": 6,
   "id": "d54f35b7",
   "metadata": {},
   "outputs": [
    {
     "name": "stdout",
     "output_type": "stream",
     "text": [
      "[[10 20 30]\n",
      " [40 50 60]\n",
      " [70 80 90]]\n",
      "<class 'numpy.ndarray'>\n"
     ]
    }
   ],
   "source": [
    "b=np.array([[10,20,30],[40,50,60],[70,80,90]])\n",
    "print(b)\n",
    "print(type(b))"
   ]
  },
  {
   "cell_type": "code",
   "execution_count": 7,
   "id": "4f282a21",
   "metadata": {},
   "outputs": [
    {
     "name": "stdout",
     "output_type": "stream",
     "text": [
      "[10 20 30 40]\n",
      "<class 'numpy.ndarray'>\n"
     ]
    }
   ],
   "source": [
    "# to create numpy arrray using tuple?\n",
    "n1=np.array((10,20,30,40))\n",
    "print(n1)\n",
    "print(type(n1))"
   ]
  },
  {
   "cell_type": "code",
   "execution_count": 8,
   "id": "0c875857",
   "metadata": {},
   "outputs": [
    {
     "name": "stdout",
     "output_type": "stream",
     "text": [
      "{'name': 'naresh', 'rollno': 516, 'branch': 'cse'}\n",
      "<class 'numpy.ndarray'>\n"
     ]
    }
   ],
   "source": [
    "# to create numpy arrray using dictionary?\n",
    "n1=np.array({\"name\":\"naresh\",\"rollno\":516,\"branch\":\"cse\"})\n",
    "print(n1)\n",
    "print(type(n1))"
   ]
  },
  {
   "cell_type": "code",
   "execution_count": 11,
   "id": "caba5d0a-7e0d-450f-86bb-76042f529d1d",
   "metadata": {},
   "outputs": [
    {
     "name": "stdout",
     "output_type": "stream",
     "text": [
      "[1 2 3]\n",
      "[[1]\n",
      " [2]\n",
      " [3]]\n",
      "<class 'numpy.ndarray'>\n",
      "<class 'numpy.ndarray'>\n"
     ]
    }
   ],
   "source": [
    "# Create a vector as a row\n",
    "vector_row = np.array([1, 2, 3])\n",
    "\n",
    "# Create a vector as a column\n",
    "vector_column = np.array([[1],\n",
    "                          [2],\n",
    "                          [3]])\n",
    "print(vector_row)\n",
    "print(vector_column)\n",
    "print(type(vector_row))\n",
    "print(type(vector_column))"
   ]
  },
  {
   "cell_type": "code",
   "execution_count": 15,
   "id": "ad2290f4-f3de-4743-9230-a0ee33505b69",
   "metadata": {},
   "outputs": [
    {
     "name": "stdout",
     "output_type": "stream",
     "text": [
      "[[1 2 3]\n",
      " [1 2 4]\n",
      " [1 2 5]]\n",
      "<class 'numpy.ndarray'>\n"
     ]
    }
   ],
   "source": [
    "# Create a matrix\n",
    "matrix = np.array([[1, 2, 3],\n",
    "                   [1, 2, 4],\n",
    "                   [1, 2, 5]])\n",
    "print(matrix)\n",
    "print(type(matrix))"
   ]
  },
  {
   "cell_type": "code",
   "execution_count": 22,
   "id": "c63b536a",
   "metadata": {},
   "outputs": [
    {
     "name": "stdout",
     "output_type": "stream",
     "text": [
      "[10 11 12 13 14 15 16 17 18 19 20 21 22 23 24 25 26 27 28 29 30 31 32 33\n",
      " 34 35 36 37 38 39 40 41 42 43 44 45 46 47 48 49 50 51 52 53 54 55 56 57\n",
      " 58 59 60 61 62 63 64 65 66 67 68 69 70 71 72 73 74 75 76 77 78 79 80 81\n",
      " 82 83 84 85 86 87 88 89 90 91 92 93 94 95 96 97 98 99]\n"
     ]
    }
   ],
   "source": [
    "# To create numpy arrray using range?\n",
    "c=np.array(range(10,100))\n",
    "print(c)"
   ]
  },
  {
   "cell_type": "code",
   "execution_count": 23,
   "id": "bf9b29b7",
   "metadata": {},
   "outputs": [
    {
     "name": "stdout",
     "output_type": "stream",
     "text": [
      "[ 0  1  2  3  4  5  6  7  8  9 10 11 12 13 14 15 16 17 18 19 20 21 22 23\n",
      " 24 25 26 27 28 29 30 31 32 33 34 35 36 37 38 39 40 41 42 43 44 45 46 47\n",
      " 48 49 50 51 52 53 54 55 56 57 58 59 60 61 62 63 64 65 66 67 68 69 70 71\n",
      " 72 73 74 75 76 77 78 79 80 81 82 83 84 85 86 87 88 89 90 91 92 93 94 95\n",
      " 96 97 98 99]\n"
     ]
    }
   ],
   "source": [
    "# to create numpy arrray using arange?\n",
    "d=np.arange(100)\n",
    "print(d)"
   ]
  },
  {
   "cell_type": "code",
   "execution_count": 26,
   "id": "a73b45d3",
   "metadata": {},
   "outputs": [
    {
     "name": "stdout",
     "output_type": "stream",
     "text": [
      "[0.04871    0.82207153 0.27627313 0.06681387 0.75934225]\n"
     ]
    }
   ],
   "source": [
    "# generate an array of 5 random numbers\n",
    "array1 = np.random.rand(5)\n",
    "print(array1)"
   ]
  },
  {
   "cell_type": "code",
   "execution_count": 29,
   "id": "2feaa4d6-4fad-47e7-a763-c3f67e074dd2",
   "metadata": {},
   "outputs": [
    {
     "name": "stdout",
     "output_type": "stream",
     "text": [
      "2\n"
     ]
    }
   ],
   "source": [
    "# generate an array of 5 random numbers\n",
    "array1 = np.random.randint(5)\n",
    "print(array1)"
   ]
  },
  {
   "cell_type": "code",
   "execution_count": 30,
   "id": "232b2d16",
   "metadata": {},
   "outputs": [
    {
     "name": "stdout",
     "output_type": "stream",
     "text": [
      "[0. 0. 0. 0. 0. 0. 0. 0. 0. 0.]\n"
     ]
    }
   ],
   "source": [
    "# create an array with 4 elements filled with zeros\n",
    "array2 = np.zeros(10)\n",
    "print(array2)\n",
    "# Output: [0. 0. 0. 0.]"
   ]
  },
  {
   "cell_type": "code",
   "execution_count": 31,
   "id": "f3183ca1",
   "metadata": {},
   "outputs": [
    {
     "name": "stdout",
     "output_type": "stream",
     "text": [
      "[2 4 6 8]\n"
     ]
    }
   ],
   "source": [
    "# create numpy array using a list\n",
    "array1 = np.array([2, 4, 6, 8])\n",
    "print(array1)\n",
    "# Output: [2  4  6 8]"
   ]
  },
  {
   "cell_type": "code",
   "execution_count": 31,
   "id": "a548b397",
   "metadata": {},
   "outputs": [
    {
     "name": "stdout",
     "output_type": "stream",
     "text": [
      "[1. 1. 1. 1. 1. 1. 1. 1. 1. 1.]\n"
     ]
    }
   ],
   "source": [
    "# create an array with 4 elements filled with ones\n",
    "array2 = np.ones(10)\n",
    "print(array2)"
   ]
  },
  {
   "cell_type": "code",
   "execution_count": 32,
   "id": "31d0ac6e",
   "metadata": {},
   "outputs": [
    {
     "ename": "AttributeError",
     "evalue": "module 'numpy' has no attribute 'twos'",
     "output_type": "error",
     "traceback": [
      "\u001b[1;31m---------------------------------------------------------------------------\u001b[0m",
      "\u001b[1;31mAttributeError\u001b[0m                            Traceback (most recent call last)",
      "Cell \u001b[1;32mIn[32], line 2\u001b[0m\n\u001b[0;32m      1\u001b[0m \u001b[38;5;66;03m# create an array with 4 elements filled with zeros\u001b[39;00m\n\u001b[1;32m----> 2\u001b[0m array3 \u001b[38;5;241m=\u001b[39m \u001b[43mnp\u001b[49m\u001b[38;5;241;43m.\u001b[39;49m\u001b[43mtwos\u001b[49m(\u001b[38;5;241m4\u001b[39m)\n\u001b[0;32m      3\u001b[0m \u001b[38;5;28mprint\u001b[39m(array3)\n",
      "File \u001b[1;32m~\\AppData\\Roaming\\Python\\Python312\\site-packages\\numpy\\__init__.py:424\u001b[0m, in \u001b[0;36m__getattr__\u001b[1;34m(attr)\u001b[0m\n\u001b[0;32m    421\u001b[0m     \u001b[38;5;28;01mimport\u001b[39;00m \u001b[38;5;21;01mnumpy\u001b[39;00m\u001b[38;5;21;01m.\u001b[39;00m\u001b[38;5;21;01mchar\u001b[39;00m \u001b[38;5;28;01mas\u001b[39;00m \u001b[38;5;21;01mchar\u001b[39;00m\n\u001b[0;32m    422\u001b[0m     \u001b[38;5;28;01mreturn\u001b[39;00m char\u001b[38;5;241m.\u001b[39mchararray\n\u001b[1;32m--> 424\u001b[0m \u001b[38;5;28;01mraise\u001b[39;00m \u001b[38;5;167;01mAttributeError\u001b[39;00m(\u001b[38;5;124m\"\u001b[39m\u001b[38;5;124mmodule \u001b[39m\u001b[38;5;132;01m{!r}\u001b[39;00m\u001b[38;5;124m has no attribute \u001b[39m\u001b[38;5;124m\"\u001b[39m\n\u001b[0;32m    425\u001b[0m                      \u001b[38;5;124m\"\u001b[39m\u001b[38;5;132;01m{!r}\u001b[39;00m\u001b[38;5;124m\"\u001b[39m\u001b[38;5;241m.\u001b[39mformat(\u001b[38;5;18m__name__\u001b[39m, attr))\n",
      "\u001b[1;31mAttributeError\u001b[0m: module 'numpy' has no attribute 'twos'"
     ]
    }
   ],
   "source": [
    "# create an array with 4 elements filled with zeros\n",
    "array3 = np.twos(4)\n",
    "print(array3)"
   ]
  },
  {
   "cell_type": "code",
   "execution_count": 33,
   "id": "cb25cefc",
   "metadata": {},
   "outputs": [
    {
     "name": "stdout",
     "output_type": "stream",
     "text": [
      "[0. 0. 0. 0.]\n"
     ]
    }
   ],
   "source": [
    "import numpy as np\n",
    "# create an empty array of length 4\n",
    "array4 = np.empty(4)\n",
    "\n",
    "print(array4)"
   ]
  },
  {
   "cell_type": "code",
   "execution_count": 34,
   "id": "c5f2274e",
   "metadata": {},
   "outputs": [
    {
     "name": "stdout",
     "output_type": "stream",
     "text": [
      "[[1 2 3 4]\n",
      " [5 6 7 8]]\n"
     ]
    }
   ],
   "source": [
    "# create a 2D array with 2 rows and 4 columns\n",
    "array = np.array([[1, 2, 3, 4],\n",
    "                  [5, 6, 7, 8]])\n",
    "\n",
    "print(array)"
   ]
  },
  {
   "cell_type": "code",
   "execution_count": 38,
   "id": "df3c35d4",
   "metadata": {},
   "outputs": [
    {
     "name": "stdout",
     "output_type": "stream",
     "text": [
      "[[[ 1  2  3  4]\n",
      "  [ 5  6  7  8]\n",
      "  [ 9 10 11 12]]\n",
      "\n",
      " [[13 14 15 16]\n",
      "  [17 18 19 20]\n",
      "  [21 22 23 24]]]\n"
     ]
    }
   ],
   "source": [
    "# create a 3D array with 2 \"slices\", each of 3 rows and 4 columns\n",
    "array5 = np.array([[[1, 2, 3, 4],\n",
    "                [5, 6, 7, 8], \n",
    "                [9, 10, 11, 12]],\n",
    "                     \n",
    "                [[13, 14, 15, 16], \n",
    "                 [17, 18, 19, 20], \n",
    "                 [21, 22, 23, 24]]])\n",
    "\n",
    "print(array5)"
   ]
  },
  {
   "cell_type": "code",
   "execution_count": null,
   "id": "e3eea049",
   "metadata": {},
   "outputs": [],
   "source": [
    "# To create multidimensional arrays from scratch we use functions such as\n",
    "# np.zeros()\n",
    "# np.arange()\n",
    "# np.random.rand()"
   ]
  },
  {
   "cell_type": "code",
   "execution_count": 45,
   "id": "905c8ece",
   "metadata": {},
   "outputs": [
    {
     "name": "stdout",
     "output_type": "stream",
     "text": [
      "2-D Array: \n",
      "[[0. 0. 0.]\n",
      " [0. 0. 0.]]\n",
      "\n",
      "3-D Array: \n",
      "[[[0. 0. 0. 0.]\n",
      "  [0. 0. 0. 0.]\n",
      "  [0. 0. 0. 0.]]\n",
      "\n",
      " [[0. 0. 0. 0.]\n",
      "  [0. 0. 0. 0.]\n",
      "  [0. 0. 0. 0.]]]\n"
     ]
    }
   ],
   "source": [
    "# create 2D array with 2 rows and 3 columns filled with zeros\n",
    "array6 = np.zeros([2, 3])\n",
    "\n",
    "print(\"2-D Array: \")\n",
    "print(array6)\n",
    "\n",
    "# create 3D array with dimensions 2x3x4 filled with zeros\n",
    "array7 = np.zeros((2, 3, 4))\n",
    "\n",
    "print(\"\\n3-D Array: \")\n",
    "print(array7)"
   ]
  },
  {
   "cell_type": "code",
   "execution_count": 36,
   "id": "c1117728",
   "metadata": {},
   "outputs": [
    {
     "name": "stdout",
     "output_type": "stream",
     "text": [
      "2-D Array: \n",
      "[[1. 1. 1.]\n",
      " [1. 1. 1.]]\n",
      "\n",
      "3-D Array: \n",
      "[[[1. 1. 1. 1.]\n",
      "  [1. 1. 1. 1.]\n",
      "  [1. 1. 1. 1.]]\n",
      "\n",
      " [[1. 1. 1. 1.]\n",
      "  [1. 1. 1. 1.]\n",
      "  [1. 1. 1. 1.]]]\n"
     ]
    }
   ],
   "source": [
    "# create 2D array with 2 rows and 3 columns filled with ones\n",
    "array8 = np.ones((2, 3))\n",
    "\n",
    "print(\"2-D Array: \")\n",
    "print(array8)\n",
    "\n",
    "# create 3D array with dimensions 2x3x4 filled with ones\n",
    "array9 = np.ones((2, 3, 4))\n",
    "\n",
    "print(\"\\n3-D Array: \")\n",
    "print(array9)"
   ]
  },
  {
   "cell_type": "code",
   "execution_count": 37,
   "id": "f90431b3",
   "metadata": {},
   "outputs": [
    {
     "name": "stdout",
     "output_type": "stream",
     "text": [
      "Array: [[100 100 100 100 100 100 100 100 100 100]\n",
      " [100 100 100 100 100 100 100 100 100 100]\n",
      " [100 100 100 100 100 100 100 100 100 100]\n",
      " [100 100 100 100 100 100 100 100 100 100]\n",
      " [100 100 100 100 100 100 100 100 100 100]\n",
      " [100 100 100 100 100 100 100 100 100 100]\n",
      " [100 100 100 100 100 100 100 100 100 100]\n",
      " [100 100 100 100 100 100 100 100 100 100]\n",
      " [100 100 100 100 100 100 100 100 100 100]\n",
      " [100 100 100 100 100 100 100 100 100 100]]\n"
     ]
    }
   ],
   "source": [
    "# In NumPy, we can use the np.full() function to\n",
    "# create a multidimensional array with a specified value.\n",
    "\n",
    "# Create a 2-D array with elements initialized to 5 \n",
    "numpy_array = np.full((10, 10), 100)\n",
    "\n",
    "print(\"Array:\", numpy_array)"
   ]
  },
  {
   "cell_type": "code",
   "execution_count": 38,
   "id": "7b295bf1",
   "metadata": {},
   "outputs": [
    {
     "name": "stdout",
     "output_type": "stream",
     "text": [
      "2-D Array: \n",
      "[[0.51358693 0.92345815]\n",
      " [0.93035259 0.62280651]]\n",
      "\n",
      "3-D Array: \n",
      "[[[0.67046653 0.47247117]\n",
      "  [0.49766447 0.73175757]]\n",
      "\n",
      " [[0.11128673 0.22419879]\n",
      "  [0.80609359 0.99558486]]]\n"
     ]
    }
   ],
   "source": [
    "# create a 2D array of 2 rows and 2 columns of random numbers\n",
    "array = np.random.rand(2, 2)\n",
    "print(\"2-D Array: \")\n",
    "print(array)\n",
    "# create a 3D array of shape (2, 2, 2) of random numbers\n",
    "array = np.random.rand(2, 2, 2)\n",
    "print(\"\\n3-D Array: \")\n",
    "print(array)"
   ]
  },
  {
   "cell_type": "code",
   "execution_count": 39,
   "id": "0b130e48",
   "metadata": {},
   "outputs": [
    {
     "name": "stdout",
     "output_type": "stream",
     "text": [
      "2-D Array: \n",
      "[[0.51358693 0.92345815]\n",
      " [0.93035259 0.62280651]]\n",
      "\n",
      "3-D Array: \n",
      "[[[0.67046653 0.47247117]\n",
      "  [0.49766447 0.73175757]]\n",
      "\n",
      " [[0.11128673 0.22419879]\n",
      "  [0.80609359 0.99558486]]]\n"
     ]
    }
   ],
   "source": [
    "import numpy as np\n",
    "\n",
    "# create an empty 2D array with 2 rows and 2 columns\n",
    "array1 = np.empty((2, 2))\n",
    "\n",
    "print(\"2-D Array: \")\n",
    "print(array1)\n",
    "\n",
    "# create an empty 3D array of shape (2, 2, 2) \n",
    "array2 = np.empty((2, 2, 2))\n",
    "\n",
    "print(\"\\n3-D Array: \")\n",
    "print(array2)"
   ]
  },
  {
   "cell_type": "markdown",
   "id": "aa12d50e",
   "metadata": {},
   "source": [
    "# NumPy Data Types\n",
    "NumPy offers a wider range of numerical data types than what is available in Python. \n",
    "Here's the list of most commonly used numeric data types in NumPy:\n",
    "                                                    \n",
    "-->int8, int16, int32, int64 - signed integer types with different bit sizes\n",
    "-->uint8, uint16, uint32, uint64 - unsigned integer types with different bit sizes\n",
    "-->float32, float64 - floating-point types with different precision levels\n",
    "-->complex64, complex128 - complex number types with different precision levels"
   ]
  },
  {
   "cell_type": "code",
   "execution_count": 40,
   "id": "6bf2adec",
   "metadata": {},
   "outputs": [
    {
     "name": "stdout",
     "output_type": "stream",
     "text": [
      "int64\n"
     ]
    }
   ],
   "source": [
    "# Check Data Type of a NumPy Array\n",
    "# To check the data type of a NumPy array, we can use the dtype attribute. For example,\n",
    "import numpy as np\n",
    "\n",
    "# create an array of integers \n",
    "array1 = np.array([2, 4, 6])\n",
    "\n",
    "# check the data type of array1\n",
    "print(array1.dtype) \n",
    "\n",
    "# Output: int64"
   ]
  },
  {
   "cell_type": "code",
   "execution_count": 49,
   "id": "96dfed17",
   "metadata": {},
   "outputs": [
    {
     "name": "stdout",
     "output_type": "stream",
     "text": [
      "int32\n",
      "float64\n",
      "complex128\n"
     ]
    }
   ],
   "source": [
    "import numpy as np\n",
    "\n",
    "# create an array of  integers\n",
    "int_array = np.array([-3, -1, 0, 1])\n",
    "\n",
    "# create an array of floating-point numbers\n",
    "float_array = np.array([0.1, 0.2, 0.3])\n",
    "\n",
    "# create an array of complex numbers\n",
    "complex_array = np.array([1+2j, 2+3j, 3+4j])\n",
    "\n",
    "# check the data type of int_array\n",
    "print(int_array.dtype)  # prints int64\n",
    "\n",
    "# check the data type of float_array\n",
    "print(float_array.dtype)  # prints float64\n",
    "\n",
    "# check the data type of complex_array\n",
    "print(complex_array.dtype)  # prints complex128"
   ]
  },
  {
   "cell_type": "code",
   "execution_count": 42,
   "id": "95a2dce0",
   "metadata": {},
   "outputs": [
    {
     "name": "stdout",
     "output_type": "stream",
     "text": [
      "[1 3 7] int32\n"
     ]
    }
   ],
   "source": [
    "# Creating NumPy Arrays With a Defined Data Type\n",
    "# In NumPy, we can create an array with a defined data type by passing the dtype parameter while calling the np.array() function. For example,\n",
    "\n",
    "import numpy as np\n",
    "\n",
    "# create an array of 32-bit integers\n",
    "array1 = np.array([1, 3, 7], dtype='int32')\n",
    "\n",
    "print(array1, array1.dtype)"
   ]
  },
  {
   "cell_type": "code",
   "execution_count": 43,
   "id": "33169f99",
   "metadata": {},
   "outputs": [
    {
     "name": "stdout",
     "output_type": "stream",
     "text": [
      "[1 3 7] int8\n",
      "[2 4 6] uint16\n",
      "[1.2 2.3 3.4] float32\n",
      "[1.+2.j 2.+3.j 3.+4.j] complex64\n"
     ]
    }
   ],
   "source": [
    "# Example: Creating NumPy Arrays With a Defined Data Type\n",
    "# import numpy as np\n",
    "\n",
    "# create an array of 8-bit integers\n",
    "array1 = np.array([1, 3, 7], dtype='int8')\n",
    "\n",
    "# create an array of unsigned 16-bit integers\n",
    "array2 = np.array([2, 4, 6], dtype='uint16')\n",
    "\n",
    "# create an array of 32-bit floating-point numbers\n",
    "array3 = np.array([1.2, 2.3, 3.4], dtype='float32')\n",
    "\n",
    "# create an array of 64-bit complex numbers\n",
    "array4 = np.array([1+2j, 2+3j, 3+4j], dtype='complex64')\n",
    "\n",
    "# print the arrays and their data types\n",
    "print(array1, array1.dtype)\n",
    "print(array2, array2.dtype)\n",
    "print(array3, array3.dtype)\n",
    "print(array4, array4.dtype)"
   ]
  },
  {
   "cell_type": "code",
   "execution_count": 44,
   "id": "6d5f5a51",
   "metadata": {},
   "outputs": [
    {
     "name": "stdout",
     "output_type": "stream",
     "text": [
      "[1 3 5 7] int64\n",
      "[1. 3. 5. 7.] float64\n"
     ]
    }
   ],
   "source": [
    "# NumPy Type Conversion\n",
    "# In NumPy, we can convert the data type of an array using the astype() method. For example,\n",
    "\n",
    "# import numpy as np\n",
    "\n",
    "# create an array of integers\n",
    "int_array = np.array([1, 3, 5, 7])\n",
    "\n",
    "# convert data type of int_array to float\n",
    "float_array = int_array.astype('float')\n",
    "\n",
    "# print the arrays and their data types\n",
    "print(int_array, int_array.dtype)\n",
    "print(float_array, float_array.dtype)"
   ]
  },
  {
   "cell_type": "markdown",
   "id": "904f1734",
   "metadata": {},
   "source": [
    "# attributes of numpy array:\n",
    "<!-- NumPy Array Attributes\n",
    "In NumPy, attributes are properties of NumPy arrays that provide information about the array's shape, size, data type, dimension, and so on.\n",
    "\n",
    "For example, to get the dimension of an array, we can use the ndim attribute. -->\n",
    "-shape\n",
    "-dtype\n",
    "-ndim\n",
    "-size\n",
    "Attributes\tDescription\n",
    "ndim\treturns number of dimension of the array\n",
    "size\treturns number of elements in the array\n",
    "dtype\treturns data type of elements in the array\n",
    "shape\treturns the size of the array in each dimension.\n",
    "itemsize\treturns the size (in bytes) of each elements in the array\n",
    "data\treturns the buffer containing actual elements of the array in memory"
   ]
  },
  {
   "cell_type": "code",
   "execution_count": 46,
   "id": "526e8a59",
   "metadata": {},
   "outputs": [
    {
     "name": "stdout",
     "output_type": "stream",
     "text": [
      "2\n"
     ]
    }
   ],
   "source": [
    "# create a 2-D array \n",
    "array1 = np.array([[2, 4, 6],\n",
    "                  [1, 3, 5]])\n",
    "\n",
    "# check the dimension of array1\n",
    "print(array1.ndim) \n",
    "\n",
    "# Output: 2"
   ]
  },
  {
   "cell_type": "code",
   "execution_count": 47,
   "id": "3ebed753",
   "metadata": {},
   "outputs": [
    {
     "name": "stdout",
     "output_type": "stream",
     "text": [
      "6\n"
     ]
    }
   ],
   "source": [
    "array1 = np.array([[1, 2, 3],\n",
    "                 [6, 7, 8]])\n",
    "\n",
    "# return total number of elements in array1\n",
    "print(array1.size)\n",
    "\n",
    "# Output: 6"
   ]
  },
  {
   "cell_type": "code",
   "execution_count": 56,
   "id": "b18710cb",
   "metadata": {},
   "outputs": [
    {
     "name": "stdout",
     "output_type": "stream",
     "text": [
      "(2, 3)\n"
     ]
    }
   ],
   "source": [
    "# NumPy Array shape Attribute\n",
    "# In NumPy, the shape attribute returns a tuple of integers that gives the size of the array in each dimension. For example,\n",
    "\n",
    "# import numpy as np\n",
    "\n",
    "array1 = np.array([[1, 2, 3],\n",
    "                [6, 7, 8]])\n",
    "\n",
    "# return a tuple that gives size of array in each dimension\n",
    "print(array1.shape)\n",
    "\n",
    "# Output: (2,3)"
   ]
  },
  {
   "cell_type": "code",
   "execution_count": 57,
   "id": "dee47f06",
   "metadata": {},
   "outputs": [
    {
     "name": "stdout",
     "output_type": "stream",
     "text": [
      "(2, 3)\n"
     ]
    }
   ],
   "source": [
    "array1 = np.array([[1, 2, 3],\n",
    "                [6, 7, 8]])\n",
    "\n",
    "# return a tuple that gives size of array in each dimension\n",
    "print(array1.shape)\n",
    "\n",
    "# Output: (2,3)"
   ]
  },
  {
   "cell_type": "code",
   "execution_count": 62,
   "id": "1832cfd1",
   "metadata": {},
   "outputs": [
    {
     "name": "stdout",
     "output_type": "stream",
     "text": [
      "8\n",
      "4\n"
     ]
    }
   ],
   "source": [
    "# NumPy Array itemsize Attribute\n",
    "# In NumPy, the itemsize attribute determines size (in bytes) of each element in the array. For example,\n",
    "\n",
    "# import numpy as np\n",
    "\n",
    "# create a default 1-D array of integers\n",
    "array1 = np.array([6, 7, 8, 10, 13,23,45,67,89,65,43],dtype=np.int64)\n",
    "\n",
    "# create a 1-D array of 32-bit integers \n",
    "array2 = np.array([6, 7, 8, 10, 13,34,567,765,34], dtype=np.int32)\n",
    "\n",
    "# use of itemsize to determine size of each array element of array1 and array2\n",
    "print(array1.itemsize)  # prints 8\n",
    "print(array2.itemsize)  # prints 4"
   ]
  },
  {
   "cell_type": "code",
   "execution_count": 63,
   "id": "fd153456",
   "metadata": {},
   "outputs": [
    {
     "name": "stdout",
     "output_type": "stream",
     "text": [
      "\n",
      "Data of array1 is:  <memory at 0x000001CB81ADDE80>\n",
      "Data of array2 is:  <memory at 0x000001CB81AE3930>\n"
     ]
    }
   ],
   "source": [
    "# NumPy Array data Attribute\n",
    "# In NumPy, we can get a buffer containing actual elements of the array in memory using the data attribute.\n",
    "\n",
    "# In simpler terms, the data attribute is like a pointer to the memory location where the array's data is stored in the computer's memory.\n",
    "\n",
    "# Let's see an example.\n",
    "import numpy as np\n",
    "\n",
    "array1 = np.array([6, 7, 8])\n",
    "array2 = np.array([[1, 2, 3],\n",
    "                   \t    [6, 7, 8]])\n",
    "\n",
    "# print memory address of array1's and array2's data\n",
    "print(\"\\nData of array1 is: \",array1.data)\n",
    "print(\"Data of array2 is: \",array2.data)"
   ]
  },
  {
   "cell_type": "code",
   "execution_count": 8,
   "id": "f908f448",
   "metadata": {},
   "outputs": [
    {
     "name": "stdout",
     "output_type": "stream",
     "text": [
      "[[1 2 3]\n",
      " [4 5 6]]\n",
      "(2, 3)\n",
      "2\n",
      "6\n",
      "int32\n"
     ]
    }
   ],
   "source": [
    "n1=np.array([[1,2,3],[4,5,6]])\n",
    "print(n1)\n",
    "print(n1.shape)\n",
    "print(n1.ndim)\n",
    "print(n1.size)\n",
    "print(n1.dtype)"
   ]
  },
  {
   "cell_type": "code",
   "execution_count": null,
   "id": "18311708",
   "metadata": {},
   "outputs": [],
   "source": [
    "# NumPy Input Output\n",
    "# NumPy offers input/output (I/O) functions for loading and saving data to and from files.\n",
    "# Input/output functions support a variety of file formats, including binary and text formats.\n",
    "# The binary format is designed for efficient storage and retrieval of large arrays.\n",
    "# The text format is more human-readable and can be easily edited in a text editor.\n",
    "Most Commonly Used I/O Functions\n",
    "Here are some of the commonly used NumPy Input/Output functions:\n",
    "\n",
    "Function\tDescription\n",
    "save()\tsaves an array to a binary file in the NumPy .npy format.\n",
    "load()\tloads data from a binary file in the NumPy .npy format\n",
    "savetxt()\tsaves an array to a text file in a specific format\n",
    "loadtxt()\tloads data from a text file."
   ]
  },
  {
   "cell_type": "code",
   "execution_count": 48,
   "id": "06c76058",
   "metadata": {},
   "outputs": [],
   "source": [
    "# NumPy save() Function\n",
    "# In NumPy, the save() function is used to save an array to a binary file in the NumPy .npy format.\n",
    "# Here's the syntax of the save() function,\n",
    "# np.save(file, array)\n",
    "# file - specifies the file name (along with path if required)\n",
    "# array - specifies the NumPy array to be saved\n",
    "# Now, let's see an example.\n",
    "# import numpy as np\n",
    "# create a NumPy array\n",
    "array1 = np.array([[1, 3, 5], \n",
    "                   [7, 9, 11]])\n",
    "# save the array to a file\n",
    "np.save('file1.npy', array1)"
   ]
  },
  {
   "cell_type": "code",
   "execution_count": 49,
   "id": "4ec2f058",
   "metadata": {},
   "outputs": [
    {
     "name": "stdout",
     "output_type": "stream",
     "text": [
      "[[ 1  3  5]\n",
      " [ 7  9 11]]\n"
     ]
    }
   ],
   "source": [
    "# NumPy load() Function\n",
    "# In the previous example, we saved an array to a binary file. Now we'll load that saved file using the load() function.\n",
    "# Let's see an example.\n",
    "# import numpy as np\n",
    "# load the saved NumPy array\n",
    "loaded_array = np.load('file1.npy')\n",
    "\n",
    "# display the loaded array\n",
    "print(loaded_array)"
   ]
  },
  {
   "cell_type": "code",
   "execution_count": 66,
   "id": "6393a3e6",
   "metadata": {},
   "outputs": [],
   "source": [
    "# NumPy savetxt() Function\n",
    "# In NumPy, we use the savetxt() function to save an array to a text file.\n",
    "\n",
    "# Here's the syntax of the savetxt() function:\n",
    "\n",
    "# np.save(file, array)\n",
    "# file - specifies the file name\n",
    "# array - specifies the NumPy array to be saved\n",
    "# Now, let's see an example,\n",
    "# import numpy as np\n",
    "# create a NumPy array\n",
    "array2 = np.array([[1, 3, 5], \n",
    "                   [7, 9, 11]])\n",
    "\n",
    "# save the array to a file\n",
    "np.savetxt('file2.txt', array2)"
   ]
  },
  {
   "cell_type": "code",
   "execution_count": 67,
   "id": "2eeb3d26",
   "metadata": {},
   "outputs": [
    {
     "name": "stdout",
     "output_type": "stream",
     "text": [
      "[[ 1.  3.  5.]\n",
      " [ 7.  9. 11.]]\n"
     ]
    }
   ],
   "source": [
    "# NumPy loadtxt() Function\n",
    "# We use the loadtxt() function to load the saved txt file.\n",
    "# Let's see an example to load the file2.txt file that we saved earlier.\n",
    "# import numpy as np\n",
    "# load the saved NumPy array\n",
    "loaded_array = np.loadtxt('file2.txt')\n",
    "\n",
    "# display the loaded array\n",
    "print(loaded_array)"
   ]
  },
  {
   "cell_type": "markdown",
   "id": "7a3d06b2",
   "metadata": {},
   "source": [
    "Numpy Array Indexing\n",
    "In NumPy, each element in an array is associated with a number. The number is known as an array index.\n",
    "Let's see an example to demonstrate NumPy array indexing.\n",
    "Array Index in NumPy \n",
    "Array Indexing in NumPy\n",
    "In the above array, 5 is the 3rd element. However, its index is 2.\n",
    "This is because the array indexing starts from 0, that is, the first element of the array has index 0, the second element has index 1, and so on.\n",
    "Now, we'll see how we can access individual items from the array using the index number.\n",
    "Access Array Elements Using Index\n",
    "We can use indices to access individual elements of a NumPy array.\n",
    "Suppose we have a NumPy array:\n",
    "array1 = np.array([1, 3, 5, 7, 9])\n",
    "Now, we can use the index number to access array elements as:\n",
    "array1[0] - to access the first element, i.e. 1\n",
    "array1[2] - to access the third element, i.e. 5\n",
    "array1[4] - to access the fifth element, i.e. 9"
   ]
  },
  {
   "cell_type": "code",
   "execution_count": 68,
   "id": "5e563705",
   "metadata": {},
   "outputs": [
    {
     "name": "stdout",
     "output_type": "stream",
     "text": [
      "1\n",
      "5\n",
      "9\n"
     ]
    }
   ],
   "source": [
    "# Example: Access Array Elements Using Index\n",
    "# import numpy as np\n",
    "\n",
    "array1 = np.array([1, 3, 5, 7, 9])\n",
    "\n",
    "# access numpy elements using index\n",
    "print(array1[0])    # prints 1\n",
    "print(array1[2])    # prints 5\n",
    "print(array1[4])    # prints 9"
   ]
  },
  {
   "cell_type": "code",
   "execution_count": 69,
   "id": "2e43d8e3",
   "metadata": {},
   "outputs": [
    {
     "name": "stdout",
     "output_type": "stream",
     "text": [
      "After modifying first element: [12  4  6  8 10]\n",
      "After modifying third element: [12  4 14  8 10]\n"
     ]
    }
   ],
   "source": [
    "# Modify Array Elements Using Index\n",
    "# We can use indices to change the value of an element \n",
    "# in a NumPy array. For example,\n",
    "# import numpy as np\n",
    "# create a numpy array\n",
    "numbers = np.array([2, 4, 6, 8, 10])\n",
    "\n",
    "# change the value of the first element\n",
    "numbers[0] = 12\n",
    "print(\"After modifying first element:\",numbers)    # prints [12 4 6 8 10]\n",
    "\n",
    "# change the value of the third element\n",
    "numbers[2] = 14\n",
    "print(\"After modifying third element:\",numbers)    # prints [12 4 14 8 10]"
   ]
  },
  {
   "cell_type": "code",
   "execution_count": 70,
   "id": "c1a9f0a1",
   "metadata": {},
   "outputs": [
    {
     "name": "stdout",
     "output_type": "stream",
     "text": [
      "9\n",
      "7\n"
     ]
    }
   ],
   "source": [
    "# NumPy Negative Array Indexing\n",
    "# NumPy allows negative indexing for its array. The index of -1 refers to the last item, -2 to the second last item and so on.\n",
    "\n",
    "# NumPy Array Negative Indexing\n",
    "# NumPy Array Negative Indexing\n",
    "# Let's see an example.\n",
    "\n",
    "# import numpy as np\n",
    "\n",
    "# create a numpy array\n",
    "numbers = np.array([1, 3, 5, 7, 9])\n",
    "\n",
    "# access the last element\n",
    "print(numbers[-1])    # prints 9\n",
    "\n",
    "# access the second-to-last element\n",
    "print(numbers[-2])    # prints 7"
   ]
  },
  {
   "cell_type": "code",
   "execution_count": 72,
   "id": "b460eac6",
   "metadata": {},
   "outputs": [
    {
     "name": "stdout",
     "output_type": "stream",
     "text": [
      "[ 2  3  5  7 13]\n",
      "[ 2  3  5 17 13]\n"
     ]
    }
   ],
   "source": [
    "# Modify Array Elements Using Negative Indexing\n",
    "\n",
    "# Similar to regular indexing, we can also modify array elements using negative indexing. For example,\n",
    "\n",
    "# import numpy as np\n",
    "\n",
    "# create a numpy array\n",
    "numbers = np.array([2, 3, 5, 7, 11])\n",
    "\n",
    "# modify the last element\n",
    "numbers[-1] = 13\n",
    "print(numbers)    # Output: [2 3 5 7 13]\n",
    "\n",
    "# modify the second-to-last element\n",
    "numbers[-2] = 17\n",
    "print(numbers)    # Output: [2 3 5 17 13]"
   ]
  },
  {
   "cell_type": "markdown",
   "id": "1775bc3e",
   "metadata": {},
   "source": [
    "2-D NumPy Array Indexing\n",
    "Array indexing in NumPy allows us to access and manipulate elements in a 2-D array.\n",
    "\n",
    "To access an element of array1, we need to specify the row index and column index of the element. Suppose we have following 2-D array,\n",
    "\n",
    "array1 = np.array([[1, 3, 5], \n",
    "                     [7, 9, 2], \n",
    "                     [4, 6, 8]])\n",
    "Now, say we want to access the element in the third row and second column we specify the index as:\n",
    "\n",
    "array1[2, 1] # returns 6\n",
    "Since we know indexing starts from 0. So to access the element in the third row and second column, we need to use index 2 for the third row and index 1 for the second column respectively."
   ]
  },
  {
   "cell_type": "code",
   "execution_count": 5,
   "id": "c7a05e98",
   "metadata": {},
   "outputs": [
    {
     "name": "stdout",
     "output_type": "stream",
     "text": [
      "4th Element at 2nd Row: 15\n",
      "2nd Element at First Row: 3\n"
     ]
    }
   ],
   "source": [
    "# import numpy as np\n",
    "\n",
    "# create a 2D array \n",
    "array1 = np.array([[1, 3, 5, 7], \n",
    "                       [9, 11, 13, 15],\n",
    "                       [2, 4, 6, 8]])\n",
    "\n",
    "\n",
    "# access the element at the second row and fourth column\n",
    "element1 = array1[1, 3]  # returns 15\n",
    "print(\"4th Element at 2nd Row:\",element1)  \n",
    "\n",
    "# access the element at the first row and second column\n",
    "element2 = array1[0, 1]  # returns 3\n",
    "print(\"2nd Element at First Row:\",element2)  "
   ]
  },
  {
   "cell_type": "code",
   "execution_count": 6,
   "id": "bdc2bc7b",
   "metadata": {},
   "outputs": [
    {
     "name": "stdout",
     "output_type": "stream",
     "text": [
      "Second Row: [7 9 2]\n",
      "Third Column: [5 2 8]\n"
     ]
    }
   ],
   "source": [
    "# Access Row or Column of 2D Array Using Indexing\n",
    "# In NumPy, we can access specific rows or columns of a 2-D array using array indexing.\n",
    "\n",
    "# Let's see an example.\n",
    "\n",
    "# import numpy as np\n",
    "\n",
    "# create a 2D array \n",
    "array1 = np.array([[1, 3, 5], \n",
    "             [7, 9, 2], \n",
    "             [4, 6, 8]])\n",
    "\n",
    "# access the second row of the array\n",
    "second_row = array1[1, :]\n",
    "print(\"Second Row:\", second_row)  # Output: [7 9 2]\n",
    "\n",
    "# access the third column of the array\n",
    "third_col = array1[:, 2]\n",
    "print(\"Third Column:\", third_col)  # Output: [5 2 8]"
   ]
  },
  {
   "cell_type": "markdown",
   "id": "57cd4183",
   "metadata": {},
   "source": [
    "3-D NumPy Array Indexing\n",
    "We learned how to access elements in a 2D array. We can also access elements in higher dimensional arrays.\n",
    "\n",
    "To access an element of a 3D array, we use three indices separated by commas.\n",
    "\n",
    "The first index refers to the slice\n",
    "The second index refers to the row\n",
    "The third index refers to the column.\n",
    "Note: In 3D arrays, slice is a 2D array that is obtained by taking a subset of the elements in one of the dimensions."
   ]
  },
  {
   "cell_type": "code",
   "execution_count": 7,
   "id": "58b7dbfb",
   "metadata": {},
   "outputs": [
    {
     "name": "stdout",
     "output_type": "stream",
     "text": [
      "22\n"
     ]
    }
   ],
   "source": [
    "import numpy as np\n",
    "\n",
    "# create a 3D array with shape (2, 3, 4)\n",
    "array1 = np.array([[[1, 2, 3, 4], \n",
    "                   [5, 6, 7, 8], \n",
    "                   [9, 10, 11, 12]],\n",
    "                     \n",
    "                    [[13, 14, 15, 16], \n",
    "                    [17, 18, 19, 20], \n",
    "                    [21, 22, 23, 24]]])\n",
    "\n",
    "# access a specific element of the array\n",
    "element = array1[1, 2, 1]\n",
    "\n",
    "# print the value of the element\n",
    "print(element) \n",
    " \n",
    "# Output: 22\n",
    "# Here, we created a 3D array called array1 with shape (2, 3, 4). This array contains 2 2D arrays, each with 3 rows and 4 columns.\n",
    "\n",
    "# Then, we used indexing to access a specific element of array1. Notice the code,\n",
    "\n",
    "# array1[1, 2, 1]\n",
    "# Here,\n",
    "\n",
    "# array1[1, , ,] - access the second 2D array, i.e.\n",
    "# [13, 14, 15, 16], \n",
    "# [17, 18, 19, 20], \n",
    "# [21, 22, 23, 24]\n",
    "# array1[ ,2, ] - access the third row of the 2D array, i.e.\n",
    "# [21, 22, 23, 24]\n",
    "# array1[ , ,1] - access the second element of the third row, i.e.\n"
   ]
  },
  {
   "cell_type": "markdown",
   "id": "357deee2",
   "metadata": {},
   "source": [
    "NumPy Array Slicing\n",
    "Array Slicing is the process of extracting a portion of an array.\n",
    "\n",
    "With slicing, we can easily access elements in the array. It can be done on one or more dimensions of a NumPy array.\n",
    "\n",
    "Syntax of NumPy Array Slicing\n",
    "Here's the syntax of array slicing in NumPy:\n",
    "\n",
    "array[start:stop:step]\n",
    "Here,\n",
    "\n",
    "start - index of the first element to be included in the slice\n",
    "stop - index of the last element (exclusive)\n",
    "step - step size between each element in the slice\n",
    "Note: When we slice arrays, the start index is inclusive but the stop index is exclusive.\n",
    "\n",
    "If we omit start, slicing starts from the first element\n",
    "If we omit stop, slicing continues up to the last element\n",
    "If we omit step, default step size is 1\n"
   ]
  },
  {
   "cell_type": "code",
   "execution_count": 8,
   "id": "475d9a49",
   "metadata": {},
   "outputs": [
    {
     "name": "stdout",
     "output_type": "stream",
     "text": [
      "[5 7 8 9]\n",
      "[1 5 8 2]\n",
      "[7 8 9 2 4 6]\n",
      "[1 3 5 7 8 9 2 4 6]\n"
     ]
    }
   ],
   "source": [
    "import numpy as np\n",
    "\n",
    "# create a 1D array \n",
    "array1 = np.array([1, 3, 5, 7, 8, 9, 2, 4, 6])\n",
    "\n",
    "# slice array1 from index 2 to index 6 (exclusive)\n",
    "print(array1[2:6])  # [5 7 8 9]\n",
    "\n",
    "# slice array1 from index 0 to index 8 (exclusive) with a step size of 2\n",
    "print(array1[0:8:2])  # [1 5 8 2]\n",
    "\n",
    "# slice array1 from index 3 up to the last element\n",
    "print(array1[3:])  # [7 8 9 2 4 6]\n",
    "\n",
    "# items from start to end\n",
    "print(array1[:])   # [1 3 5 7 8 9 2 4 6]\n",
    "# In the above example, we have created the array named array1 with 9 elements.\n",
    "\n",
    "# Then, we used the slicing operator : to slice array elements.\n",
    "\n",
    "# array1[2:6] - slices array1 from index 2 to index 6, not including index 6\n",
    "# array1[0:8:2] - slices array1 from index 0 to index 8, not including index 8\n",
    "# array1[3:] - slices array1 from index 3 up to the last element\n",
    "# array1[:] - returns all items from beginning to end\n"
   ]
  },
  {
   "cell_type": "markdown",
   "id": "acffd7ec",
   "metadata": {},
   "source": [
    "Modify Array Elements Using Slicing\n",
    "With slicing, we can also modify array elements using:\n",
    "\n",
    "start parameter\n",
    "stop parameter\n",
    "start and stop parameter\n",
    "start, stop, and step parameter"
   ]
  },
  {
   "cell_type": "code",
   "execution_count": 50,
   "id": "51a7b85d",
   "metadata": {},
   "outputs": [
    {
     "name": "stdout",
     "output_type": "stream",
     "text": [
      "[ 2  4  6 20 20 20]\n"
     ]
    }
   ],
   "source": [
    "# 1. Using start Parameter\n",
    "# import numpy as np\n",
    "\n",
    "# create a numpy array\n",
    "numbers = np.array([2, 4, 6, 8, 10, 12])\n",
    "\n",
    "# modify elements from index 3 onwards\n",
    "numbers[3:] = 20\n",
    "print(numbers)\n",
    "\n",
    "# Output: [ 2  4  6 20 20 20]\n"
   ]
  },
  {
   "cell_type": "code",
   "execution_count": 51,
   "id": "613dda8b",
   "metadata": {},
   "outputs": [
    {
     "name": "stdout",
     "output_type": "stream",
     "text": [
      "[40 40 40  8 10 12]\n"
     ]
    }
   ],
   "source": [
    "# 2. Using stop Parameter\n",
    "# import numpy as np\n",
    "\n",
    "# create a numpy array\n",
    "numbers = np.array([2, 4, 6, 8, 10, 12])\n",
    "\n",
    "# modify the first 3 elements\n",
    "numbers[:3] = 40\n",
    "print(numbers)\n",
    "\n",
    "# Output: [40 40 40  8 10 12]"
   ]
  },
  {
   "cell_type": "code",
   "execution_count": 52,
   "id": "3e6e5551",
   "metadata": {},
   "outputs": [
    {
     "name": "stdout",
     "output_type": "stream",
     "text": [
      "[ 2  4 22 22 22 12]\n"
     ]
    }
   ],
   "source": [
    "# 3. Using start and stop parameter\n",
    "# import numpy as np\n",
    "\n",
    "# create a numpy array\n",
    "numbers = np.array([2, 4, 6, 8, 10, 12])\n",
    "\n",
    "# modify elements from indices 2 to 5\n",
    "numbers[2:5] = 22\n",
    "print(numbers)"
   ]
  },
  {
   "cell_type": "code",
   "execution_count": 12,
   "id": "f45dfd74",
   "metadata": {},
   "outputs": [
    {
     "name": "stdout",
     "output_type": "stream",
     "text": [
      "[ 2 16  6 16 10 12]\n"
     ]
    }
   ],
   "source": [
    "# 4. Using start, stop, and step parameter\n",
    "# import numpy as np\n",
    "\n",
    "# create a numpy array\n",
    "numbers = np.array([2, 4, 6, 8, 10, 12])\n",
    "\n",
    "# modify every second element from indices 1 to 5\n",
    "numbers[1:5:2] = 16\n",
    "print(numbers)\n",
    "\n",
    "# Output: [ 2 16  6 16 10 12]"
   ]
  },
  {
   "cell_type": "code",
   "execution_count": 13,
   "id": "fc64f218",
   "metadata": {},
   "outputs": [
    {
     "name": "stdout",
     "output_type": "stream",
     "text": [
      "[ 8 10 12]\n",
      "[4 6 8]\n",
      "[12  8  4]\n"
     ]
    }
   ],
   "source": [
    "# import numpy as np\n",
    "\n",
    "# create a numpy array\n",
    "numbers = np.array([2, 4, 6, 8, 10, 12])\n",
    "\n",
    "# slice the last 3 elements of the array\n",
    "# using the start parameter\n",
    "print(numbers[-3:])    # [8 10 12]\n",
    "\n",
    "# slice elements from 2nd-to-last to 4th-to-last element\n",
    "# using the start and stop parameters\n",
    "print(numbers[-5:-2])    # [4 6 8] \n",
    "\n",
    "# slice every other element of the array from the end\n",
    "# using the start, stop, and step parameters\n",
    "print(numbers[-1::-2])   # [12 8 4]\n",
    "Here,\n",
    "\n",
    "# numbers[-3:] - slices last 3 elements of numbers\n",
    "# numbers[-5:-2] - slices numbers elements from 5th last to 2nd last(excluded)\n",
    "# numbers[-1::-2] - slices every other numbers elements from the end with step size 2"
   ]
  },
  {
   "cell_type": "code",
   "execution_count": 14,
   "id": "c3d7fc35",
   "metadata": {},
   "outputs": [
    {
     "name": "stdout",
     "output_type": "stream",
     "text": [
      "[12 10  8  6  4  2]\n"
     ]
    }
   ],
   "source": [
    "# Reverse NumPy Array Using Negative Slicing\n",
    "# In NumPy, we can also reverse array elements using the negative slicing. For example,\n",
    "\n",
    "# import numpy as np\n",
    "\n",
    "# create a numpy array\n",
    "numbers = np.array([2, 4, 6, 8, 10, 12])\n",
    "\n",
    "# generate reversed array\n",
    "reversed_numbers = numbers[::-1]\n",
    "print(reversed_numbers)\n",
    "\n",
    "# Output: [12 10 8 6 4 2]"
   ]
  },
  {
   "cell_type": "markdown",
   "id": "fb53a958",
   "metadata": {},
   "source": [
    "2D NumPy Array Slicing\n",
    "A 2D NumPy array can be thought of as a matrix, where each element has two indices, row index and column index.\n",
    "\n",
    "To slice a 2D NumPy array, we can use the same syntax as for slicing a 1D NumPy array. The only difference is that we need to specify a slice for each dimension of the array.\n",
    "\n",
    "Syntax of 2D NumPy Array Slicing\n",
    "array[row_start:row_stop:row_step, col_start:col_stop:col_step]\n",
    "Here,\n",
    "\n",
    "row_start,row_stop,row_step - specifies starting index, stopping index, and step size for the rows respectively\n",
    "col_start,col_stop,col_step - specifies starting index, stopping index, and step size for the columns respectively\n",
    "Let's understand this with an example.\n",
    "\n",
    "# create a 2D array\n",
    "array1 = np.array([[1, 3, 5, 7], \n",
    "                   [9, 11, 13, 15]])\n",
    "\n",
    "print(array1[:2, :2])\n",
    "\n",
    "# Output\n",
    "\n",
    "[[ 1  3]\n",
    " [ 9 11]]\n",
    "Here, the , in [:2, :2] separates the rows of the array.\n",
    "\n",
    "The first :2 returns first 2 rows i.e., entire array1. This results in\n",
    "\n",
    "[1  3]\n",
    "The second :2 returns first 2 columns from the 2 rows. This results in\n",
    "\n",
    "[9 11]\n"
   ]
  },
  {
   "cell_type": "code",
   "execution_count": 15,
   "id": "8194259b",
   "metadata": {},
   "outputs": [
    {
     "name": "stdout",
     "output_type": "stream",
     "text": [
      "First Two Rows and Columns: \n",
      " [[ 1  3]\n",
      " [ 9 11]]\n",
      "Last two Rows and Columns: \n",
      " [[13 15]\n",
      " [ 6  8]]\n"
     ]
    }
   ],
   "source": [
    "import numpy as np\n",
    "\n",
    "# create a 2D array \n",
    "array1 = np.array([[1, 3, 5, 7], \n",
    "                      [9, 11, 13, 15],\n",
    "                      [2, 4, 6, 8]])\n",
    "\n",
    "\n",
    "# slice the array to get the first two rows and columns\n",
    "subarray1 = array1[:2, :2]\n",
    "\n",
    "# slice the array to get the last two rows and columns\n",
    "subarray2 = array1[1:3, 2:4]\n",
    "\n",
    "# print the subarrays\n",
    "print(\"First Two Rows and Columns: \\n\",subarray1)\n",
    "print(\"Last two Rows and Columns: \\n\",subarray2)"
   ]
  },
  {
   "cell_type": "code",
   "execution_count": 16,
   "id": "29ddf107",
   "metadata": {},
   "outputs": [
    {
     "name": "stdout",
     "output_type": "stream",
     "text": [
      "First Two Rows and Columns: \n",
      " [[ 1  3]\n",
      " [ 9 11]]\n",
      "Last two Rows and Columns: \n",
      " [[13 15]\n",
      " [ 6  8]]\n"
     ]
    }
   ],
   "source": [
    "# Example: 2D NumPy Array Slicing\n",
    "# import numpy as np\n",
    "\n",
    "# create a 2D array \n",
    "array1 = np.array([[1, 3, 5, 7], \n",
    "                      [9, 11, 13, 15],\n",
    "                      [2, 4, 6, 8]])\n",
    "\n",
    "\n",
    "# slice the array to get the first two rows and columns\n",
    "subarray1 = array1[:2, :2]\n",
    "\n",
    "# slice the array to get the last two rows and columns\n",
    "subarray2 = array1[1:3, 2:4]\n",
    "\n",
    "# print the subarrays\n",
    "print(\"First Two Rows and Columns: \\n\",subarray1)\n",
    "print(\"Last two Rows and Columns: \\n\",subarray2)\n",
    "Here,\n",
    "\n",
    "# array1[:2, :2] - slices array1 that starts at the first row and first column (default values), and ends at the second row and second column (exclusive)\n",
    "# array1[1:3, 2:4] - slices array1 that starts at the second row and third column (index 1 and 2), and ends at the third row and fourth column (index 2 and 3)"
   ]
  },
  {
   "cell_type": "markdown",
   "id": "b0805479",
   "metadata": {},
   "source": [
    "- range function \n",
    "- arange function\n",
    "- we can create numpy using range and arange function"
   ]
  },
  {
   "cell_type": "code",
   "execution_count": 9,
   "id": "84d2333e",
   "metadata": {},
   "outputs": [
    {
     "name": "stdout",
     "output_type": "stream",
     "text": [
      "[1 2 3 4 5 6 7 8 9]\n"
     ]
    }
   ],
   "source": [
    "# using range function to create numpy?\n",
    "n1=np.array(range(1,10))\n",
    "print(n1)"
   ]
  },
  {
   "cell_type": "code",
   "execution_count": 10,
   "id": "dfded302",
   "metadata": {},
   "outputs": [
    {
     "name": "stdout",
     "output_type": "stream",
     "text": [
      "[1 2 3 4 5 6 7 8 9]\n"
     ]
    }
   ],
   "source": [
    "# using arange function to create numpy?\n",
    "n1=np.arange(1,10)\n",
    "print(n1)"
   ]
  },
  {
   "cell_type": "markdown",
   "id": "6a06f454",
   "metadata": {},
   "source": [
    "- DIFFERENCE BETWEEN RANGE AND ARANGE FUNCTION.\n",
    "- RANGE FUNCTION WILL ONLY INTEGER PARAMETER.\n",
    "- ARANGE FUNCTION WILL INTEGERS AND PARAMETERS PARAMETERS."
   ]
  },
  {
   "cell_type": "code",
   "execution_count": 11,
   "id": "e991b014",
   "metadata": {},
   "outputs": [
    {
     "ename": "AttributeError",
     "evalue": "module 'numpy' has no attribute 'range'",
     "output_type": "error",
     "traceback": [
      "\u001b[1;31m---------------------------------------------------------------------------\u001b[0m",
      "\u001b[1;31mAttributeError\u001b[0m                            Traceback (most recent call last)",
      "\u001b[1;32m~\\AppData\\Local\\Temp\\ipykernel_33416\\4221686651.py\u001b[0m in \u001b[0;36m<module>\u001b[1;34m\u001b[0m\n\u001b[1;32m----> 1\u001b[1;33m \u001b[0mnp\u001b[0m\u001b[1;33m.\u001b[0m\u001b[0mrange\u001b[0m\u001b[1;33m(\u001b[0m\u001b[1;36m1\u001b[0m\u001b[1;33m,\u001b[0m\u001b[1;36m10.5\u001b[0m\u001b[1;33m)\u001b[0m\u001b[1;33m\u001b[0m\u001b[1;33m\u001b[0m\u001b[0m\n\u001b[0m",
      "\u001b[1;32m~\\anaconda3\\lib\\site-packages\\numpy\\__init__.py\u001b[0m in \u001b[0;36m__getattr__\u001b[1;34m(attr)\u001b[0m\n\u001b[0;32m    311\u001b[0m                 \u001b[1;32mreturn\u001b[0m \u001b[0mTester\u001b[0m\u001b[1;33m\u001b[0m\u001b[1;33m\u001b[0m\u001b[0m\n\u001b[0;32m    312\u001b[0m \u001b[1;33m\u001b[0m\u001b[0m\n\u001b[1;32m--> 313\u001b[1;33m             raise AttributeError(\"module {!r} has no attribute \"\n\u001b[0m\u001b[0;32m    314\u001b[0m                                  \"{!r}\".format(__name__, attr))\n\u001b[0;32m    315\u001b[0m \u001b[1;33m\u001b[0m\u001b[0m\n",
      "\u001b[1;31mAttributeError\u001b[0m: module 'numpy' has no attribute 'range'"
     ]
    }
   ],
   "source": [
    "np.range(1,10.5)"
   ]
  },
  {
   "cell_type": "markdown",
   "id": "87697882",
   "metadata": {},
   "source": [
    "# array initialization\n"
   ]
  },
  {
   "cell_type": "code",
   "execution_count": null,
   "id": "6073f549",
   "metadata": {},
   "outputs": [],
   "source": [
    "#to create 1-d array using ones()?\n",
    "n1=np.ones(10)\n",
    "print(n1)"
   ]
  },
  {
   "cell_type": "code",
   "execution_count": null,
   "id": "3573826f",
   "metadata": {},
   "outputs": [],
   "source": [
    "#to create 1-d array using ones()?\n",
    "n1=np.ones(10,dtype=int)\n",
    "print(n1)\n",
    "print(n1.ndim)"
   ]
  },
  {
   "cell_type": "code",
   "execution_count": null,
   "id": "a4266a32",
   "metadata": {},
   "outputs": [],
   "source": [
    "#to create 2 d array using ones method?\n",
    "n2=np.ones((2,3),dtype=int)\n",
    "print(n2)"
   ]
  },
  {
   "cell_type": "code",
   "execution_count": null,
   "id": "f6b63af4",
   "metadata": {},
   "outputs": [],
   "source": [
    "# to print identity matrix using eye()?\n",
    "print(np.eye(3,dtype=int))"
   ]
  },
  {
   "cell_type": "code",
   "execution_count": null,
   "id": "aba30bc4",
   "metadata": {},
   "outputs": [],
   "source": [
    "# to print identity matrix using identity()?\n",
    "np.identity(4,dtype=int)"
   ]
  },
  {
   "cell_type": "code",
   "execution_count": null,
   "id": "b9e791f0",
   "metadata": {},
   "outputs": [],
   "source": [
    "#to print the specific value?\n",
    "np.full(5,7)"
   ]
  },
  {
   "cell_type": "code",
   "execution_count": null,
   "id": "51aa2cc5",
   "metadata": {},
   "outputs": [],
   "source": [
    "np.full((4,4),9)"
   ]
  },
  {
   "cell_type": "markdown",
   "id": "a69a8bd1",
   "metadata": {},
   "source": [
    "- random()\n",
    "   - it is sub module in numpy.\n",
    "   - using random function we can create the numpy arrays."
   ]
  },
  {
   "cell_type": "code",
   "execution_count": null,
   "id": "83d0b5db",
   "metadata": {},
   "outputs": [],
   "source": [
    "#To genereate single random integer value\n",
    "np.random.randint(10,20)"
   ]
  },
  {
   "cell_type": "code",
   "execution_count": null,
   "id": "b7659828",
   "metadata": {},
   "outputs": [],
   "source": [
    "# to generate the n number of random numbers?\n",
    "np.random.randint(10,50,6)"
   ]
  },
  {
   "cell_type": "code",
   "execution_count": null,
   "id": "3e56c763",
   "metadata": {},
   "outputs": [],
   "source": [
    "# to create the 2-d array using random?\n",
    "np.random.randint(10,80,(2,3))"
   ]
  },
  {
   "cell_type": "markdown",
   "id": "135b2f3f",
   "metadata": {},
   "source": [
    "### Indexing slicing"
   ]
  },
  {
   "cell_type": "code",
   "execution_count": null,
   "id": "a8bd1677",
   "metadata": {},
   "outputs": [],
   "source": [
    "n1=np.array([[1,2,3],[4,5,6],[7,8,9]])\n",
    "print(n1)"
   ]
  },
  {
   "cell_type": "code",
   "execution_count": null,
   "id": "826d271c",
   "metadata": {},
   "outputs": [],
   "source": [
    "# to print last row\n",
    "print(n1[-1])"
   ]
  },
  {
   "cell_type": "code",
   "execution_count": null,
   "id": "2e647138",
   "metadata": {},
   "outputs": [],
   "source": [
    "# to print column\n",
    "print(n1[:,1])"
   ]
  },
  {
   "cell_type": "code",
   "execution_count": null,
   "id": "0a642bfd",
   "metadata": {},
   "outputs": [],
   "source": [
    "print(n1[2,2])"
   ]
  },
  {
   "cell_type": "code",
   "execution_count": null,
   "id": "75690b1f",
   "metadata": {},
   "outputs": [],
   "source": [
    "print(n1[:1])\n",
    "print(n1[2:])"
   ]
  },
  {
   "cell_type": "code",
   "execution_count": null,
   "id": "9f8e3c34",
   "metadata": {},
   "outputs": [],
   "source": [
    "print(n1[:,0],n1[:,2])"
   ]
  },
  {
   "cell_type": "code",
   "execution_count": null,
   "id": "9c23254a",
   "metadata": {},
   "outputs": [],
   "source": [
    "# to  print the first and last column ?\n",
    "print(n1[:,[0,2]])"
   ]
  },
  {
   "cell_type": "markdown",
   "id": "7ee1b130",
   "metadata": {},
   "source": [
    "- Array manipulations:\n",
    "- 1 1. reshape:\n",
    "      - To convert the 1-d array to n-d array.\n",
    "- Syntax:\n",
    "   array elements==reshape(row_size*column_size)\n",
    "- 2. resize:\n",
    "     - Whether it is increase or decrease \n",
    "     "
   ]
  },
  {
   "cell_type": "markdown",
   "id": "a133fb0e",
   "metadata": {},
   "source": [
    "# To reshape the numpy array?\n",
    "n1=np.array(range(10))\n",
    "print(n1)"
   ]
  },
  {
   "cell_type": "code",
   "execution_count": null,
   "id": "f35aa829",
   "metadata": {},
   "outputs": [],
   "source": [
    "#To reshape the numpy array?\n",
    "n1=np.array(range(10)) \n",
    "print(n1)"
   ]
  },
  {
   "cell_type": "code",
   "execution_count": null,
   "id": "d52d0f8d",
   "metadata": {},
   "outputs": [],
   "source": [
    "np.array(range(16)).reshape(4,4)"
   ]
  },
  {
   "cell_type": "code",
   "execution_count": null,
   "id": "2655eb3a",
   "metadata": {},
   "outputs": [],
   "source": [
    "np.array(range(16)).reshape(4,5)"
   ]
  },
  {
   "cell_type": "code",
   "execution_count": null,
   "id": "5c6b1f71",
   "metadata": {},
   "outputs": [],
   "source": [
    "np.arange(20).reshape(4,-1)"
   ]
  },
  {
   "cell_type": "code",
   "execution_count": null,
   "id": "99eba0e4",
   "metadata": {},
   "outputs": [],
   "source": [
    "# to print the 3-d array?\n",
    "# (number of sets,rows_size,column_size)\n",
    "n2=np.arange(30).reshape(3,5,2)\n",
    "print(n2)"
   ]
  },
  {
   "cell_type": "code",
   "execution_count": null,
   "id": "8df8bba3",
   "metadata": {},
   "outputs": [],
   "source": [
    "# resize example?\n",
    "n1=np.array([[1,2,3],[4,5,6]])\n",
    "print(n1)\n",
    "print(\"--resize of array--\")\n",
    "print(np.resize(n1,[3,3]))"
   ]
  },
  {
   "cell_type": "code",
   "execution_count": null,
   "id": "4aee3e33",
   "metadata": {},
   "outputs": [],
   "source": [
    "# resize example?\n",
    "n1=np.array([1,2,3,4,5,6])\n",
    "print(n1)\n",
    "print(\"--resize of array--\")\n",
    "print(np.resize(n1,[2,3]))"
   ]
  },
  {
   "cell_type": "markdown",
   "id": "b1417f32",
   "metadata": {},
   "source": [
    "# stacking\n",
    "- To add the new rows and columns.\n",
    "- two types of stacking\n",
    "- 1.vstack-will add rows\n",
    "- 2.hstack- will add columns"
   ]
  },
  {
   "cell_type": "code",
   "execution_count": null,
   "id": "1fc23b94",
   "metadata": {},
   "outputs": [],
   "source": [
    "# vstack example?\n",
    "a=np.array([[1,2],[3,4]])\n",
    "b=np.array([[1,1],[4,4]])\n",
    "print(a)\n",
    "print(b)\n",
    "print(\"apply vstack \")\n",
    "print(np.vstack((a,b)))"
   ]
  },
  {
   "cell_type": "code",
   "execution_count": null,
   "id": "6ef858f9",
   "metadata": {},
   "outputs": [],
   "source": [
    "# hstack example?\n",
    "a=np.array([[1,2],[3,4]])\n",
    "b=np.array([[1,1],[4,4]])\n",
    "print(a)\n",
    "print(b)\n",
    "print(\"apply hstack \")\n",
    "print(np.hstack((a,b)))"
   ]
  },
  {
   "cell_type": "markdown",
   "id": "d48a5256",
   "metadata": {},
   "source": [
    "# ravel() method\n",
    "- to convert N-d array to 1-d array\n"
   ]
  },
  {
   "cell_type": "code",
   "execution_count": null,
   "id": "aa2ec0aa",
   "metadata": {},
   "outputs": [],
   "source": [
    "# using ravel() method to convert N-d array to 1-d array.\n",
    "n1=np.array([[1,2,3],[4,5,6]])\n",
    "print(n1)\n",
    "print(n1.ravel())"
   ]
  },
  {
   "cell_type": "code",
   "execution_count": null,
   "id": "32591326",
   "metadata": {},
   "outputs": [],
   "source": [
    "help(np)"
   ]
  },
  {
   "cell_type": "code",
   "execution_count": null,
   "id": "9c14f299",
   "metadata": {},
   "outputs": [],
   "source": [
    "#numpy.org"
   ]
  },
  {
   "cell_type": "code",
   "execution_count": null,
   "id": "e1ebfcc2",
   "metadata": {},
   "outputs": [],
   "source": [
    "print(dir(np))"
   ]
  },
  {
   "cell_type": "code",
   "execution_count": null,
   "id": "3c521323",
   "metadata": {},
   "outputs": [],
   "source": [
    "# Import numpy as np and see\n",
    "import numpy as np\n",
    "print(np.__version__)"
   ]
  },
  {
   "cell_type": "code",
   "execution_count": null,
   "id": "5fb26f38",
   "metadata": {},
   "outputs": [],
   "source": [
    "# How to create a 1D array?\n",
    "x=np.arange(10)\n",
    "print(x)"
   ]
  },
  {
   "cell_type": "code",
   "execution_count": null,
   "id": "6712a886",
   "metadata": {},
   "outputs": [],
   "source": [
    "#  How to create a boolean array?\n",
    "np.full((3,3),True,dtype=bool)"
   ]
  },
  {
   "cell_type": "code",
   "execution_count": null,
   "id": "aed6b9fb",
   "metadata": {},
   "outputs": [],
   "source": [
    "np.full((9),True,dtype=bool).reshape(3,3)"
   ]
  },
  {
   "cell_type": "code",
   "execution_count": null,
   "id": "4100186e",
   "metadata": {},
   "outputs": [],
   "source": [
    "np.ones((3,3),dtype=bool)"
   ]
  },
  {
   "cell_type": "code",
   "execution_count": null,
   "id": "6555495d",
   "metadata": {},
   "outputs": [],
   "source": [
    "np.ones((9),dtype=bool).reshape(3,3)"
   ]
  },
  {
   "cell_type": "code",
   "execution_count": null,
   "id": "a694bec5",
   "metadata": {},
   "outputs": [],
   "source": [
    "# How to extract items that satisfy a given condition from 1D array\n",
    "# Question : Extract all odd numbers from array\n",
    "# input: arr = np.array([0, 1, 2, 3, 4, 5, 6, 7, 8, 9])\n",
    "# output: array([1, 3, 5, 7, 9])\n",
    "arr=np.arange(10)\n",
    "print(arr[arr%2==1])"
   ]
  },
  {
   "cell_type": "code",
   "execution_count": null,
   "id": "dc261d23",
   "metadata": {},
   "outputs": [],
   "source": [
    "#How to replace items that satisfy a condition with another value in numpy array\n",
    "# Question: Replace all odd numbers in arr with -1\n",
    "# input: arr = np.array([0, 1, 2, 3, 4, 5, 6, 7, 8, 9])\n",
    "# output: array([ 0, -1,  2, -1,  4, -1,  6, -1,  8, -1])\n",
    "arr=np.arange(10)\n",
    "arr[arr%2==1]=-1\n",
    "arr"
   ]
  },
  {
   "cell_type": "code",
   "execution_count": null,
   "id": "3478d124",
   "metadata": {},
   "outputs": [],
   "source": [
    "#How to replace items that satisfy a condition without affecting the original array?\n",
    "# Question: Replace all odd numbers in arr with -1 without changing arr\n",
    "# input: arr = np.array([0, 1, 2, 3, 4, 5, 6, 7, 8, 9])\n",
    "# output: out\n",
    "# array([ 0, -1,  2, -1,  4, -1,  6, -1,  8, -1])\n",
    "# arr\n",
    "# array([0, 1, 2, 3, 4, 5, 6, 7, 8, 9])\n",
    "\n",
    "arr=np.arange(10)\n",
    "out=arr.copy()\n",
    "out[out%2==1]=-1\n",
    "print('modify array')\n",
    "print(out)\n",
    "print(\"original array\")\n",
    "print(arr)"
   ]
  },
  {
   "cell_type": "code",
   "execution_count": null,
   "id": "1443c086",
   "metadata": {},
   "outputs": [],
   "source": [
    "#How to reshape an array?\n",
    "# Question: Convert a 1D array to a 2D array with 2 rows\n",
    "# input: np.arange(10)\n",
    "# output array([[0, 1, 2, 3, 4],\n",
    "#               [5, 6, 7, 8, 9]])\n",
    "arr=np.arange(10)\n",
    "print(arr.reshape(2,5))\n",
    "print(arr.reshape(2,-1))"
   ]
  },
  {
   "cell_type": "code",
   "execution_count": null,
   "id": "3d89d2d1",
   "metadata": {},
   "outputs": [],
   "source": [
    "#How to stack two arrays vertically?\n",
    "# Question: Stack arrays a and b vertically\n",
    "# input: a = np.arange(10).reshape(2,-1)\n",
    "#        b = np.repeat(1, 10).reshape(2,-1)\n",
    "a=np.arange(10).reshape(2,-1)\n",
    "b=np.repeat(1, 10).reshape(2,-1)\n",
    "np.vstack([a,b])"
   ]
  },
  {
   "cell_type": "code",
   "execution_count": null,
   "id": "4ad617e7",
   "metadata": {},
   "outputs": [],
   "source": [
    "#How to stack two arrays horizontally?\n",
    "# Question: Stack arrays a and b horizontally\n",
    "# input: a = np.arange(10).reshape(2,-1)\n",
    "#        b = np.repeat(1, 10).reshape(2,-1)\n",
    "a=np.arange(10).reshape(2,-1)\n",
    "b=np.repeat(1, 10).reshape(2,-1)\n",
    "np.hstack([a,b])"
   ]
  },
  {
   "cell_type": "code",
   "execution_count": null,
   "id": "c467a847",
   "metadata": {},
   "outputs": [],
   "source": [
    "# Question: Create the following pattern without hardcoding. Use only numpy functions and the below input array a.\n",
    "# Input: a = np.array([1,2,3])\n",
    "# Output: array([1, 1, 1, 2, 2, 2, 3, 3, 3, 1, 2, 3, 1, 2, 3, 1, 2, 3])\n",
    "a = np.array([1,2,3])\n",
    "np.hstack((np.repeat(a, 3), np.tile(a, 3)))"
   ]
  },
  {
   "cell_type": "code",
   "execution_count": null,
   "id": "daa91ffa",
   "metadata": {},
   "outputs": [],
   "source": [
    "# Question: Get the common items between a and b\n",
    "# Input: a = np.array([1,2,3,2,3,4,3,4,5,6])\n",
    "#        b = np.array([7,2,10,2,7,4,9,4,9,8])\n",
    "# Output: array([2, 4])\n",
    "a = np.array([1,2,3,2,3,4,3,4,5,6])\n",
    "b = np.array([7,2,10,2,7,4,9,4,9,8])\n",
    "np.intersect1d(a,b)    "
   ]
  },
  {
   "cell_type": "code",
   "execution_count": null,
   "id": "9c260754",
   "metadata": {},
   "outputs": [],
   "source": [
    "#How to remove from one array those items that exist in another?\n",
    "# Question: From array a remove all items present in array b\n",
    "# Input: a = np.array([1,2,3,4,5])\n",
    "#        b = np.array([5,6,7,8,9])\n",
    "a = np.array([1,2,3,4,5])\n",
    "b = np.array([5,6,7,8,9])\n",
    "np.setdiff1d(a,b)"
   ]
  },
  {
   "cell_type": "code",
   "execution_count": null,
   "id": "c8c4124c",
   "metadata": {},
   "outputs": [],
   "source": [
    "#How to get the positions where elements of two arrays match?\n",
    "# Question: Get the positions where elements of a and b match\n",
    "# Input: a = np.array([1,2,3,2,3,4,3,4,5,6])\n",
    "#        b = np.array([7,2,10,2,7,4,9,4,9,8])\n",
    "# Output: (array([1, 3, 5, 7]),)\n",
    "a = np.array([1,2,3,2,3,4,3,4,5,6])\n",
    "b = np.array([7,2,10,2,7,4,9,4,9,8])\n",
    "np.where(a==b)"
   ]
  },
  {
   "cell_type": "code",
   "execution_count": 5,
   "id": "bd38f3d2",
   "metadata": {},
   "outputs": [
    {
     "data": {
      "text/plain": [
       "array([ 6,  9, 10])"
      ]
     },
     "execution_count": 5,
     "metadata": {},
     "output_type": "execute_result"
    }
   ],
   "source": [
    "#How to extract all numbers between a given range from a numpy array?\n",
    "# Question: Get all items between 5 and 10 from a.\n",
    "# Input: a = np.array([2, 6, 1, 9, 10, 3, 27])\n",
    "# Output: (array([6, 9, 10]),)\n",
    "a = np.array([2, 6, 1, 9, 10, 3, 27])\n",
    "a[(a >= 5) & (a <= 10)]"
   ]
  },
  {
   "cell_type": "code",
   "execution_count": 6,
   "id": "b4c6c97c",
   "metadata": {},
   "outputs": [
    {
     "name": "stdout",
     "output_type": "stream",
     "text": [
      "Original array\n",
      "[[0 1 2]\n",
      " [3 4 5]\n",
      " [6 7 8]]\n",
      "\n",
      "Modified array\n"
     ]
    },
    {
     "data": {
      "text/plain": [
       "array([[1, 0, 2],\n",
       "       [4, 3, 5],\n",
       "       [7, 6, 8]])"
      ]
     },
     "execution_count": 6,
     "metadata": {},
     "output_type": "execute_result"
    }
   ],
   "source": [
    "#How to swap two columns in a 2d numpy array?\n",
    "arr = np.arange(9).reshape(3,3)\n",
    "print('Original array')\n",
    "print(arr)\n",
    "# Solution\n",
    "print(\"\\nModified array\")\n",
    "arr[:, [1,0,2]]\n",
    "'''Swapping two columns in a 2D NumPy array can be effectively done using indexing. \n",
    "Let's break down the provided code snippet step by step, particularly focusing on what happens in the line that modifies the array.\n",
    "\n",
    "### Step-by-step Explanation\n",
    "\n",
    "1. **Creation of the Original Array**:\n",
    "   ```python\n",
    "   arr = np.arange(9).reshape(3,3)\n",
    "   ```\n",
    "   This line creates a 1D NumPy array of numbers from 0 to 8 using `np.arange(9)`.\n",
    "   Then, `reshape(3,3)` transforms it into a 2D array (matrix) with 3 rows and 3 columns.\n",
    "\n",
    "   The output of `print(arr)` would look like this:\n",
    "   ```\n",
    "   Original array\n",
    "   [[0 1 2]\n",
    "    [3 4 5]\n",
    "    [6 7 8]]\n",
    "   ```\n",
    "\n",
    "2. **Swapping Columns**:\n",
    "   ```python\n",
    "   arr[:, [1, 0, 2]]\n",
    "   ```\n",
    "   Here’s what happens in this line:\n",
    "   - **`:`** refers to all rows in the array.\n",
    "   - **`[1, 0, 2]`** is an index array specifying the order of columns we want to access or reorder. In this case:\n",
    "     - The column at index `1` (second column) is swapped to the first position.\n",
    "     - The column at index `0` (first column) is moved to the second position.\n",
    "     - The column at index `2` (third column) remains in its original position.\n",
    "\n",
    "3. **Creating the New Array**:\n",
    "   When you execute `arr[:, [1, 0, 2]]`, it results in a new NumPy array with the columns reordered as specified:\n",
    "   ```\n",
    "   [[1 0 2]\n",
    "    [4 3 5]\n",
    "    [7 6 8]]\n",
    "   ```\n",
    "   \n",
    "4. **Explanation of the Result**:\n",
    "   - The first column of the original array (indices corresponding to `0, 3, 6`) is replaced by the second column (indices corresponding to `1, 4, 7`).\n",
    "   - The second column (now at index `0`) takes the place of the first column.\n",
    "   - The third column remains unchanged (indices corresponding to `2, 5, 8`).\n",
    "\n",
    "### Conclusion\n",
    "\n",
    "To actually modify `arr` in-place, you would need to assign it back like this:\n",
    "```python\n",
    "arr = arr[:, [1, 0, 2]]\n",
    "```\n",
    "This effectively swaps the columns of the array, and you can print `arr` again to see the modified result.\n",
    "\n",
    "Using this technique leverages NumPy's powerful indexing functionalities to rearrange the data in an efficient manner without needing loops.\n",
    "'''"
   ]
  },
  {
   "cell_type": "code",
   "execution_count": 7,
   "id": "4a1accc3",
   "metadata": {},
   "outputs": [
    {
     "name": "stdout",
     "output_type": "stream",
     "text": [
      "Original array\n",
      "[[0 1 2]\n",
      " [3 4 5]\n",
      " [6 7 8]]\n",
      "\n",
      "Modified array\n",
      "[[3 4 5]\n",
      " [0 1 2]\n",
      " [6 7 8]]\n"
     ]
    }
   ],
   "source": [
    " # How to swap two rows in a 2d numpy array\n",
    "arr = np.arange(9).reshape(3,3)\n",
    "print('Original array')\n",
    "print(arr)\n",
    "# Solution\n",
    "print(\"\\nModified array\")\n",
    "print(arr[[1,0,2], :])"
   ]
  },
  {
   "cell_type": "code",
   "execution_count": 3,
   "id": "88f76100",
   "metadata": {},
   "outputs": [
    {
     "name": "stdout",
     "output_type": "stream",
     "text": [
      "Original array\n",
      "[[0 1 2]\n",
      " [3 4 5]\n",
      " [6 7 8]]\n",
      "\n",
      "Modified array\n"
     ]
    },
    {
     "data": {
      "text/plain": [
       "array([[6, 7, 8],\n",
       "       [3, 4, 5],\n",
       "       [0, 1, 2]])"
      ]
     },
     "execution_count": 3,
     "metadata": {},
     "output_type": "execute_result"
    }
   ],
   "source": [
    "#How to reverse the rows of a 2D array?\n",
    "# Question: Reverse the rows of a 2D array arr.\n",
    "# Input:\n",
    "arr = np.arange(9).reshape(3,3)\n",
    "print('Original array')\n",
    "print(arr)\n",
    "# Solution\n",
    "print(\"\\nModified array\")\n",
    "arr[::-1]"
   ]
  },
  {
   "cell_type": "code",
   "execution_count": 2,
   "id": "689ba0e7",
   "metadata": {},
   "outputs": [
    {
     "name": "stdout",
     "output_type": "stream",
     "text": [
      "Original array\n",
      "[[0 1 2]\n",
      " [3 4 5]\n",
      " [6 7 8]]\n",
      "\n",
      "Modified array\n"
     ]
    },
    {
     "data": {
      "text/plain": [
       "array([[8, 7, 6],\n",
       "       [5, 4, 3],\n",
       "       [2, 1, 0]])"
      ]
     },
     "execution_count": 2,
     "metadata": {},
     "output_type": "execute_result"
    }
   ],
   "source": [
    "#How to reverse the columns of a 2D array?\n",
    "# Question: Reverse the columns of a 2D array arr.\n",
    "# Input: arr = np.arange(9).reshape(3,3)\n",
    "import numpy as np\n",
    "arr = np.arange(9).reshape(3,3)\n",
    "print('Original array')\n",
    "print(arr)\n",
    "print(\"\\nModified array\")\n",
    "arr[::-1, ::-1]"
   ]
  },
  {
   "cell_type": "code",
   "execution_count": 13,
   "id": "37328a3f",
   "metadata": {},
   "outputs": [
    {
     "data": {
      "text/plain": [
       "array([[7.21766779, 8.64435977, 6.31675596],\n",
       "       [9.89087818, 8.28595906, 6.50615195],\n",
       "       [5.59350267, 8.02600784, 7.70439804],\n",
       "       [8.03050018, 6.44978972, 8.69385867],\n",
       "       [9.77987789, 7.3349173 , 7.77699176]])"
      ]
     },
     "execution_count": 13,
     "metadata": {},
     "output_type": "execute_result"
    }
   ],
   "source": [
    "#How to create a 2D array containing random floats between 5 and 10?\n",
    "# Question: Create a 2D array of shape 5x3 to contain random decimal numbers between 5 and 10.\n",
    "rand_arr=np.random.uniform(5,10,size=(5,3))\n",
    "rand_arr"
   ]
  },
  {
   "cell_type": "code",
   "execution_count": null,
   "id": "51c1dea7",
   "metadata": {},
   "outputs": [],
   "source": []
  }
 ],
 "metadata": {
  "kernelspec": {
   "display_name": "Python 3 (ipykernel)",
   "language": "python",
   "name": "python3"
  },
  "language_info": {
   "codemirror_mode": {
    "name": "ipython",
    "version": 3
   },
   "file_extension": ".py",
   "mimetype": "text/x-python",
   "name": "python",
   "nbconvert_exporter": "python",
   "pygments_lexer": "ipython3",
   "version": "3.12.3"
  }
 },
 "nbformat": 4,
 "nbformat_minor": 5
}
