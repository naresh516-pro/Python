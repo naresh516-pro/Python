{
 "cells": [
  {
   "cell_type": "markdown",
   "id": "e0960b03",
   "metadata": {},
   "source": [
    "#### data type:\n",
    "    -it specifies the type of the data..\n",
    "    -three basic data types:\n",
    "    1.int()\n",
    "    2.flote()\n",
    "    3.str()\n",
    "    -type() method:\n",
    "            To know the type of data\n",
    "            ex;type(variable_name)"
   ]
  },
  {
   "cell_type": "code",
   "execution_count": 1,
   "id": "d8d0e7f7",
   "metadata": {},
   "outputs": [
    {
     "name": "stdout",
     "output_type": "stream",
     "text": [
      "<class 'int'>\n"
     ]
    }
   ],
   "source": [
    "a=100\n",
    "print(type(a))"
   ]
  },
  {
   "cell_type": "code",
   "execution_count": 3,
   "id": "7c312438",
   "metadata": {},
   "outputs": [
    {
     "name": "stdout",
     "output_type": "stream",
     "text": [
      "<class 'str'>\n"
     ]
    }
   ],
   "source": [
    "s=\"phython programming\"\n",
    "print(type(s))"
   ]
  },
  {
   "cell_type": "markdown",
   "id": "f4e95c92",
   "metadata": {},
   "source": [
    "### Type conversons:\n",
    "    -1.int()_>flote()\n",
    "    2.FLOTE()_>int()\n",
    "    3.str()_> int()"
   ]
  },
  {
   "cell_type": "code",
   "execution_count": 14,
   "id": "76555a50",
   "metadata": {},
   "outputs": [
    {
     "name": "stdout",
     "output_type": "stream",
     "text": [
      "123\n",
      "<class 'int'>\n",
      "123.0\n",
      "<class 'float'>\n"
     ]
    }
   ],
   "source": [
    "#1.To convert the data into integer to floate.\n",
    "n = 123\n",
    "print(n)\n",
    "print(type(n))\n",
    "n = float(n)\n",
    "print(n)\n",
    "print(type(n))"
   ]
  },
  {
   "cell_type": "code",
   "execution_count": 12,
   "id": "3d6ab119",
   "metadata": {},
   "outputs": [
    {
     "name": "stdout",
     "output_type": "stream",
     "text": [
      "67.89\n",
      "<class 'float'>\n",
      "67\n",
      "<class 'int'>\n"
     ]
    }
   ],
   "source": [
    "#to convrert the data into flote to integer conversion.\n",
    "m = 67.89\n",
    "print(m)\n",
    "print(type(m))\n",
    "m = int(m)\n",
    "print(m)\n",
    "print(type(m))"
   ]
  },
  {
   "cell_type": "code",
   "execution_count": 15,
   "id": "20572c61",
   "metadata": {},
   "outputs": [
    {
     "name": "stdout",
     "output_type": "stream",
     "text": [
      "2345\n",
      "<class 'str'>\n",
      "2345\n",
      "<class 'int'>\n"
     ]
    }
   ],
   "source": [
    "#To convert the data into string to integer..\n",
    "s1='2345'\n",
    "print(s1)\n",
    "print(type(s1))\n",
    "s1=int(s1)\n",
    "print(s1)\n",
    "print(type(s1))\n"
   ]
  },
  {
   "cell_type": "code",
   "execution_count": 6,
   "id": "325af6c6",
   "metadata": {},
   "outputs": [
    {
     "name": "stdout",
     "output_type": "stream",
     "text": [
      "phython\n",
      "<class 'str'>\n"
     ]
    },
    {
     "ename": "ValueError",
     "evalue": "invalid literal for int() with base 10: 'phython'",
     "output_type": "error",
     "traceback": [
      "\u001b[1;31m---------------------------------------------------------------------------\u001b[0m",
      "\u001b[1;31mValueError\u001b[0m                                Traceback (most recent call last)",
      "\u001b[1;32m~\\AppData\\Local\\Temp\\ipykernel_10560\\1728602914.py\u001b[0m in \u001b[0;36m<module>\u001b[1;34m\u001b[0m\n\u001b[0;32m      2\u001b[0m \u001b[0mprint\u001b[0m\u001b[1;33m(\u001b[0m\u001b[0ms2\u001b[0m\u001b[1;33m)\u001b[0m\u001b[1;33m\u001b[0m\u001b[1;33m\u001b[0m\u001b[0m\n\u001b[0;32m      3\u001b[0m \u001b[0mprint\u001b[0m\u001b[1;33m(\u001b[0m\u001b[0mtype\u001b[0m\u001b[1;33m(\u001b[0m\u001b[0ms2\u001b[0m\u001b[1;33m)\u001b[0m\u001b[1;33m)\u001b[0m\u001b[1;33m\u001b[0m\u001b[1;33m\u001b[0m\u001b[0m\n\u001b[1;32m----> 4\u001b[1;33m \u001b[0ms2\u001b[0m \u001b[1;33m=\u001b[0m \u001b[0mint\u001b[0m\u001b[1;33m(\u001b[0m\u001b[0ms2\u001b[0m\u001b[1;33m)\u001b[0m\u001b[1;33m\u001b[0m\u001b[1;33m\u001b[0m\u001b[0m\n\u001b[0m\u001b[0;32m      5\u001b[0m \u001b[0mprint\u001b[0m\u001b[1;33m(\u001b[0m\u001b[0ms2\u001b[0m\u001b[1;33m)\u001b[0m\u001b[1;33m\u001b[0m\u001b[1;33m\u001b[0m\u001b[0m\n\u001b[0;32m      6\u001b[0m \u001b[0mprint\u001b[0m\u001b[1;33m(\u001b[0m\u001b[0mtype\u001b[0m\u001b[1;33m(\u001b[0m\u001b[0ms2\u001b[0m\u001b[1;33m)\u001b[0m\u001b[1;33m)\u001b[0m\u001b[1;33m\u001b[0m\u001b[1;33m\u001b[0m\u001b[0m\n",
      "\u001b[1;31mValueError\u001b[0m: invalid literal for int() with base 10: 'phython'"
     ]
    }
   ],
   "source": [
    "s2='phython'\n",
    "print(s2)\n",
    "print(type(s2))\n",
    "s2 = int(s2)\n",
    "print(s2)\n",
    "print(type(s2))"
   ]
  },
  {
   "cell_type": "markdown",
   "id": "208cae47",
   "metadata": {},
   "source": [
    " ### input methods:\n",
    "     using input() we can read the value from the key board.\n",
    "     - syntax;\n",
    "         variable_name = data type(input('promot message))\n",
    "         "
   ]
  },
  {
   "cell_type": "code",
   "execution_count": 18,
   "id": "194b27b4",
   "metadata": {},
   "outputs": [
    {
     "name": "stdout",
     "output_type": "stream",
     "text": [
      "Enter k value34\n",
      "34\n",
      "<class 'int'>\n"
     ]
    }
   ],
   "source": [
    "#To raed integer value...\n",
    "k = int(input(\"Enter k value\"))\n",
    "print(k)\n",
    "print(type(k))"
   ]
  },
  {
   "cell_type": "code",
   "execution_count": 19,
   "id": "2723833d",
   "metadata": {},
   "outputs": [
    {
     "name": "stdout",
     "output_type": "stream",
     "text": [
      "enter k value32.3\n",
      "32.3\n",
      "<class 'float'>\n"
     ]
    }
   ],
   "source": [
    "#To read floating value...\n",
    "k=float(input(\"enter k value\"))\n",
    "print(k)\n",
    "print(type(k))"
   ]
  },
  {
   "cell_type": "code",
   "execution_count": 7,
   "id": "75875e09",
   "metadata": {},
   "outputs": [
    {
     "name": "stdout",
     "output_type": "stream",
     "text": [
      "2\n",
      "2\n",
      "<class 'str'>\n"
     ]
    }
   ],
   "source": [
    "#To read string value... no need to specify the data type\n",
    "k=input()\n",
    "print(k)\n",
    "print(type(k))\n"
   ]
  },
  {
   "cell_type": "markdown",
   "id": "df67a671",
   "metadata": {},
   "source": [
    "#### variables:\n",
    "       by using variable we can store the data..\n",
    "           Ex: variable_name = value\n",
    "           rules:\n",
    "           ------\n",
    "    1. variable name start with alphabets,alphabetsb followed by digits,underscore,combination of upper and lower case alphabets.\n",
    "    -ex: a = 100 ,abc12 = 34 ,_a = 23,ABc = 'phyton'\n",
    "    2.variable name should not start with digits,special characters,keywords,inbuilt functions.\n",
    "    ex:123 = 34,@abc='phtyon',while = 34,max = 56\n",
    "    variable name should not allow the spaces.\n",
    "    ex: first name  = 'abc'\n",
    "    to join the two names we can use underscore.\n",
    "    ex: first_name = 'abc'\n",
    "    \n",
    "             "
   ]
  },
  {
   "cell_type": "code",
   "execution_count": 27,
   "id": "6ef255e6",
   "metadata": {},
   "outputs": [
    {
     "name": "stdout",
     "output_type": "stream",
     "text": [
      "phython\n"
     ]
    }
   ],
   "source": [
    "abc123='phython'\n",
    "print(abc123)"
   ]
  },
  {
   "cell_type": "code",
   "execution_count": 28,
   "id": "d7813c9c",
   "metadata": {},
   "outputs": [
    {
     "name": "stdout",
     "output_type": "stream",
     "text": [
      "10 10 10 10 10\n"
     ]
    }
   ],
   "source": [
    "#To assing the same data to different variable names...\n",
    "a=b=c=d=e=10\n",
    "print(a,b,c,d,e)"
   ]
  },
  {
   "cell_type": "code",
   "execution_count": 29,
   "id": "0a5316c3",
   "metadata": {},
   "outputs": [
    {
     "name": "stdout",
     "output_type": "stream",
     "text": [
      "23.43 phython 78\n",
      "<class 'float'> 23.43\n",
      "<class 'str'> phython\n",
      "<class 'int'> 78\n"
     ]
    }
   ],
   "source": [
    "#To store the defferent type data to different variable name\n",
    "a1,b1,c1=23.43,'phython',78\n",
    "print(a1,b1,c1)\n",
    "print(type(a1),a1)\n",
    "print(type(b1),b1)\n",
    "print(type(c1),c1)"
   ]
  },
  {
   "cell_type": "code",
   "execution_count": 10,
   "id": "c09957ae",
   "metadata": {},
   "outputs": [
    {
     "name": "stdout",
     "output_type": "stream",
     "text": [
      "keywords are:\n",
      "['False', 'None', 'True', '__peg_parser__', 'and', 'as', 'assert', 'async', 'await', 'break', 'class', 'continue', 'def', 'del', 'elif', 'else', 'except', 'finally', 'for', 'from', 'global', 'if', 'import', 'in', 'is', 'lambda', 'nonlocal', 'not', 'or', 'pass', 'raise', 'return', 'try', 'while', 'with', 'yield']\n"
     ]
    }
   ],
   "source": [
    "import keyword\n",
    "print('keywords are:')\n",
    "print(keyword.kwlist) "
   ]
  },
  {
   "cell_type": "markdown",
   "id": "42edced0",
   "metadata": {},
   "source": [
    "### operator:\n",
    "    to perform any operation operand or values\n",
    "        ex-a=10,b = 20\n",
    "        print(a+b)\n",
    "        output:30\n",
    "    7 types of peration in phython\n",
    "       1-arithamatic operator\n",
    "      2.comparision operator\n",
    "      3.logical operator\n",
    "      4.assingnment operator\n",
    "    5.bitwise operator\n",
    "    6.membertship operator\n",
    "    7.identity operator"
   ]
  },
  {
   "cell_type": "code",
   "execution_count": 1,
   "id": "a5044610",
   "metadata": {},
   "outputs": [
    {
     "name": "stdout",
     "output_type": "stream",
     "text": [
      "enter a value25\n",
      "enter b value3\n",
      "addition is : 28\n",
      "subtraction is : 22\n",
      "mulpication is : 75\n",
      "moduls is : 1\n",
      "floor division is : 8\n",
      "division is : 8.333333333333334\n",
      "power is: 625\n"
     ]
    }
   ],
   "source": [
    "# 1. Arithmetic operators:\n",
    "# def: To perform the simple mathematical operation\n",
    "#(+,-,*,/,%,//,(floor division),**(power))\n",
    "a = int(input(\"enter a value\"))\n",
    "b = int(input(\"enter b value\"))\n",
    "print('addition is :',a+b)\n",
    "print('subtraction is :',a-b)\n",
    "print('mulpication is :',a*b)\n",
    "print('moduls is :',a%b)\n",
    "print('floor division is :',a//b)\n",
    "print('division is :',a/b)\n",
    "print('power is:',a**2)\n",
    "      "
   ]
  },
  {
   "cell_type": "code",
   "execution_count": 2,
   "id": "739d9c19",
   "metadata": {},
   "outputs": [
    {
     "name": "stdout",
     "output_type": "stream",
     "text": [
      "< values is: False\n",
      "> value is  True\n",
      "<= value is True\n",
      ">= value is False\n",
      "== value is False\n"
     ]
    }
   ],
   "source": [
    "#2.Comparion operator\n",
    "#(<,>,<=,>=,!=,==)\n",
    "# It return the boolean values like(True or False)\n",
    "p = 23\n",
    "q = 100\n",
    "print('< values is:',p>q)\n",
    "print('> value is ',p<q)\n",
    "print('<= value is',p<=q)\n",
    "print('>= value is',p>=q)\n",
    "print('== value is',p==q)\n"
   ]
  },
  {
   "cell_type": "code",
   "execution_count": 3,
   "id": "18cd347d",
   "metadata": {},
   "outputs": [
    {
     "ename": "SyntaxError",
     "evalue": "EOL while scanning string literal (1133737013.py, line 11)",
     "output_type": "error",
     "traceback": [
      "\u001b[1;36m  Input \u001b[1;32mIn [3]\u001b[1;36m\u001b[0m\n\u001b[1;33m    ''''\u001b[0m\n\u001b[1;37m        \n^\u001b[0m\n\u001b[1;31mSyntaxError\u001b[0m\u001b[1;31m:\u001b[0m EOL while scanning string literal\n"
     ]
    }
   ],
   "source": [
    "#3.logical operators\n",
    "#it returns the boolean values-> True or false\n",
    "# (and,or,not)\n",
    "'''\n",
    "P Q (p and q) (P or Q)  (P not Q)\n",
    "1 1   1          1         0\n",
    "1 0   0          1         0\n",
    "0 1   0          1         1\n",
    "0  0  0          0         1\n",
    "\n",
    "''''\n",
    "a = 10\n",
    "b = 24 \n",
    "print(a>b and b>a)\n",
    "#     F and T -> False\n",
    "print(a!=b or b==a)\n",
    "#     T or F -> True\n",
    "print(a!=b or b==a) \n",
    "# not(True)\n",
    "\n",
    "\n"
   ]
  },
  {
   "cell_type": "code",
   "execution_count": 9,
   "id": "991dbe6b",
   "metadata": {},
   "outputs": [
    {
     "name": "stdout",
     "output_type": "stream",
     "text": [
      "10\n",
      "15\n",
      "5\n",
      "40\n",
      "2\n",
      "-11\n",
      "-16\n"
     ]
    }
   ],
   "source": [
    "#Bitwise operators\n",
    "# (&,|,^,(x-or),<<(left shift),>>(right shift),~(negat\n",
    "a=10\n",
    "b=15\n",
    "print(a&b)\n",
    "print(a|b)\n",
    "print(a^b)\n",
    "print(a<<2)\n",
    "print(a>>2)\n",
    "print(~a)\n",
    "print(~b)\n",
    "# negation ~ => -(1010+1) =>-(1011)"
   ]
  },
  {
   "cell_type": "code",
   "execution_count": 11,
   "id": "7cf7faab",
   "metadata": {},
   "outputs": [
    {
     "name": "stdout",
     "output_type": "stream",
     "text": [
      "a value is: 58\n",
      "b value is: -23\n"
     ]
    }
   ],
   "source": [
    "# assingnment operators :\n",
    "#(+=,-=,*=,/=,//=,**=)\n",
    "a=23\n",
    "b=35\n",
    "a +=b\n",
    "#a=a+b => a=23+35 =>58 =.a=58\n",
    "print('a value is:',a)\n",
    "b -=a #b =b-a=>b=35-58=>-23\n",
    "print('b value is:',b)\n"
   ]
  },
  {
   "cell_type": "code",
   "execution_count": 12,
   "id": "0bc704e1",
   "metadata": {},
   "outputs": [
    {
     "name": "stdout",
     "output_type": "stream",
     "text": [
      "True\n",
      "True\n",
      "False\n"
     ]
    }
   ],
   "source": [
    "#membeship operator:\n",
    "#it will return bollean values like true or false.\n",
    "#(in,not in) -> list of data,string concept...\n",
    "L1 = [10,20,30,40,50,60]\n",
    "print(10 in L1)\n",
    "print(100 not in L1)\n",
    "print(40 not in L1)\n"
   ]
  },
  {
   "cell_type": "code",
   "execution_count": 5,
   "id": "5857aeae",
   "metadata": {},
   "outputs": [
    {
     "name": "stdout",
     "output_type": "stream",
     "text": [
      "True\n",
      "True\n",
      "False\n",
      "True\n",
      "True\n"
     ]
    }
   ],
   "source": [
    "s1 = 'phyton programming'\n",
    "print('t' in s1)\n",
    "print('program'in s1)\n",
    "print('b'in s1)\n",
    "print('c' not in s1)\n",
    "print('s'not in s1) "
   ]
  },
  {
   "cell_type": "code",
   "execution_count": 4,
   "id": "8822db5f",
   "metadata": {},
   "outputs": [
    {
     "name": "stdout",
     "output_type": "stream",
     "text": [
      "False\n",
      "True\n"
     ]
    }
   ],
   "source": [
    "# identity opeator:\n",
    "# (is, is not)\n",
    "a = 10\n",
    "b = 20\n",
    "print(a is b) # equal\n",
    "print(a is not b) # not equal"
   ]
  },
  {
   "cell_type": "code",
   "execution_count": 20,
   "id": "cfc7a57d",
   "metadata": {},
   "outputs": [
    {
     "name": "stdout",
     "output_type": "stream",
     "text": [
      "False\n"
     ]
    }
   ],
   "source": [
    "s1 = \"abc\"\n",
    "s2 = \"ABC\"\n",
    "print(s1 is s2)"
   ]
  },
  {
   "cell_type": "markdown",
   "id": "a3829c62",
   "metadata": {},
   "source": [
    "### Task:\n",
    "1. To calculate the aruehmetic operations?\n",
    "2. to convert the dollars to ruppes?\n",
    "input: d = 5\n",
    "output: \n",
    "3. To convert the ruppes to dollars?\n",
    "input: r =100\n",
    "output:\n",
    "4. To print the swapping of a two  numbers ?\n",
    "input: a = 10 b = 20\n",
    "output: a = 20 b = 10\n",
    "5. To find the area of the square?\n",
    "6. To find the area of a circle?\n",
    "7. To find the simple interest?\n",
    "8. To read the input and check data type?\n",
    "9. To concanate the two string?\n",
    "10. To read the two inputs and to print the remainder value?"
   ]
  },
  {
   "cell_type": "code",
   "execution_count": null,
   "id": "6dd1a16e",
   "metadata": {},
   "outputs": [],
   "source": [
    "b = 100 # static\n",
    "b = int(input('enter b value'))"
   ]
  },
  {
   "cell_type": "code",
   "execution_count": 21,
   "id": "ca459381",
   "metadata": {},
   "outputs": [
    {
     "name": "stdout",
     "output_type": "stream",
     "text": [
      "enter a value50\n",
      "enter b value20\n",
      "addition is : 70\n",
      "subtraction is : 30\n",
      "mulpication is : 1000\n",
      "moduls is : 10\n",
      "floor division is : 2\n",
      "division is : 2.5\n",
      "power is: 2500\n"
     ]
    }
   ],
   "source": [
    "#arthematic operations\n",
    "a = int(input(\"enter a value\"))\n",
    "b = int(input(\"enter b value\"))\n",
    "print('addition is :',a+b)\n",
    "print('subtraction is :',a-b)\n",
    "print('mulpication is :',a*b)\n",
    "print('moduls is :',a%b)\n",
    "print('floor division is :',a//b)\n",
    "print('division is :',a/b)\n",
    "print('power is:',a**2)"
   ]
  },
  {
   "cell_type": "code",
   "execution_count": 17,
   "id": "880e3537",
   "metadata": {},
   "outputs": [
    {
     "name": "stdout",
     "output_type": "stream",
     "text": [
      "Enter the value of side :5\n",
      "triangle of square is = 25\n"
     ]
    }
   ],
   "source": [
    "#area of square\n",
    "s = int(input('Enter the value of side :'))\n",
    "a = s*s\n",
    "print('triangle of square is =',a)\n"
   ]
  },
  {
   "cell_type": "code",
   "execution_count": 15,
   "id": "01ee285e",
   "metadata": {},
   "outputs": [
    {
     "name": "stdout",
     "output_type": "stream",
     "text": [
      "Enter the value of radius:9\n",
      "Area of circle is = 254.57142857142856\n"
     ]
    }
   ],
   "source": [
    "#area of circle\n",
    "r=float(input('Enter the value of radius:'))\n",
    "a=22/7*r*r\n",
    "print('Area of circle is =',a)"
   ]
  },
  {
   "cell_type": "code",
   "execution_count": 43,
   "id": "68be39a7",
   "metadata": {},
   "outputs": [
    {
     "name": "stdout",
     "output_type": "stream",
     "text": [
      "Enter the rupees:100\n",
      "1.211827435773146 dollers\n"
     ]
    }
   ],
   "source": [
    "#rupees into dollers\n",
    "rupees = float(input('Enter the rupees:'))\n",
    "dollers = rupees / 82.52\n",
    "print(dollers,'dollers')"
   ]
  },
  {
   "cell_type": "code",
   "execution_count": 45,
   "id": "6343ca84",
   "metadata": {},
   "outputs": [
    {
     "name": "stdout",
     "output_type": "stream",
     "text": [
      "Enter the dollers:5\n",
      "412.59999999999997 rupees\n"
     ]
    }
   ],
   "source": [
    "#dollers to ruppes\n",
    "dollers = float(input('Enter the dollers:'))\n",
    "rupees = dollers * 82.52\n",
    "print(rupees,'rupees')"
   ]
  },
  {
   "cell_type": "code",
   "execution_count": 4,
   "id": "db205710",
   "metadata": {},
   "outputs": [
    {
     "name": "stdout",
     "output_type": "stream",
     "text": [
      "namaste\n"
     ]
    }
   ],
   "source": [
    "\n",
    "b='namaste'\n",
    "print(b)\n"
   ]
  },
  {
   "cell_type": "code",
   "execution_count": 2,
   "id": "2b0cb786",
   "metadata": {},
   "outputs": [
    {
     "name": "stdout",
     "output_type": "stream",
     "text": [
      "Enter the value of a:10\n",
      "Enter the value of b:20\n",
      "after swaping:\n",
      "value of a: 20\n",
      "value of b: 10\n"
     ]
    }
   ],
   "source": [
    "#swapping of two numbers\n",
    "a=int(input('Enter the value of a:'))\n",
    "b=int(input('Enter the value of b:'))\n",
    "temp=a\n",
    "a=b\n",
    "b=temp\n",
    "print('after swaping:')\n",
    "print('value of a:',a)\n",
    "print('value of b:',b)\n"
   ]
  },
  {
   "cell_type": "code",
   "execution_count": 27,
   "id": "972219db",
   "metadata": {},
   "outputs": [
    {
     "name": "stdout",
     "output_type": "stream",
     "text": [
      "Enter the principal:100\n",
      "Enter the time:2\n",
      "Enter the rate:20\n",
      "simple intrest: 40.0\n"
     ]
    }
   ],
   "source": [
    "#simple intrest\n",
    "p=int(input('Enter the principal:'))\n",
    "t=int(input('Enter the time:'))\n",
    "r=int(input('Enter the rate:'))\n",
    "si=p*t*r/100\n",
    "print('simple intrest:',si)"
   ]
  },
  {
   "cell_type": "code",
   "execution_count": 2,
   "id": "abb38b2e",
   "metadata": {},
   "outputs": [
    {
     "name": "stdout",
     "output_type": "stream",
     "text": [
      "Enter the value of a:5\n",
      "Enter the value of b:20\n",
      "0.25\n"
     ]
    }
   ],
   "source": [
    "a=float(input('Enter the value of a:'))\n",
    "b=float(input('Enter the value of b:'))\n",
    "rem=a/b\n",
    "print(rem)"
   ]
  },
  {
   "cell_type": "code",
   "execution_count": 17,
   "id": "bb04d53d",
   "metadata": {},
   "outputs": [
    {
     "name": "stdout",
     "output_type": "stream",
     "text": [
      "<class 'int'>\n"
     ]
    }
   ],
   "source": [
    "x=15\n",
    "print(type(x))"
   ]
  },
  {
   "cell_type": "code",
   "execution_count": 8,
   "id": "c49afcc0",
   "metadata": {},
   "outputs": [
    {
     "name": "stdout",
     "output_type": "stream",
     "text": [
      "<class 'str'>\n",
      "<class 'int'>\n",
      "<class 'float'>\n"
     ]
    }
   ],
   "source": [
    "a='siva'\n",
    "b=123\n",
    "C=123.4\n",
    "print(type(a))\n",
    "print(type(b))\n",
    "print(type(C))\n"
   ]
  },
  {
   "cell_type": "code",
   "execution_count": 3,
   "id": "cdc3b636",
   "metadata": {},
   "outputs": [
    {
     "name": "stdout",
     "output_type": "stream",
     "text": [
      "s\n",
      "<class 'int'>\n",
      "2345\n",
      "<class 'str'>\n"
     ]
    }
   ],
   "source": [
    "s=2345\n",
    "print(\"s\")\n",
    "print(type(s))\n",
    "n=str(s)\n",
    "print(n)\n",
    "print(type(n))"
   ]
  },
  {
   "cell_type": "code",
   "execution_count": null,
   "id": "4c7849cc",
   "metadata": {},
   "outputs": [],
   "source": []
  }
 ],
 "metadata": {
  "kernelspec": {
   "display_name": "Python 3 (ipykernel)",
   "language": "python",
   "name": "python3"
  },
  "language_info": {
   "codemirror_mode": {
    "name": "ipython",
    "version": 3
   },
   "file_extension": ".py",
   "mimetype": "text/x-python",
   "name": "python",
   "nbconvert_exporter": "python",
   "pygments_lexer": "ipython3",
   "version": "3.12.3"
  }
 },
 "nbformat": 4,
 "nbformat_minor": 5
}
