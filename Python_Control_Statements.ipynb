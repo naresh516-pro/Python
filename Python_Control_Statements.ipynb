{
 "cells": [
  {
   "cell_type": "markdown",
   "id": "a4b7dd7a",
   "metadata": {},
   "source": [
    "### control statements:\n",
    "    conditional statements:\n",
    "    -simple if,if-else,elif statements,elif lader,nested if-else\n",
    "    \n",
    "    -1.simple if:\n",
    "    -syntax:\n",
    "           if(condution):\n",
    "              statements\n",
    "              \n"
   ]
  },
  {
   "cell_type": "code",
   "execution_count": 4,
   "id": "0b96e669",
   "metadata": {},
   "outputs": [
    {
     "name": "stdout",
     "output_type": "stream",
     "text": [
      "Enter n value-9\n",
      "-9 is a negative number\n"
     ]
    }
   ],
   "source": [
    "#1.to check whether the given number is negative or not?\n",
    "n=int(input('Enter n value'))\n",
    "if n<0:\n",
    " print(n,'is a negative number')\n"
   ]
  },
  {
   "cell_type": "markdown",
   "id": "be8f7efd",
   "metadata": {},
   "source": [
    "### if-else\n",
    "-syntax:\n",
    "    if(condition)\n",
    "        statemets\n",
    "     else:\n",
    "     statements"
   ]
  },
  {
   "cell_type": "code",
   "execution_count": 5,
   "id": "7653e512",
   "metadata": {
    "scrolled": true
   },
   "outputs": [
    {
     "name": "stdout",
     "output_type": "stream",
     "text": [
      "Enter n1 value2\n",
      "2 is a even number\n"
     ]
    }
   ],
   "source": [
    "# to check whteher the given number is even or odd?\n",
    "n1=int(input('Enter n1 value'))\n",
    "if n1%2 == 0:\n",
    "        print(n1,'is a even number')\n",
    "else:\n",
    "        print(n1,'is a odd number')"
   ]
  },
  {
   "cell_type": "code",
   "execution_count": 8,
   "id": "8c600ccd",
   "metadata": {},
   "outputs": [
    {
     "name": "stdout",
     "output_type": "stream",
     "text": [
      "Enter n1 value30\n",
      "Enter n2 value93\n",
      "93 is a biggest\n"
     ]
    }
   ],
   "source": [
    "n1=int(input('Enter n1 value'))\n",
    "n2=int(input('Enter n2 value'))\n",
    "if n1>n2:\n",
    "    print(n1,'is a biggest')\n",
    "else:\n",
    "    print(n2,'is a biggest')"
   ]
  },
  {
   "cell_type": "markdown",
   "id": "9dc74058",
   "metadata": {},
   "source": [
    "### elif:\n",
    "-syntax:\n",
    "    if(condition):\n",
    "        statements\n",
    "    elif(condtion):\n",
    "        statements\n",
    "    else:\n",
    "        statemets"
   ]
  },
  {
   "cell_type": "code",
   "execution_count": 12,
   "id": "f2dbfd61",
   "metadata": {},
   "outputs": [
    {
     "name": "stdout",
     "output_type": "stream",
     "text": [
      "Enter a value10\n",
      "Enter b value20\n",
      "Enter c value30\n",
      "30 is biggest of a and b\n"
     ]
    }
   ],
   "source": [
    "#To find the biggest of two numbers...\n",
    "a = int(input(\"Enter a value\"))\n",
    "b = int(input(\"Enter b value\"))\n",
    "c = int(input(\"Enter c value\"))\n",
    "if a>b and a>c:\n",
    "    print(a,'is biggest of b and c')\n",
    "elif b>c and b>a :\n",
    "    \n",
    "        print(b,'is biggest of a and c')\n",
    "else:\n",
    "        print(c,'is biggest of a and b')"
   ]
  },
  {
   "cell_type": "markdown",
   "id": "4a3af0f1",
   "metadata": {},
   "source": [
    "### else if lader:\n",
    "    -syntax :\n",
    "   \n",
    "    if(condition):\n",
    "        statements\n",
    "    elif(condtion):\n",
    "        statements\n",
    "    elif(condtion):\n",
    "        statements\n",
    "    elif(condtion):\n",
    "        statements\n",
    "    else:\n",
    "        statemets"
   ]
  },
  {
   "cell_type": "code",
   "execution_count": 1,
   "id": "3150bfa9",
   "metadata": {},
   "outputs": [
    {
     "name": "stderr",
     "output_type": "stream",
     "text": [
      "<>:3: SyntaxWarning: \"is\" with 'int' literal. Did you mean \"==\"?\n",
      "<>:5: SyntaxWarning: \"is\" with 'int' literal. Did you mean \"==\"?\n",
      "<>:7: SyntaxWarning: \"is\" with 'int' literal. Did you mean \"==\"?\n",
      "<>:9: SyntaxWarning: \"is\" with 'int' literal. Did you mean \"==\"?\n",
      "<>:11: SyntaxWarning: \"is\" with 'int' literal. Did you mean \"==\"?\n",
      "<>:13: SyntaxWarning: \"is\" with 'int' literal. Did you mean \"==\"?\n",
      "<>:15: SyntaxWarning: \"is\" with 'int' literal. Did you mean \"==\"?\n",
      "<>:3: SyntaxWarning: \"is\" with 'int' literal. Did you mean \"==\"?\n",
      "<>:5: SyntaxWarning: \"is\" with 'int' literal. Did you mean \"==\"?\n",
      "<>:7: SyntaxWarning: \"is\" with 'int' literal. Did you mean \"==\"?\n",
      "<>:9: SyntaxWarning: \"is\" with 'int' literal. Did you mean \"==\"?\n",
      "<>:11: SyntaxWarning: \"is\" with 'int' literal. Did you mean \"==\"?\n",
      "<>:13: SyntaxWarning: \"is\" with 'int' literal. Did you mean \"==\"?\n",
      "<>:15: SyntaxWarning: \"is\" with 'int' literal. Did you mean \"==\"?\n"
     ]
    },
    {
     "name": "stdin",
     "output_type": "stream",
     "text": [
      "Enter the week day number 3\n"
     ]
    },
    {
     "name": "stdout",
     "output_type": "stream",
     "text": [
      "tuesday\n"
     ]
    },
    {
     "name": "stderr",
     "output_type": "stream",
     "text": [
      "C:\\Users\\Naresh\\AppData\\Local\\Temp\\ipykernel_10372\\2353597287.py:3: SyntaxWarning: \"is\" with 'int' literal. Did you mean \"==\"?\n",
      "  if day is 1 :\n",
      "C:\\Users\\Naresh\\AppData\\Local\\Temp\\ipykernel_10372\\2353597287.py:5: SyntaxWarning: \"is\" with 'int' literal. Did you mean \"==\"?\n",
      "  elif day is 2:\n",
      "C:\\Users\\Naresh\\AppData\\Local\\Temp\\ipykernel_10372\\2353597287.py:7: SyntaxWarning: \"is\" with 'int' literal. Did you mean \"==\"?\n",
      "  elif day is 3:\n",
      "C:\\Users\\Naresh\\AppData\\Local\\Temp\\ipykernel_10372\\2353597287.py:9: SyntaxWarning: \"is\" with 'int' literal. Did you mean \"==\"?\n",
      "  elif day is 4:\n",
      "C:\\Users\\Naresh\\AppData\\Local\\Temp\\ipykernel_10372\\2353597287.py:11: SyntaxWarning: \"is\" with 'int' literal. Did you mean \"==\"?\n",
      "  elif day is 5:\n",
      "C:\\Users\\Naresh\\AppData\\Local\\Temp\\ipykernel_10372\\2353597287.py:13: SyntaxWarning: \"is\" with 'int' literal. Did you mean \"==\"?\n",
      "  elif day is 6:\n",
      "C:\\Users\\Naresh\\AppData\\Local\\Temp\\ipykernel_10372\\2353597287.py:15: SyntaxWarning: \"is\" with 'int' literal. Did you mean \"==\"?\n",
      "  elif day is 7:\n"
     ]
    }
   ],
   "source": [
    "#to print the week days using else if lader\n",
    "day=int(input('Enter the week day number'))\n",
    "if day == 1 :\n",
    "        print('sunday')\n",
    "elif day == 2:\n",
    "        print('monday') \n",
    "elif day == 3:\n",
    "        print('tuesday')\n",
    "elif day == 4:\n",
    "        print('wensday')\n",
    "elif day == 5:\n",
    "        print('thursday')\n",
    "elif day == 6:\n",
    "        print('friday')\n",
    "elif day is 7:\n",
    "        print('saturday')\n",
    "else:\n",
    "        print('your enter invalid number...')"
   ]
  },
  {
   "cell_type": "markdown",
   "id": "119d7828",
   "metadata": {},
   "source": [
    "### nested if-else:\n",
    "-syntax:\n",
    "    if(base condition):\n",
    "        if(condition)\n",
    "            statemets\n",
    "           else:\n",
    "               statements\n",
    "           else:\n",
    "            statements"
   ]
  },
  {
   "cell_type": "code",
   "execution_count": 3,
   "id": "c4d68725",
   "metadata": {},
   "outputs": [
    {
     "name": "stdout",
     "output_type": "stream",
     "text": [
      "Enter usernameapssdc123@gmail.com\n",
      "enter passwordapssdc@123\n",
      "Successfully Login apssdc123@gmail.com\n"
     ]
    }
   ],
   "source": [
    "# Login page...\n",
    "u1 = \"apssdc123@gmail.com\"\n",
    "p1 = \"apssdc@123\"\n",
    "user = input(\"Enter username\")\n",
    "if u1 == user:\n",
    "    pwd = input(\"enter password\")\n",
    "    if p1 == pwd:\n",
    "        print(\"Successfully Login\",user)\n",
    "    else:\n",
    "        print(\"please enter correct password\")\n",
    "else:\n",
    "    print(\"please enter correct username\")"
   ]
  },
  {
   "cell_type": "markdown",
   "id": "84397b22",
   "metadata": {},
   "source": [
    "### conditional statements tasks:\n",
    "  -to read the person age, and check whether the age is eligible for vote or not?\n",
    "  -2.to read the one number and it is divisible by 3 and 9?\n",
    "  3.to check whether the given character is vowel or consoinates \n",
    "  4.to print the student grading system\n",
    "  100 to 75 ->A grade\n",
    "  74 to 55->B  grade\n",
    "  55 to 35 ->c grade\n",
    "  34 to 0 ->Fail\n",
    "  above 100 -.invalid marks\n",
    "  5.to print the month names?\n",
    "  read the month number \n",
    "  1 ->january\n",
    "  -6.to read single digit and to print the digits into words\n",
    "  input:0\n",
    "  output:zero\n",
    "  input:5\n",
    "  output:five\n",
    "  -7.to check whether the given year is leap year or not ?\n",
    "  -8.to read the input from the user to check whether the given numer is zero or positive  number or negative\n",
    "    \n",
    "\n",
    "\n"
   ]
  },
  {
   "cell_type": "code",
   "execution_count": 3,
   "id": "dd146c26",
   "metadata": {},
   "outputs": [
    {
     "name": "stdout",
     "output_type": "stream",
     "text": [
      "Enter n1 value20\n",
      "20 eligible for vote\n"
     ]
    }
   ],
   "source": [
    "a1=int(input('Enter n1 value'))\n",
    "if a1 >=18:\n",
    "        print(a1,'eligible for vote')\n",
    "else:\n",
    "        print(a1,'not eligible for vote')"
   ]
  },
  {
   "cell_type": "code",
   "execution_count": 11,
   "id": "04569227",
   "metadata": {},
   "outputs": [
    {
     "name": "stdout",
     "output_type": "stream",
     "text": [
      "Enter the character@\n",
      "it is special character\n"
     ]
    }
   ],
   "source": [
    "# to read the input from the user\n",
    "#to check whether the character is digit or alphabet\n",
    "ch=input('Enter the character')\n",
    "if ch>'0' and ch<'9':\n",
    "    print(\"it is a digit\")\n",
    "elif ch>'a' and ch<'z':\n",
    "    print(\"it is character\")\n",
    "else:\n",
    "    print(\"it is special character\")\n"
   ]
  },
  {
   "cell_type": "code",
   "execution_count": 4,
   "id": "6243037a",
   "metadata": {},
   "outputs": [
    {
     "name": "stdout",
     "output_type": "stream",
     "text": [
      "Enter n1 value9\n",
      "9 it is divisable by 3 and 9\n"
     ]
    }
   ],
   "source": [
    "a1=int(input('Enter n1 value'))\n",
    "if a1%3==0 and a1%9==0:\n",
    "        print(a1,'it is divisable by 3 and 9')\n",
    "else:\n",
    "        print(a1,'it is not divisable by 3 and 9')"
   ]
  },
  {
   "cell_type": "code",
   "execution_count": 1,
   "id": "d45af281",
   "metadata": {},
   "outputs": [
    {
     "name": "stdout",
     "output_type": "stream",
     "text": [
      "Enter the characterN\n",
      "N it is a consoinate\n"
     ]
    }
   ],
   "source": [
    "#consoinate or vowel\n",
    "ch=str(input('Enter the character' ))\n",
    "if ch in('a','e','i','o','u'):\n",
    "    print(ch,'it is a vowel')\n",
    "else:\n",
    "     print(ch,'it is a consoinate')"
   ]
  },
  {
   "cell_type": "code",
   "execution_count": 17,
   "id": "7e8a038e",
   "metadata": {},
   "outputs": [
    {
     "name": "stdout",
     "output_type": "stream",
     "text": [
      "Enter the marks89\n",
      "grade A\n"
     ]
    }
   ],
   "source": [
    "#4.GRADING SYSTEM\n",
    "marks=int(input('Enter the marks'))\n",
    "if marks>=75:\n",
    "    print(\"grade A\")\n",
    "elif marks>=74 and marks<55:\n",
    "    print('grade B ')\n",
    "elif (marks>=55 and marks<35):\n",
    "      print('grade C')\n",
    "elif marks>=34 and marks==0:\n",
    "      print('Fail')\n",
    "else:\n",
    "    print('Enter the valid marks>100' )"
   ]
  },
  {
   "cell_type": "code",
   "execution_count": 3,
   "id": "f73ce73a",
   "metadata": {},
   "outputs": [
    {
     "name": "stdout",
     "output_type": "stream",
     "text": [
      "Enter the month number1\n",
      "january\n"
     ]
    }
   ],
   "source": [
    "month=int(input('Enter the month number'))\n",
    "if month == 1:\n",
    "   print('january')\n",
    "elif month == 2:\n",
    "    print('Feb')\n",
    "elif month == 3:37\n",
    "    print('march')\n",
    "elif month == 4:\n",
    "    print('aprl')\n",
    "elif month == 5:\n",
    "    print('may')\n",
    "elif month == 6:\n",
    "    print('june')\n",
    "elif month == 7:\n",
    "    print('july')\n",
    "elif month == 8:\n",
    "    print('august')\n",
    "elif month == 9:\n",
    "    print('sep')\n",
    "elif month == 10:\n",
    "    print('oct')\n",
    "elif month == 11:\n",
    "    print('nov')\n",
    "elif month == 12:\n",
    "    print('dec')\n",
    "else:\n",
    "    print('enter the valid month')"
   ]
  },
  {
   "cell_type": "code",
   "execution_count": 4,
   "id": "f328a729",
   "metadata": {},
   "outputs": [
    {
     "name": "stdout",
     "output_type": "stream",
     "text": [
      "enter the n value-6\n",
      "-6 is a nagative\n"
     ]
    }
   ],
   "source": [
    "n=int(input('enter the n value'))\n",
    "if n == 0:\n",
    "    print(n,'is a zero' )\n",
    "elif n>0:\n",
    "    print(n,'is a positive')\n",
    "else:\n",
    "    print(n,'is a nagative')"
   ]
  },
  {
   "cell_type": "markdown",
   "id": "f90a24c7",
   "metadata": {},
   "source": [
    "### Looping statements:\n",
    "         by using loop to repeat the steps until the condition will be false..\n",
    "         -for loop\n",
    "         - while loop\n",
    "       1->for loop:\n",
    "             syntax :\n",
    "                   for variable _name in range(start,stop,step)\n",
    "                     statements\n",
    "                     \n",
    "                     \n",
    "                   for variable _name\n",
    "         sequence (list,tuple,dict,string):\n",
    "                       statements\n",
    "  ->in range (start,stop,step)\n",
    "  ->start->0->(opitional)\n",
    "  ->stop ->1  ->size-1\n",
    "  ->step ->1 ->"
   ]
  },
  {
   "cell_type": "code",
   "execution_count": 5,
   "id": "85024a97",
   "metadata": {},
   "outputs": [
    {
     "name": "stdout",
     "output_type": "stream",
     "text": [
      "1 2 3 4 5 6 "
     ]
    }
   ],
   "source": [
    "#to print the 1 to 7 natural number ?\n",
    "for i in range(1,7,1):\n",
    "    print(i,end=\" \")"
   ]
  },
  {
   "cell_type": "code",
   "execution_count": 38,
   "id": "c670ba1c",
   "metadata": {},
   "outputs": [
    {
     "name": "stdout",
     "output_type": "stream",
     "text": [
      "1 2 3 4 5 6 7 8 9 10 "
     ]
    }
   ],
   "source": [
    "# to print the 1 to n natural number ?\n",
    "n=int(input('enter the n range:'))\n",
    "for i in range(1,n+1):\n",
    "    print(i,end=\" \")"
   ]
  },
  {
   "cell_type": "code",
   "execution_count": 39,
   "id": "96787ed2",
   "metadata": {},
   "outputs": [
    {
     "name": "stdout",
     "output_type": "stream",
     "text": [
      "enter n range10\n",
      "1 5 9 13 "
     ]
    }
   ],
   "source": [
    "# to print 1 to n natural number using step value\n",
    "n=int(input('enter n range'))\n",
    "for i in range(1,n+4,4):\n",
    "      print(i,end=\" \")\n",
    "        "
   ]
  },
  {
   "cell_type": "code",
   "execution_count": 5,
   "id": "ebbef1a1",
   "metadata": {},
   "outputs": [
    {
     "name": "stdout",
     "output_type": "stream",
     "text": [
      "enter n range10\n",
      "10 9 8 7 6 5 4 3 2 1 "
     ]
    }
   ],
   "source": [
    "# to print the 1 to n natural number in descending order\n",
    "#10 9 8 7 6 5 4 3 2 1 \n",
    "n=int(input(\"enter n range\"))\n",
    "for i in range(n,0,-1):\n",
    "    print(i,end=\" \")"
   ]
  },
  {
   "cell_type": "code",
   "execution_count": 9,
   "id": "0089289d",
   "metadata": {},
   "outputs": [
    {
     "name": "stdout",
     "output_type": "stream",
     "text": [
      "Enter the n range10\n",
      "1 2 3 4 5 6 7 8 9 "
     ]
    }
   ],
   "source": [
    "n=int(input('Enter the n range'))\n",
    "for i in range(1,n,1):\n",
    "    print(i,end=\" \")"
   ]
  },
  {
   "cell_type": "code",
   "execution_count": 11,
   "id": "4a45ac78",
   "metadata": {},
   "outputs": [
    {
     "name": "stdout",
     "output_type": "stream",
     "text": [
      "Enter n range5\n",
      "sum is : 15\n"
     ]
    }
   ],
   "source": [
    "# to print the 1 to n natural numbers sum?\n",
    "n=int(input(\"Enter n range\"))\n",
    "s1 = 0\n",
    "for i in range(1,n+1,1):\n",
    "        s1 = s1+i\n",
    "print('sum is :',s1)"
   ]
  },
  {
   "cell_type": "code",
   "execution_count": 16,
   "id": "4049568c",
   "metadata": {},
   "outputs": [
    {
     "ename": "SyntaxError",
     "evalue": "invalid syntax (3282090361.py, line 3)",
     "output_type": "error",
     "traceback": [
      "\u001b[1;36m  Input \u001b[1;32mIn [16]\u001b[1;36m\u001b[0m\n\u001b[1;33m    s1 = 0\u001b[0m\n\u001b[1;37m    ^\u001b[0m\n\u001b[1;31mSyntaxError\u001b[0m\u001b[1;31m:\u001b[0m invalid syntax\n"
     ]
    }
   ],
   "source": [
    "# to print the 1 to n even natural numbers sum?\n",
    "n=int(input(\"Enter n range\")\n",
    "s1 = 0\n",
    "for i in range(2,n+1,2):\n",
    "  s1 = s1+i\n",
    "  print(i,end=\" \")\n",
    "print(s1)"
   ]
  },
  {
   "cell_type": "code",
   "execution_count": 18,
   "id": "002468b7",
   "metadata": {},
   "outputs": [
    {
     "name": "stdout",
     "output_type": "stream",
     "text": [
      "Enter n value5\n",
      "it is a prime number\n"
     ]
    }
   ],
   "source": [
    "#to check whether the given num is prime number or not\n",
    "n=int(input(\"Enter n value\"))\n",
    "c1=0\n",
    "for i in range(1,n+1,1):\n",
    "    if n%i==0:\n",
    "        c1=c1+1\n",
    "if c1 == 2:\n",
    "        print(\"it is a prime number\")\n",
    "else:\n",
    "       print(\"it is not a prime number\")"
   ]
  },
  {
   "cell_type": "markdown",
   "id": "e32589f4",
   "metadata": {},
   "source": [
    "#### while loop:\n",
    "    -SYNTAX:\n",
    "           intilization\n",
    "           while(condition):\n",
    "             statements\n",
    "             increment/decrement\n",
    " -example:\n",
    "        i=0\n",
    "        while(i>=5):\n",
    "           print(i,end=\" \")\n",
    "           i= i+1\n",
    "-output:0 1 2 3 4 5"
   ]
  },
  {
   "cell_type": "code",
   "execution_count": 45,
   "id": "e764fc56",
   "metadata": {},
   "outputs": [
    {
     "name": "stdout",
     "output_type": "stream",
     "text": [
      "Enter n value2345\n",
      "last digit is: 5\n"
     ]
    }
   ],
   "source": [
    "# to print the last digit of a given number\n",
    "n=int(input(\"Enter n value\"))\n",
    "print('last digit is:',n%10\n",
    "     )"
   ]
  },
  {
   "cell_type": "code",
   "execution_count": 19,
   "id": "55a6a515",
   "metadata": {},
   "outputs": [
    {
     "name": "stdout",
     "output_type": "stream",
     "text": [
      "Enter n value345\n",
      "sum of digits is : 12\n"
     ]
    }
   ],
   "source": [
    "# to print sum of digits of a given number?\n",
    "# input : n = 345-> 5+4+3\n",
    "# ouput : sum of digits is : 12\n",
    "# 10)345(34 -> //\n",
    "#     340\n",
    "#   -----\n",
    "#      5 ->%\n",
    "n = int(input(\"Enter n value\"))\n",
    "s1=0\n",
    "while(n!=0):\n",
    "    r1 = n%10\n",
    "    s1 = s1+r1\n",
    "    n = n//10\n",
    "print('sum of digits is :',s1)"
   ]
  },
  {
   "cell_type": "code",
   "execution_count": 23,
   "id": "c81a608b",
   "metadata": {},
   "outputs": [
    {
     "name": "stdout",
     "output_type": "stream",
     "text": [
      "Enter n value5678\n",
      "first digit is: 5\n"
     ]
    }
   ],
   "source": [
    "#to print the digit of a given number\n",
    "#input:n=5678\n",
    "#output:first digit is :5\n",
    "n=int(input(\"Enter n value\"))\n",
    "while(n>=10):\n",
    "    n=n//10\n",
    "print('first digit is:',n)"
   ]
  },
  {
   "cell_type": "markdown",
   "id": "dde46d6b",
   "metadata": {},
   "source": [
    "### for loop tasks:\n",
    "-1. To print the factorial of a given numbner?\n",
    "-2. To print the factors of a given number?\n",
    "input: n = 4\n",
    "output: 1 2 4\n",
    "-3. TO print fibonacci series?\n",
    "-4. To count the even numbers in between 20 to 400?\n",
    "### while loop tasks:\n",
    "-1, TO check the whther the given number is palindrome or not?\n",
    "input: n = 7865\n",
    "output: 5687\n",
    "-2. To print the products of each digit of given number?\n",
    "input: n = 676\n",
    "output: It is palindrome\n",
    "-3. to print the products of each digit of given number ?\n",
    "input: n=234\n",
    "output: 4*3*2\n",
    "-4.To print the only even digits of a given number?\n",
    "input: n = 436789\n",
    "output:4 6 8\n",
    "-5. To print the each digit into words of given number?\n",
    "input: n = 345\n",
    "output: three four five \n",
    "-->step1: reverse the number\n",
    "            n = 543\n",
    "            r2 = n%10\n",
    "            if r2 == 3:\n",
    "                print('three')\n",
    "-6. To print thr prime digits of a given number?\n",
    "input: n = 54379\n",
    "output: 5 3 7"
   ]
  },
  {
   "cell_type": "code",
   "execution_count": 11,
   "id": "547ff334",
   "metadata": {},
   "outputs": [
    {
     "name": "stdout",
     "output_type": "stream",
     "text": [
      "Enter number:4\n",
      "factorial of 4 is 1\n"
     ]
    }
   ],
   "source": [
    "#factirial of a number(n,0,-1)\n",
    "n = int(input('Enter number:'))\n",
    "fact=1\n",
    "for i in range(n,1,-1):\n",
    "    fact=fact*1\n",
    "print('factorial of',n,'is',fact)\n"
   ]
  },
  {
   "cell_type": "code",
   "execution_count": 7,
   "id": "e6982230",
   "metadata": {},
   "outputs": [
    {
     "ename": "SyntaxError",
     "evalue": "invalid syntax (633229931.py, line 2)",
     "output_type": "error",
     "traceback": [
      "\u001b[1;36m  File \u001b[1;32m\"C:\\Users\\Naresh\\AppData\\Local\\Temp\\ipykernel_22684\\633229931.py\"\u001b[1;36m, line \u001b[1;32m2\u001b[0m\n\u001b[1;33m    for i in range(1,n):\u001b[0m\n\u001b[1;37m                       ^\u001b[0m\n\u001b[1;31mSyntaxError\u001b[0m\u001b[1;31m:\u001b[0m invalid syntax\n"
     ]
    }
   ],
   "source": [
    "n=int(input('enter the number:')\n",
    "for i in range(1,n):\n",
    "      ifn%i==0:\n",
    "      print(n,'factirs of','is:')"
   ]
  },
  {
   "cell_type": "code",
   "execution_count": null,
   "id": "60ffe1aa",
   "metadata": {},
   "outputs": [
    {
     "name": "stdout",
     "output_type": "stream",
     "text": [
      "enter how many number you want in this series:5\n"
     ]
    }
   ],
   "source": [
    "#fibonacci\n",
    "n=int(input('enter how many number you want in this series:'))\n",
    "first = 0\n",
    "second = 1\n",
    "for i in range(n+1):\n",
    "    print(first)\n",
    "    temp=first\n",
    "    first=second\n",
    "    second=temp+first"
   ]
  },
  {
   "cell_type": "code",
   "execution_count": 1,
   "id": "67b4817f",
   "metadata": {},
   "outputs": [
    {
     "name": "stdout",
     "output_type": "stream",
     "text": [
      "Enter the n1 value20\n",
      "Enter the n2 value400\n",
      "20 22 24 26 28 30 32 34 36 38 40 42 44 46 48 50 52 54 56 58 60 62 64 66 68 70 72 74 76 78 80 82 84 86 88 90 92 94 96 98 100 102 104 106 108 110 112 114 116 118 120 122 124 126 128 130 132 134 136 138 140 142 144 146 148 150 152 154 156 158 160 162 164 166 168 170 172 174 176 178 180 182 184 186 188 190 192 194 196 198 200 202 204 206 208 210 212 214 216 218 220 222 224 226 228 230 232 234 236 238 240 242 244 246 248 250 252 254 256 258 260 262 264 266 268 270 272 274 276 278 280 282 284 286 288 290 292 294 296 298 300 302 304 306 308 310 312 314 316 318 320 322 324 326 328 330 332 334 336 338 340 342 344 346 348 350 352 354 356 358 360 362 364 366 368 370 372 374 376 378 380 382 384 386 388 390 392 394 396 398 "
     ]
    }
   ],
   "source": [
    "#print 20 to 400\n",
    "n1=int(input('Enter the n1 value'))\n",
    "n2=int(input('Enter the n2 value'))\n",
    "for n in range (20,400,2):#20,n+4,2\n",
    "      if n1&n2%2==0:\n",
    "        print(n,end=\" \")\n",
    " "
   ]
  },
  {
   "cell_type": "markdown",
   "id": "26e3d46e",
   "metadata": {},
   "source": [
    "## palidrome\n",
    "n=input('Enter the n value')\n",
    "if n == n[::-1]:\n",
    "    print('it is a palindrome')\n",
    "else:\n",
    "    print('it is not polindrome')"
   ]
  },
  {
   "cell_type": "code",
   "execution_count": 1,
   "id": "a8afbcd7",
   "metadata": {},
   "outputs": [
    {
     "name": "stdout",
     "output_type": "stream",
     "text": [
      "Enter the n value121\n",
      "it is a palindrome\n"
     ]
    }
   ],
   "source": [
    "n=input('Enter the n value')\n",
    "if n == n[::-1]:\n",
    "    print('it is a palindrome')\n",
    "else:\n",
    "    print('it is not polindrome')"
   ]
  },
  {
   "cell_type": "code",
   "execution_count": 4,
   "id": "91f35c8b",
   "metadata": {},
   "outputs": [
    {
     "name": "stdout",
     "output_type": "stream",
     "text": [
      "Enter n value253\n",
      "reverse of a number is:\n",
      "three reverse of a number is:\n",
      "reverse of a number is:\n",
      "two "
     ]
    }
   ],
   "source": [
    "#to convert the digit into word of a number \n",
    "#input:n=253\n",
    "#output:two five three\n",
    "n=int(input('Enter n value'))\n",
    "rev=0\n",
    "while(n!=0):\n",
    "    rem=n%10\n",
    "    rev=rev*10+rem\n",
    "    n=n//10\n",
    "    print('reverse of a number is:')\n",
    "    r=rev%10\n",
    "    if(r==1):\n",
    "        print('one',end=\" \")\n",
    "    elif(r==2):\n",
    "         print('two',end=\" \")\n",
    "    elif(r==3):\n",
    "        print('three',end=\" \")\n",
    "    rev=rev//10"
   ]
  },
  {
   "cell_type": "code",
   "execution_count": null,
   "id": "b572d5f6",
   "metadata": {},
   "outputs": [],
   "source": [
    "### jumping statement\n",
    "        -break,continue,pass\n",
    "        "
   ]
  },
  {
   "cell_type": "code",
   "execution_count": 13,
   "id": "13823831",
   "metadata": {},
   "outputs": [
    {
     "ename": "SyntaxError",
     "evalue": "invalid syntax (2193844618.py, line 1)",
     "output_type": "error",
     "traceback": [
      "\u001b[1;36m  Input \u001b[1;32mIn [13]\u001b[1;36m\u001b[0m\n\u001b[1;33m    for i in range(1,10)\u001b[0m\n\u001b[1;37m                        ^\u001b[0m\n\u001b[1;31mSyntaxError\u001b[0m\u001b[1;31m:\u001b[0m invalid syntax\n"
     ]
    }
   ],
   "source": [
    "for i in range(1,10)\n",
    "    if i==6:\n",
    "        continue\n",
    "    else:\n",
    "    print(i,end=\" \" )\n",
    "        "
   ]
  },
  {
   "cell_type": "code",
   "execution_count": 16,
   "id": "4b0de41e",
   "metadata": {},
   "outputs": [
    {
     "ename": "SyntaxError",
     "evalue": "invalid syntax (1260174468.py, line 1)",
     "output_type": "error",
     "traceback": [
      "\u001b[1;36m  Input \u001b[1;32mIn [16]\u001b[1;36m\u001b[0m\n\u001b[1;33m    for i in range(1,10)\u001b[0m\n\u001b[1;37m                        ^\u001b[0m\n\u001b[1;31mSyntaxError\u001b[0m\u001b[1;31m:\u001b[0m invalid syntax\n"
     ]
    }
   ],
   "source": [
    "for i in range(1,10)\n",
    "    if i==6:\n",
    "        pass\n",
    "    print('it is a pass statements')\n",
    "    else:\n",
    "    print(i)\n",
    "        "
   ]
  },
  {
   "cell_type": "code",
   "execution_count": 1,
   "id": "5d3d24bc",
   "metadata": {},
   "outputs": [
    {
     "name": "stdout",
     "output_type": "stream",
     "text": [
      "Enter the week day number5\n",
      "thursday\n"
     ]
    }
   ],
   "source": [
    "#to print the week days using else if lader\n",
    "day=int(input('Enter the week day number'))\n",
    "if day == 1:\n",
    "        print('sunday')\n",
    "elif day == 2:\n",
    "        print('monday') \n",
    "elif day == 3:\n",
    "        print('tuesday')\n",
    "elif day == 4:\n",
    "        print('wensday')\n",
    "elif day == 5:\n",
    "        print('thursday')\n",
    "elif day == 6:\n",
    "        print('friday')\n",
    "elif day == 7:\n",
    "    \n",
    "        print('saturday')\n",
    "else:\n",
    "            print('your enter invalid number...')"
   ]
  },
  {
   "cell_type": "markdown",
   "id": "d8d4ee31",
   "metadata": {},
   "source": [
    "## list \n",
    "    store multiple items in single variable\n",
    "    create using square brackets[]\n",
    "    index value0 to...n-1\n",
    "    creat a list is an simple as putting different comma-separate valuues b/w square brackets"
   ]
  },
  {
   "cell_type": "code",
   "execution_count": 1,
   "id": "08e6c2b8",
   "metadata": {},
   "outputs": [
    {
     "name": "stdout",
     "output_type": "stream",
     "text": [
      "physics\n",
      "[2, 3, 4, 5]\n",
      "[0, 9, 8, 7, 6, 5, 4, 3, 2, 1]\n",
      "[1, 2, 3, 4, 5, 6, 7, 8, 9]\n"
     ]
    }
   ],
   "source": [
    "l1=['physics','chemistry',2002,2022]\n",
    "l2=[1,2,3,4,5,6,7,8,9,0]\n",
    "print(l1[0])\n",
    "print(l2[1:5])\n",
    "print(l2[::-1])\n",
    "print(l2[:9])"
   ]
  },
  {
   "cell_type": "code",
   "execution_count": 2,
   "id": "31a30f51",
   "metadata": {},
   "outputs": [
    {
     "name": "stdout",
     "output_type": "stream",
     "text": [
      "the list element are\n",
      "['teja', 'naresh', 'varshah', 'siva', 'prem']\n"
     ]
    }
   ],
   "source": [
    "listdata=[\"teja\",\"naresh\",\"varshah\",\"siva\"]\n",
    "listdata.append(\"prem\")\n",
    "print(\"the list element are\")\n",
    "print(listdata)"
   ]
  },
  {
   "cell_type": "code",
   "execution_count": 7,
   "id": "47b2687b",
   "metadata": {},
   "outputs": [
    {
     "name": "stdout",
     "output_type": "stream",
     "text": [
      "list before delete\n",
      "['siva', 'narseh', 'jay']\n",
      "list after delete\n",
      "['narseh', 'jay']\n"
     ]
    }
   ],
   "source": [
    "list=['siva','narseh','jay']\n",
    "print(\"list before delete\")\n",
    "print(list)\n",
    "list.remove('siva')\n",
    "print(\"list after delete\")\n",
    "print(list)"
   ]
  },
  {
   "cell_type": "code",
   "execution_count": null,
   "id": "30d7996c",
   "metadata": {},
   "outputs": [],
   "source": []
  }
 ],
 "metadata": {
  "kernelspec": {
   "display_name": "Python 3 (ipykernel)",
   "language": "python",
   "name": "python3"
  },
  "language_info": {
   "codemirror_mode": {
    "name": "ipython",
    "version": 3
   },
   "file_extension": ".py",
   "mimetype": "text/x-python",
   "name": "python",
   "nbconvert_exporter": "python",
   "pygments_lexer": "ipython3",
   "version": "3.12.3"
  }
 },
 "nbformat": 4,
 "nbformat_minor": 5
}
