{
  "nbformat": 4,
  "nbformat_minor": 0,
  "metadata": {
    "colab": {
      "provenance": []
    },
    "kernelspec": {
      "name": "python3",
      "display_name": "Python 3"
    },
    "language_info": {
      "name": "python"
    }
  },
  "cells": [
    {
      "cell_type": "code",
      "execution_count": null,
      "metadata": {
        "id": "eoau57chEpX5"
      },
      "outputs": [],
      "source": [
        "import numpy as np\n",
        "#from numpy import array\n",
        "#from numpy import arange"
      ]
    },
    {
      "cell_type": "code",
      "source": [
        "a = np.array([1,2,5,3,6,6,7])\n",
        "a"
      ],
      "metadata": {
        "colab": {
          "base_uri": "https://localhost:8080/"
        },
        "id": "6bXCKN8kFFJG",
        "outputId": "7fad1af5-e8e3-4469-d0b8-eae9720a53f5"
      },
      "execution_count": null,
      "outputs": [
        {
          "output_type": "execute_result",
          "data": {
            "text/plain": [
              "array([1, 2, 5, 3, 6, 6, 7])"
            ]
          },
          "metadata": {},
          "execution_count": 4
        }
      ]
    },
    {
      "cell_type": "code",
      "source": [
        "type(a)"
      ],
      "metadata": {
        "colab": {
          "base_uri": "https://localhost:8080/"
        },
        "id": "J3Ws5iVvGgE8",
        "outputId": "81d758ae-d982-448b-aa47-2b84c89acb6f"
      },
      "execution_count": null,
      "outputs": [
        {
          "output_type": "execute_result",
          "data": {
            "text/plain": [
              "numpy.ndarray"
            ]
          },
          "metadata": {},
          "execution_count": 5
        }
      ]
    },
    {
      "cell_type": "code",
      "source": [
        "a.shape"
      ],
      "metadata": {
        "colab": {
          "base_uri": "https://localhost:8080/"
        },
        "id": "6rqYCI-AGp3B",
        "outputId": "c8dc3bea-7b86-4628-aa67-e9c2597d48cb"
      },
      "execution_count": null,
      "outputs": [
        {
          "output_type": "execute_result",
          "data": {
            "text/plain": [
              "(7,)"
            ]
          },
          "metadata": {},
          "execution_count": 6
        }
      ]
    },
    {
      "cell_type": "code",
      "source": [
        "a = np.array([[1,2,5,4,7,8], [5,4,8,9,6,3]])\n",
        "a"
      ],
      "metadata": {
        "colab": {
          "base_uri": "https://localhost:8080/"
        },
        "id": "cDVytqrcGtUt",
        "outputId": "edec955d-73fe-4973-a675-e1ec95089d01"
      },
      "execution_count": null,
      "outputs": [
        {
          "output_type": "execute_result",
          "data": {
            "text/plain": [
              "array([[1, 2, 5, 4, 7, 8],\n",
              "       [5, 4, 8, 9, 6, 3]])"
            ]
          },
          "metadata": {},
          "execution_count": 7
        }
      ]
    },
    {
      "cell_type": "code",
      "source": [
        "a.shape"
      ],
      "metadata": {
        "colab": {
          "base_uri": "https://localhost:8080/"
        },
        "id": "qBVf98_VHnzk",
        "outputId": "67ae5cec-2569-4788-927c-d11fe1a38008"
      },
      "execution_count": null,
      "outputs": [
        {
          "output_type": "execute_result",
          "data": {
            "text/plain": [
              "(2, 6)"
            ]
          },
          "metadata": {},
          "execution_count": 8
        }
      ]
    },
    {
      "cell_type": "code",
      "source": [
        "a = np.array([[[1,2,5,4,7,8], [5,4,8,9,6,3]],\n",
        "              [[1,2,5,4,7,8], [5,4,8,9,6,3]],\n",
        "              [[1,2,5,4,7,8], [5,4,8,9,6,3]],\n",
        "              [[1,2,5,4,7,8], [5,4,8,9,6,3]]])\n",
        "a"
      ],
      "metadata": {
        "colab": {
          "base_uri": "https://localhost:8080/"
        },
        "id": "YxSgwQr4H5u5",
        "outputId": "79c90d8f-123a-451a-ed51-c4bace98be2e"
      },
      "execution_count": null,
      "outputs": [
        {
          "output_type": "execute_result",
          "data": {
            "text/plain": [
              "array([[[1, 2, 5, 4, 7, 8],\n",
              "        [5, 4, 8, 9, 6, 3]],\n",
              "\n",
              "       [[1, 2, 5, 4, 7, 8],\n",
              "        [5, 4, 8, 9, 6, 3]],\n",
              "\n",
              "       [[1, 2, 5, 4, 7, 8],\n",
              "        [5, 4, 8, 9, 6, 3]],\n",
              "\n",
              "       [[1, 2, 5, 4, 7, 8],\n",
              "        [5, 4, 8, 9, 6, 3]]])"
            ]
          },
          "metadata": {},
          "execution_count": 9
        }
      ]
    },
    {
      "cell_type": "code",
      "source": [
        "a.shape"
      ],
      "metadata": {
        "colab": {
          "base_uri": "https://localhost:8080/"
        },
        "id": "oPyBEDHdILrO",
        "outputId": "cbf60256-b5ab-463e-fcd3-6c9e0ade01ab"
      },
      "execution_count": null,
      "outputs": [
        {
          "output_type": "execute_result",
          "data": {
            "text/plain": [
              "(4, 2, 6)"
            ]
          },
          "metadata": {},
          "execution_count": 10
        }
      ]
    },
    {
      "cell_type": "code",
      "source": [
        "a = np.array([[[[14,2,15,4,7], [5,24,8,9,6]],\n",
        "              [[1,2,5,4,7], [5,4,8,19,6]],\n",
        "              [[12,22,5,44,7], [5,24,8,91,6]],\n",
        "              [[41,2,51,4,7], [5,4,8,9,6]]],\n",
        "           [[[14,2,15,4,7], [5,24,8,9,6]],\n",
        "              [[1,2,5,4,7], [5,4,8,19,6]],\n",
        "              [[12,22,5,44,7], [5,24,8,91,6]],\n",
        "              [[41,2,51,4,7], [5,4,8,9,6]]],\n",
        "              [[[14,2,15,4,7], [5,24,8,9,6]],\n",
        "              [[1,2,5,4,7], [5,4,8,19,6]],\n",
        "              [[12,22,5,44,7], [5,24,8,91,6]],\n",
        "              [[41,2,51,4,7], [5,4,8,9,6]]]])\n",
        "a"
      ],
      "metadata": {
        "colab": {
          "base_uri": "https://localhost:8080/"
        },
        "id": "w5CWCtSwIQzv",
        "outputId": "791f8014-d1f6-49a0-a634-32ee0a683888"
      },
      "execution_count": null,
      "outputs": [
        {
          "output_type": "execute_result",
          "data": {
            "text/plain": [
              "array([[[[14,  2, 15,  4,  7],\n",
              "         [ 5, 24,  8,  9,  6]],\n",
              "\n",
              "        [[ 1,  2,  5,  4,  7],\n",
              "         [ 5,  4,  8, 19,  6]],\n",
              "\n",
              "        [[12, 22,  5, 44,  7],\n",
              "         [ 5, 24,  8, 91,  6]],\n",
              "\n",
              "        [[41,  2, 51,  4,  7],\n",
              "         [ 5,  4,  8,  9,  6]]],\n",
              "\n",
              "\n",
              "       [[[14,  2, 15,  4,  7],\n",
              "         [ 5, 24,  8,  9,  6]],\n",
              "\n",
              "        [[ 1,  2,  5,  4,  7],\n",
              "         [ 5,  4,  8, 19,  6]],\n",
              "\n",
              "        [[12, 22,  5, 44,  7],\n",
              "         [ 5, 24,  8, 91,  6]],\n",
              "\n",
              "        [[41,  2, 51,  4,  7],\n",
              "         [ 5,  4,  8,  9,  6]]],\n",
              "\n",
              "\n",
              "       [[[14,  2, 15,  4,  7],\n",
              "         [ 5, 24,  8,  9,  6]],\n",
              "\n",
              "        [[ 1,  2,  5,  4,  7],\n",
              "         [ 5,  4,  8, 19,  6]],\n",
              "\n",
              "        [[12, 22,  5, 44,  7],\n",
              "         [ 5, 24,  8, 91,  6]],\n",
              "\n",
              "        [[41,  2, 51,  4,  7],\n",
              "         [ 5,  4,  8,  9,  6]]]])"
            ]
          },
          "metadata": {},
          "execution_count": 12
        }
      ]
    },
    {
      "cell_type": "code",
      "source": [
        "#3 times an array structure having 4 arrays that contain 2 rows & 5 columns\n",
        "a.shape"
      ],
      "metadata": {
        "colab": {
          "base_uri": "https://localhost:8080/"
        },
        "id": "qZ9vGNtDJ7Il",
        "outputId": "a091b7d4-8699-403d-fe41-5a2be67d1489"
      },
      "execution_count": null,
      "outputs": [
        {
          "output_type": "execute_result",
          "data": {
            "text/plain": [
              "(3, 4, 2, 5)"
            ]
          },
          "metadata": {},
          "execution_count": 13
        }
      ]
    },
    {
      "cell_type": "code",
      "source": [
        "a = np.arange(50)\n",
        "a"
      ],
      "metadata": {
        "colab": {
          "base_uri": "https://localhost:8080/"
        },
        "id": "PD4v1gVXMwp8",
        "outputId": "ec4c6ebf-7b27-4a30-fe25-e414a97bae2e"
      },
      "execution_count": null,
      "outputs": [
        {
          "output_type": "execute_result",
          "data": {
            "text/plain": [
              "array([ 0,  1,  2,  3,  4,  5,  6,  7,  8,  9, 10, 11, 12, 13, 14, 15, 16,\n",
              "       17, 18, 19, 20, 21, 22, 23, 24, 25, 26, 27, 28, 29, 30, 31, 32, 33,\n",
              "       34, 35, 36, 37, 38, 39, 40, 41, 42, 43, 44, 45, 46, 47, 48, 49])"
            ]
          },
          "metadata": {},
          "execution_count": 14
        }
      ]
    },
    {
      "cell_type": "code",
      "source": [
        "a = np.arange(5, 50)\n",
        "a"
      ],
      "metadata": {
        "colab": {
          "base_uri": "https://localhost:8080/"
        },
        "id": "vMRBa7dVNJAV",
        "outputId": "580f5f34-7fae-455a-f25f-9987229dc2b3"
      },
      "execution_count": null,
      "outputs": [
        {
          "output_type": "execute_result",
          "data": {
            "text/plain": [
              "array([ 5,  6,  7,  8,  9, 10, 11, 12, 13, 14, 15, 16, 17, 18, 19, 20, 21,\n",
              "       22, 23, 24, 25, 26, 27, 28, 29, 30, 31, 32, 33, 34, 35, 36, 37, 38,\n",
              "       39, 40, 41, 42, 43, 44, 45, 46, 47, 48, 49])"
            ]
          },
          "metadata": {},
          "execution_count": 15
        }
      ]
    },
    {
      "cell_type": "code",
      "source": [
        "a = np.arange(5, 50, 3)\n",
        "a"
      ],
      "metadata": {
        "colab": {
          "base_uri": "https://localhost:8080/"
        },
        "id": "lNkuw3hRNRIT",
        "outputId": "6c7580aa-9ff0-42ce-88c8-816c8a2e7e33"
      },
      "execution_count": null,
      "outputs": [
        {
          "output_type": "execute_result",
          "data": {
            "text/plain": [
              "array([ 5,  8, 11, 14, 17, 20, 23, 26, 29, 32, 35, 38, 41, 44, 47])"
            ]
          },
          "metadata": {},
          "execution_count": 16
        }
      ]
    },
    {
      "cell_type": "code",
      "source": [
        "a = np.arange(24).reshape((6,4))\n",
        "a"
      ],
      "metadata": {
        "colab": {
          "base_uri": "https://localhost:8080/"
        },
        "id": "Cy1_xC5-N_Px",
        "outputId": "3a36b863-a5b0-438d-887d-4f33eaec3bd0"
      },
      "execution_count": null,
      "outputs": [
        {
          "output_type": "execute_result",
          "data": {
            "text/plain": [
              "array([[ 0,  1,  2,  3],\n",
              "       [ 4,  5,  6,  7],\n",
              "       [ 8,  9, 10, 11],\n",
              "       [12, 13, 14, 15],\n",
              "       [16, 17, 18, 19],\n",
              "       [20, 21, 22, 23]])"
            ]
          },
          "metadata": {},
          "execution_count": 18
        }
      ]
    },
    {
      "cell_type": "code",
      "source": [
        "a = np.arange(26).reshape((6,4))\n",
        "a"
      ],
      "metadata": {
        "colab": {
          "base_uri": "https://localhost:8080/",
          "height": 162
        },
        "id": "Og2bHYQkOPHH",
        "outputId": "76be13c3-235e-4607-b6d0-440fecff8b98"
      },
      "execution_count": null,
      "outputs": [
        {
          "output_type": "error",
          "ename": "ValueError",
          "evalue": "cannot reshape array of size 26 into shape (6,4)",
          "traceback": [
            "\u001b[0;31m---------------------------------------------------------------------------\u001b[0m",
            "\u001b[0;31mValueError\u001b[0m                                Traceback (most recent call last)",
            "\u001b[0;32m<ipython-input-19-2039d00229a6>\u001b[0m in \u001b[0;36m<cell line: 1>\u001b[0;34m()\u001b[0m\n\u001b[0;32m----> 1\u001b[0;31m \u001b[0ma\u001b[0m \u001b[0;34m=\u001b[0m \u001b[0mnp\u001b[0m\u001b[0;34m.\u001b[0m\u001b[0marange\u001b[0m\u001b[0;34m(\u001b[0m\u001b[0;36m26\u001b[0m\u001b[0;34m)\u001b[0m\u001b[0;34m.\u001b[0m\u001b[0mreshape\u001b[0m\u001b[0;34m(\u001b[0m\u001b[0;34m(\u001b[0m\u001b[0;36m6\u001b[0m\u001b[0;34m,\u001b[0m\u001b[0;36m4\u001b[0m\u001b[0;34m)\u001b[0m\u001b[0;34m)\u001b[0m\u001b[0;34m\u001b[0m\u001b[0;34m\u001b[0m\u001b[0m\n\u001b[0m\u001b[1;32m      2\u001b[0m \u001b[0ma\u001b[0m\u001b[0;34m\u001b[0m\u001b[0;34m\u001b[0m\u001b[0m\n",
            "\u001b[0;31mValueError\u001b[0m: cannot reshape array of size 26 into shape (6,4)"
          ]
        }
      ]
    },
    {
      "cell_type": "code",
      "source": [
        "x = np.random.randint(1,10, 25)\n",
        "x"
      ],
      "metadata": {
        "colab": {
          "base_uri": "https://localhost:8080/"
        },
        "id": "nqQpuQGjPhTf",
        "outputId": "fb35b03b-1aed-4853-f771-ee1ddb139872"
      },
      "execution_count": null,
      "outputs": [
        {
          "output_type": "execute_result",
          "data": {
            "text/plain": [
              "array([8, 6, 1, 9, 4, 2, 5, 5, 6, 1, 1, 7, 1, 9, 5, 6, 3, 7, 2, 9, 4, 9,\n",
              "       5, 3, 8])"
            ]
          },
          "metadata": {},
          "execution_count": 20
        }
      ]
    },
    {
      "cell_type": "code",
      "source": [
        "x = np.random.randn()\n",
        "x"
      ],
      "metadata": {
        "colab": {
          "base_uri": "https://localhost:8080/"
        },
        "id": "USTZX2XRP14l",
        "outputId": "a6b9a5cc-e44d-4ec4-b4e6-e573f923f458"
      },
      "execution_count": null,
      "outputs": [
        {
          "output_type": "execute_result",
          "data": {
            "text/plain": [
              "1.0455465492532146"
            ]
          },
          "metadata": {},
          "execution_count": 21
        }
      ]
    },
    {
      "cell_type": "code",
      "source": [
        "x = np.random.randn(5)\n",
        "x"
      ],
      "metadata": {
        "colab": {
          "base_uri": "https://localhost:8080/"
        },
        "id": "wYPO62C5P2D7",
        "outputId": "f4e49b9a-f324-4001-b690-46ab0b105289"
      },
      "execution_count": null,
      "outputs": [
        {
          "output_type": "execute_result",
          "data": {
            "text/plain": [
              "array([ 1.28062703, -0.78731289,  0.75355431,  0.43572424,  2.40525906])"
            ]
          },
          "metadata": {},
          "execution_count": 24
        }
      ]
    },
    {
      "cell_type": "code",
      "source": [
        "x = np.random.random(10)\n",
        "x"
      ],
      "metadata": {
        "colab": {
          "base_uri": "https://localhost:8080/"
        },
        "id": "gjEkr5JLQlxI",
        "outputId": "f3370746-1be6-48a7-af59-446c0582e0d0"
      },
      "execution_count": null,
      "outputs": [
        {
          "output_type": "execute_result",
          "data": {
            "text/plain": [
              "array([0.36800062, 0.33772144, 0.28050291, 0.85092514, 0.48225045,\n",
              "       0.52672566, 0.55783935, 0.11442001, 0.51368579, 0.57111594])"
            ]
          },
          "metadata": {},
          "execution_count": 25
        }
      ]
    },
    {
      "cell_type": "code",
      "source": [
        "x= np.random.choice(100,50,replace=False)\n",
        "x"
      ],
      "metadata": {
        "colab": {
          "base_uri": "https://localhost:8080/"
        },
        "id": "Cef5YNA5RLxA",
        "outputId": "889ae8b8-8528-44f1-bdf6-af4b43a09e1f"
      },
      "execution_count": null,
      "outputs": [
        {
          "output_type": "execute_result",
          "data": {
            "text/plain": [
              "array([57, 55, 59, 88, 86, 43, 60, 32, 50,  3, 87, 62, 34, 85, 14, 68,  8,\n",
              "       36,  9, 27, 99, 97, 95, 49, 39, 63, 70, 46, 96, 25,  1, 83, 78, 81,\n",
              "       84, 79, 54, 37, 71, 41, 40, 74, 75, 17, 45, 90, 58, 31, 73, 30])"
            ]
          },
          "metadata": {},
          "execution_count": 28
        }
      ]
    },
    {
      "cell_type": "code",
      "source": [
        "x = np.linspace(2,9,7)\n",
        "x"
      ],
      "metadata": {
        "colab": {
          "base_uri": "https://localhost:8080/"
        },
        "id": "kZCU_8teYcSh",
        "outputId": "ac21c460-32ca-483d-8ad8-df3fd0476619"
      },
      "execution_count": null,
      "outputs": [
        {
          "output_type": "execute_result",
          "data": {
            "text/plain": [
              "array([2.        , 3.16666667, 4.33333333, 5.5       , 6.66666667,\n",
              "       7.83333333, 9.        ])"
            ]
          },
          "metadata": {},
          "execution_count": 38
        }
      ]
    },
    {
      "cell_type": "code",
      "source": [
        "for i in range(len(x)-1):\n",
        "  print(i)\n",
        "  print('Difference between index',i+1,'&',i,'is',x[i+1] - x[i])\n",
        "x[2] - x[1]"
      ],
      "metadata": {
        "colab": {
          "base_uri": "https://localhost:8080/"
        },
        "id": "9_ezyRFUZTfY",
        "outputId": "44995c22-0b31-428f-c6e3-5cd7a4c8e20f"
      },
      "execution_count": null,
      "outputs": [
        {
          "output_type": "stream",
          "name": "stdout",
          "text": [
            "0\n",
            "Difference between index 1 & 0 is 1.166666666666667\n",
            "1\n",
            "Difference between index 2 & 1 is 1.166666666666667\n",
            "2\n",
            "Difference between index 3 & 2 is 1.166666666666666\n",
            "3\n",
            "Difference between index 4 & 3 is 1.166666666666667\n",
            "4\n",
            "Difference between index 5 & 4 is 1.166666666666667\n",
            "5\n",
            "Difference between index 6 & 5 is 1.166666666666666\n"
          ]
        },
        {
          "output_type": "execute_result",
          "data": {
            "text/plain": [
              "1.166666666666667"
            ]
          },
          "metadata": {},
          "execution_count": 41
        }
      ]
    },
    {
      "cell_type": "code",
      "source": [
        "x = np.linspace(3,9,9)\n",
        "x"
      ],
      "metadata": {
        "colab": {
          "base_uri": "https://localhost:8080/"
        },
        "id": "ybYzCtlcOs-Z",
        "outputId": "b761314f-2a37-4196-93ee-06750dab7336"
      },
      "execution_count": null,
      "outputs": [
        {
          "output_type": "execute_result",
          "data": {
            "text/plain": [
              "array([3.  , 3.75, 4.5 , 5.25, 6.  , 6.75, 7.5 , 8.25, 9.  ])"
            ]
          },
          "metadata": {},
          "execution_count": 36
        }
      ]
    },
    {
      "cell_type": "code",
      "source": [
        "for i in range(len(x)-1):\n",
        "  print(i)\n",
        "  print('Difference between index',i+1,'&',i,'is',x[i+1] - x[i])"
      ],
      "metadata": {
        "colab": {
          "base_uri": "https://localhost:8080/"
        },
        "id": "wUMO4dNrWwpu",
        "outputId": "8c25f590-4d66-4e62-dcde-30be5f2fdb4f"
      },
      "execution_count": null,
      "outputs": [
        {
          "output_type": "stream",
          "name": "stdout",
          "text": [
            "0\n",
            "Difference between index 1 & 0 is 0.75\n",
            "1\n",
            "Difference between index 2 & 1 is 0.75\n",
            "2\n",
            "Difference between index 3 & 2 is 0.75\n",
            "3\n",
            "Difference between index 4 & 3 is 0.75\n",
            "4\n",
            "Difference between index 5 & 4 is 0.75\n",
            "5\n",
            "Difference between index 6 & 5 is 0.75\n",
            "6\n",
            "Difference between index 7 & 6 is 0.75\n",
            "7\n",
            "Difference between index 8 & 7 is 0.75\n"
          ]
        }
      ]
    },
    {
      "cell_type": "code",
      "source": [
        "a = np.random.randint(0,9,21).reshape((3,7))\n",
        "a"
      ],
      "metadata": {
        "colab": {
          "base_uri": "https://localhost:8080/"
        },
        "id": "1gA00PaAYAx8",
        "outputId": "7bfa23a0-5750-469d-8170-2ef5f82f2d24"
      },
      "execution_count": null,
      "outputs": [
        {
          "output_type": "execute_result",
          "data": {
            "text/plain": [
              "array([[3, 6, 8, 7, 8, 8, 0],\n",
              "       [0, 5, 6, 1, 4, 7, 8],\n",
              "       [8, 4, 8, 2, 6, 4, 6]])"
            ]
          },
          "metadata": {},
          "execution_count": 44
        }
      ]
    },
    {
      "cell_type": "code",
      "source": [
        "#Columnwise summation\n",
        "print(a)\n",
        "a.sum(axis=0)"
      ],
      "metadata": {
        "colab": {
          "base_uri": "https://localhost:8080/"
        },
        "id": "Iq2rcywOaM6w",
        "outputId": "e83cd09c-4c6c-4480-91a6-ab4f33ca5bf6"
      },
      "execution_count": null,
      "outputs": [
        {
          "output_type": "stream",
          "name": "stdout",
          "text": [
            "[[3 6 8 7 8 8 0]\n",
            " [0 5 6 1 4 7 8]\n",
            " [8 4 8 2 6 4 6]]\n"
          ]
        },
        {
          "output_type": "execute_result",
          "data": {
            "text/plain": [
              "array([11, 15, 22, 10, 18, 19, 14])"
            ]
          },
          "metadata": {},
          "execution_count": 51
        }
      ]
    },
    {
      "cell_type": "code",
      "source": [
        "#Columnwise summation\n",
        "print(a)\n",
        "a.sum(axis=1)"
      ],
      "metadata": {
        "colab": {
          "base_uri": "https://localhost:8080/"
        },
        "id": "phfRSOaQHoCw",
        "outputId": "e0a43de0-2a57-4c3a-8296-646faed388e8"
      },
      "execution_count": null,
      "outputs": [
        {
          "output_type": "stream",
          "name": "stdout",
          "text": [
            "[[3 6 8 7 8 8 0]\n",
            " [0 5 6 1 4 7 8]\n",
            " [8 4 8 2 6 4 6]]\n"
          ]
        },
        {
          "output_type": "execute_result",
          "data": {
            "text/plain": [
              "array([40, 31, 38])"
            ]
          },
          "metadata": {},
          "execution_count": 52
        }
      ]
    },
    {
      "cell_type": "code",
      "source": [
        "print(a)\n",
        "print(a.mean(axis=0))\n",
        "print(a.mean(axis=1))"
      ],
      "metadata": {
        "colab": {
          "base_uri": "https://localhost:8080/"
        },
        "id": "ffr7bZAiavT0",
        "outputId": "5e28cee6-8596-4443-bf6e-817fdd2f10b0"
      },
      "execution_count": null,
      "outputs": [
        {
          "output_type": "stream",
          "name": "stdout",
          "text": [
            "[[3 6 8 7 8 8 0]\n",
            " [0 5 6 1 4 7 8]\n",
            " [8 4 8 2 6 4 6]]\n",
            "[3.66666667 5.         7.33333333 3.33333333 6.         6.33333333\n",
            " 4.66666667]\n",
            "[5.71428571 4.42857143 5.42857143]\n"
          ]
        }
      ]
    },
    {
      "cell_type": "code",
      "source": [
        "print(a)\n",
        "print(a.min(axis=0))\n",
        "print(a.min(axis=1))"
      ],
      "metadata": {
        "colab": {
          "base_uri": "https://localhost:8080/"
        },
        "id": "Gl_bKrcCbezy",
        "outputId": "79d07861-7807-4c2d-c5f4-be188a2cad9a"
      },
      "execution_count": null,
      "outputs": [
        {
          "output_type": "stream",
          "name": "stdout",
          "text": [
            "[[3 6 8 7 8 8 0]\n",
            " [0 5 6 1 4 7 8]\n",
            " [8 4 8 2 6 4 6]]\n",
            "[0 4 6 1 4 4 0]\n",
            "[0 0 2]\n"
          ]
        }
      ]
    },
    {
      "cell_type": "code",
      "source": [
        "print(a)\n",
        "print(a.max(axis=0))\n",
        "print(a.max(axis=1))"
      ],
      "metadata": {
        "colab": {
          "base_uri": "https://localhost:8080/"
        },
        "id": "ubVbrYzUbYtm",
        "outputId": "ee001d61-0f30-49f7-f07d-a195efb3669c"
      },
      "execution_count": null,
      "outputs": [
        {
          "output_type": "stream",
          "name": "stdout",
          "text": [
            "[[3 6 8 7 8 8 0]\n",
            " [0 5 6 1 4 7 8]\n",
            " [8 4 8 2 6 4 6]]\n",
            "[8 6 8 7 8 8 8]\n",
            "[8 8 8]\n"
          ]
        }
      ]
    },
    {
      "cell_type": "code",
      "source": [
        "#Cummulative Summation\n",
        "a = np.random.randint(0,9,21)\n",
        "print(a)\n",
        "np.cumsum(a)"
      ],
      "metadata": {
        "colab": {
          "base_uri": "https://localhost:8080/"
        },
        "id": "EGay25Phca75",
        "outputId": "a5262fe2-0d1e-4960-a8ed-9152c6a1e54c"
      },
      "execution_count": null,
      "outputs": [
        {
          "output_type": "stream",
          "name": "stdout",
          "text": [
            "[1 4 3 8 1 6 1 3 5 3 8 6 3 4 2 1 1 7 3 7 5]\n"
          ]
        },
        {
          "output_type": "execute_result",
          "data": {
            "text/plain": [
              "array([ 1,  5,  8, 16, 17, 23, 24, 27, 32, 35, 43, 49, 52, 56, 58, 59, 60,\n",
              "       67, 70, 77, 82])"
            ]
          },
          "metadata": {},
          "execution_count": 62
        }
      ]
    },
    {
      "cell_type": "code",
      "source": [
        "a = np.random.randint(0,9,28).reshape((4,7))\n",
        "print(a)\n",
        "np.square(a)"
      ],
      "metadata": {
        "colab": {
          "base_uri": "https://localhost:8080/"
        },
        "id": "qnJT52bZchIc",
        "outputId": "2d37b906-0373-4fcb-a85f-dd1757e04ece"
      },
      "execution_count": null,
      "outputs": [
        {
          "output_type": "stream",
          "name": "stdout",
          "text": [
            "[[0 2 3 5 1 5 0]\n",
            " [7 0 0 7 7 2 5]\n",
            " [8 4 1 8 7 2 7]\n",
            " [3 7 7 1 2 6 6]]\n"
          ]
        },
        {
          "output_type": "execute_result",
          "data": {
            "text/plain": [
              "array([[ 0,  4,  9, 25,  1, 25,  0],\n",
              "       [49,  0,  0, 49, 49,  4, 25],\n",
              "       [64, 16,  1, 64, 49,  4, 49],\n",
              "       [ 9, 49, 49,  1,  4, 36, 36]])"
            ]
          },
          "metadata": {},
          "execution_count": 60
        }
      ]
    },
    {
      "cell_type": "code",
      "source": [
        "a = np.random.randint(1,9,28).reshape((4,7))\n",
        "print(a)\n",
        "np.sqrt(a)"
      ],
      "metadata": {
        "colab": {
          "base_uri": "https://localhost:8080/"
        },
        "id": "eh4PIqY5c95b",
        "outputId": "e71f26be-12ac-4b70-a100-8bb06ec7985d"
      },
      "execution_count": null,
      "outputs": [
        {
          "output_type": "stream",
          "name": "stdout",
          "text": [
            "[[4 1 5 5 1 4 5]\n",
            " [5 8 3 6 2 6 6]\n",
            " [2 4 8 7 7 5 7]\n",
            " [7 5 1 2 4 3 3]]\n"
          ]
        },
        {
          "output_type": "execute_result",
          "data": {
            "text/plain": [
              "array([[2.        , 1.        , 2.23606798, 2.23606798, 1.        ,\n",
              "        2.        , 2.23606798],\n",
              "       [2.23606798, 2.82842712, 1.73205081, 2.44948974, 1.41421356,\n",
              "        2.44948974, 2.44948974],\n",
              "       [1.41421356, 2.        , 2.82842712, 2.64575131, 2.64575131,\n",
              "        2.23606798, 2.64575131],\n",
              "       [2.64575131, 2.23606798, 1.        , 1.41421356, 2.        ,\n",
              "        1.73205081, 1.73205081]])"
            ]
          },
          "metadata": {},
          "execution_count": 64
        }
      ]
    },
    {
      "cell_type": "code",
      "source": [
        "#Horizontal Stack\n",
        "a = np.random.randint(1,9,28).reshape((4,7))\n",
        "print(a)\n",
        "b = np.random.randint(1,9,20).reshape((4,5))\n",
        "print(b)\n",
        "np.hstack((a,b))"
      ],
      "metadata": {
        "colab": {
          "base_uri": "https://localhost:8080/"
        },
        "id": "2uFSunOOd5u8",
        "outputId": "3e591d46-605b-42b8-80ba-38c5082a4f6f"
      },
      "execution_count": null,
      "outputs": [
        {
          "output_type": "stream",
          "name": "stdout",
          "text": [
            "[[3 1 7 3 7 6 6]\n",
            " [4 6 8 2 7 3 4]\n",
            " [5 7 5 2 1 2 1]\n",
            " [2 4 1 3 8 3 1]]\n",
            "[[1 7 4 6 5]\n",
            " [1 7 4 5 4]\n",
            " [1 7 4 5 4]\n",
            " [3 1 4 1 2]]\n"
          ]
        },
        {
          "output_type": "execute_result",
          "data": {
            "text/plain": [
              "array([[3, 1, 7, 3, 7, 6, 6, 1, 7, 4, 6, 5],\n",
              "       [4, 6, 8, 2, 7, 3, 4, 1, 7, 4, 5, 4],\n",
              "       [5, 7, 5, 2, 1, 2, 1, 1, 7, 4, 5, 4],\n",
              "       [2, 4, 1, 3, 8, 3, 1, 3, 1, 4, 1, 2]])"
            ]
          },
          "metadata": {},
          "execution_count": 65
        }
      ]
    },
    {
      "cell_type": "code",
      "source": [
        "np.vstack((a,b))"
      ],
      "metadata": {
        "colab": {
          "base_uri": "https://localhost:8080/",
          "height": 287
        },
        "id": "6fLeJeJRe9xE",
        "outputId": "ebc460e4-70bf-471a-bc14-29205cc6297a"
      },
      "execution_count": null,
      "outputs": [
        {
          "output_type": "error",
          "ename": "ValueError",
          "evalue": "all the input array dimensions except for the concatenation axis must match exactly, but along dimension 1, the array at index 0 has size 7 and the array at index 1 has size 5",
          "traceback": [
            "\u001b[0;31m---------------------------------------------------------------------------\u001b[0m",
            "\u001b[0;31mValueError\u001b[0m                                Traceback (most recent call last)",
            "\u001b[0;32m<ipython-input-66-cd1ecc781bea>\u001b[0m in \u001b[0;36m<cell line: 1>\u001b[0;34m()\u001b[0m\n\u001b[0;32m----> 1\u001b[0;31m \u001b[0mnp\u001b[0m\u001b[0;34m.\u001b[0m\u001b[0mvstack\u001b[0m\u001b[0;34m(\u001b[0m\u001b[0;34m(\u001b[0m\u001b[0ma\u001b[0m\u001b[0;34m,\u001b[0m\u001b[0mb\u001b[0m\u001b[0;34m)\u001b[0m\u001b[0;34m)\u001b[0m\u001b[0;34m\u001b[0m\u001b[0;34m\u001b[0m\u001b[0m\n\u001b[0m",
            "\u001b[0;32m/usr/local/lib/python3.10/dist-packages/numpy/core/shape_base.py\u001b[0m in \u001b[0;36mvstack\u001b[0;34m(tup, dtype, casting)\u001b[0m\n\u001b[1;32m    287\u001b[0m     \u001b[0;32mif\u001b[0m \u001b[0;32mnot\u001b[0m \u001b[0misinstance\u001b[0m\u001b[0;34m(\u001b[0m\u001b[0marrs\u001b[0m\u001b[0;34m,\u001b[0m \u001b[0mlist\u001b[0m\u001b[0;34m)\u001b[0m\u001b[0;34m:\u001b[0m\u001b[0;34m\u001b[0m\u001b[0;34m\u001b[0m\u001b[0m\n\u001b[1;32m    288\u001b[0m         \u001b[0marrs\u001b[0m \u001b[0;34m=\u001b[0m \u001b[0;34m[\u001b[0m\u001b[0marrs\u001b[0m\u001b[0;34m]\u001b[0m\u001b[0;34m\u001b[0m\u001b[0;34m\u001b[0m\u001b[0m\n\u001b[0;32m--> 289\u001b[0;31m     \u001b[0;32mreturn\u001b[0m \u001b[0m_nx\u001b[0m\u001b[0;34m.\u001b[0m\u001b[0mconcatenate\u001b[0m\u001b[0;34m(\u001b[0m\u001b[0marrs\u001b[0m\u001b[0;34m,\u001b[0m \u001b[0;36m0\u001b[0m\u001b[0;34m,\u001b[0m \u001b[0mdtype\u001b[0m\u001b[0;34m=\u001b[0m\u001b[0mdtype\u001b[0m\u001b[0;34m,\u001b[0m \u001b[0mcasting\u001b[0m\u001b[0;34m=\u001b[0m\u001b[0mcasting\u001b[0m\u001b[0;34m)\u001b[0m\u001b[0;34m\u001b[0m\u001b[0;34m\u001b[0m\u001b[0m\n\u001b[0m\u001b[1;32m    290\u001b[0m \u001b[0;34m\u001b[0m\u001b[0m\n\u001b[1;32m    291\u001b[0m \u001b[0;34m\u001b[0m\u001b[0m\n",
            "\u001b[0;31mValueError\u001b[0m: all the input array dimensions except for the concatenation axis must match exactly, but along dimension 1, the array at index 0 has size 7 and the array at index 1 has size 5"
          ]
        }
      ]
    },
    {
      "cell_type": "code",
      "source": [
        "#Vertical Stack\n",
        "a = np.random.randint(1,9,30).reshape((5,6))\n",
        "print(a)\n",
        "b = np.random.randint(1,9,24).reshape((4,6))\n",
        "print(b)\n",
        "np.vstack((a,b))"
      ],
      "metadata": {
        "colab": {
          "base_uri": "https://localhost:8080/"
        },
        "id": "ATmQMqvQdDzB",
        "outputId": "d9f161f4-7efe-49f3-9a38-d9409fcd6552"
      },
      "execution_count": null,
      "outputs": [
        {
          "output_type": "stream",
          "name": "stdout",
          "text": [
            "[[4 2 5 8 3 7]\n",
            " [6 3 1 3 6 1]\n",
            " [3 8 7 4 1 1]\n",
            " [2 6 3 5 2 3]\n",
            " [6 3 4 3 1 6]]\n",
            "[[3 6 2 6 1 2]\n",
            " [3 4 4 5 3 3]\n",
            " [6 8 1 7 2 8]\n",
            " [5 3 2 6 6 5]]\n"
          ]
        },
        {
          "output_type": "execute_result",
          "data": {
            "text/plain": [
              "array([[4, 2, 5, 8, 3, 7],\n",
              "       [6, 3, 1, 3, 6, 1],\n",
              "       [3, 8, 7, 4, 1, 1],\n",
              "       [2, 6, 3, 5, 2, 3],\n",
              "       [6, 3, 4, 3, 1, 6],\n",
              "       [3, 6, 2, 6, 1, 2],\n",
              "       [3, 4, 4, 5, 3, 3],\n",
              "       [6, 8, 1, 7, 2, 8],\n",
              "       [5, 3, 2, 6, 6, 5]])"
            ]
          },
          "metadata": {},
          "execution_count": 68
        }
      ]
    },
    {
      "cell_type": "code",
      "source": [
        "a = np.random.randint(1,9,12).reshape((3,4))\n",
        "print(a)\n",
        "b = np.random.randint(1,9,12).reshape((3,4))\n",
        "print(b)"
      ],
      "metadata": {
        "id": "OavpU8sxfme6",
        "colab": {
          "base_uri": "https://localhost:8080/"
        },
        "outputId": "20cc8344-e429-4da2-d562-87890aed75f0"
      },
      "execution_count": null,
      "outputs": [
        {
          "output_type": "stream",
          "name": "stdout",
          "text": [
            "[[5 2 2 2]\n",
            " [1 7 1 5]\n",
            " [2 5 5 7]]\n",
            "[[8 4 8 3]\n",
            " [1 4 3 7]\n",
            " [7 4 2 7]]\n"
          ]
        }
      ]
    },
    {
      "cell_type": "code",
      "source": [
        "print(a)\n",
        "print(b)\n",
        "a+b"
      ],
      "metadata": {
        "colab": {
          "base_uri": "https://localhost:8080/"
        },
        "id": "3XTY44GNWjYs",
        "outputId": "b3a142df-ba80-4598-e927-bc6759455073"
      },
      "execution_count": null,
      "outputs": [
        {
          "output_type": "stream",
          "name": "stdout",
          "text": [
            "[[5 2 2 2]\n",
            " [1 7 1 5]\n",
            " [2 5 5 7]]\n",
            "[[8 4 8 3]\n",
            " [1 4 3 7]\n",
            " [7 4 2 7]]\n"
          ]
        },
        {
          "output_type": "execute_result",
          "data": {
            "text/plain": [
              "array([[13,  6, 10,  5],\n",
              "       [ 2, 11,  4, 12],\n",
              "       [ 9,  9,  7, 14]])"
            ]
          },
          "metadata": {},
          "execution_count": 3
        }
      ]
    },
    {
      "cell_type": "code",
      "source": [
        "print(a)\n",
        "print(b)\n",
        "a*b"
      ],
      "metadata": {
        "colab": {
          "base_uri": "https://localhost:8080/"
        },
        "id": "h_17HX1AWnuq",
        "outputId": "7da32703-28a1-4426-fdd4-ed0d71c15d44"
      },
      "execution_count": null,
      "outputs": [
        {
          "output_type": "stream",
          "name": "stdout",
          "text": [
            "[[5 2 2 2]\n",
            " [1 7 1 5]\n",
            " [2 5 5 7]]\n",
            "[[8 4 8 3]\n",
            " [1 4 3 7]\n",
            " [7 4 2 7]]\n"
          ]
        },
        {
          "output_type": "execute_result",
          "data": {
            "text/plain": [
              "array([[40,  8, 16,  6],\n",
              "       [ 1, 28,  3, 35],\n",
              "       [14, 20, 10, 49]])"
            ]
          },
          "metadata": {},
          "execution_count": 4
        }
      ]
    },
    {
      "cell_type": "code",
      "source": [
        "np.dot(a,b)"
      ],
      "metadata": {
        "colab": {
          "base_uri": "https://localhost:8080/",
          "height": 144
        },
        "id": "ijaAzAL1Wu_B",
        "outputId": "949a6c6e-d9cc-4adf-a6dc-2f88dce38e20"
      },
      "execution_count": null,
      "outputs": [
        {
          "output_type": "error",
          "ename": "ValueError",
          "evalue": "shapes (3,4) and (3,4) not aligned: 4 (dim 1) != 3 (dim 0)",
          "traceback": [
            "\u001b[0;31m---------------------------------------------------------------------------\u001b[0m",
            "\u001b[0;31mValueError\u001b[0m                                Traceback (most recent call last)",
            "\u001b[0;32m<ipython-input-6-3339b236d1c5>\u001b[0m in \u001b[0;36m<cell line: 1>\u001b[0;34m()\u001b[0m\n\u001b[0;32m----> 1\u001b[0;31m \u001b[0mnp\u001b[0m\u001b[0;34m.\u001b[0m\u001b[0mdot\u001b[0m\u001b[0;34m(\u001b[0m\u001b[0ma\u001b[0m\u001b[0;34m,\u001b[0m\u001b[0mb\u001b[0m\u001b[0;34m)\u001b[0m\u001b[0;34m\u001b[0m\u001b[0;34m\u001b[0m\u001b[0m\n\u001b[0m",
            "\u001b[0;31mValueError\u001b[0m: shapes (3,4) and (3,4) not aligned: 4 (dim 1) != 3 (dim 0)"
          ]
        }
      ]
    },
    {
      "cell_type": "code",
      "source": [
        "a = np.random.randint(1,9,12).reshape((3,4))\n",
        "print(a)\n",
        "b = np.random.randint(1,9,16).reshape((4,4))\n",
        "print(b)"
      ],
      "metadata": {
        "colab": {
          "base_uri": "https://localhost:8080/"
        },
        "id": "pUbpOtUHWvCl",
        "outputId": "2a8a3acb-df64-4ecd-8bc2-9cd3dbd0f579"
      },
      "execution_count": null,
      "outputs": [
        {
          "output_type": "stream",
          "name": "stdout",
          "text": [
            "[[2 1 7 5]\n",
            " [2 8 8 5]\n",
            " [7 3 4 3]]\n",
            "[[7 8 3 8]\n",
            " [4 6 4 5]\n",
            " [4 4 5 6]\n",
            " [2 3 5 3]]\n"
          ]
        }
      ]
    },
    {
      "cell_type": "code",
      "source": [
        "#mat1(3,4) * mat2(4,4) = result(3*4)\n",
        "\n",
        "#result[0,0] = 2*7 + 1*4 + 7*4 + 5*2 = 56\n",
        "#result[0,1] = 2*8 + 1*6 + 7*4 + 5*3 = 65\n",
        "#result[0,2] = 2*3 + 1*4 + 7*5 + 5*5 = 70\n",
        "#result[1,0] = 2*7 + 8*4 + 8*4 + 5*2 = 88\n",
        "\n",
        "np.dot(a,b)"
      ],
      "metadata": {
        "colab": {
          "base_uri": "https://localhost:8080/"
        },
        "id": "Alw_FfXMXrtr",
        "outputId": "4c067143-2205-4dd7-ac01-99a2c09d87d1"
      },
      "execution_count": null,
      "outputs": [
        {
          "output_type": "execute_result",
          "data": {
            "text/plain": [
              "array([[ 56,  65,  70,  78],\n",
              "       [ 88, 111, 103, 119],\n",
              "       [ 83,  99,  68, 104]])"
            ]
          },
          "metadata": {},
          "execution_count": 8
        }
      ]
    },
    {
      "cell_type": "code",
      "source": [],
      "metadata": {
        "id": "JHxf_XY5Wjlw"
      },
      "execution_count": null,
      "outputs": []
    },
    {
      "cell_type": "code",
      "source": [],
      "metadata": {
        "id": "dmbV7NoDchL-"
      },
      "execution_count": null,
      "outputs": []
    }
  ]
}